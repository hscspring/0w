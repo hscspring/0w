{
 "cells": [
  {
   "cell_type": "markdown",
   "metadata": {
    "collapsed": true
   },
   "source": [
    "# Numpy基础"
   ]
  },
  {
   "cell_type": "markdown",
   "metadata": {},
   "source": [
    "## 基本概念"
   ]
  },
  {
   "cell_type": "markdown",
   "metadata": {},
   "source": [
    "Vectors：一维  \n",
    "Marics：二维  \n",
    "Arrays：三维  \n",
    "Vectorized computing：比较快，不再需要使用循环  "
   ]
  },
  {
   "cell_type": "markdown",
   "metadata": {},
   "source": [
    "## 1. Basics of Numpy arrays"
   ]
  },
  {
   "cell_type": "code",
   "execution_count": 1,
   "metadata": {
    "collapsed": true
   },
   "outputs": [],
   "source": [
    "import numpy as np"
   ]
  },
  {
   "cell_type": "code",
   "execution_count": 3,
   "metadata": {
    "collapsed": true
   },
   "outputs": [],
   "source": [
    "lst = [10,20,30,40] #列表\n",
    "arr = np.array([10,20,30,40]) #将列表转为数组"
   ]
  },
  {
   "cell_type": "code",
   "execution_count": 7,
   "metadata": {
    "collapsed": false
   },
   "outputs": [
    {
     "data": {
      "text/plain": [
       "numpy.ndarray"
      ]
     },
     "execution_count": 7,
     "metadata": {},
     "output_type": "execute_result"
    }
   ],
   "source": [
    "type(arr)"
   ]
  },
  {
   "cell_type": "markdown",
   "metadata": {},
   "source": [
    "###  Element indexing"
   ]
  },
  {
   "cell_type": "code",
   "execution_count": 8,
   "metadata": {
    "collapsed": false
   },
   "outputs": [
    {
     "data": {
      "text/plain": [
       "10"
      ]
     },
     "execution_count": 8,
     "metadata": {},
     "output_type": "execute_result"
    }
   ],
   "source": [
    "lst[0]"
   ]
  },
  {
   "cell_type": "code",
   "execution_count": 9,
   "metadata": {
    "collapsed": false
   },
   "outputs": [
    {
     "data": {
      "text/plain": [
       "40"
      ]
     },
     "execution_count": 9,
     "metadata": {},
     "output_type": "execute_result"
    }
   ],
   "source": [
    "arr[-1]"
   ]
  },
  {
   "cell_type": "code",
   "execution_count": 10,
   "metadata": {
    "collapsed": false
   },
   "outputs": [
    {
     "data": {
      "text/plain": [
       "array([30, 40])"
      ]
     },
     "execution_count": 10,
     "metadata": {},
     "output_type": "execute_result"
    }
   ],
   "source": [
    "arr[2:]"
   ]
  },
  {
   "cell_type": "markdown",
   "metadata": {},
   "source": [
    "### Differences between arrays and lists "
   ]
  },
  {
   "cell_type": "markdown",
   "metadata": {},
   "source": [
    "The first difference is that arrays are homogeneous;  \n",
    "i.e. all elements of an array must be of the same type.  \n",
    "In contrast, lists can contain elements of arbitrary type."
   ]
  },
  {
   "cell_type": "code",
   "execution_count": 12,
   "metadata": {
    "collapsed": false
   },
   "outputs": [
    {
     "data": {
      "text/plain": [
       "[10, 20, 30, 'a string inside a list']"
      ]
     },
     "execution_count": 12,
     "metadata": {},
     "output_type": "execute_result"
    }
   ],
   "source": [
    "lst[-1] = 'a string inside a list'\n",
    "lst"
   ]
  },
  {
   "cell_type": "code",
   "execution_count": 13,
   "metadata": {
    "collapsed": false
   },
   "outputs": [
    {
     "ename": "ValueError",
     "evalue": "invalid literal for long() with base 10: 'a string inside a list'",
     "output_type": "error",
     "traceback": [
      "\u001b[1;31m---------------------------------------------------------------------------\u001b[0m",
      "\u001b[1;31mValueError\u001b[0m                                Traceback (most recent call last)",
      "\u001b[1;32m<ipython-input-13-199d66b1e2b0>\u001b[0m in \u001b[0;36m<module>\u001b[1;34m()\u001b[0m\n\u001b[1;32m----> 1\u001b[1;33m \u001b[0marr\u001b[0m\u001b[1;33m[\u001b[0m\u001b[1;33m-\u001b[0m\u001b[1;36m1\u001b[0m\u001b[1;33m]\u001b[0m \u001b[1;33m=\u001b[0m \u001b[1;34m'a string inside a list'\u001b[0m\u001b[1;33m\u001b[0m\u001b[0m\n\u001b[0m",
      "\u001b[1;31mValueError\u001b[0m: invalid literal for long() with base 10: 'a string inside a list'"
     ]
    }
   ],
   "source": [
    "arr[-1] = 'a string inside a list'"
   ]
  },
  {
   "cell_type": "markdown",
   "metadata": {},
   "source": [
    "###  Array Attributes"
   ]
  },
  {
   "cell_type": "markdown",
   "metadata": {},
   "source": [
    "The information about the type of an array is contained in its dtype attribute:"
   ]
  },
  {
   "cell_type": "code",
   "execution_count": 14,
   "metadata": {
    "collapsed": false
   },
   "outputs": [
    {
     "data": {
      "text/plain": [
       "dtype('int64')"
      ]
     },
     "execution_count": 14,
     "metadata": {},
     "output_type": "execute_result"
    }
   ],
   "source": [
    "arr.dtype"
   ]
  },
  {
   "cell_type": "code",
   "execution_count": 15,
   "metadata": {
    "collapsed": false
   },
   "outputs": [
    {
     "data": {
      "text/plain": [
       "array([10, 20, 30,  1])"
      ]
     },
     "execution_count": 15,
     "metadata": {},
     "output_type": "execute_result"
    }
   ],
   "source": [
    "arr[-1] = 1.234\n",
    "arr"
   ]
  },
  {
   "cell_type": "markdown",
   "metadata": {},
   "source": [
    "### Creating Arrays "
   ]
  },
  {
   "cell_type": "code",
   "execution_count": 16,
   "metadata": {
    "collapsed": false
   },
   "outputs": [
    {
     "data": {
      "text/plain": [
       "array([ 0.,  0.,  0.,  0.,  0.])"
      ]
     },
     "execution_count": 16,
     "metadata": {},
     "output_type": "execute_result"
    }
   ],
   "source": [
    "np.zeros(5,dtype=float)"
   ]
  },
  {
   "cell_type": "code",
   "execution_count": 17,
   "metadata": {
    "collapsed": false
   },
   "outputs": [
    {
     "data": {
      "text/plain": [
       "array([0, 0, 0])"
      ]
     },
     "execution_count": 17,
     "metadata": {},
     "output_type": "execute_result"
    }
   ],
   "source": [
    "np.zeros(3,dtype=int)"
   ]
  },
  {
   "cell_type": "code",
   "execution_count": 18,
   "metadata": {
    "collapsed": false
   },
   "outputs": [
    {
     "data": {
      "text/plain": [
       "array([ 0.+0.j,  0.+0.j,  0.+0.j])"
      ]
     },
     "execution_count": 18,
     "metadata": {},
     "output_type": "execute_result"
    }
   ],
   "source": [
    "np.zeros(3,dtype=complex)"
   ]
  },
  {
   "cell_type": "code",
   "execution_count": 19,
   "metadata": {
    "collapsed": false
   },
   "outputs": [
    {
     "name": "stdout",
     "output_type": "stream",
     "text": [
      "('5 ones:', array([ 1.,  1.,  1.,  1.,  1.]))\n"
     ]
    }
   ],
   "source": [
    "print('5 ones:',np.ones(5))"
   ]
  },
  {
   "cell_type": "code",
   "execution_count": 20,
   "metadata": {
    "collapsed": false
   },
   "outputs": [
    {
     "data": {
      "text/plain": [
       "array([ 5.5,  5.5,  5.5,  5.5])"
      ]
     },
     "execution_count": 20,
     "metadata": {},
     "output_type": "execute_result"
    }
   ],
   "source": [
    "a = np.empty(4)\n",
    "a.fill(5.5)\n",
    "a"
   ]
  },
  {
   "cell_type": "markdown",
   "metadata": {},
   "source": [
    "###  Defining various sequences"
   ]
  },
  {
   "cell_type": "code",
   "execution_count": 21,
   "metadata": {
    "collapsed": false
   },
   "outputs": [
    {
     "data": {
      "text/plain": [
       "array([0, 1, 2, 3, 4])"
      ]
     },
     "execution_count": 21,
     "metadata": {},
     "output_type": "execute_result"
    }
   ],
   "source": [
    "np.arange(5)"
   ]
  },
  {
   "cell_type": "code",
   "execution_count": 22,
   "metadata": {
    "collapsed": false
   },
   "outputs": [
    {
     "name": "stdout",
     "output_type": "stream",
     "text": [
      "A liner grid between 0 and 1:\n",
      "[ 0.          0.33333333  0.66666667  1.        ]\n"
     ]
    }
   ],
   "source": [
    "print(\"A liner grid between 0 and 1:\")\n",
    "print(np.linspace(0,1,4))"
   ]
  },
  {
   "cell_type": "code",
   "execution_count": 23,
   "metadata": {
    "collapsed": false
   },
   "outputs": [
    {
     "name": "stdout",
     "output_type": "stream",
     "text": [
      "A logarithmic grid between 10**1 and 10**3:\n",
      "[   10.            46.41588834   215.443469    1000.        ]\n"
     ]
    }
   ],
   "source": [
    "print(\"A logarithmic grid between 10**1 and 10**3:\")\n",
    "print(np.logspace(1,3,4))"
   ]
  },
  {
   "cell_type": "markdown",
   "metadata": {},
   "source": [
    "###  Creating random arrays"
   ]
  },
  {
   "cell_type": "code",
   "execution_count": 24,
   "metadata": {
    "collapsed": false
   },
   "outputs": [
    {
     "data": {
      "text/plain": [
       "array([ 0.44051513, -0.34652755,  0.32091012,  1.20353009, -1.66752639])"
      ]
     },
     "execution_count": 24,
     "metadata": {},
     "output_type": "execute_result"
    }
   ],
   "source": [
    "np.random.randn(5)"
   ]
  },
  {
   "cell_type": "code",
   "execution_count": 27,
   "metadata": {
    "collapsed": false
   },
   "outputs": [
    {
     "data": {
      "text/plain": [
       "array([  6.02021948,  14.51199315,  11.95136397,  11.51678752,   9.53408925])"
      ]
     },
     "execution_count": 27,
     "metadata": {},
     "output_type": "execute_result"
    }
   ],
   "source": [
    "norm10 = np.random.normal(10,3,5) #期望值，标准差，数量\n",
    "norm10"
   ]
  },
  {
   "cell_type": "markdown",
   "metadata": {},
   "source": [
    "###  Index with other arrays"
   ]
  },
  {
   "cell_type": "code",
   "execution_count": 29,
   "metadata": {
    "collapsed": false
   },
   "outputs": [
    {
     "data": {
      "text/plain": [
       "array([False,  True,  True,  True,  True], dtype=bool)"
      ]
     },
     "execution_count": 29,
     "metadata": {},
     "output_type": "execute_result"
    }
   ],
   "source": [
    "mask = norm10>9\n",
    "mask"
   ]
  },
  {
   "cell_type": "code",
   "execution_count": 30,
   "metadata": {
    "collapsed": false,
    "scrolled": true
   },
   "outputs": [
    {
     "name": "stdout",
     "output_type": "stream",
     "text": [
      "('Values above 9:', array([ 14.51199315,  11.95136397,  11.51678752,   9.53408925]))\n"
     ]
    }
   ],
   "source": [
    "print(\"Values above 9:\",norm10[mask])"
   ]
  },
  {
   "cell_type": "markdown",
   "metadata": {
    "collapsed": false
   },
   "source": [
    "print(\"Resetting all values above 9 to 0...\")\n",
    "norm10[norm10>9] = 0\n",
    "print(norm10)"
   ]
  },
  {
   "cell_type": "markdown",
   "metadata": {},
   "source": [
    "## 2. Arrays with more than one dimension"
   ]
  },
  {
   "cell_type": "code",
   "execution_count": 3,
   "metadata": {
    "collapsed": true
   },
   "outputs": [],
   "source": [
    "import numpy as np"
   ]
  },
  {
   "cell_type": "code",
   "execution_count": 4,
   "metadata": {
    "collapsed": false
   },
   "outputs": [
    {
     "data": {
      "text/plain": [
       "array([[1, 2],\n",
       "       [3, 4]])"
      ]
     },
     "execution_count": 4,
     "metadata": {},
     "output_type": "execute_result"
    }
   ],
   "source": [
    "lst2 = [[1,2],[3,4]]\n",
    "arr2 = np.array([[1,2],[3,4]])\n",
    "arr2"
   ]
  },
  {
   "cell_type": "code",
   "execution_count": 7,
   "metadata": {
    "collapsed": false
   },
   "outputs": [
    {
     "name": "stdout",
     "output_type": "stream",
     "text": [
      "2\n",
      "2\n",
      "2\n"
     ]
    }
   ],
   "source": [
    "print(lst2[0][1])\n",
    "print(arr2[0,1])\n",
    "print(arr2[0][1])"
   ]
  },
  {
   "cell_type": "code",
   "execution_count": 14,
   "metadata": {
    "collapsed": false
   },
   "outputs": [
    {
     "data": {
      "text/plain": [
       "array([[ 0.,  0.,  0.],\n",
       "       [ 0.,  0.,  0.]])"
      ]
     },
     "execution_count": 14,
     "metadata": {},
     "output_type": "execute_result"
    }
   ],
   "source": [
    "np.zeros(2)\n",
    "np.zeros((2,3))#加括号，表示二维数组\n",
    "#np.ones([2,3])"
   ]
  },
  {
   "cell_type": "code",
   "execution_count": 23,
   "metadata": {
    "collapsed": false
   },
   "outputs": [
    {
     "data": {
      "text/plain": [
       "array([[  6.11839008,   5.98270723],\n",
       "       [ 13.54119506,   8.17356136],\n",
       "       [  9.95221096,   3.8116364 ]])"
      ]
     },
     "execution_count": 23,
     "metadata": {},
     "output_type": "execute_result"
    }
   ],
   "source": [
    "arr1 = np.random.normal(10,3,(2,3))\n",
    "arr1.reshape(3,2)\n",
    "#arr1"
   ]
  },
  {
   "cell_type": "code",
   "execution_count": 16,
   "metadata": {
    "collapsed": false
   },
   "outputs": [
    {
     "data": {
      "text/plain": [
       "array([[0, 1, 2, 3],\n",
       "       [4, 5, 6, 7]])"
      ]
     },
     "execution_count": 16,
     "metadata": {},
     "output_type": "execute_result"
    }
   ],
   "source": [
    "arr = np.arange(8).reshape(2,4)\n",
    "arr"
   ]
  },
  {
   "cell_type": "markdown",
   "metadata": {},
   "source": [
    "###  View, not Copies"
   ]
  },
  {
   "cell_type": "code",
   "execution_count": 27,
   "metadata": {
    "collapsed": false
   },
   "outputs": [
    {
     "name": "stdout",
     "output_type": "stream",
     "text": [
      "[1000    1    2    3    4    5    6    7]\n",
      "[[1000    1    2    3]\n",
      " [   4    5    6    7]]\n"
     ]
    }
   ],
   "source": [
    "arr = np.arange(8)\n",
    "arr2 = arr.reshape(2,4)\n",
    "#print(arr)\n",
    "#print(arr2)\n",
    "arr[0] = 1000\n",
    "print(arr)\n",
    "print(arr2)"
   ]
  },
  {
   "cell_type": "markdown",
   "metadata": {},
   "source": [
    "### Slices"
   ]
  },
  {
   "cell_type": "code",
   "execution_count": 35,
   "metadata": {
    "collapsed": false,
    "scrolled": true
   },
   "outputs": [
    {
     "name": "stdout",
     "output_type": "stream",
     "text": [
      "('slicing in the second row:', array([6, 7]))\n",
      "('slicing in the second row:', array([6]))\n",
      "('slicing in the second row:', array([], dtype=int64))\n",
      "('slicing in the second row:', 6)\n",
      "('slicing in the second row:', array([4]))\n",
      "('All rows, third column :', array([2, 6]))\n"
     ]
    }
   ],
   "source": [
    "print('slicing in the second row:',arr2[1,2:4])\n",
    "print('slicing in the second row:',arr2[1,2:3])\n",
    "print('slicing in the second row:',arr2[1,2:2])\n",
    "print('slicing in the second row:',arr2[1,2])\n",
    "print('slicing in the second row:',arr2[1,0:1])#只能取到1个数字\n",
    "print('All rows, third column :',arr2[:,2])"
   ]
  },
  {
   "cell_type": "code",
   "execution_count": 40,
   "metadata": {
    "collapsed": false
   },
   "outputs": [
    {
     "name": "stdout",
     "output_type": "stream",
     "text": [
      "('First row:', array([1000,    1,    2,    3]))\n",
      "('First row:', array([1000,    1,    2,    3]))\n",
      "('Second row:', array([4, 5, 6, 7]))\n",
      "('Second line', array([1000,    4]))\n"
     ]
    }
   ],
   "source": [
    "print('First row:',arr2[0])\n",
    "print('First row:',arr2[0,:])\n",
    "print('Second row:',arr2[1])\n",
    "print('Second line',arr2[:,0])"
   ]
  },
  {
   "cell_type": "markdown",
   "metadata": {},
   "source": [
    "###  Array Properties and Methods"
   ]
  },
  {
   "cell_type": "code",
   "execution_count": 45,
   "metadata": {
    "collapsed": false
   },
   "outputs": [
    {
     "data": {
      "text/plain": [
       "array([[1000,    1,    2,    3],\n",
       "       [   4,    5,    6,    7]])"
      ]
     },
     "execution_count": 45,
     "metadata": {},
     "output_type": "execute_result"
    }
   ],
   "source": [
    "arr = arr2\n",
    "arr\n",
    "#arr2"
   ]
  },
  {
   "cell_type": "code",
   "execution_count": 48,
   "metadata": {
    "collapsed": false
   },
   "outputs": [
    {
     "name": "stdout",
     "output_type": "stream",
     "text": [
      "('Data type               :', dtype('int64'))\n",
      "('Total number of elements:', 8)\n",
      "('Number of dimensions    :', 2)\n",
      "('Shapre(dimensionality)  :', (2, 4))\n",
      "('Memory used(in bytes)   :', 64)\n"
     ]
    }
   ],
   "source": [
    "print('Data type               :',arr.dtype)\n",
    "print('Total number of elements:',arr.size)\n",
    "print('Number of dimensions    :',arr.ndim)\n",
    "print('Shapre(dimensionality)  :',arr.shape)\n",
    "print('Memory used(in bytes)   :',arr.nbytes)"
   ]
  },
  {
   "cell_type": "code",
   "execution_count": 49,
   "metadata": {
    "collapsed": false
   },
   "outputs": [
    {
     "name": "stdout",
     "output_type": "stream",
     "text": [
      "('Mininum and maxinum:', 1, 1000)\n",
      "('sum and product of all elements:', 1028, 5040000)\n",
      "('Mean and standard deviation:', 128.5, 329.40135093833482)\n"
     ]
    }
   ],
   "source": [
    "print('Mininum and maxinum:',arr.min(),arr.max())\n",
    "print('sum and product of all elements:',arr.sum(),arr.prod()) #prod乘法\n",
    "print('Mean and standard deviation:',arr.mean(),arr.std())"
   ]
  },
  {
   "cell_type": "code",
   "execution_count": 50,
   "metadata": {
    "collapsed": false
   },
   "outputs": [
    {
     "data": {
      "text/plain": [
       "5040000"
      ]
     },
     "execution_count": 50,
     "metadata": {},
     "output_type": "execute_result"
    }
   ],
   "source": [
    "1*2*3*4*5*6*7*1000"
   ]
  },
  {
   "cell_type": "code",
   "execution_count": 55,
   "metadata": {
    "collapsed": false
   },
   "outputs": [
    {
     "name": "stdout",
     "output_type": "stream",
     "text": [
      "('For the sollowing array:\\n', array([[1000,    1,    2,    3],\n",
      "       [   4,    5,    6,    7]]))\n",
      "('The sum of elements along the rows is:', array([1006,   22]))\n",
      "('The sum of elements along the columns is:', array([1004,    6,    8,   10]))\n"
     ]
    }
   ],
   "source": [
    "print('For the sollowing array:\\n',arr)\n",
    "print('The sum of elements along the rows is:',arr.sum(axis=1)) #求行和\n",
    "print('The sum of elements along the columns is:',arr.sum(axis=0)) #求列和"
   ]
  },
  {
   "cell_type": "code",
   "execution_count": 56,
   "metadata": {
    "collapsed": false,
    "scrolled": true
   },
   "outputs": [
    {
     "data": {
      "text/plain": [
       "(3, 4, 6)"
      ]
     },
     "execution_count": 56,
     "metadata": {},
     "output_type": "execute_result"
    }
   ],
   "source": [
    "np.zeros((3,4,5,6)).sum(2).shape"
   ]
  },
  {
   "cell_type": "code",
   "execution_count": 58,
   "metadata": {
    "collapsed": false
   },
   "outputs": [
    {
     "data": {
      "text/plain": [
       "array([[[[ 0.,  0.,  0.,  0.,  0.,  0.],\n",
       "         [ 0.,  0.,  0.,  0.,  0.,  0.],\n",
       "         [ 0.,  0.,  0.,  0.,  0.,  0.],\n",
       "         [ 0.,  0.,  0.,  0.,  0.,  0.],\n",
       "         [ 0.,  0.,  0.,  0.,  0.,  0.]],\n",
       "\n",
       "        [[ 0.,  0.,  0.,  0.,  0.,  0.],\n",
       "         [ 0.,  0.,  0.,  0.,  0.,  0.],\n",
       "         [ 0.,  0.,  0.,  0.,  0.,  0.],\n",
       "         [ 0.,  0.,  0.,  0.,  0.,  0.],\n",
       "         [ 0.,  0.,  0.,  0.,  0.,  0.]],\n",
       "\n",
       "        [[ 0.,  0.,  0.,  0.,  0.,  0.],\n",
       "         [ 0.,  0.,  0.,  0.,  0.,  0.],\n",
       "         [ 0.,  0.,  0.,  0.,  0.,  0.],\n",
       "         [ 0.,  0.,  0.,  0.,  0.,  0.],\n",
       "         [ 0.,  0.,  0.,  0.,  0.,  0.]],\n",
       "\n",
       "        [[ 0.,  0.,  0.,  0.,  0.,  0.],\n",
       "         [ 0.,  0.,  0.,  0.,  0.,  0.],\n",
       "         [ 0.,  0.,  0.,  0.,  0.,  0.],\n",
       "         [ 0.,  0.,  0.,  0.,  0.,  0.],\n",
       "         [ 0.,  0.,  0.,  0.,  0.,  0.]]],\n",
       "\n",
       "\n",
       "       [[[ 0.,  0.,  0.,  0.,  0.,  0.],\n",
       "         [ 0.,  0.,  0.,  0.,  0.,  0.],\n",
       "         [ 0.,  0.,  0.,  0.,  0.,  0.],\n",
       "         [ 0.,  0.,  0.,  0.,  0.,  0.],\n",
       "         [ 0.,  0.,  0.,  0.,  0.,  0.]],\n",
       "\n",
       "        [[ 0.,  0.,  0.,  0.,  0.,  0.],\n",
       "         [ 0.,  0.,  0.,  0.,  0.,  0.],\n",
       "         [ 0.,  0.,  0.,  0.,  0.,  0.],\n",
       "         [ 0.,  0.,  0.,  0.,  0.,  0.],\n",
       "         [ 0.,  0.,  0.,  0.,  0.,  0.]],\n",
       "\n",
       "        [[ 0.,  0.,  0.,  0.,  0.,  0.],\n",
       "         [ 0.,  0.,  0.,  0.,  0.,  0.],\n",
       "         [ 0.,  0.,  0.,  0.,  0.,  0.],\n",
       "         [ 0.,  0.,  0.,  0.,  0.,  0.],\n",
       "         [ 0.,  0.,  0.,  0.,  0.,  0.]],\n",
       "\n",
       "        [[ 0.,  0.,  0.,  0.,  0.,  0.],\n",
       "         [ 0.,  0.,  0.,  0.,  0.,  0.],\n",
       "         [ 0.,  0.,  0.,  0.,  0.,  0.],\n",
       "         [ 0.,  0.,  0.,  0.,  0.,  0.],\n",
       "         [ 0.,  0.,  0.,  0.,  0.,  0.]]],\n",
       "\n",
       "\n",
       "       [[[ 0.,  0.,  0.,  0.,  0.,  0.],\n",
       "         [ 0.,  0.,  0.,  0.,  0.,  0.],\n",
       "         [ 0.,  0.,  0.,  0.,  0.,  0.],\n",
       "         [ 0.,  0.,  0.,  0.,  0.,  0.],\n",
       "         [ 0.,  0.,  0.,  0.,  0.,  0.]],\n",
       "\n",
       "        [[ 0.,  0.,  0.,  0.,  0.,  0.],\n",
       "         [ 0.,  0.,  0.,  0.,  0.,  0.],\n",
       "         [ 0.,  0.,  0.,  0.,  0.,  0.],\n",
       "         [ 0.,  0.,  0.,  0.,  0.,  0.],\n",
       "         [ 0.,  0.,  0.,  0.,  0.,  0.]],\n",
       "\n",
       "        [[ 0.,  0.,  0.,  0.,  0.,  0.],\n",
       "         [ 0.,  0.,  0.,  0.,  0.,  0.],\n",
       "         [ 0.,  0.,  0.,  0.,  0.,  0.],\n",
       "         [ 0.,  0.,  0.,  0.,  0.,  0.],\n",
       "         [ 0.,  0.,  0.,  0.,  0.,  0.]],\n",
       "\n",
       "        [[ 0.,  0.,  0.,  0.,  0.,  0.],\n",
       "         [ 0.,  0.,  0.,  0.,  0.,  0.],\n",
       "         [ 0.,  0.,  0.,  0.,  0.,  0.],\n",
       "         [ 0.,  0.,  0.,  0.,  0.,  0.],\n",
       "         [ 0.,  0.,  0.,  0.,  0.,  0.]]]])"
      ]
     },
     "execution_count": 58,
     "metadata": {},
     "output_type": "execute_result"
    }
   ],
   "source": [
    "np.zeros((3,4,5,6))"
   ]
  },
  {
   "cell_type": "code",
   "execution_count": 59,
   "metadata": {
    "collapsed": false
   },
   "outputs": [
    {
     "data": {
      "text/plain": [
       "array([[[ 0.,  0.,  0.,  0.,  0.,  0.],\n",
       "        [ 0.,  0.,  0.,  0.,  0.,  0.],\n",
       "        [ 0.,  0.,  0.,  0.,  0.,  0.],\n",
       "        [ 0.,  0.,  0.,  0.,  0.,  0.]],\n",
       "\n",
       "       [[ 0.,  0.,  0.,  0.,  0.,  0.],\n",
       "        [ 0.,  0.,  0.,  0.,  0.,  0.],\n",
       "        [ 0.,  0.,  0.,  0.,  0.,  0.],\n",
       "        [ 0.,  0.,  0.,  0.,  0.,  0.]],\n",
       "\n",
       "       [[ 0.,  0.,  0.,  0.,  0.,  0.],\n",
       "        [ 0.,  0.,  0.,  0.,  0.,  0.],\n",
       "        [ 0.,  0.,  0.,  0.,  0.,  0.],\n",
       "        [ 0.,  0.,  0.,  0.,  0.,  0.]]])"
      ]
     },
     "execution_count": 59,
     "metadata": {},
     "output_type": "execute_result"
    }
   ],
   "source": [
    "np.zeros((3,4,5,6)).sum(2)"
   ]
  },
  {
   "cell_type": "code",
   "execution_count": 57,
   "metadata": {
    "collapsed": false,
    "scrolled": true
   },
   "outputs": [
    {
     "name": "stdout",
     "output_type": "stream",
     "text": [
      "('Array:\\n', array([[1000,    1,    2,    3],\n",
      "       [   4,    5,    6,    7]]))\n",
      "('Transpose:\\n', array([[1000,    4],\n",
      "       [   1,    5],\n",
      "       [   2,    6],\n",
      "       [   3,    7]]))\n"
     ]
    }
   ],
   "source": [
    "print('Array:\\n',arr)\n",
    "print('Transpose:\\n',arr.T)"
   ]
  },
  {
   "cell_type": "markdown",
   "metadata": {},
   "source": [
    "### More array properties"
   ]
  },
  {
   "cell_type": "markdown",
   "metadata": {},
   "source": [
    "arr.T             arr.copy          arr.getfield      arr.put           arr.squeeze\n",
    "arr.all           arr.ctypes        arr.imag          arr.ravel         arr.std\n",
    "arr.any           arr.cumprod       arr.item          arr.real          arr.strides\n",
    "arr.argmax        arr.cumsum        arr.itemset       arr.repeat        arr.sum\n",
    "arr.argmin        arr.data          arr.itemsize      arr.reshape       arr.swapaxes\n",
    "arr.argsort       arr.diagonal      arr.max           arr.resize        arr.take\n",
    "arr.astype        arr.dot           arr.mean          arr.round         barr.tofile\n",
    "arr.base          arr.dtype         arr.min           arr.searchsorted  arr.tolist\n",
    "arr.byteswap      arr.dump          arr.nbytes        arr.setasflat     arr.tostring\n",
    "arr.choose        arr.dumps         arr.ndim          arr.setfield      arr.trace\n",
    "arr.clip          arr.fill          arr.newbyteorder  arr.setflags      arr.transpose\n",
    "arr.compress      arr.flags         arr.nonzero       arr.shape         arr.var\n",
    "arr.conj          arr.flat          arr.prod          arr.size          arr.view\n",
    "arr.conjugate     arr.flatten       arr.ptp           arr.sort          "
   ]
  },
  {
   "cell_type": "markdown",
   "metadata": {},
   "source": [
    "## 3. Operating the arrays"
   ]
  },
  {
   "cell_type": "code",
   "execution_count": 62,
   "metadata": {
    "collapsed": false
   },
   "outputs": [
    {
     "name": "stdout",
     "output_type": "stream",
     "text": [
      "(array([0, 1, 2, 3]), '+', array([10, 11, 12, 13]), '=', array([10, 12, 14, 16]))\n"
     ]
    }
   ],
   "source": [
    "arr1 = np.arange(4)\n",
    "arr2 = np.arange(10,14)\n",
    "print(arr1,'+',arr2,'=',arr1+arr2)"
   ]
  },
  {
   "cell_type": "code",
   "execution_count": 63,
   "metadata": {
    "collapsed": false
   },
   "outputs": [
    {
     "name": "stdout",
     "output_type": "stream",
     "text": [
      "(array([0, 1, 2, 3]), '*', array([10, 11, 12, 13]), '=', array([ 0, 11, 24, 39]))\n"
     ]
    }
   ],
   "source": [
    "print(arr1,'*',arr2,'=',arr1*arr2)"
   ]
  },
  {
   "cell_type": "code",
   "execution_count": 64,
   "metadata": {
    "collapsed": false
   },
   "outputs": [
    {
     "data": {
      "text/plain": [
       "array([ 0. ,  1.5,  3. ,  4.5])"
      ]
     },
     "execution_count": 64,
     "metadata": {},
     "output_type": "execute_result"
    }
   ],
   "source": [
    "1.5*arr1"
   ]
  },
  {
   "cell_type": "markdown",
   "metadata": {},
   "source": [
    "###  Broadcasting"
   ]
  },
  {
   "cell_type": "code",
   "execution_count": 65,
   "metadata": {
    "collapsed": false
   },
   "outputs": [
    {
     "name": "stdout",
     "output_type": "stream",
     "text": [
      "[0 1 2]\n",
      "[5 6 7]\n"
     ]
    }
   ],
   "source": [
    "print(np.arange(3))\n",
    "print(np.arange(3)+5) #低维向高维补全"
   ]
  },
  {
   "cell_type": "code",
   "execution_count": 66,
   "metadata": {
    "collapsed": false
   },
   "outputs": [
    {
     "data": {
      "text/plain": [
       "array([[ 1.,  1.,  1.],\n",
       "       [ 1.,  1.,  1.],\n",
       "       [ 1.,  1.,  1.]])"
      ]
     },
     "execution_count": 66,
     "metadata": {},
     "output_type": "execute_result"
    }
   ],
   "source": [
    "np.ones((3,3))"
   ]
  },
  {
   "cell_type": "code",
   "execution_count": 67,
   "metadata": {
    "collapsed": false
   },
   "outputs": [
    {
     "data": {
      "text/plain": [
       "array([[ 1.,  2.,  3.],\n",
       "       [ 1.,  2.,  3.],\n",
       "       [ 1.,  2.,  3.]])"
      ]
     },
     "execution_count": 67,
     "metadata": {},
     "output_type": "execute_result"
    }
   ],
   "source": [
    "np.ones((3,3))+np.arange(3)"
   ]
  },
  {
   "cell_type": "code",
   "execution_count": 69,
   "metadata": {
    "collapsed": false
   },
   "outputs": [
    {
     "data": {
      "text/plain": [
       "array([[0, 1, 2],\n",
       "       [1, 2, 3],\n",
       "       [2, 3, 4]])"
      ]
     },
     "execution_count": 69,
     "metadata": {},
     "output_type": "execute_result"
    }
   ],
   "source": [
    "np.arange(3).reshape((3,1))+np.arange(3)"
   ]
  },
  {
   "cell_type": "code",
   "execution_count": 71,
   "metadata": {
    "collapsed": false
   },
   "outputs": [
    {
     "data": {
      "text/plain": [
       "array([0, 1, 2])"
      ]
     },
     "execution_count": 71,
     "metadata": {},
     "output_type": "execute_result"
    }
   ],
   "source": [
    "np.arange(3)"
   ]
  },
  {
   "cell_type": "markdown",
   "metadata": {},
   "source": [
    "###  Visualizing broadcasting"
   ]
  },
  {
   "cell_type": "markdown",
   "metadata": {},
   "source": [
    "http://www.astroml.org/book_figures/appendix/fig_broadcast_visual.html"
   ]
  },
  {
   "cell_type": "markdown",
   "metadata": {},
   "source": [
    "### Questions:\n",
    "\n",
    "Will the following broadcasting operations work?"
   ]
  },
  {
   "cell_type": "code",
   "execution_count": 75,
   "metadata": {
    "collapsed": false
   },
   "outputs": [
    {
     "data": {
      "text/plain": [
       "array([[ 2.,  2.,  2.],\n",
       "       [ 2.,  2.,  2.]])"
      ]
     },
     "execution_count": 75,
     "metadata": {},
     "output_type": "execute_result"
    }
   ],
   "source": [
    "arr1 = np.ones((2,3))\n",
    "arr2 = np.ones((2,1))\n",
    "arr1+arr2"
   ]
  },
  {
   "cell_type": "code",
   "execution_count": 77,
   "metadata": {
    "collapsed": false,
    "scrolled": true
   },
   "outputs": [
    {
     "ename": "ValueError",
     "evalue": "operands could not be broadcast together with shapes (2,3) (2,) ",
     "output_type": "error",
     "traceback": [
      "\u001b[1;31m---------------------------------------------------------------------------\u001b[0m",
      "\u001b[1;31mValueError\u001b[0m                                Traceback (most recent call last)",
      "\u001b[1;32m<ipython-input-77-c14517698b6c>\u001b[0m in \u001b[0;36m<module>\u001b[1;34m()\u001b[0m\n\u001b[0;32m      1\u001b[0m \u001b[0marr1\u001b[0m \u001b[1;33m=\u001b[0m \u001b[0mnp\u001b[0m\u001b[1;33m.\u001b[0m\u001b[0mones\u001b[0m\u001b[1;33m(\u001b[0m\u001b[1;33m(\u001b[0m\u001b[1;36m2\u001b[0m\u001b[1;33m,\u001b[0m\u001b[1;36m3\u001b[0m\u001b[1;33m)\u001b[0m\u001b[1;33m)\u001b[0m\u001b[1;33m\u001b[0m\u001b[0m\n\u001b[0;32m      2\u001b[0m \u001b[0marr2\u001b[0m \u001b[1;33m=\u001b[0m \u001b[0mnp\u001b[0m\u001b[1;33m.\u001b[0m\u001b[0mones\u001b[0m\u001b[1;33m(\u001b[0m\u001b[1;36m2\u001b[0m\u001b[1;33m)\u001b[0m\u001b[1;33m\u001b[0m\u001b[0m\n\u001b[1;32m----> 3\u001b[1;33m \u001b[0marr1\u001b[0m\u001b[1;33m+\u001b[0m\u001b[0marr2\u001b[0m\u001b[1;33m\u001b[0m\u001b[0m\n\u001b[0m",
      "\u001b[1;31mValueError\u001b[0m: operands could not be broadcast together with shapes (2,3) (2,) "
     ]
    }
   ],
   "source": [
    "arr1 = np.ones((2,3))\n",
    "arr2 = np.ones(2)\n",
    "arr1+arr2"
   ]
  },
  {
   "cell_type": "code",
   "execution_count": 78,
   "metadata": {
    "collapsed": false
   },
   "outputs": [
    {
     "data": {
      "text/plain": [
       "array([ 1.,  1.])"
      ]
     },
     "execution_count": 78,
     "metadata": {},
     "output_type": "execute_result"
    }
   ],
   "source": [
    "np.ones(2)"
   ]
  },
  {
   "cell_type": "code",
   "execution_count": 80,
   "metadata": {
    "collapsed": false
   },
   "outputs": [
    {
     "data": {
      "text/plain": [
       "array([[ 2.,  2.,  2.],\n",
       "       [ 2.,  2.,  2.]])"
      ]
     },
     "execution_count": 80,
     "metadata": {},
     "output_type": "execute_result"
    }
   ],
   "source": [
    "arr1 = np.ones((2,3))\n",
    "arr2 = np.ones(2).reshape(2,1)\n",
    "arr1+arr2"
   ]
  },
  {
   "cell_type": "code",
   "execution_count": 89,
   "metadata": {
    "collapsed": false
   },
   "outputs": [
    {
     "data": {
      "text/plain": [
       "(2,)"
      ]
     },
     "execution_count": 89,
     "metadata": {},
     "output_type": "execute_result"
    }
   ],
   "source": [
    "np.ones(2).shape #(2,)表示1行2列\n",
    "#np.ones((2,3)).shape"
   ]
  },
  {
   "cell_type": "code",
   "execution_count": 82,
   "metadata": {
    "collapsed": false
   },
   "outputs": [
    {
     "data": {
      "text/plain": [
       "array([ 1.,  1.])"
      ]
     },
     "execution_count": 82,
     "metadata": {},
     "output_type": "execute_result"
    }
   ],
   "source": [
    "np.ones(2)"
   ]
  },
  {
   "cell_type": "code",
   "execution_count": 87,
   "metadata": {
    "collapsed": false
   },
   "outputs": [
    {
     "data": {
      "text/plain": [
       "array([[ 1.],\n",
       "       [ 1.]])"
      ]
     },
     "execution_count": 87,
     "metadata": {},
     "output_type": "execute_result"
    }
   ],
   "source": [
    "np.ones(2).reshape(2,1)"
   ]
  },
  {
   "cell_type": "code",
   "execution_count": 88,
   "metadata": {
    "collapsed": false,
    "scrolled": true
   },
   "outputs": [
    {
     "data": {
      "text/plain": [
       "(2, 1)"
      ]
     },
     "execution_count": 88,
     "metadata": {},
     "output_type": "execute_result"
    }
   ],
   "source": [
    "np.ones(2).reshape(2,1).shape"
   ]
  },
  {
   "cell_type": "markdown",
   "metadata": {},
   "source": [
    "### Quick Exercise:\n",
    "\n",
    "Use np.arange and reshape\n",
    "\n",
    "A = [[1 2 3 4]\n",
    "     [5 6 7 8]]\n",
    "\n",
    "Use np.arange to create the array\n",
    "\n",
    "B = [1 2]\n",
    "\n",
    "Use broadcasting to add B to each column of A to create the final array\n",
    "\n",
    "A + B = [[2  3  4  5]\n",
    "         [7  8  9 10]\n",
    "\n",
    "Hint: what shape does B have to be changed to?"
   ]
  },
  {
   "cell_type": "markdown",
   "metadata": {},
   "source": [
    "###  Answers:"
   ]
  },
  {
   "cell_type": "code",
   "execution_count": 91,
   "metadata": {
    "collapsed": false
   },
   "outputs": [
    {
     "data": {
      "text/plain": [
       "array([[ 2,  3,  4,  5],\n",
       "       [ 7,  8,  9, 10]])"
      ]
     },
     "execution_count": 91,
     "metadata": {},
     "output_type": "execute_result"
    }
   ],
   "source": [
    "A = np.arange(1,9).reshape((2,4))\n",
    "B = np.arange(1,3)\n",
    "A + B.reshape((2,1))"
   ]
  },
  {
   "cell_type": "markdown",
   "metadata": {},
   "source": [
    "### Element-wise Functions"
   ]
  },
  {
   "cell_type": "code",
   "execution_count": 107,
   "metadata": {
    "collapsed": false
   },
   "outputs": [
    {
     "data": {
      "text/plain": [
       "array([ 0.        ,  0.06346652,  0.12693304,  0.19039955,  0.25386607,\n",
       "        0.31733259,  0.38079911,  0.44426563,  0.50773215,  0.57119866,\n",
       "        0.63466518,  0.6981317 ,  0.76159822,  0.82506474,  0.88853126,\n",
       "        0.95199777,  1.01546429,  1.07893081,  1.14239733,  1.20586385,\n",
       "        1.26933037,  1.33279688,  1.3962634 ,  1.45972992,  1.52319644,\n",
       "        1.58666296,  1.65012947,  1.71359599,  1.77706251,  1.84052903,\n",
       "        1.90399555,  1.96746207,  2.03092858,  2.0943951 ,  2.15786162,\n",
       "        2.22132814,  2.28479466,  2.34826118,  2.41172769,  2.47519421,\n",
       "        2.53866073,  2.60212725,  2.66559377,  2.72906028,  2.7925268 ,\n",
       "        2.85599332,  2.91945984,  2.98292636,  3.04639288,  3.10985939,\n",
       "        3.17332591,  3.23679243,  3.30025895,  3.36372547,  3.42719199,\n",
       "        3.4906585 ,  3.55412502,  3.61759154,  3.68105806,  3.74452458,\n",
       "        3.8079911 ,  3.87145761,  3.93492413,  3.99839065,  4.06185717,\n",
       "        4.12532369,  4.1887902 ,  4.25225672,  4.31572324,  4.37918976,\n",
       "        4.44265628,  4.5061228 ,  4.56958931,  4.63305583,  4.69652235,\n",
       "        4.75998887,  4.82345539,  4.88692191,  4.95038842,  5.01385494,\n",
       "        5.07732146,  5.14078798,  5.2042545 ,  5.26772102,  5.33118753,\n",
       "        5.39465405,  5.45812057,  5.52158709,  5.58505361,  5.64852012,\n",
       "        5.71198664,  5.77545316,  5.83891968,  5.9023862 ,  5.96585272,\n",
       "        6.02931923,  6.09278575,  6.15625227,  6.21971879,  6.28318531])"
      ]
     },
     "execution_count": 107,
     "metadata": {},
     "output_type": "execute_result"
    }
   ],
   "source": [
    "x = np.linspace(0,2*np.pi,100)\n",
    "y = np.sin(x)\n",
    "x"
   ]
  },
  {
   "cell_type": "code",
   "execution_count": 93,
   "metadata": {
    "collapsed": true
   },
   "outputs": [],
   "source": [
    "np.array?"
   ]
  },
  {
   "cell_type": "code",
   "execution_count": 100,
   "metadata": {
    "collapsed": true
   },
   "outputs": [],
   "source": [
    "list?"
   ]
  },
  {
   "cell_type": "code",
   "execution_count": 97,
   "metadata": {
    "collapsed": false
   },
   "outputs": [
    {
     "name": "stdout",
     "output_type": "stream",
     "text": [
      "Object `copy` not found.\n"
     ]
    }
   ],
   "source": [
    "copy?"
   ]
  },
  {
   "cell_type": "code",
   "execution_count": 106,
   "metadata": {
    "collapsed": true
   },
   "outputs": [],
   "source": [
    "np.array?"
   ]
  },
  {
   "cell_type": "code",
   "execution_count": 102,
   "metadata": {
    "collapsed": false
   },
   "outputs": [
    {
     "name": "stdout",
     "output_type": "stream",
     "text": [
      "Object `np.mask` not found.\n"
     ]
    }
   ],
   "source": [
    "np.mask?"
   ]
  },
  {
   "cell_type": "code",
   "execution_count": 104,
   "metadata": {
    "collapsed": false,
    "scrolled": true
   },
   "outputs": [
    {
     "name": "stdout",
     "output_type": "stream",
     "text": [
      "Object `musk` not found.\n"
     ]
    }
   ],
   "source": [
    "musk?"
   ]
  },
  {
   "cell_type": "markdown",
   "metadata": {},
   "source": [
    "##  4. Linear algebra in numpy"
   ]
  },
  {
   "cell_type": "code",
   "execution_count": 108,
   "metadata": {
    "collapsed": false
   },
   "outputs": [
    {
     "name": "stdout",
     "output_type": "stream",
     "text": [
      "(array([2, 3, 4]), '.', array([1, 0, 1]), '=', 6)\n"
     ]
    }
   ],
   "source": [
    "v1 = np.array([2,3,4])\n",
    "v2 = np.array([1,0,1])\n",
    "print(v1,'.',v2,'=',np.dot(v1,v2))"
   ]
  },
  {
   "cell_type": "code",
   "execution_count": 111,
   "metadata": {
    "collapsed": false
   },
   "outputs": [
    {
     "data": {
      "text/plain": [
       "6"
      ]
     },
     "execution_count": 111,
     "metadata": {},
     "output_type": "execute_result"
    }
   ],
   "source": [
    "np.dot(v1.T,v2) #numpy中行向量列向量并无区别"
   ]
  },
  {
   "cell_type": "code",
   "execution_count": 112,
   "metadata": {
    "collapsed": false,
    "scrolled": true
   },
   "outputs": [
    {
     "name": "stdout",
     "output_type": "stream",
     "text": [
      "(array([[0, 1, 2],\n",
      "       [3, 4, 5]]), 'x', array([2, 3, 4]), '=', array([11, 38]))\n"
     ]
    }
   ],
   "source": [
    "A = np.arange(6).reshape(2,3)\n",
    "print(A,'x',v1,'=',np.dot(A,v1))"
   ]
  },
  {
   "cell_type": "code",
   "execution_count": 113,
   "metadata": {
    "collapsed": false
   },
   "outputs": [
    {
     "data": {
      "text/plain": [
       "(3,)"
      ]
     },
     "execution_count": 113,
     "metadata": {},
     "output_type": "execute_result"
    }
   ],
   "source": [
    "v1.shape"
   ]
  },
  {
   "cell_type": "code",
   "execution_count": 114,
   "metadata": {
    "collapsed": false
   },
   "outputs": [
    {
     "data": {
      "text/plain": [
       "array([11, 38])"
      ]
     },
     "execution_count": 114,
     "metadata": {},
     "output_type": "execute_result"
    }
   ],
   "source": [
    "np.dot(A,v1.T)"
   ]
  },
  {
   "cell_type": "code",
   "execution_count": 115,
   "metadata": {
    "collapsed": false
   },
   "outputs": [
    {
     "data": {
      "text/plain": [
       "(2, 3)"
      ]
     },
     "execution_count": 115,
     "metadata": {},
     "output_type": "execute_result"
    }
   ],
   "source": [
    "A.shape"
   ]
  },
  {
   "cell_type": "code",
   "execution_count": 117,
   "metadata": {
    "collapsed": false,
    "scrolled": true
   },
   "outputs": [
    {
     "ename": "ValueError",
     "evalue": "shapes (3,) and (2,3) not aligned: 3 (dim 0) != 2 (dim 0)",
     "output_type": "error",
     "traceback": [
      "\u001b[1;31m---------------------------------------------------------------------------\u001b[0m",
      "\u001b[1;31mValueError\u001b[0m                                Traceback (most recent call last)",
      "\u001b[1;32m<ipython-input-117-da6ecbc3a43c>\u001b[0m in \u001b[0;36m<module>\u001b[1;34m()\u001b[0m\n\u001b[1;32m----> 1\u001b[1;33m \u001b[0mnp\u001b[0m\u001b[1;33m.\u001b[0m\u001b[0mdot\u001b[0m\u001b[1;33m(\u001b[0m\u001b[0mv1\u001b[0m\u001b[1;33m,\u001b[0m\u001b[0mA\u001b[0m\u001b[1;33m)\u001b[0m\u001b[1;33m\u001b[0m\u001b[0m\n\u001b[0m",
      "\u001b[1;31mValueError\u001b[0m: shapes (3,) and (2,3) not aligned: 3 (dim 0) != 2 (dim 0)"
     ]
    }
   ],
   "source": [
    "np.dot(v1,A)"
   ]
  },
  {
   "cell_type": "code",
   "execution_count": 118,
   "metadata": {
    "collapsed": false,
    "scrolled": true
   },
   "outputs": [
    {
     "name": "stdout",
     "output_type": "stream",
     "text": [
      "[[ 5 14]\n",
      " [14 50]]\n"
     ]
    }
   ],
   "source": [
    "print(np.dot(A,A.T)) #向量无区别，矩阵还是有区别的。"
   ]
  },
  {
   "cell_type": "markdown",
   "metadata": {},
   "source": [
    "##  Reading and writing arrays to disk"
   ]
  },
  {
   "cell_type": "markdown",
   "metadata": {},
   "source": [
    "###  Text data"
   ]
  },
  {
   "cell_type": "code",
   "execution_count": 121,
   "metadata": {
    "collapsed": false
   },
   "outputs": [
    {
     "name": "stdout",
     "output_type": "stream",
     "text": [
      "# My dateset\r\n",
      "0.00e+00 1.00e+00 2.00e+00 3.00e+00 4.00e+00\r\n",
      "5.00e+00 6.00e+00 7.00e+00 8.00e+00 9.00e+00\r\n"
     ]
    }
   ],
   "source": [
    "arr = np.arange(10).reshape(2,5)\n",
    "np.savetxt('test.out',arr,fmt='%.2e',header=\"My dateset\")\n",
    "!cat test.out"
   ]
  },
  {
   "cell_type": "code",
   "execution_count": 122,
   "metadata": {
    "collapsed": false
   },
   "outputs": [
    {
     "name": "stdout",
     "output_type": "stream",
     "text": [
      "[[ 0.  1.  2.  3.  4.]\n",
      " [ 5.  6.  7.  8.  9.]]\n"
     ]
    }
   ],
   "source": [
    "arr2 = np.loadtxt('test.out')\n",
    "print(arr2)"
   ]
  },
  {
   "cell_type": "markdown",
   "metadata": {},
   "source": [
    "###  Binary Data"
   ]
  },
  {
   "cell_type": "code",
   "execution_count": 125,
   "metadata": {
    "collapsed": false,
    "scrolled": true
   },
   "outputs": [
    {
     "name": "stdout",
     "output_type": "stream",
     "text": [
      "('Any differences?', False)\n",
      "[[ 0.  1.  2.  3.  4.]\n",
      " [ 5.  6.  7.  8.  9.]]\n",
      "�NUMPY\u0001\u0000F\u0000{'descr': '<f8', 'fortran_order': False, 'shape': (2, 5), }          \r\n",
      "\u0000\u0000\u0000\u0000\u0000\u0000\u0000\u0000\u0000\u0000\u0000\u0000\u0000\u0000�?\u0000\u0000\u0000\u0000\u0000\u0000\u0000@\u0000\u0000\u0000\u0000\u0000\u0000\b@\u0000\u0000\u0000\u0000\u0000\u0000\u0010@\u0000\u0000\u0000\u0000\u0000\u0000\u0014@\u0000\u0000\u0000\u0000\u0000\u0000\u0018@\u0000\u0000\u0000\u0000\u0000\u0000\u001c",
      "@\u0000\u0000\u0000\u0000\u0000\u0000 @\u0000\u0000\u0000\u0000\u0000\u0000\"@"
     ]
    }
   ],
   "source": [
    "np.save('test.npy',arr2)\n",
    "arr2n = np.load('test.npy')\n",
    "print('Any differences?',np.any(arr2-arr2n))\n",
    "print(arr2n)\n",
    "!cat test.npy"
   ]
  },
  {
   "cell_type": "markdown",
   "metadata": {},
   "source": [
    "###  .npz: multiple binary outputs in one files"
   ]
  },
  {
   "cell_type": "code",
   "execution_count": 130,
   "metadata": {
    "collapsed": false
   },
   "outputs": [
    {
     "data": {
      "text/plain": [
       "['array2', 'array1']"
      ]
     },
     "execution_count": 130,
     "metadata": {},
     "output_type": "execute_result"
    }
   ],
   "source": [
    "np.savez('test.npz',array1=arr,array2=arr2)\n",
    "arrays = np.load('test.npz')\n",
    "arrays.files"
   ]
  },
  {
   "cell_type": "code",
   "execution_count": 134,
   "metadata": {
    "collapsed": false,
    "scrolled": true
   },
   "outputs": [
    {
     "name": "stdout",
     "output_type": "stream",
     "text": [
      "('First row of first array:', array([1, 2]))\n",
      "('First row of first array:', array([0, 1, 2, 3, 4]))\n"
     ]
    }
   ],
   "source": [
    "print('First row of first array:',arrays['array1'][0][1:3])\n",
    "print('First row of first array:',arrays.f.array1[0])"
   ]
  },
  {
   "cell_type": "code",
   "execution_count": 132,
   "metadata": {
    "collapsed": false
   },
   "outputs": [
    {
     "name": "stdout",
     "output_type": "stream",
     "text": [
      "[[0 1 2 3 4]\n",
      " [5 6 7 8 9]]\n"
     ]
    }
   ],
   "source": [
    "print(arr)"
   ]
  },
  {
   "cell_type": "code",
   "execution_count": 133,
   "metadata": {
    "collapsed": false
   },
   "outputs": [
    {
     "name": "stdout",
     "output_type": "stream",
     "text": [
      "[[ 0.  1.  2.  3.  4.]\n",
      " [ 5.  6.  7.  8.  9.]]\n"
     ]
    }
   ],
   "source": [
    "print(arr2)"
   ]
  },
  {
   "cell_type": "markdown",
   "metadata": {},
   "source": [
    "##  练习"
   ]
  },
  {
   "cell_type": "markdown",
   "metadata": {},
   "source": [
    "1. 思考np.array和list有什么不同  \n",
    "2. 如何使用mask方法快速截取数据\n",
    "3. 思考view和copy的区别\n",
    "4. np.array还有哪些属性和方法\n",
    "5. 理解什么是boradcasting，如何使用\n",
    "6. 如何计算向量、矩阵相乘\n",
    "7. 如何从文件中读取数据"
   ]
  },
  {
   "cell_type": "markdown",
   "metadata": {},
   "source": [
    "1. array must be the same type, and list not always. array is easier to computing.\n",
    "2. mask = condition\n",
    "3. view read sth while copy operate( make things to the clipboard.\n",
    "4. with mat, dtype.\n",
    "5. lower dimensions up to higher to make the calculate available.\n",
    "6. use np.dot, for vectors there aren't any differences between row vector and column vector. matrix must follow the rules.\n",
    "7. np.loadtxt or np.load"
   ]
  },
  {
   "cell_type": "markdown",
   "metadata": {},
   "source": [
    "##  利用Python进行数据分析_Chapter 4_Numpy基础"
   ]
  },
  {
   "cell_type": "markdown",
   "metadata": {},
   "source": [
    "### astype transmmit dtype"
   ]
  },
  {
   "cell_type": "markdown",
   "metadata": {
    "collapsed": true
   },
   "source": [
    "import numpy as np"
   ]
  },
  {
   "cell_type": "code",
   "execution_count": 2,
   "metadata": {
    "collapsed": true
   },
   "outputs": [],
   "source": [
    "int_array = np.arange(10)"
   ]
  },
  {
   "cell_type": "code",
   "execution_count": 3,
   "metadata": {
    "collapsed": true
   },
   "outputs": [],
   "source": [
    "calibers = np.array([.22, .270, .357, .380, .44, .50],dtype=np.float64)"
   ]
  },
  {
   "cell_type": "code",
   "execution_count": 5,
   "metadata": {
    "collapsed": false
   },
   "outputs": [
    {
     "data": {
      "text/plain": [
       "array([ 0.,  1.,  2.,  3.,  4.,  5.,  6.,  7.,  8.,  9.])"
      ]
     },
     "execution_count": 5,
     "metadata": {},
     "output_type": "execute_result"
    }
   ],
   "source": [
    "int_array.astype(calibers.dtype)"
   ]
  },
  {
   "cell_type": "code",
   "execution_count": 7,
   "metadata": {
    "collapsed": false
   },
   "outputs": [
    {
     "name": "stdout",
     "output_type": "stream",
     "text": [
      "[0 1 2 3 4 5 6 7 8 9]\n"
     ]
    }
   ],
   "source": [
    "print(int_array)"
   ]
  },
  {
   "cell_type": "markdown",
   "metadata": {},
   "source": [
    "### 元素索引"
   ]
  },
  {
   "cell_type": "code",
   "execution_count": 9,
   "metadata": {
    "collapsed": false
   },
   "outputs": [],
   "source": [
    "arr3d = np.array([[[1,2,3],[4,5,6]],[[7,8,9],[10,11,12]]])"
   ]
  },
  {
   "cell_type": "code",
   "execution_count": 10,
   "metadata": {
    "collapsed": false
   },
   "outputs": [
    {
     "data": {
      "text/plain": [
       "array([[[ 1,  2,  3],\n",
       "        [ 4,  5,  6]],\n",
       "\n",
       "       [[ 7,  8,  9],\n",
       "        [10, 11, 12]]])"
      ]
     },
     "execution_count": 10,
     "metadata": {},
     "output_type": "execute_result"
    }
   ],
   "source": [
    "arr3d"
   ]
  },
  {
   "cell_type": "code",
   "execution_count": 13,
   "metadata": {
    "collapsed": false
   },
   "outputs": [
    {
     "data": {
      "text/plain": [
       "array([[1, 2, 3],\n",
       "       [4, 5, 6]])"
      ]
     },
     "execution_count": 13,
     "metadata": {},
     "output_type": "execute_result"
    }
   ],
   "source": [
    "arr3d[0]"
   ]
  },
  {
   "cell_type": "code",
   "execution_count": 14,
   "metadata": {
    "collapsed": true
   },
   "outputs": [],
   "source": [
    "old_values = arr3d[0].copy()"
   ]
  },
  {
   "cell_type": "code",
   "execution_count": 15,
   "metadata": {
    "collapsed": false
   },
   "outputs": [
    {
     "data": {
      "text/plain": [
       "array([[1, 2, 3],\n",
       "       [4, 5, 6]])"
      ]
     },
     "execution_count": 15,
     "metadata": {},
     "output_type": "execute_result"
    }
   ],
   "source": [
    "old_values"
   ]
  },
  {
   "cell_type": "code",
   "execution_count": 16,
   "metadata": {
    "collapsed": true
   },
   "outputs": [],
   "source": [
    "arr3d[0] = 42"
   ]
  },
  {
   "cell_type": "code",
   "execution_count": 17,
   "metadata": {
    "collapsed": false
   },
   "outputs": [
    {
     "data": {
      "text/plain": [
       "array([[[42, 42, 42],\n",
       "        [42, 42, 42]],\n",
       "\n",
       "       [[ 7,  8,  9],\n",
       "        [10, 11, 12]]])"
      ]
     },
     "execution_count": 17,
     "metadata": {},
     "output_type": "execute_result"
    }
   ],
   "source": [
    "arr3d"
   ]
  },
  {
   "cell_type": "code",
   "execution_count": 18,
   "metadata": {
    "collapsed": false
   },
   "outputs": [
    {
     "data": {
      "text/plain": [
       "array([7, 8, 9])"
      ]
     },
     "execution_count": 18,
     "metadata": {},
     "output_type": "execute_result"
    }
   ],
   "source": [
    "arr3d[1,0]"
   ]
  },
  {
   "cell_type": "markdown",
   "metadata": {},
   "source": [
    "###  数组切片"
   ]
  },
  {
   "cell_type": "code",
   "execution_count": 21,
   "metadata": {
    "collapsed": false
   },
   "outputs": [
    {
     "data": {
      "text/plain": [
       "array([[[42, 42, 42],\n",
       "        [42, 42, 42]]])"
      ]
     },
     "execution_count": 21,
     "metadata": {},
     "output_type": "execute_result"
    }
   ],
   "source": [
    "arr3d[:1] #前一组"
   ]
  },
  {
   "cell_type": "code",
   "execution_count": 29,
   "metadata": {
    "collapsed": false
   },
   "outputs": [
    {
     "data": {
      "text/plain": [
       "array([[[ 7,  8,  9],\n",
       "        [10, 11, 12]]])"
      ]
     },
     "execution_count": 29,
     "metadata": {},
     "output_type": "execute_result"
    }
   ],
   "source": [
    "arr3d[1:] #第一组往后所有"
   ]
  },
  {
   "cell_type": "code",
   "execution_count": 30,
   "metadata": {
    "collapsed": false
   },
   "outputs": [
    {
     "data": {
      "text/plain": [
       "array([[ 7,  8,  9],\n",
       "       [10, 11, 12]])"
      ]
     },
     "execution_count": 30,
     "metadata": {},
     "output_type": "execute_result"
    }
   ],
   "source": [
    "arr3d[1,:] #下标1的所有"
   ]
  },
  {
   "cell_type": "code",
   "execution_count": 27,
   "metadata": {
    "collapsed": false
   },
   "outputs": [
    {
     "data": {
      "text/plain": [
       "array([[42, 42, 42],\n",
       "       [10, 11, 12]])"
      ]
     },
     "execution_count": 27,
     "metadata": {},
     "output_type": "execute_result"
    }
   ],
   "source": [
    "arr3d[:,1] #所有组的第一下标行"
   ]
  },
  {
   "cell_type": "code",
   "execution_count": 23,
   "metadata": {
    "collapsed": false
   },
   "outputs": [
    {
     "data": {
      "text/plain": [
       "array([], shape=(0, 2, 3), dtype=int64)"
      ]
     },
     "execution_count": 23,
     "metadata": {},
     "output_type": "execute_result"
    }
   ],
   "source": [
    "arr3d[:0]"
   ]
  },
  {
   "cell_type": "code",
   "execution_count": 24,
   "metadata": {
    "collapsed": false
   },
   "outputs": [
    {
     "data": {
      "text/plain": [
       "array([[[42, 42, 42],\n",
       "        [42, 42, 42]],\n",
       "\n",
       "       [[ 7,  8,  9],\n",
       "        [10, 11, 12]]])"
      ]
     },
     "execution_count": 24,
     "metadata": {},
     "output_type": "execute_result"
    }
   ],
   "source": [
    "arr3d[:2,:2]"
   ]
  },
  {
   "cell_type": "code",
   "execution_count": 42,
   "metadata": {
    "collapsed": false
   },
   "outputs": [
    {
     "data": {
      "text/plain": [
       "array([[[42, 42, 42],\n",
       "        [42, 42, 42]]])"
      ]
     },
     "execution_count": 42,
     "metadata": {},
     "output_type": "execute_result"
    }
   ],
   "source": [
    "arr3d[:1,:2]"
   ]
  },
  {
   "cell_type": "code",
   "execution_count": 41,
   "metadata": {
    "collapsed": false
   },
   "outputs": [
    {
     "data": {
      "text/plain": [
       "array([[42],\n",
       "       [ 9]])"
      ]
     },
     "execution_count": 41,
     "metadata": {},
     "output_type": "execute_result"
    }
   ],
   "source": [
    "arr3d[:2,:1,2]"
   ]
  },
  {
   "cell_type": "code",
   "execution_count": 25,
   "metadata": {
    "collapsed": false
   },
   "outputs": [
    {
     "data": {
      "text/plain": [
       "array([[[42, 42, 42]],\n",
       "\n",
       "       [[ 7,  8,  9]]])"
      ]
     },
     "execution_count": 25,
     "metadata": {},
     "output_type": "execute_result"
    }
   ],
   "source": [
    "arr3d[:2,:1] #前两组的第一行往前所有"
   ]
  },
  {
   "cell_type": "code",
   "execution_count": 28,
   "metadata": {
    "collapsed": false
   },
   "outputs": [
    {
     "data": {
      "text/plain": [
       "array([[[42, 42, 42]],\n",
       "\n",
       "       [[10, 11, 12]]])"
      ]
     },
     "execution_count": 28,
     "metadata": {},
     "output_type": "execute_result"
    }
   ],
   "source": [
    "arr3d[:2,1:] #前两组的第一行往后所有"
   ]
  },
  {
   "cell_type": "markdown",
   "metadata": {},
   "source": [
    "#### :num or num: _and_ :,num or num,:\n",
    ":2表示前两个，2:表示除前两个外的其他  \n",
    "数字和冒号中间有\",\"则表示下标\n",
    "单个数字没有冒号表示下标"
   ]
  },
  {
   "cell_type": "code",
   "execution_count": 39,
   "metadata": {
    "collapsed": false
   },
   "outputs": [],
   "source": [
    "data = np.random.randn(7,4)"
   ]
  },
  {
   "cell_type": "code",
   "execution_count": 40,
   "metadata": {
    "collapsed": false
   },
   "outputs": [
    {
     "data": {
      "text/plain": [
       "array([[-0.11022957, -0.35668594,  1.20613237,  0.59796502],\n",
       "       [ 0.37208388,  0.77448372, -1.00398153, -0.07381263],\n",
       "       [-0.15587653,  0.33146522,  0.1226639 ,  1.04422838],\n",
       "       [ 0.0619456 ,  1.39954806, -0.95613942, -0.73029551],\n",
       "       [ 0.07956698, -2.09197537, -0.4524603 , -0.79924026],\n",
       "       [ 0.17924449, -0.2076199 , -0.49744343,  1.10577747],\n",
       "       [ 0.18074596, -0.22261657,  3.61743348,  0.75728852]])"
      ]
     },
     "execution_count": 40,
     "metadata": {},
     "output_type": "execute_result"
    }
   ],
   "source": [
    "data"
   ]
  },
  {
   "cell_type": "code",
   "execution_count": 43,
   "metadata": {
    "collapsed": false
   },
   "outputs": [
    {
     "data": {
      "text/plain": [
       "array([[-0.11022957, -0.35668594,  1.20613237,  0.59796502],\n",
       "       [ 0.37208388,  0.77448372, -1.00398153, -0.07381263],\n",
       "       [-0.15587653,  0.33146522,  0.1226639 ,  1.04422838],\n",
       "       [ 0.0619456 ,  1.39954806, -0.95613942, -0.73029551],\n",
       "       [ 0.07956698, -2.09197537, -0.4524603 , -0.79924026],\n",
       "       [ 0.17924449, -0.2076199 , -0.49744343,  1.10577747],\n",
       "       [ 0.18074596, -0.22261657,  3.61743348,  0.75728852]])"
      ]
     },
     "execution_count": 43,
     "metadata": {},
     "output_type": "execute_result"
    }
   ],
   "source": [
    "data"
   ]
  },
  {
   "cell_type": "code",
   "execution_count": 44,
   "metadata": {
    "collapsed": true
   },
   "outputs": [],
   "source": [
    "data[data<0] = 0"
   ]
  },
  {
   "cell_type": "code",
   "execution_count": 45,
   "metadata": {
    "collapsed": false
   },
   "outputs": [
    {
     "data": {
      "text/plain": [
       "array([[ 0.        ,  0.        ,  1.20613237,  0.59796502],\n",
       "       [ 0.37208388,  0.77448372,  0.        ,  0.        ],\n",
       "       [ 0.        ,  0.33146522,  0.1226639 ,  1.04422838],\n",
       "       [ 0.0619456 ,  1.39954806,  0.        ,  0.        ],\n",
       "       [ 0.07956698,  0.        ,  0.        ,  0.        ],\n",
       "       [ 0.17924449,  0.        ,  0.        ,  1.10577747],\n",
       "       [ 0.18074596,  0.        ,  3.61743348,  0.75728852]])"
      ]
     },
     "execution_count": 45,
     "metadata": {},
     "output_type": "execute_result"
    }
   ],
   "source": [
    "data"
   ]
  },
  {
   "cell_type": "code",
   "execution_count": 47,
   "metadata": {
    "collapsed": false
   },
   "outputs": [],
   "source": [
    "arr = np.empty((8,4))"
   ]
  },
  {
   "cell_type": "code",
   "execution_count": 49,
   "metadata": {
    "collapsed": false
   },
   "outputs": [],
   "source": [
    "arr0 = np.zeros((8,4))"
   ]
  },
  {
   "cell_type": "code",
   "execution_count": 51,
   "metadata": {
    "collapsed": false
   },
   "outputs": [
    {
     "data": {
      "text/plain": [
       "array([[ 0.,  0.,  0.,  0.],\n",
       "       [ 0.,  0.,  0.,  0.],\n",
       "       [ 0.,  0.,  0.,  0.],\n",
       "       [ 0.,  0.,  0.,  0.],\n",
       "       [ 0.,  0.,  0.,  0.],\n",
       "       [ 0.,  0.,  0.,  0.],\n",
       "       [ 0.,  0.,  0.,  0.],\n",
       "       [ 0.,  0.,  0.,  0.]])"
      ]
     },
     "execution_count": 51,
     "metadata": {},
     "output_type": "execute_result"
    }
   ],
   "source": [
    "arr0"
   ]
  },
  {
   "cell_type": "code",
   "execution_count": 52,
   "metadata": {
    "collapsed": true
   },
   "outputs": [],
   "source": [
    "for i in range(8):\n",
    "    arr[i] = i"
   ]
  },
  {
   "cell_type": "code",
   "execution_count": 53,
   "metadata": {
    "collapsed": false
   },
   "outputs": [
    {
     "data": {
      "text/plain": [
       "array([[ 0.,  0.,  0.,  0.],\n",
       "       [ 1.,  1.,  1.,  1.],\n",
       "       [ 2.,  2.,  2.,  2.],\n",
       "       [ 3.,  3.,  3.,  3.],\n",
       "       [ 4.,  4.,  4.,  4.],\n",
       "       [ 5.,  5.,  5.,  5.],\n",
       "       [ 6.,  6.,  6.,  6.],\n",
       "       [ 7.,  7.,  7.,  7.]])"
      ]
     },
     "execution_count": 53,
     "metadata": {},
     "output_type": "execute_result"
    }
   ],
   "source": [
    "arr"
   ]
  },
  {
   "cell_type": "code",
   "execution_count": 54,
   "metadata": {
    "collapsed": false
   },
   "outputs": [
    {
     "data": {
      "text/plain": [
       "array([[ 4.,  4.,  4.,  4.],\n",
       "       [ 3.,  3.,  3.,  3.],\n",
       "       [ 0.,  0.,  0.,  0.],\n",
       "       [ 6.,  6.,  6.,  6.]])"
      ]
     },
     "execution_count": 54,
     "metadata": {},
     "output_type": "execute_result"
    }
   ],
   "source": [
    "arr[[4,3,0,6]] #4306是下标"
   ]
  },
  {
   "cell_type": "code",
   "execution_count": 55,
   "metadata": {
    "collapsed": false
   },
   "outputs": [
    {
     "data": {
      "text/plain": [
       "array([[ 0.,  0.,  0.,  0.],\n",
       "       [ 1.,  1.,  1.,  1.],\n",
       "       [ 2.,  2.,  2.,  2.],\n",
       "       [ 3.,  3.,  3.,  3.],\n",
       "       [ 4.,  4.,  4.,  4.],\n",
       "       [ 5.,  5.,  5.,  5.],\n",
       "       [ 6.,  6.,  6.,  6.],\n",
       "       [ 7.,  7.,  7.,  7.]])"
      ]
     },
     "execution_count": 55,
     "metadata": {},
     "output_type": "execute_result"
    }
   ],
   "source": [
    "arr"
   ]
  },
  {
   "cell_type": "code",
   "execution_count": 56,
   "metadata": {
    "collapsed": false
   },
   "outputs": [
    {
     "data": {
      "text/plain": [
       "array([[ 4.,  4.,  4.,  4.],\n",
       "       [ 3.,  3.,  3.,  3.]])"
      ]
     },
     "execution_count": 56,
     "metadata": {},
     "output_type": "execute_result"
    }
   ],
   "source": [
    "arr[[4,3]]"
   ]
  },
  {
   "cell_type": "code",
   "execution_count": 57,
   "metadata": {
    "collapsed": false
   },
   "outputs": [
    {
     "data": {
      "text/plain": [
       "array([[ 5.,  5.,  5.,  5.],\n",
       "       [ 3.,  3.,  3.,  3.],\n",
       "       [ 1.,  1.,  1.,  1.]])"
      ]
     },
     "execution_count": 57,
     "metadata": {},
     "output_type": "execute_result"
    }
   ],
   "source": [
    "arr[[-3,-5,-7]]"
   ]
  },
  {
   "cell_type": "code",
   "execution_count": 15,
   "metadata": {
    "collapsed": false
   },
   "outputs": [],
   "source": [
    "arr = np.arange(32).reshape(8,4)"
   ]
  },
  {
   "cell_type": "code",
   "execution_count": 60,
   "metadata": {
    "collapsed": false
   },
   "outputs": [
    {
     "data": {
      "text/plain": [
       "array([[ 0,  1,  2,  3],\n",
       "       [ 4,  5,  6,  7],\n",
       "       [ 8,  9, 10, 11],\n",
       "       [12, 13, 14, 15],\n",
       "       [16, 17, 18, 19],\n",
       "       [20, 21, 22, 23],\n",
       "       [24, 25, 26, 27],\n",
       "       [28, 29, 30, 31]])"
      ]
     },
     "execution_count": 60,
     "metadata": {},
     "output_type": "execute_result"
    }
   ],
   "source": [
    "arr"
   ]
  },
  {
   "cell_type": "code",
   "execution_count": 16,
   "metadata": {
    "collapsed": false
   },
   "outputs": [
    {
     "data": {
      "text/plain": [
       "array([ 4, 23, 29, 10])"
      ]
     },
     "execution_count": 16,
     "metadata": {},
     "output_type": "execute_result"
    }
   ],
   "source": [
    "arr[[1,5,7,2],[0,3,1,2]]"
   ]
  },
  {
   "cell_type": "code",
   "execution_count": 17,
   "metadata": {
    "collapsed": false
   },
   "outputs": [
    {
     "data": {
      "text/plain": [
       "array([[ 4,  7,  5,  6],\n",
       "       [20, 23, 21, 22],\n",
       "       [28, 31, 29, 30],\n",
       "       [ 8, 11,  9, 10]])"
      ]
     },
     "execution_count": 17,
     "metadata": {},
     "output_type": "execute_result"
    }
   ],
   "source": [
    "arr[[1,5,7,2]][:,[0,3,1,2]]"
   ]
  },
  {
   "cell_type": "code",
   "execution_count": 21,
   "metadata": {
    "collapsed": false
   },
   "outputs": [
    {
     "data": {
      "text/plain": [
       "array([[ 4,  5,  6,  7],\n",
       "       [20, 21, 22, 23],\n",
       "       [28, 29, 30, 31],\n",
       "       [ 8,  9, 10, 11]])"
      ]
     },
     "execution_count": 21,
     "metadata": {},
     "output_type": "execute_result"
    }
   ],
   "source": [
    "arr[[1,5,7,2]][[0,1,2,3]]"
   ]
  },
  {
   "cell_type": "code",
   "execution_count": 22,
   "metadata": {
    "collapsed": false
   },
   "outputs": [
    {
     "data": {
      "text/plain": [
       "array([[ 4,  5,  6,  7],\n",
       "       [ 8,  9, 10, 11],\n",
       "       [20, 21, 22, 23],\n",
       "       [28, 29, 30, 31]])"
      ]
     },
     "execution_count": 22,
     "metadata": {},
     "output_type": "execute_result"
    }
   ],
   "source": [
    "arr[[1,5,7,2]][[0,3,1,2]]"
   ]
  },
  {
   "cell_type": "code",
   "execution_count": 20,
   "metadata": {
    "collapsed": false
   },
   "outputs": [
    {
     "data": {
      "text/plain": [
       "array([[ 4,  5,  6,  7],\n",
       "       [20, 21, 22, 23],\n",
       "       [28, 29, 30, 31],\n",
       "       [ 8,  9, 10, 11]])"
      ]
     },
     "execution_count": 20,
     "metadata": {},
     "output_type": "execute_result"
    }
   ],
   "source": [
    "arr[[1,5,7,2]]"
   ]
  },
  {
   "cell_type": "code",
   "execution_count": 14,
   "metadata": {
    "collapsed": true
   },
   "outputs": [],
   "source": [
    "import numpy as np"
   ]
  },
  {
   "cell_type": "code",
   "execution_count": 23,
   "metadata": {
    "collapsed": false
   },
   "outputs": [
    {
     "data": {
      "text/plain": [
       "array([[ 4,  5,  6,  7],\n",
       "       [20, 21, 22, 23],\n",
       "       [28, 29, 30, 31],\n",
       "       [ 8,  9, 10, 11]])"
      ]
     },
     "execution_count": 23,
     "metadata": {},
     "output_type": "execute_result"
    }
   ],
   "source": [
    "arr[[1,5,7,2]][:]"
   ]
  },
  {
   "cell_type": "code",
   "execution_count": 26,
   "metadata": {
    "collapsed": false
   },
   "outputs": [
    {
     "data": {
      "text/plain": [
       "array([[ 4,  5,  6,  7],\n",
       "       [20, 21, 22, 23],\n",
       "       [28, 29, 30, 31],\n",
       "       [ 8,  9, 10, 11]])"
      ]
     },
     "execution_count": 26,
     "metadata": {},
     "output_type": "execute_result"
    }
   ],
   "source": [
    "arr[[1,5,7,2]][:,]"
   ]
  },
  {
   "cell_type": "code",
   "execution_count": 27,
   "metadata": {
    "collapsed": false
   },
   "outputs": [
    {
     "data": {
      "text/plain": [
       "array([[ 4,  7,  5,  6],\n",
       "       [20, 23, 21, 22],\n",
       "       [28, 31, 29, 30],\n",
       "       [ 8, 11,  9, 10]])"
      ]
     },
     "execution_count": 27,
     "metadata": {},
     "output_type": "execute_result"
    }
   ],
   "source": [
    "arr[np.ix_([1,5,7,2],[0,3,1,2])]"
   ]
  },
  {
   "cell_type": "code",
   "execution_count": 29,
   "metadata": {
    "collapsed": false
   },
   "outputs": [
    {
     "data": {
      "text/plain": [
       "array([[ 4,  5,  6,  7],\n",
       "       [20, 21, 22, 23],\n",
       "       [28, 29, 30, 31],\n",
       "       [ 8,  9, 10, 11]])"
      ]
     },
     "execution_count": 29,
     "metadata": {},
     "output_type": "execute_result"
    }
   ],
   "source": [
    "arr[np.ix_([1,5,7,2],)]"
   ]
  },
  {
   "cell_type": "code",
   "execution_count": 30,
   "metadata": {
    "collapsed": false
   },
   "outputs": [
    {
     "data": {
      "text/plain": [
       "array([[ 4,  5,  6,  7],\n",
       "       [20, 21, 22, 23],\n",
       "       [28, 29, 30, 31],\n",
       "       [ 8,  9, 10, 11]])"
      ]
     },
     "execution_count": 30,
     "metadata": {},
     "output_type": "execute_result"
    }
   ],
   "source": [
    "arr[np.ix_([1,5,7,2],[0,1,2,3])]"
   ]
  },
  {
   "cell_type": "markdown",
   "metadata": {},
   "source": [
    "###  数组转置和轴对换"
   ]
  },
  {
   "cell_type": "code",
   "execution_count": 31,
   "metadata": {
    "collapsed": true
   },
   "outputs": [],
   "source": [
    "arr = np.arange(15).reshape(3,5)"
   ]
  },
  {
   "cell_type": "code",
   "execution_count": 32,
   "metadata": {
    "collapsed": false
   },
   "outputs": [
    {
     "data": {
      "text/plain": [
       "array([[ 0,  1,  2,  3,  4],\n",
       "       [ 5,  6,  7,  8,  9],\n",
       "       [10, 11, 12, 13, 14]])"
      ]
     },
     "execution_count": 32,
     "metadata": {},
     "output_type": "execute_result"
    }
   ],
   "source": [
    "arr"
   ]
  },
  {
   "cell_type": "code",
   "execution_count": 33,
   "metadata": {
    "collapsed": false
   },
   "outputs": [
    {
     "data": {
      "text/plain": [
       "array([[ 0,  5, 10],\n",
       "       [ 1,  6, 11],\n",
       "       [ 2,  7, 12],\n",
       "       [ 3,  8, 13],\n",
       "       [ 4,  9, 14]])"
      ]
     },
     "execution_count": 33,
     "metadata": {},
     "output_type": "execute_result"
    }
   ],
   "source": [
    "arr.T"
   ]
  },
  {
   "cell_type": "code",
   "execution_count": 35,
   "metadata": {
    "collapsed": true
   },
   "outputs": [],
   "source": [
    "arr = np.arange(16).reshape((2,2,4))"
   ]
  },
  {
   "cell_type": "code",
   "execution_count": 36,
   "metadata": {
    "collapsed": false
   },
   "outputs": [
    {
     "data": {
      "text/plain": [
       "array([[[ 0,  1,  2,  3],\n",
       "        [ 4,  5,  6,  7]],\n",
       "\n",
       "       [[ 8,  9, 10, 11],\n",
       "        [12, 13, 14, 15]]])"
      ]
     },
     "execution_count": 36,
     "metadata": {},
     "output_type": "execute_result"
    }
   ],
   "source": [
    "arr"
   ]
  },
  {
   "cell_type": "code",
   "execution_count": 37,
   "metadata": {
    "collapsed": false
   },
   "outputs": [
    {
     "data": {
      "text/plain": [
       "array([[[ 0,  1,  2,  3],\n",
       "        [ 8,  9, 10, 11]],\n",
       "\n",
       "       [[ 4,  5,  6,  7],\n",
       "        [12, 13, 14, 15]]])"
      ]
     },
     "execution_count": 37,
     "metadata": {},
     "output_type": "execute_result"
    }
   ],
   "source": [
    "arr.transpose((1,0,2))"
   ]
  },
  {
   "cell_type": "code",
   "execution_count": 38,
   "metadata": {
    "collapsed": false
   },
   "outputs": [
    {
     "data": {
      "text/plain": [
       "array([[[ 0,  8],\n",
       "        [ 4, 12]],\n",
       "\n",
       "       [[ 1,  9],\n",
       "        [ 5, 13]],\n",
       "\n",
       "       [[ 2, 10],\n",
       "        [ 6, 14]],\n",
       "\n",
       "       [[ 3, 11],\n",
       "        [ 7, 15]]])"
      ]
     },
     "execution_count": 38,
     "metadata": {},
     "output_type": "execute_result"
    }
   ],
   "source": [
    "arr.T"
   ]
  },
  {
   "cell_type": "code",
   "execution_count": 40,
   "metadata": {
    "collapsed": false
   },
   "outputs": [
    {
     "data": {
      "text/plain": [
       "array([[[ 0,  1,  2,  3],\n",
       "        [ 4,  5,  6,  7]],\n",
       "\n",
       "       [[ 8,  9, 10, 11],\n",
       "        [12, 13, 14, 15]]])"
      ]
     },
     "execution_count": 40,
     "metadata": {},
     "output_type": "execute_result"
    }
   ],
   "source": [
    "arr.transpose((0,1,2))"
   ]
  },
  {
   "cell_type": "code",
   "execution_count": 47,
   "metadata": {
    "collapsed": false
   },
   "outputs": [
    {
     "data": {
      "text/plain": [
       "array([[[ 0,  4],\n",
       "        [ 1,  5],\n",
       "        [ 2,  6],\n",
       "        [ 3,  7]],\n",
       "\n",
       "       [[ 8, 12],\n",
       "        [ 9, 13],\n",
       "        [10, 14],\n",
       "        [11, 15]]])"
      ]
     },
     "execution_count": 47,
     "metadata": {},
     "output_type": "execute_result"
    }
   ],
   "source": [
    "arr.swapaxes(1,2)"
   ]
  },
  {
   "cell_type": "markdown",
   "metadata": {},
   "source": [
    "###  通用函数：快速的元素级数组函数"
   ]
  },
  {
   "cell_type": "code",
   "execution_count": 48,
   "metadata": {
    "collapsed": true
   },
   "outputs": [],
   "source": [
    "x = np.random.randn(8)"
   ]
  },
  {
   "cell_type": "code",
   "execution_count": 49,
   "metadata": {
    "collapsed": true
   },
   "outputs": [],
   "source": [
    "y = np.random.randn(8)"
   ]
  },
  {
   "cell_type": "code",
   "execution_count": 53,
   "metadata": {
    "collapsed": false,
    "scrolled": true
   },
   "outputs": [
    {
     "data": {
      "text/plain": [
       "array([ 2.23373548,  1.2183684 ,  0.64075313,  1.56526135,  0.59596641,\n",
       "        0.41710968,  1.30636949,  1.12420094])"
      ]
     },
     "execution_count": 53,
     "metadata": {},
     "output_type": "execute_result"
    }
   ],
   "source": [
    "np.maximum(x,y)"
   ]
  },
  {
   "cell_type": "code",
   "execution_count": 56,
   "metadata": {
    "collapsed": true
   },
   "outputs": [],
   "source": [
    "arr = np.random.randn(7)*5"
   ]
  },
  {
   "cell_type": "code",
   "execution_count": 57,
   "metadata": {
    "collapsed": false
   },
   "outputs": [
    {
     "data": {
      "text/plain": [
       "array([ 1.6770944 , -5.40464956,  1.42447238,  2.55607715,  1.56295023,\n",
       "        7.0441061 ,  2.21073486])"
      ]
     },
     "execution_count": 57,
     "metadata": {},
     "output_type": "execute_result"
    }
   ],
   "source": [
    "arr"
   ]
  },
  {
   "cell_type": "code",
   "execution_count": 58,
   "metadata": {
    "collapsed": false
   },
   "outputs": [
    {
     "data": {
      "text/plain": [
       "(array([ 0.6770944 , -0.40464956,  0.42447238,  0.55607715,  0.56295023,\n",
       "         0.0441061 ,  0.21073486]), array([ 1., -5.,  1.,  2.,  1.,  7.,  2.]))"
      ]
     },
     "execution_count": 58,
     "metadata": {},
     "output_type": "execute_result"
    }
   ],
   "source": [
    "np.modf(arr)"
   ]
  },
  {
   "cell_type": "markdown",
   "metadata": {},
   "source": [
    "####  一元ufunc\n",
    "\n",
    "abs、fabs：绝对值（非复数值，可用更快的fabs）  \n",
    "sqrt = arr\\*\\*0.5  \n",
    "square = arr\\*\\*2  \n",
    "exp = e的x次方  \n",
    "log,log10,log2,log1p: 底数分别是e,10,2, log1p = log(1+x)  \n",
    "sigh: 计算各元素的正负号  \n",
    "ceil：各元素ceiling值，大于等于该值的最小整数  \n",
    "floor：各元素floor值，小于等于该值的最大整数  \n",
    "rint: 四舍五入  \n",
    "modf: 小数和整数部分以独立数组返回  \n",
    "isnan: 返回一个表示“哪些值是NaN”的布尔型数组  \n",
    "isfinite, isinf: 返回表示“哪些元素是有穷的（非inf，非NaN）”或“哪些元素是无穷的”的布尔型数组  \n",
    "cos,cosh,sin,sinh,tan,tanh: 普通型和双曲型三角函数  \n",
    "arccos,arccosh,arcsin,arcsinh,arctan,arctanh: 反三角函数  \n",
    "logical_not: 计算各元素not x的真值，相当于-arr  \n",
    "\n",
    "#### 二元ufunc  \n",
    "add \n",
    "subtract: 从第一个数组中减去第二个数组中的元素  \n",
    "multiply: 数组元素相乘  \n",
    "divide,floor_divide: 除法或向下圆整除法（丢弃余数）  \n",
    "power: 对第一个数组中的元素A，根据第二个数组中的相应元素B，计算A^B  \n",
    "maximum,fmax: fmax将忽略NaN  \n",
    "minimum,fmin  \n",
    "mod  \n",
    "copysign: 将第二个数组中的值的符号复制给第一个数组中的值  \n",
    "greater,greater_equal,less,less_equal,equal,not_equal: 执行元素级的比较运算，最终产生布尔型数组  \n",
    "logical_and,logical_or,logical_xor: 真值逻辑运算  \n"
   ]
  },
  {
   "cell_type": "markdown",
   "metadata": {},
   "source": [
    "###  利用数组进行数据处理"
   ]
  },
  {
   "cell_type": "code",
   "execution_count": 60,
   "metadata": {
    "collapsed": false
   },
   "outputs": [],
   "source": [
    "points = np.arange(-5,5,0.01)"
   ]
  },
  {
   "cell_type": "code",
   "execution_count": 63,
   "metadata": {
    "collapsed": false
   },
   "outputs": [],
   "source": [
    "xs,ys = np.meshgrid(points,points)"
   ]
  },
  {
   "cell_type": "code",
   "execution_count": 64,
   "metadata": {
    "collapsed": false
   },
   "outputs": [
    {
     "data": {
      "text/plain": [
       "array([[-5.  , -4.99, -4.98, ...,  4.97,  4.98,  4.99],\n",
       "       [-5.  , -4.99, -4.98, ...,  4.97,  4.98,  4.99],\n",
       "       [-5.  , -4.99, -4.98, ...,  4.97,  4.98,  4.99],\n",
       "       ..., \n",
       "       [-5.  , -4.99, -4.98, ...,  4.97,  4.98,  4.99],\n",
       "       [-5.  , -4.99, -4.98, ...,  4.97,  4.98,  4.99],\n",
       "       [-5.  , -4.99, -4.98, ...,  4.97,  4.98,  4.99]])"
      ]
     },
     "execution_count": 64,
     "metadata": {},
     "output_type": "execute_result"
    }
   ],
   "source": [
    "xs"
   ]
  },
  {
   "cell_type": "code",
   "execution_count": 65,
   "metadata": {
    "collapsed": false
   },
   "outputs": [
    {
     "data": {
      "text/plain": [
       "array([[-5.  , -5.  , -5.  , ..., -5.  , -5.  , -5.  ],\n",
       "       [-4.99, -4.99, -4.99, ..., -4.99, -4.99, -4.99],\n",
       "       [-4.98, -4.98, -4.98, ..., -4.98, -4.98, -4.98],\n",
       "       ..., \n",
       "       [ 4.97,  4.97,  4.97, ...,  4.97,  4.97,  4.97],\n",
       "       [ 4.98,  4.98,  4.98, ...,  4.98,  4.98,  4.98],\n",
       "       [ 4.99,  4.99,  4.99, ...,  4.99,  4.99,  4.99]])"
      ]
     },
     "execution_count": 65,
     "metadata": {},
     "output_type": "execute_result"
    }
   ],
   "source": [
    "ys"
   ]
  },
  {
   "cell_type": "code",
   "execution_count": 66,
   "metadata": {
    "collapsed": true
   },
   "outputs": [],
   "source": [
    "import matplotlib.pyplot as plt"
   ]
  },
  {
   "cell_type": "code",
   "execution_count": 67,
   "metadata": {
    "collapsed": true
   },
   "outputs": [],
   "source": [
    "z = np.sqrt(xs**2 + ys**2)"
   ]
  },
  {
   "cell_type": "code",
   "execution_count": 68,
   "metadata": {
    "collapsed": false
   },
   "outputs": [
    {
     "data": {
      "text/plain": [
       "array([[ 7.07106781,  7.06400028,  7.05693985, ...,  7.04988652,\n",
       "         7.05693985,  7.06400028],\n",
       "       [ 7.06400028,  7.05692568,  7.04985815, ...,  7.04279774,\n",
       "         7.04985815,  7.05692568],\n",
       "       [ 7.05693985,  7.04985815,  7.04278354, ...,  7.03571603,\n",
       "         7.04278354,  7.04985815],\n",
       "       ..., \n",
       "       [ 7.04988652,  7.04279774,  7.03571603, ...,  7.0286414 ,\n",
       "         7.03571603,  7.04279774],\n",
       "       [ 7.05693985,  7.04985815,  7.04278354, ...,  7.03571603,\n",
       "         7.04278354,  7.04985815],\n",
       "       [ 7.06400028,  7.05692568,  7.04985815, ...,  7.04279774,\n",
       "         7.04985815,  7.05692568]])"
      ]
     },
     "execution_count": 68,
     "metadata": {},
     "output_type": "execute_result"
    }
   ],
   "source": [
    "z"
   ]
  },
  {
   "cell_type": "code",
   "execution_count": 69,
   "metadata": {
    "collapsed": false,
    "scrolled": true
   },
   "outputs": [
    {
     "data": {
      "text/plain": [
       "<matplotlib.colorbar.Colorbar at 0x7fdf0c3b1550>"
      ]
     },
     "execution_count": 69,
     "metadata": {},
     "output_type": "execute_result"
    }
   ],
   "source": [
    "plt.imshow(z,cmap=plt.cm.gray);plt.colorbar()"
   ]
  },
  {
   "cell_type": "code",
   "execution_count": 73,
   "metadata": {
    "collapsed": false
   },
   "outputs": [
    {
     "ename": "NameError",
     "evalue": "name 'imshow' is not defined",
     "output_type": "error",
     "traceback": [
      "\u001b[1;31m---------------------------------------------------------------------------\u001b[0m",
      "\u001b[1;31mNameError\u001b[0m                                 Traceback (most recent call last)",
      "\u001b[1;32m<ipython-input-73-23641e9b4a9d>\u001b[0m in \u001b[0;36m<module>\u001b[1;34m()\u001b[0m\n\u001b[1;32m----> 1\u001b[1;33m \u001b[0mimshow\u001b[0m\u001b[1;33m\u001b[0m\u001b[0m\n\u001b[0m",
      "\u001b[1;31mNameError\u001b[0m: name 'imshow' is not defined"
     ]
    }
   ],
   "source": [
    "imshow"
   ]
  },
  {
   "cell_type": "code",
   "execution_count": 70,
   "metadata": {
    "collapsed": false
   },
   "outputs": [
    {
     "data": {
      "text/plain": [
       "<matplotlib.text.Text at 0x7fdf0c4e3750>"
      ]
     },
     "execution_count": 70,
     "metadata": {},
     "output_type": "execute_result"
    }
   ],
   "source": [
    "plt.title(\"Image plot of $\\sqrt{x^2+y^2}$ for a grid of values\")"
   ]
  },
  {
   "cell_type": "markdown",
   "metadata": {},
   "source": [
    "### 将条件逻辑表述为数组运算 "
   ]
  },
  {
   "cell_type": "code",
   "execution_count": 75,
   "metadata": {
    "collapsed": true
   },
   "outputs": [],
   "source": [
    "xarr = np.array([1.1,1.2,1.3,1.4,1.5])"
   ]
  },
  {
   "cell_type": "code",
   "execution_count": 76,
   "metadata": {
    "collapsed": true
   },
   "outputs": [],
   "source": [
    "yarr = np.array([2.1,2.2,2.3,2.4,2.5])"
   ]
  },
  {
   "cell_type": "code",
   "execution_count": 77,
   "metadata": {
    "collapsed": true
   },
   "outputs": [],
   "source": [
    "cond = np.array([True,False,True,True,False])"
   ]
  },
  {
   "cell_type": "code",
   "execution_count": 80,
   "metadata": {
    "collapsed": false
   },
   "outputs": [],
   "source": [
    "result = [(x if c else y) for x,y,c in zip(xarr,yarr,cond)]"
   ]
  },
  {
   "cell_type": "code",
   "execution_count": 81,
   "metadata": {
    "collapsed": false
   },
   "outputs": [
    {
     "data": {
      "text/plain": [
       "[1.1000000000000001, 2.2000000000000002, 1.3, 1.3999999999999999, 2.5]"
      ]
     },
     "execution_count": 81,
     "metadata": {},
     "output_type": "execute_result"
    }
   ],
   "source": [
    "result"
   ]
  },
  {
   "cell_type": "code",
   "execution_count": 84,
   "metadata": {
    "collapsed": true
   },
   "outputs": [],
   "source": [
    "result = np.where(cond,xarr,yarr) #np.where"
   ]
  },
  {
   "cell_type": "code",
   "execution_count": 83,
   "metadata": {
    "collapsed": false
   },
   "outputs": [
    {
     "data": {
      "text/plain": [
       "array([ 1.1,  2.2,  1.3,  1.4,  2.5])"
      ]
     },
     "execution_count": 83,
     "metadata": {},
     "output_type": "execute_result"
    }
   ],
   "source": [
    "result"
   ]
  },
  {
   "cell_type": "code",
   "execution_count": 85,
   "metadata": {
    "collapsed": true
   },
   "outputs": [],
   "source": [
    "arr = np.random.randn(4,4)"
   ]
  },
  {
   "cell_type": "code",
   "execution_count": 86,
   "metadata": {
    "collapsed": false
   },
   "outputs": [
    {
     "data": {
      "text/plain": [
       "array([[-0.28999413, -1.60132938, -1.52594295, -0.21904924],\n",
       "       [-1.00457635, -0.95890166, -1.53214129,  1.53230189],\n",
       "       [-0.77856636,  0.30191254, -0.32707832, -0.5739746 ],\n",
       "       [ 1.34574201,  0.60678144,  1.55872383,  0.04954975]])"
      ]
     },
     "execution_count": 86,
     "metadata": {},
     "output_type": "execute_result"
    }
   ],
   "source": [
    "arr"
   ]
  },
  {
   "cell_type": "code",
   "execution_count": 87,
   "metadata": {
    "collapsed": false
   },
   "outputs": [
    {
     "data": {
      "text/plain": [
       "array([[-2, -2, -2, -2],\n",
       "       [-2, -2, -2,  2],\n",
       "       [-2,  2, -2, -2],\n",
       "       [ 2,  2,  2,  2]])"
      ]
     },
     "execution_count": 87,
     "metadata": {},
     "output_type": "execute_result"
    }
   ],
   "source": [
    "np.where(arr>0,2,-2)"
   ]
  },
  {
   "cell_type": "code",
   "execution_count": 88,
   "metadata": {
    "collapsed": false,
    "scrolled": true
   },
   "outputs": [
    {
     "data": {
      "text/plain": [
       "array([[-0.28999413, -1.60132938, -1.52594295, -0.21904924],\n",
       "       [-1.00457635, -0.95890166, -1.53214129,  2.        ],\n",
       "       [-0.77856636,  2.        , -0.32707832, -0.5739746 ],\n",
       "       [ 2.        ,  2.        ,  2.        ,  2.        ]])"
      ]
     },
     "execution_count": 88,
     "metadata": {},
     "output_type": "execute_result"
    }
   ],
   "source": [
    "np.where(arr>0,2,arr)"
   ]
  },
  {
   "cell_type": "code",
   "execution_count": null,
   "metadata": {
    "collapsed": true
   },
   "outputs": [],
   "source": [
    "result = []\n",
    "for i in range(n):\n",
    "    if cond1[i] and cond2[i]:\n",
    "        result.append(0)\n",
    "    elif cond1[i]:\n",
    "        result.append(1)\n",
    "    elif cond2[i]:\n",
    "        result.append(2)\n",
    "    else:\n",
    "        result.append(3)\n",
    "        \n",
    "等价于：\n",
    "np.where(cond1 & cond2,0,\n",
    "         np.where(cond1,1,\n",
    "                  np.where(cond2,2,3)))\n",
    "\n",
    "等价于：\n",
    "1*(cond1-cond2)+2*(cond2 & -cond1) +3*-(cond1|cond2)"
   ]
  },
  {
   "cell_type": "markdown",
   "metadata": {},
   "source": [
    "###  数学和统计方法"
   ]
  },
  {
   "cell_type": "code",
   "execution_count": 91,
   "metadata": {
    "collapsed": true
   },
   "outputs": [],
   "source": [
    "arr = np.random.randn(5,4) #正态分布数据"
   ]
  },
  {
   "cell_type": "code",
   "execution_count": 92,
   "metadata": {
    "collapsed": false
   },
   "outputs": [
    {
     "data": {
      "text/plain": [
       "array([[-0.67499126,  0.94217102, -0.37275807,  0.23806297],\n",
       "       [-2.78104857,  0.00624673, -0.57398538,  0.43444001],\n",
       "       [-1.58073519,  0.94817516,  0.69951002,  0.23860568],\n",
       "       [ 0.56363618,  0.93819673, -1.15257611,  0.43026943],\n",
       "       [-0.96303152, -2.43017961,  0.34834858,  1.88952104]])"
      ]
     },
     "execution_count": 92,
     "metadata": {},
     "output_type": "execute_result"
    }
   ],
   "source": [
    "arr"
   ]
  },
  {
   "cell_type": "code",
   "execution_count": 104,
   "metadata": {
    "collapsed": false
   },
   "outputs": [
    {
     "data": {
      "text/plain": [
       "array([ 0.03312117, -0.7285868 ,  0.07638892,  0.19488156, -0.28883538])"
      ]
     },
     "execution_count": 104,
     "metadata": {},
     "output_type": "execute_result"
    }
   ],
   "source": [
    "arr.mean(axis=1) #行求均值"
   ]
  },
  {
   "cell_type": "code",
   "execution_count": 102,
   "metadata": {
    "collapsed": false
   },
   "outputs": [
    {
     "data": {
      "text/plain": [
       "array([-5.43617036,  0.40461003, -1.05146095,  3.23089913])"
      ]
     },
     "execution_count": 102,
     "metadata": {},
     "output_type": "execute_result"
    }
   ],
   "source": [
    "arr.sum(0) #列求和"
   ]
  },
  {
   "cell_type": "code",
   "execution_count": 106,
   "metadata": {
    "collapsed": false
   },
   "outputs": [
    {
     "data": {
      "text/plain": [
       "0.033121165864035809"
      ]
     },
     "execution_count": 106,
     "metadata": {},
     "output_type": "execute_result"
    }
   ],
   "source": [
    "arr[0,:].mean()"
   ]
  },
  {
   "cell_type": "code",
   "execution_count": 107,
   "metadata": {
    "collapsed": true
   },
   "outputs": [],
   "source": [
    "arr = np.array([[0,1,2],[3,4,5],[6,7,8]])"
   ]
  },
  {
   "cell_type": "code",
   "execution_count": 109,
   "metadata": {
    "collapsed": false
   },
   "outputs": [
    {
     "data": {
      "text/plain": [
       "array([[0, 1, 2],\n",
       "       [3, 4, 5],\n",
       "       [6, 7, 8]])"
      ]
     },
     "execution_count": 109,
     "metadata": {},
     "output_type": "execute_result"
    }
   ],
   "source": [
    "arr"
   ]
  },
  {
   "cell_type": "code",
   "execution_count": 108,
   "metadata": {
    "collapsed": false
   },
   "outputs": [
    {
     "data": {
      "text/plain": [
       "array([[ 0,  1,  2],\n",
       "       [ 3,  5,  7],\n",
       "       [ 9, 12, 15]])"
      ]
     },
     "execution_count": 108,
     "metadata": {},
     "output_type": "execute_result"
    }
   ],
   "source": [
    "arr.cumsum(0) #行相加"
   ]
  },
  {
   "cell_type": "code",
   "execution_count": 111,
   "metadata": {
    "collapsed": false
   },
   "outputs": [
    {
     "data": {
      "text/plain": [
       "array([[ 0,  1,  3],\n",
       "       [ 3,  7, 12],\n",
       "       [ 6, 13, 21]])"
      ]
     },
     "execution_count": 111,
     "metadata": {},
     "output_type": "execute_result"
    }
   ],
   "source": [
    "arr.cumsum(1) #列相加"
   ]
  },
  {
   "cell_type": "code",
   "execution_count": 110,
   "metadata": {
    "collapsed": false
   },
   "outputs": [
    {
     "data": {
      "text/plain": [
       "array([[  0,   0,   0],\n",
       "       [  3,  12,  60],\n",
       "       [  6,  42, 336]])"
      ]
     },
     "execution_count": 110,
     "metadata": {},
     "output_type": "execute_result"
    }
   ],
   "source": [
    "arr.cumprod(1) #列相乘"
   ]
  },
  {
   "cell_type": "code",
   "execution_count": 113,
   "metadata": {
    "collapsed": false
   },
   "outputs": [
    {
     "data": {
      "text/plain": [
       "array([[ 0,  1,  2],\n",
       "       [ 0,  4, 10],\n",
       "       [ 0, 28, 80]])"
      ]
     },
     "execution_count": 113,
     "metadata": {},
     "output_type": "execute_result"
    }
   ],
   "source": [
    "arr.cumprod(0) #行相乘"
   ]
  },
  {
   "cell_type": "markdown",
   "metadata": {},
   "source": [
    "####  基本数组统计方法\n",
    "\n",
    "sum, mean, std, var, min, max  \n",
    "argmin, argmax: 最大和最小元素索引  \n",
    "cumsum, cumprod: 所有元素累计和/积  "
   ]
  },
  {
   "cell_type": "markdown",
   "metadata": {},
   "source": [
    "###  用于布尔型数组的方法"
   ]
  },
  {
   "cell_type": "code",
   "execution_count": 115,
   "metadata": {
    "collapsed": false
   },
   "outputs": [],
   "source": [
    "arr = np.random.randn(100)"
   ]
  },
  {
   "cell_type": "code",
   "execution_count": 118,
   "metadata": {
    "collapsed": false
   },
   "outputs": [
    {
     "data": {
      "text/plain": [
       "50"
      ]
     },
     "execution_count": 118,
     "metadata": {},
     "output_type": "execute_result"
    }
   ],
   "source": [
    "(arr>0).sum() #正值的数量"
   ]
  },
  {
   "cell_type": "code",
   "execution_count": 119,
   "metadata": {
    "collapsed": true
   },
   "outputs": [],
   "source": [
    "bools = np.array([False,False,True,False])"
   ]
  },
  {
   "cell_type": "code",
   "execution_count": 121,
   "metadata": {
    "collapsed": false
   },
   "outputs": [
    {
     "data": {
      "text/plain": [
       "True"
      ]
     },
     "execution_count": 121,
     "metadata": {},
     "output_type": "execute_result"
    }
   ],
   "source": [
    "bools.any() #是否存在一个或多个True"
   ]
  },
  {
   "cell_type": "code",
   "execution_count": 123,
   "metadata": {
    "collapsed": false
   },
   "outputs": [
    {
     "data": {
      "text/plain": [
       "False"
      ]
     },
     "execution_count": 123,
     "metadata": {},
     "output_type": "execute_result"
    }
   ],
   "source": [
    "bools.all() #是否所有值都是Ture"
   ]
  },
  {
   "cell_type": "markdown",
   "metadata": {},
   "source": [
    "###  排序"
   ]
  },
  {
   "cell_type": "code",
   "execution_count": 148,
   "metadata": {
    "collapsed": true
   },
   "outputs": [],
   "source": [
    "arr = np.random.randn(8)"
   ]
  },
  {
   "cell_type": "code",
   "execution_count": 149,
   "metadata": {
    "collapsed": false
   },
   "outputs": [
    {
     "data": {
      "text/plain": [
       "array([ 1.22967959,  0.35578866,  1.03644215,  0.95978501,  0.6956158 ,\n",
       "       -1.09560462, -0.12329126,  1.32000036])"
      ]
     },
     "execution_count": 149,
     "metadata": {},
     "output_type": "execute_result"
    }
   ],
   "source": [
    "arr"
   ]
  },
  {
   "cell_type": "code",
   "execution_count": 152,
   "metadata": {
    "collapsed": true
   },
   "outputs": [],
   "source": [
    "arr.sort() #由小到大排序"
   ]
  },
  {
   "cell_type": "code",
   "execution_count": 151,
   "metadata": {
    "collapsed": false
   },
   "outputs": [
    {
     "data": {
      "text/plain": [
       "array([-1.09560462, -0.12329126,  0.35578866,  0.6956158 ,  0.95978501,\n",
       "        1.03644215,  1.22967959,  1.32000036])"
      ]
     },
     "execution_count": 151,
     "metadata": {},
     "output_type": "execute_result"
    }
   ],
   "source": [
    "arr"
   ]
  },
  {
   "cell_type": "code",
   "execution_count": 136,
   "metadata": {
    "collapsed": true
   },
   "outputs": [],
   "source": [
    "arr = np.random.randn(5,3)"
   ]
  },
  {
   "cell_type": "code",
   "execution_count": 137,
   "metadata": {
    "collapsed": false
   },
   "outputs": [
    {
     "data": {
      "text/plain": [
       "array([[-0.5321584 ,  0.0447706 , -0.87398489],\n",
       "       [ 0.95306114,  1.17437432,  0.83871586],\n",
       "       [-0.80310508,  0.09795925, -1.36613663],\n",
       "       [ 0.7071938 ,  0.32663556,  1.47879378],\n",
       "       [ 1.23026417,  0.91841992, -0.18000999]])"
      ]
     },
     "execution_count": 137,
     "metadata": {},
     "output_type": "execute_result"
    }
   ],
   "source": [
    "arr"
   ]
  },
  {
   "cell_type": "code",
   "execution_count": 138,
   "metadata": {
    "collapsed": true
   },
   "outputs": [],
   "source": [
    "arr.sort(1) #行从小到大"
   ]
  },
  {
   "cell_type": "code",
   "execution_count": 139,
   "metadata": {
    "collapsed": false
   },
   "outputs": [
    {
     "data": {
      "text/plain": [
       "array([[-0.87398489, -0.5321584 ,  0.0447706 ],\n",
       "       [ 0.83871586,  0.95306114,  1.17437432],\n",
       "       [-1.36613663, -0.80310508,  0.09795925],\n",
       "       [ 0.32663556,  0.7071938 ,  1.47879378],\n",
       "       [-0.18000999,  0.91841992,  1.23026417]])"
      ]
     },
     "execution_count": 139,
     "metadata": {},
     "output_type": "execute_result"
    }
   ],
   "source": [
    "arr"
   ]
  },
  {
   "cell_type": "code",
   "execution_count": 142,
   "metadata": {
    "collapsed": true
   },
   "outputs": [],
   "source": [
    "arr.sort(0) #列从小到大"
   ]
  },
  {
   "cell_type": "code",
   "execution_count": 141,
   "metadata": {
    "collapsed": false
   },
   "outputs": [
    {
     "data": {
      "text/plain": [
       "array([[-1.36613663, -0.80310508,  0.0447706 ],\n",
       "       [-0.87398489, -0.5321584 ,  0.09795925],\n",
       "       [-0.18000999,  0.7071938 ,  1.17437432],\n",
       "       [ 0.32663556,  0.91841992,  1.23026417],\n",
       "       [ 0.83871586,  0.95306114,  1.47879378]])"
      ]
     },
     "execution_count": 141,
     "metadata": {},
     "output_type": "execute_result"
    }
   ],
   "source": [
    "arr"
   ]
  },
  {
   "cell_type": "code",
   "execution_count": 143,
   "metadata": {
    "collapsed": true
   },
   "outputs": [],
   "source": [
    "large_arr = np.random.randn(1000)"
   ]
  },
  {
   "cell_type": "code",
   "execution_count": 144,
   "metadata": {
    "collapsed": true
   },
   "outputs": [],
   "source": [
    "large_arr.sort()"
   ]
  },
  {
   "cell_type": "code",
   "execution_count": 153,
   "metadata": {
    "collapsed": false
   },
   "outputs": [
    {
     "data": {
      "text/plain": [
       "-1.6770177443495742"
      ]
     },
     "execution_count": 153,
     "metadata": {},
     "output_type": "execute_result"
    }
   ],
   "source": [
    "large_arr[int(0.05*len(large_arr))] #5%分位数"
   ]
  },
  {
   "cell_type": "markdown",
   "metadata": {},
   "source": [
    "###  唯一化以及其他的集合逻辑"
   ]
  },
  {
   "cell_type": "code",
   "execution_count": 154,
   "metadata": {
    "collapsed": true
   },
   "outputs": [],
   "source": [
    "ints = np.array([3,3,3,2,2,1,1,4,4])"
   ]
  },
  {
   "cell_type": "code",
   "execution_count": 155,
   "metadata": {
    "collapsed": false
   },
   "outputs": [
    {
     "data": {
      "text/plain": [
       "array([1, 2, 3, 4])"
      ]
     },
     "execution_count": 155,
     "metadata": {},
     "output_type": "execute_result"
    }
   ],
   "source": [
    "np.unique(ints)"
   ]
  },
  {
   "cell_type": "code",
   "execution_count": 156,
   "metadata": {
    "collapsed": false
   },
   "outputs": [
    {
     "data": {
      "text/plain": [
       "[1, 2, 3, 4]"
      ]
     },
     "execution_count": 156,
     "metadata": {},
     "output_type": "execute_result"
    }
   ],
   "source": [
    "sorted(set(ints))"
   ]
  },
  {
   "cell_type": "code",
   "execution_count": 157,
   "metadata": {
    "collapsed": true
   },
   "outputs": [],
   "source": [
    "values = np.array([6,0,0,3,2,5,6])"
   ]
  },
  {
   "cell_type": "code",
   "execution_count": 159,
   "metadata": {
    "collapsed": false
   },
   "outputs": [
    {
     "data": {
      "text/plain": [
       "array([ True, False, False,  True,  True, False,  True], dtype=bool)"
      ]
     },
     "execution_count": 159,
     "metadata": {},
     "output_type": "execute_result"
    }
   ],
   "source": [
    "np.in1d(values,[2,3,6]) #测试一个数组中的值在另一个数组中的成员资格"
   ]
  },
  {
   "cell_type": "markdown",
   "metadata": {},
   "source": [
    "####  数组的集合运算\n",
    "\n",
    "unique(x): x中的唯一值，返回有序结果  \n",
    "intersect1d(x,y): 计算x和y中的公共元素，返回有序结果  \n",
    "union1d(x,y): 计算x和y的并集，返回有序结果  \n",
    "in1d(x,y): 得到一个x的元素是否包含于y的布尔型数组  \n",
    "setdiff1d(x,y): 集合的差，即元素在x中且不在y中  \n",
    "setxor1d(x,y): 集合的对称差，即存在于一个数组中但不同时存在于两个数组中的元素（异或）  "
   ]
  },
  {
   "cell_type": "markdown",
   "metadata": {},
   "source": [
    "###  存取文本文件"
   ]
  },
  {
   "cell_type": "markdown",
   "metadata": {},
   "source": [
    "read_csv  \n",
    "read_table  \n",
    "np.loadtxt  \n",
    "np.genfromtxt  \n",
    "np.savetxt"
   ]
  },
  {
   "cell_type": "code",
   "execution_count": 162,
   "metadata": {
    "collapsed": false
   },
   "outputs": [
    {
     "name": "stdout",
     "output_type": "stream",
     "text": [
      "cat: array_ex.txt: 没有那个文件或目录\r\n"
     ]
    }
   ],
   "source": [
    "!cat array_ex.txt"
   ]
  },
  {
   "cell_type": "code",
   "execution_count": 161,
   "metadata": {
    "collapsed": false
   },
   "outputs": [
    {
     "ename": "IOError",
     "evalue": "[Errno 2] 没有那个文件或目录: 'array_ex.txt'",
     "output_type": "error",
     "traceback": [
      "\u001b[1;31m---------------------------------------------------------------------------\u001b[0m",
      "\u001b[1;31mIOError\u001b[0m                                   Traceback (most recent call last)",
      "\u001b[1;32m<ipython-input-161-8646ee6da04c>\u001b[0m in \u001b[0;36m<module>\u001b[1;34m()\u001b[0m\n\u001b[1;32m----> 1\u001b[1;33m \u001b[0marr\u001b[0m \u001b[1;33m=\u001b[0m \u001b[0mnp\u001b[0m\u001b[1;33m.\u001b[0m\u001b[0mloadtxt\u001b[0m\u001b[1;33m(\u001b[0m\u001b[1;34m'array_ex.txt'\u001b[0m\u001b[1;33m,\u001b[0m\u001b[0mdelimiter\u001b[0m\u001b[1;33m=\u001b[0m\u001b[1;34m','\u001b[0m\u001b[1;33m)\u001b[0m\u001b[1;33m\u001b[0m\u001b[0m\n\u001b[0m",
      "\u001b[1;32m/home/evil_rabbit/anaconda2/lib/python2.7/site-packages/numpy/lib/npyio.pyc\u001b[0m in \u001b[0;36mloadtxt\u001b[1;34m(fname, dtype, comments, delimiter, converters, skiprows, usecols, unpack, ndmin)\u001b[0m\n\u001b[0;32m    799\u001b[0m                 \u001b[0mfh\u001b[0m \u001b[1;33m=\u001b[0m \u001b[0miter\u001b[0m\u001b[1;33m(\u001b[0m\u001b[0mbz2\u001b[0m\u001b[1;33m.\u001b[0m\u001b[0mBZ2File\u001b[0m\u001b[1;33m(\u001b[0m\u001b[0mfname\u001b[0m\u001b[1;33m)\u001b[0m\u001b[1;33m)\u001b[0m\u001b[1;33m\u001b[0m\u001b[0m\n\u001b[0;32m    800\u001b[0m             \u001b[1;32melif\u001b[0m \u001b[0msys\u001b[0m\u001b[1;33m.\u001b[0m\u001b[0mversion_info\u001b[0m\u001b[1;33m[\u001b[0m\u001b[1;36m0\u001b[0m\u001b[1;33m]\u001b[0m \u001b[1;33m==\u001b[0m \u001b[1;36m2\u001b[0m\u001b[1;33m:\u001b[0m\u001b[1;33m\u001b[0m\u001b[0m\n\u001b[1;32m--> 801\u001b[1;33m                 \u001b[0mfh\u001b[0m \u001b[1;33m=\u001b[0m \u001b[0miter\u001b[0m\u001b[1;33m(\u001b[0m\u001b[0mopen\u001b[0m\u001b[1;33m(\u001b[0m\u001b[0mfname\u001b[0m\u001b[1;33m,\u001b[0m \u001b[1;34m'U'\u001b[0m\u001b[1;33m)\u001b[0m\u001b[1;33m)\u001b[0m\u001b[1;33m\u001b[0m\u001b[0m\n\u001b[0m\u001b[0;32m    802\u001b[0m             \u001b[1;32melse\u001b[0m\u001b[1;33m:\u001b[0m\u001b[1;33m\u001b[0m\u001b[0m\n\u001b[0;32m    803\u001b[0m                 \u001b[0mfh\u001b[0m \u001b[1;33m=\u001b[0m \u001b[0miter\u001b[0m\u001b[1;33m(\u001b[0m\u001b[0mopen\u001b[0m\u001b[1;33m(\u001b[0m\u001b[0mfname\u001b[0m\u001b[1;33m)\u001b[0m\u001b[1;33m)\u001b[0m\u001b[1;33m\u001b[0m\u001b[0m\n",
      "\u001b[1;31mIOError\u001b[0m: [Errno 2] 没有那个文件或目录: 'array_ex.txt'"
     ]
    }
   ],
   "source": [
    "arr = np.loadtxt('array_ex.txt',delimiter=',')"
   ]
  },
  {
   "cell_type": "markdown",
   "metadata": {},
   "source": [
    "###  线性代数"
   ]
  },
  {
   "cell_type": "markdown",
   "metadata": {},
   "source": [
    "x.dot(y) = np.dot(x,y)  \n",
    "向量相乘没有行列区别"
   ]
  },
  {
   "cell_type": "code",
   "execution_count": 163,
   "metadata": {
    "collapsed": false
   },
   "outputs": [
    {
     "data": {
      "text/plain": [
       "array([ 1.,  1.,  1.])"
      ]
     },
     "execution_count": 163,
     "metadata": {},
     "output_type": "execute_result"
    }
   ],
   "source": [
    "np.ones(3)"
   ]
  },
  {
   "cell_type": "code",
   "execution_count": 164,
   "metadata": {
    "collapsed": false
   },
   "outputs": [
    {
     "ename": "NameError",
     "evalue": "name 'randn' is not defined",
     "output_type": "error",
     "traceback": [
      "\u001b[1;31m---------------------------------------------------------------------------\u001b[0m",
      "\u001b[1;31mNameError\u001b[0m                                 Traceback (most recent call last)",
      "\u001b[1;32m<ipython-input-164-3bf4c3d3272b>\u001b[0m in \u001b[0;36m<module>\u001b[1;34m()\u001b[0m\n\u001b[1;32m----> 1\u001b[1;33m \u001b[0mX\u001b[0m \u001b[1;33m=\u001b[0m \u001b[0mrandn\u001b[0m\u001b[1;33m(\u001b[0m\u001b[1;36m5\u001b[0m\u001b[1;33m,\u001b[0m\u001b[1;36m5\u001b[0m\u001b[1;33m)\u001b[0m\u001b[1;33m\u001b[0m\u001b[0m\n\u001b[0m",
      "\u001b[1;31mNameError\u001b[0m: name 'randn' is not defined"
     ]
    }
   ],
   "source": [
    "X = randn(5,5)"
   ]
  },
  {
   "cell_type": "code",
   "execution_count": 165,
   "metadata": {
    "collapsed": true
   },
   "outputs": [],
   "source": [
    "X =  np.random.randn(5,5)"
   ]
  },
  {
   "cell_type": "code",
   "execution_count": 166,
   "metadata": {
    "collapsed": false
   },
   "outputs": [
    {
     "data": {
      "text/plain": [
       "array([[-1.22653517, -0.00415538,  1.33353717, -0.44862339,  0.90635063],\n",
       "       [-0.68909983,  1.7590942 ,  1.9373445 ,  0.30892885,  0.68251552],\n",
       "       [-0.72286544, -0.6882316 , -1.23108227,  0.32124918, -0.64119543],\n",
       "       [-0.72754733,  0.66954738, -1.27768745,  0.03441432, -1.42797387],\n",
       "       [-0.37055311,  0.33237495,  0.45766774,  0.77771608,  0.1739879 ]])"
      ]
     },
     "execution_count": 166,
     "metadata": {},
     "output_type": "execute_result"
    }
   ],
   "source": [
    "X"
   ]
  },
  {
   "cell_type": "code",
   "execution_count": 167,
   "metadata": {
    "collapsed": true
   },
   "outputs": [],
   "source": [
    "mat = X.T.dot(X)"
   ]
  },
  {
   "cell_type": "code",
   "execution_count": 168,
   "metadata": {
    "collapsed": false
   },
   "outputs": [
    {
     "data": {
      "text/plain": [
       "array([[ 3.16841629, -1.31988595, -1.32075929, -0.20807355, -0.14404741],\n",
       "       [-1.31988595,  4.12685923,  3.54634486,  0.60574068,  0.73986687],\n",
       "       [-1.32075929,  3.54634486,  8.88913363, -0.08327371,  5.22441721],\n",
       "       [-0.20807355,  0.60574068, -0.08327371,  1.00592767, -0.31557443],\n",
       "       [-0.14404741,  0.73986687,  5.22441721, -0.31557443,  3.76781164]])"
      ]
     },
     "execution_count": 168,
     "metadata": {},
     "output_type": "execute_result"
    }
   ],
   "source": [
    "mat"
   ]
  },
  {
   "cell_type": "code",
   "execution_count": 169,
   "metadata": {
    "collapsed": false
   },
   "outputs": [
    {
     "ename": "NameError",
     "evalue": "name 'inv' is not defined",
     "output_type": "error",
     "traceback": [
      "\u001b[1;31m---------------------------------------------------------------------------\u001b[0m",
      "\u001b[1;31mNameError\u001b[0m                                 Traceback (most recent call last)",
      "\u001b[1;32m<ipython-input-169-ae6e33aab47e>\u001b[0m in \u001b[0;36m<module>\u001b[1;34m()\u001b[0m\n\u001b[1;32m----> 1\u001b[1;33m \u001b[0minv\u001b[0m\u001b[1;33m(\u001b[0m\u001b[0mmat\u001b[0m\u001b[1;33m)\u001b[0m\u001b[1;33m\u001b[0m\u001b[0m\n\u001b[0m",
      "\u001b[1;31mNameError\u001b[0m: name 'inv' is not defined"
     ]
    }
   ],
   "source": [
    "inv(mat)"
   ]
  },
  {
   "cell_type": "code",
   "execution_count": 170,
   "metadata": {
    "collapsed": true
   },
   "outputs": [],
   "source": [
    "from numpy.linalg import inv,qr"
   ]
  },
  {
   "cell_type": "code",
   "execution_count": 171,
   "metadata": {
    "collapsed": false
   },
   "outputs": [
    {
     "data": {
      "text/plain": [
       "array([[   1.53316718,   -6.32801053,   10.55991307,    0.83860007,\n",
       "         -13.27083768],\n",
       "       [  -6.32801053,   35.87399264,  -58.24221657,   -4.80985176,\n",
       "          73.06900826],\n",
       "       [  10.55991307,  -58.24221657,   95.41330985,    7.56368111,\n",
       "        -119.82536858],\n",
       "       [   0.83860007,   -4.80985176,    7.56368111,    1.75230859,\n",
       "          -9.36442614],\n",
       "       [ -13.27083768,   73.06900826, -119.82536858,   -9.36442614,\n",
       "         150.77440957]])"
      ]
     },
     "execution_count": 171,
     "metadata": {},
     "output_type": "execute_result"
    }
   ],
   "source": [
    "inv(mat)"
   ]
  },
  {
   "cell_type": "code",
   "execution_count": 172,
   "metadata": {
    "collapsed": false
   },
   "outputs": [
    {
     "data": {
      "text/plain": [
       "(5, 5)"
      ]
     },
     "execution_count": 172,
     "metadata": {},
     "output_type": "execute_result"
    }
   ],
   "source": [
    "inv(mat).shape"
   ]
  },
  {
   "cell_type": "code",
   "execution_count": 173,
   "metadata": {
    "collapsed": false
   },
   "outputs": [
    {
     "data": {
      "text/plain": [
       "array([[  1.00000000e+00,   7.48030155e-15,   9.28618691e-15,\n",
       "          6.46271081e-16,  -5.40596717e-15],\n",
       "       [ -7.13451320e-17,   1.00000000e+00,  -2.55704499e-16,\n",
       "         -2.55668028e-15,  -3.70363297e-14],\n",
       "       [ -7.61179526e-15,  -8.90516866e-14,   1.00000000e+00,\n",
       "          2.06660222e-15,   4.84361536e-14],\n",
       "       [  2.63836984e-15,  -5.22176293e-15,   1.39477500e-14,\n",
       "          1.00000000e+00,  -2.48214809e-14],\n",
       "       [  4.63849503e-15,  -8.63544957e-14,  -3.44423368e-14,\n",
       "          3.97908574e-15,   1.00000000e+00]])"
      ]
     },
     "execution_count": 173,
     "metadata": {},
     "output_type": "execute_result"
    }
   ],
   "source": [
    "mat.dot(inv(mat))"
   ]
  },
  {
   "cell_type": "code",
   "execution_count": 174,
   "metadata": {
    "collapsed": true
   },
   "outputs": [],
   "source": [
    "q,r=qr(mat)"
   ]
  },
  {
   "cell_type": "code",
   "execution_count": 175,
   "metadata": {
    "collapsed": false
   },
   "outputs": [
    {
     "data": {
      "text/plain": [
       "array([[ -3.68638170e+00,   3.94571568e+00,   5.78918036e+00,\n",
       "          4.10331073e-01,   2.38993710e+00],\n",
       "       [  0.00000000e+00,  -4.08598585e+00,  -7.06681894e+00,\n",
       "         -3.02478054e-01,  -3.65580025e+00],\n",
       "       [  0.00000000e+00,   0.00000000e+00,  -6.09791720e+00,\n",
       "          7.48247089e-01,  -4.80407660e+00],\n",
       "       [  0.00000000e+00,   0.00000000e+00,   0.00000000e+00,\n",
       "         -8.41956241e-01,  -5.31913175e-02],\n",
       "       [  0.00000000e+00,   0.00000000e+00,   0.00000000e+00,\n",
       "          0.00000000e+00,   4.83968324e-03]])"
      ]
     },
     "execution_count": 175,
     "metadata": {},
     "output_type": "execute_result"
    }
   ],
   "source": [
    "r"
   ]
  },
  {
   "cell_type": "markdown",
   "metadata": {},
   "source": [
    "####  常用的numpy.linalg函数"
   ]
  },
  {
   "cell_type": "markdown",
   "metadata": {},
   "source": [
    "diag: 一维数组形式返回方阵的对角线（或非对角线）元素，或将一维数组转换维方阵（非对角线元素为0）  \n",
    "dot : 矩阵乘法  \n",
    "trace: 计算对角线元素之和  \n",
    "det: 算矩阵行列式  \n",
    "eig: 方阵的本征值和本征向量  \n",
    "inv: 方阵的逆  \n",
    "pinv: 矩阵的Moore-Penrose伪逆  \n",
    "qr: 计算QR分解  \n",
    "svd: 计算奇异值分解（SVD)  \n",
    "solve：解线性方程组Ax=b，其中A为一个方阵  \n",
    "lstsq: 计算Ax=b的最小二乘解  "
   ]
  },
  {
   "cell_type": "markdown",
   "metadata": {},
   "source": [
    "###  随机数生成"
   ]
  },
  {
   "cell_type": "markdown",
   "metadata": {},
   "source": [
    "####  npmpy.random函数  \n",
    "\n",
    "seed: 确定随机数生成器的种子  \n",
    "permutation: 返回一个序列的随机排列或返回一个随机排列的范围  \n",
    "shuffle: 对一个序列就地随机排列  \n",
    "rand: 产生均匀分布的样本值  \n",
    "randint: 从给定的上下限范围内随机选取整数  \n",
    "randn: 产生正态分布（均值0，标准差1）的样本值  \n",
    "binomial: 产生二项式分布的样本值  \n",
    "normal: 产生正态（高斯）分布的样本值  \n",
    "beta: 产生Beta分布的样本值  \n",
    "chisquare: 产生卡方分布的样本值  \n",
    "gamma: 产生Gamma分布的样本值  \n",
    "uniform: 产生在[0,1]中均匀分布的样本值"
   ]
  },
  {
   "cell_type": "code",
   "execution_count": 176,
   "metadata": {
    "collapsed": false
   },
   "outputs": [
    {
     "data": {
      "text/plain": [
       "array([ 0.82418857,  0.09313825,  0.04483077,  0.00338519,  0.82442869])"
      ]
     },
     "execution_count": 176,
     "metadata": {},
     "output_type": "execute_result"
    }
   ],
   "source": [
    "np.random.rand(5)"
   ]
  },
  {
   "cell_type": "markdown",
   "metadata": {},
   "source": [
    "### 范例：随机漫步"
   ]
  },
  {
   "cell_type": "code",
   "execution_count": 258,
   "metadata": {
    "collapsed": false
   },
   "outputs": [],
   "source": [
    "import random\n",
    "position = 0\n",
    "walk =[position]\n",
    "steps = 1000\n",
    "for i in xrange(steps):\n",
    "    step = 1 if random.randint(0,1) else -1\n",
    "    position += step\n",
    "    walk.append(position)"
   ]
  },
  {
   "cell_type": "code",
   "execution_count": 178,
   "metadata": {
    "collapsed": false
   },
   "outputs": [
    {
     "data": {
      "text/plain": [
       "1000"
      ]
     },
     "execution_count": 178,
     "metadata": {},
     "output_type": "execute_result"
    }
   ],
   "source": [
    "steps"
   ]
  },
  {
   "cell_type": "code",
   "execution_count": 179,
   "metadata": {
    "collapsed": false
   },
   "outputs": [
    {
     "data": {
      "text/plain": [
       "26"
      ]
     },
     "execution_count": 179,
     "metadata": {},
     "output_type": "execute_result"
    }
   ],
   "source": [
    "position"
   ]
  },
  {
   "cell_type": "code",
   "execution_count": 201,
   "metadata": {
    "collapsed": false
   },
   "outputs": [
    {
     "data": {
      "text/plain": [
       "1"
      ]
     },
     "execution_count": 201,
     "metadata": {},
     "output_type": "execute_result"
    }
   ],
   "source": [
    "random.randint(0,1)"
   ]
  },
  {
   "cell_type": "code",
   "execution_count": 203,
   "metadata": {
    "collapsed": true
   },
   "outputs": [],
   "source": [
    "import matplotlib.pyplot as plt"
   ]
  },
  {
   "cell_type": "code",
   "execution_count": 222,
   "metadata": {
    "collapsed": false
   },
   "outputs": [
    {
     "data": {
      "text/plain": [
       "[<matplotlib.lines.Line2D at 0x7fdef8840950>]"
      ]
     },
     "execution_count": 222,
     "metadata": {},
     "output_type": "execute_result"
    },
    {
     "data": {
      "image/png": "[encoded data removed]",
      "text/plain": [
       "<matplotlib.figure.Figure at 0x7fdef8a15bd0>"
      ]
     },
     "metadata": {},
     "output_type": "display_data"
    }
   ],
   "source": [
    "%matplotlib inline\n",
    "plt.plot(walk)"
   ]
  },
  {
   "cell_type": "code",
   "execution_count": 207,
   "metadata": {
    "collapsed": false
   },
   "outputs": [],
   "source": [
    "plt.imshow?"
   ]
  },
  {
   "cell_type": "code",
   "execution_count": 208,
   "metadata": {
    "collapsed": true
   },
   "outputs": [],
   "source": [
    "plt?"
   ]
  },
  {
   "cell_type": "code",
   "execution_count": 211,
   "metadata": {
    "collapsed": false
   },
   "outputs": [
    {
     "data": {
      "text/plain": [
       "[<matplotlib.lines.Line2D at 0x7fdf45ccb0d0>]"
      ]
     },
     "execution_count": 211,
     "metadata": {},
     "output_type": "execute_result"
    },
    {
     "data": {
      "image/png": "[encoded data removed]",
      "text/plain": [
       "<matplotlib.figure.Figure at 0x7fdf0c3395d0>"
      ]
     },
     "metadata": {},
     "output_type": "display_data"
    }
   ],
   "source": [
    "%matplotlib inline\n",
    "x = np.arange(0, 5, 0.1);\n",
    "y = np.sin(x)\n",
    "plt.plot(x, y)"
   ]
  },
  {
   "cell_type": "code",
   "execution_count": 223,
   "metadata": {
    "collapsed": true
   },
   "outputs": [],
   "source": [
    "nsteps =1000"
   ]
  },
  {
   "cell_type": "code",
   "execution_count": 224,
   "metadata": {
    "collapsed": true
   },
   "outputs": [],
   "source": [
    "draws = np.random.randint(0,2,size=nsteps)"
   ]
  },
  {
   "cell_type": "code",
   "execution_count": 226,
   "metadata": {
    "collapsed": true
   },
   "outputs": [],
   "source": [
    "steps = np.where(draws>0,1,-1)"
   ]
  },
  {
   "cell_type": "code",
   "execution_count": 227,
   "metadata": {
    "collapsed": true
   },
   "outputs": [],
   "source": [
    "walk = steps.cumsum()"
   ]
  },
  {
   "cell_type": "code",
   "execution_count": 228,
   "metadata": {
    "collapsed": false
   },
   "outputs": [
    {
     "data": {
      "text/plain": [
       "[<matplotlib.lines.Line2D at 0x7fdef878bc10>]"
      ]
     },
     "execution_count": 228,
     "metadata": {},
     "output_type": "execute_result"
    },
    {
     "data": {
      "image/png": "[encoded data removed]",
      "text/plain": [
       "<matplotlib.figure.Figure at 0x7fdef87f3bd0>"
      ]
     },
     "metadata": {},
     "output_type": "display_data"
    }
   ],
   "source": [
    "%matplotlib inline\n",
    "plt.plot(walk)"
   ]
  },
  {
   "cell_type": "code",
   "execution_count": 229,
   "metadata": {
    "collapsed": false
   },
   "outputs": [
    {
     "data": {
      "text/plain": [
       "-28"
      ]
     },
     "execution_count": 229,
     "metadata": {},
     "output_type": "execute_result"
    }
   ],
   "source": [
    "walk.min()"
   ]
  },
  {
   "cell_type": "code",
   "execution_count": 230,
   "metadata": {
    "collapsed": false
   },
   "outputs": [
    {
     "data": {
      "text/plain": [
       "34"
      ]
     },
     "execution_count": 230,
     "metadata": {},
     "output_type": "execute_result"
    }
   ],
   "source": [
    "walk.max()"
   ]
  },
  {
   "cell_type": "code",
   "execution_count": 237,
   "metadata": {
    "collapsed": false
   },
   "outputs": [],
   "source": [
    "np.abs(walk) >= 10;"
   ]
  },
  {
   "cell_type": "code",
   "execution_count": 234,
   "metadata": {
    "collapsed": false
   },
   "outputs": [],
   "source": [
    "walk;"
   ]
  },
  {
   "cell_type": "code",
   "execution_count": 236,
   "metadata": {
    "collapsed": false
   },
   "outputs": [],
   "source": [
    "steps;"
   ]
  },
  {
   "cell_type": "code",
   "execution_count": 238,
   "metadata": {
    "collapsed": false
   },
   "outputs": [
    {
     "data": {
      "text/plain": [
       "19"
      ]
     },
     "execution_count": 238,
     "metadata": {},
     "output_type": "execute_result"
    }
   ],
   "source": [
    "(np.abs(walk) >= 10).argmax()"
   ]
  },
  {
   "cell_type": "markdown",
   "metadata": {},
   "source": [
    "####  一次模拟多个随机漫步"
   ]
  },
  {
   "cell_type": "code",
   "execution_count": 239,
   "metadata": {
    "collapsed": true
   },
   "outputs": [],
   "source": [
    "nwalks = 5000"
   ]
  },
  {
   "cell_type": "code",
   "execution_count": 240,
   "metadata": {
    "collapsed": true
   },
   "outputs": [],
   "source": [
    "nsteps = 1000"
   ]
  },
  {
   "cell_type": "code",
   "execution_count": 241,
   "metadata": {
    "collapsed": true
   },
   "outputs": [],
   "source": [
    "draws = np.random.randint(0,2,size=(nwalks,nsteps))"
   ]
  },
  {
   "cell_type": "code",
   "execution_count": 242,
   "metadata": {
    "collapsed": true
   },
   "outputs": [],
   "source": [
    "steps = np.where(draws > 0,1,-1)"
   ]
  },
  {
   "cell_type": "code",
   "execution_count": 243,
   "metadata": {
    "collapsed": true
   },
   "outputs": [],
   "source": [
    "walks = steps.cumsum(1)"
   ]
  },
  {
   "cell_type": "code",
   "execution_count": 244,
   "metadata": {
    "collapsed": false
   },
   "outputs": [
    {
     "data": {
      "text/plain": [
       "array([[  1,   2,   3, ..., -14, -13, -12],\n",
       "       [ -1,   0,  -1, ..., -12, -11, -10],\n",
       "       [ -1,   0,  -1, ...,  -4,  -3,  -4],\n",
       "       ..., \n",
       "       [  1,   2,   3, ...,   2,   1,   0],\n",
       "       [ -1,  -2,  -3, ..., -16, -17, -18],\n",
       "       [ -1,  -2,  -3, ...,   0,   1,   2]])"
      ]
     },
     "execution_count": 244,
     "metadata": {},
     "output_type": "execute_result"
    }
   ],
   "source": [
    "walks"
   ]
  },
  {
   "cell_type": "code",
   "execution_count": 245,
   "metadata": {
    "collapsed": false
   },
   "outputs": [
    {
     "data": {
      "text/plain": [
       "117"
      ]
     },
     "execution_count": 245,
     "metadata": {},
     "output_type": "execute_result"
    }
   ],
   "source": [
    "walks.max()"
   ]
  },
  {
   "cell_type": "code",
   "execution_count": 246,
   "metadata": {
    "collapsed": false
   },
   "outputs": [
    {
     "data": {
      "text/plain": [
       "-128"
      ]
     },
     "execution_count": 246,
     "metadata": {},
     "output_type": "execute_result"
    }
   ],
   "source": [
    "walks.min()"
   ]
  },
  {
   "cell_type": "code",
   "execution_count": 247,
   "metadata": {
    "collapsed": true
   },
   "outputs": [],
   "source": [
    "hits30 = (np.abs(walks) >= 30).any(1)"
   ]
  },
  {
   "cell_type": "code",
   "execution_count": 248,
   "metadata": {
    "collapsed": false
   },
   "outputs": [
    {
     "data": {
      "text/plain": [
       "array([False, False, False, ...,  True, False, False], dtype=bool)"
      ]
     },
     "execution_count": 248,
     "metadata": {},
     "output_type": "execute_result"
    }
   ],
   "source": [
    "hits30"
   ]
  },
  {
   "cell_type": "code",
   "execution_count": 249,
   "metadata": {
    "collapsed": false
   },
   "outputs": [
    {
     "data": {
      "text/plain": [
       "3385"
      ]
     },
     "execution_count": 249,
     "metadata": {},
     "output_type": "execute_result"
    }
   ],
   "source": [
    "hits30.sum()"
   ]
  },
  {
   "cell_type": "code",
   "execution_count": 250,
   "metadata": {
    "collapsed": true
   },
   "outputs": [],
   "source": [
    "crossing_times = (np.abs(walks[hits30])>=30).argmax(1)"
   ]
  },
  {
   "cell_type": "code",
   "execution_count": 253,
   "metadata": {
    "collapsed": false
   },
   "outputs": [
    {
     "data": {
      "text/plain": [
       "504.41506646971936"
      ]
     },
     "execution_count": 253,
     "metadata": {},
     "output_type": "execute_result"
    }
   ],
   "source": [
    "crossing_times.mean()"
   ]
  },
  {
   "cell_type": "code",
   "execution_count": 254,
   "metadata": {
    "collapsed": false
   },
   "outputs": [
    {
     "data": {
      "text/plain": [
       "51"
      ]
     },
     "execution_count": 254,
     "metadata": {},
     "output_type": "execute_result"
    }
   ],
   "source": [
    "crossing_times.min()"
   ]
  },
  {
   "cell_type": "code",
   "execution_count": 255,
   "metadata": {
    "collapsed": false
   },
   "outputs": [
    {
     "data": {
      "text/plain": [
       "999"
      ]
     },
     "execution_count": 255,
     "metadata": {},
     "output_type": "execute_result"
    }
   ],
   "source": [
    "crossing_times.max()"
   ]
  },
  {
   "cell_type": "code",
   "execution_count": 257,
   "metadata": {
    "collapsed": false,
    "scrolled": true
   },
   "outputs": [
    {
     "name": "stdout",
     "output_type": "stream",
     "text": [
      "ERROR! Session/line number was not unique in database. History logging moved to new session 36\n"
     ]
    },
    {
     "data": {
      "text/plain": [
       "[<matplotlib.lines.Line2D at 0x7fdeea8f4550>,\n",
       " <matplotlib.lines.Line2D at 0x7fdeea8f4750>,\n",
       " <matplotlib.lines.Line2D at 0x7fdeea8f4890>,\n",
       " <matplotlib.lines.Line2D at 0x7fdeea8f49d0>,\n",
       " <matplotlib.lines.Line2D at 0x7fdeea8f4b10>,\n",
       " <matplotlib.lines.Line2D at 0x7fdeea8f4c50>,\n",
       " <matplotlib.lines.Line2D at 0x7fdeea8f4d90>,\n",
       " <matplotlib.lines.Line2D at 0x7fdeea8f4ed0>,\n",
       " <matplotlib.lines.Line2D at 0x7fdeea901050>,\n",
       " <matplotlib.lines.Line2D at 0x7fdeea901190>,\n",
       " <matplotlib.lines.Line2D at 0x7fdeea9012d0>,\n",
       " <matplotlib.lines.Line2D at 0x7fdeea901410>,\n",
       " <matplotlib.lines.Line2D at 0x7fdeea901550>,\n",
       " <matplotlib.lines.Line2D at 0x7fdeea901690>,\n",
       " <matplotlib.lines.Line2D at 0x7fdeea916550>,\n",
       " <matplotlib.lines.Line2D at 0x7fdeea901910>,\n",
       " <matplotlib.lines.Line2D at 0x7fdeea901a50>,\n",
       " <matplotlib.lines.Line2D at 0x7fdeea901b90>,\n",
       " <matplotlib.lines.Line2D at 0x7fdeea901cd0>,\n",
       " <matplotlib.lines.Line2D at 0x7fdeea901e10>,\n",
       " <matplotlib.lines.Line2D at 0x7fdeea901f50>,\n",
       " <matplotlib.lines.Line2D at 0x7fdeea9017d0>,\n",
       " <matplotlib.lines.Line2D at 0x7fdeea90a210>,\n",
       " <matplotlib.lines.Line2D at 0x7fdeea90a350>,\n",
       " <matplotlib.lines.Line2D at 0x7fdeea90a490>,\n",
       " <matplotlib.lines.Line2D at 0x7fdeea90a5d0>,\n",
       " <matplotlib.lines.Line2D at 0x7fdeea90a710>,\n",
       " <matplotlib.lines.Line2D at 0x7fdeea90a850>,\n",
       " <matplotlib.lines.Line2D at 0x7fdeea90a0d0>,\n",
       " <matplotlib.lines.Line2D at 0x7fdeea90aad0>,\n",
       " <matplotlib.lines.Line2D at 0x7fdeea90ac10>,\n",
       " <matplotlib.lines.Line2D at 0x7fdeea90ad50>,\n",
       " <matplotlib.lines.Line2D at 0x7fdeea90ae90>,\n",
       " <matplotlib.lines.Line2D at 0x7fdeea90afd0>,\n",
       " <matplotlib.lines.Line2D at 0x7fdeea895150>,\n",
       " <matplotlib.lines.Line2D at 0x7fdeea90a990>,\n",
       " <matplotlib.lines.Line2D at 0x7fdeea8953d0>,\n",
       " <matplotlib.lines.Line2D at 0x7fdeea895510>,\n",
       " <matplotlib.lines.Line2D at 0x7fdeea895650>,\n",
       " <matplotlib.lines.Line2D at 0x7fdeea895790>,\n",
       " <matplotlib.lines.Line2D at 0x7fdeea8958d0>,\n",
       " <matplotlib.lines.Line2D at 0x7fdeea895a10>,\n",
       " <matplotlib.lines.Line2D at 0x7fdeea895290>,\n",
       " <matplotlib.lines.Line2D at 0x7fdeea895c90>,\n",
       " <matplotlib.lines.Line2D at 0x7fdeea895dd0>,\n",
       " <matplotlib.lines.Line2D at 0x7fdeea895f10>,\n",
       " <matplotlib.lines.Line2D at 0x7fdeea89e090>,\n",
       " <matplotlib.lines.Line2D at 0x7fdeea89e1d0>,\n",
       " <matplotlib.lines.Line2D at 0x7fdeea89e310>,\n",
       " <matplotlib.lines.Line2D at 0x7fdeea895b50>,\n",
       " <matplotlib.lines.Line2D at 0x7fdeea89e590>,\n",
       " <matplotlib.lines.Line2D at 0x7fdeea89e6d0>,\n",
       " <matplotlib.lines.Line2D at 0x7fdeea89e810>,\n",
       " <matplotlib.lines.Line2D at 0x7fdeea89e950>,\n",
       " <matplotlib.lines.Line2D at 0x7fdeea89ea90>,\n",
       " <matplotlib.lines.Line2D at 0x7fdeea89ebd0>,\n",
       " <matplotlib.lines.Line2D at 0x7fdeea89e450>,\n",
       " <matplotlib.lines.Line2D at 0x7fdeea89ee50>,\n",
       " <matplotlib.lines.Line2D at 0x7fdeea89ef90>,\n",
       " <matplotlib.lines.Line2D at 0x7fdeea8aa110>,\n",
       " <matplotlib.lines.Line2D at 0x7fdeea8aa250>,\n",
       " <matplotlib.lines.Line2D at 0x7fdeea8aa390>,\n",
       " <matplotlib.lines.Line2D at 0x7fdeea8aa4d0>,\n",
       " <matplotlib.lines.Line2D at 0x7fdeea89ed10>,\n",
       " <matplotlib.lines.Line2D at 0x7fdeea8aa750>,\n",
       " <matplotlib.lines.Line2D at 0x7fdeea8aa890>,\n",
       " <matplotlib.lines.Line2D at 0x7fdeea8aa9d0>,\n",
       " <matplotlib.lines.Line2D at 0x7fdeea8aab10>,\n",
       " <matplotlib.lines.Line2D at 0x7fdeea8aac50>,\n",
       " <matplotlib.lines.Line2D at 0x7fdeea8aad90>,\n",
       " <matplotlib.lines.Line2D at 0x7fdeea8aa610>,\n",
       " <matplotlib.lines.Line2D at 0x7fdeea8b3050>,\n",
       " <matplotlib.lines.Line2D at 0x7fdeea8b3190>,\n",
       " <matplotlib.lines.Line2D at 0x7fdeea8b32d0>,\n",
       " <matplotlib.lines.Line2D at 0x7fdeea8b3410>,\n",
       " <matplotlib.lines.Line2D at 0x7fdeea8b3550>,\n",
       " <matplotlib.lines.Line2D at 0x7fdeea8b3690>,\n",
       " <matplotlib.lines.Line2D at 0x7fdeea8aaed0>,\n",
       " <matplotlib.lines.Line2D at 0x7fdeea8b3910>,\n",
       " <matplotlib.lines.Line2D at 0x7fdeea8b3a50>,\n",
       " <matplotlib.lines.Line2D at 0x7fdeea8b3b90>,\n",
       " <matplotlib.lines.Line2D at 0x7fdeea8b3cd0>,\n",
       " <matplotlib.lines.Line2D at 0x7fdeea8b3e10>,\n",
       " <matplotlib.lines.Line2D at 0x7fdeea8b3f50>,\n",
       " <matplotlib.lines.Line2D at 0x7fdeea8b37d0>,\n",
       " <matplotlib.lines.Line2D at 0x7fdeea8bd210>,\n",
       " <matplotlib.lines.Line2D at 0x7fdeea8bd350>,\n",
       " <matplotlib.lines.Line2D at 0x7fdeea8bd490>,\n",
       " <matplotlib.lines.Line2D at 0x7fdeea8bd5d0>,\n",
       " <matplotlib.lines.Line2D at 0x7fdeea8bd710>,\n",
       " <matplotlib.lines.Line2D at 0x7fdeea8bd850>,\n",
       " <matplotlib.lines.Line2D at 0x7fdeea8bd0d0>,\n",
       " <matplotlib.lines.Line2D at 0x7fdeea8bdad0>,\n",
       " <matplotlib.lines.Line2D at 0x7fdeea8bdc10>,\n",
       " <matplotlib.lines.Line2D at 0x7fdeea8bdd50>,\n",
       " <matplotlib.lines.Line2D at 0x7fdeea8bde90>,\n",
       " <matplotlib.lines.Line2D at 0x7fdeea8bdfd0>,\n",
       " <matplotlib.lines.Line2D at 0x7fdeea8c8150>,\n",
       " <matplotlib.lines.Line2D at 0x7fdeea8bd990>,\n",
       " <matplotlib.lines.Line2D at 0x7fdeea8c83d0>,\n",
       " <matplotlib.lines.Line2D at 0x7fdeea8c8510>,\n",
       " <matplotlib.lines.Line2D at 0x7fdeea8c8650>,\n",
       " <matplotlib.lines.Line2D at 0x7fdeea8c8790>,\n",
       " <matplotlib.lines.Line2D at 0x7fdeea8c88d0>,\n",
       " <matplotlib.lines.Line2D at 0x7fdeea8c8a10>,\n",
       " <matplotlib.lines.Line2D at 0x7fdeea8c8290>,\n",
       " <matplotlib.lines.Line2D at 0x7fdeea8c8c90>,\n",
       " <matplotlib.lines.Line2D at 0x7fdeea8c8dd0>,\n",
       " <matplotlib.lines.Line2D at 0x7fdeea8c8f10>,\n",
       " <matplotlib.lines.Line2D at 0x7fdeea851090>,\n",
       " <matplotlib.lines.Line2D at 0x7fdeea8511d0>,\n",
       " <matplotlib.lines.Line2D at 0x7fdeea851310>,\n",
       " <matplotlib.lines.Line2D at 0x7fdeea8c8b50>,\n",
       " <matplotlib.lines.Line2D at 0x7fdeea851590>,\n",
       " <matplotlib.lines.Line2D at 0x7fdeea8516d0>,\n",
       " <matplotlib.lines.Line2D at 0x7fdeea851810>,\n",
       " <matplotlib.lines.Line2D at 0x7fdeea851950>,\n",
       " <matplotlib.lines.Line2D at 0x7fdeea851a90>,\n",
       " <matplotlib.lines.Line2D at 0x7fdeea851bd0>,\n",
       " <matplotlib.lines.Line2D at 0x7fdeea851450>,\n",
       " <matplotlib.lines.Line2D at 0x7fdeea851e50>,\n",
       " <matplotlib.lines.Line2D at 0x7fdeea851f90>,\n",
       " <matplotlib.lines.Line2D at 0x7fdeea85b110>,\n",
       " <matplotlib.lines.Line2D at 0x7fdeea85b250>,\n",
       " <matplotlib.lines.Line2D at 0x7fdeea85b390>,\n",
       " <matplotlib.lines.Line2D at 0x7fdeea85b4d0>,\n",
       " <matplotlib.lines.Line2D at 0x7fdeea851d10>,\n",
       " <matplotlib.lines.Line2D at 0x7fdeea85b750>,\n",
       " <matplotlib.lines.Line2D at 0x7fdeea85b890>,\n",
       " <matplotlib.lines.Line2D at 0x7fdeea85b9d0>,\n",
       " <matplotlib.lines.Line2D at 0x7fdeea85bb10>,\n",
       " <matplotlib.lines.Line2D at 0x7fdeea85bc50>,\n",
       " <matplotlib.lines.Line2D at 0x7fdeea85bd90>,\n",
       " <matplotlib.lines.Line2D at 0x7fdeea85b610>,\n",
       " <matplotlib.lines.Line2D at 0x7fdeea866050>,\n",
       " <matplotlib.lines.Line2D at 0x7fdeea866190>,\n",
       " <matplotlib.lines.Line2D at 0x7fdeea8662d0>,\n",
       " <matplotlib.lines.Line2D at 0x7fdeea866410>,\n",
       " <matplotlib.lines.Line2D at 0x7fdeea866550>,\n",
       " <matplotlib.lines.Line2D at 0x7fdeea866690>,\n",
       " <matplotlib.lines.Line2D at 0x7fdeea85bed0>,\n",
       " <matplotlib.lines.Line2D at 0x7fdeea866910>,\n",
       " <matplotlib.lines.Line2D at 0x7fdeea866a50>,\n",
       " <matplotlib.lines.Line2D at 0x7fdeea866b90>,\n",
       " <matplotlib.lines.Line2D at 0x7fdeea866cd0>,\n",
       " <matplotlib.lines.Line2D at 0x7fdeea866e10>,\n",
       " <matplotlib.lines.Line2D at 0x7fdeea866f50>,\n",
       " <matplotlib.lines.Line2D at 0x7fdeea8667d0>,\n",
       " <matplotlib.lines.Line2D at 0x7fdeea870210>,\n",
       " <matplotlib.lines.Line2D at 0x7fdeea870350>,\n",
       " <matplotlib.lines.Line2D at 0x7fdeea870490>,\n",
       " <matplotlib.lines.Line2D at 0x7fdeea8705d0>,\n",
       " <matplotlib.lines.Line2D at 0x7fdeea870710>,\n",
       " <matplotlib.lines.Line2D at 0x7fdeea870850>,\n",
       " <matplotlib.lines.Line2D at 0x7fdeea8700d0>,\n",
       " <matplotlib.lines.Line2D at 0x7fdeea870ad0>,\n",
       " <matplotlib.lines.Line2D at 0x7fdeea870c10>,\n",
       " <matplotlib.lines.Line2D at 0x7fdeea870d50>,\n",
       " <matplotlib.lines.Line2D at 0x7fdeea870e90>,\n",
       " <matplotlib.lines.Line2D at 0x7fdeea870fd0>,\n",
       " <matplotlib.lines.Line2D at 0x7fdeea87a150>,\n",
       " <matplotlib.lines.Line2D at 0x7fdeea870990>,\n",
       " <matplotlib.lines.Line2D at 0x7fdeea87a3d0>,\n",
       " <matplotlib.lines.Line2D at 0x7fdeea87a510>,\n",
       " <matplotlib.lines.Line2D at 0x7fdeea87a650>,\n",
       " <matplotlib.lines.Line2D at 0x7fdeea87a790>,\n",
       " <matplotlib.lines.Line2D at 0x7fdeea87a8d0>,\n",
       " <matplotlib.lines.Line2D at 0x7fdeea87aa10>,\n",
       " <matplotlib.lines.Line2D at 0x7fdeea87a290>,\n",
       " <matplotlib.lines.Line2D at 0x7fdeea87ac90>,\n",
       " <matplotlib.lines.Line2D at 0x7fdeea87add0>,\n",
       " <matplotlib.lines.Line2D at 0x7fdeea87af10>,\n",
       " <matplotlib.lines.Line2D at 0x7fdeea885090>,\n",
       " <matplotlib.lines.Line2D at 0x7fdeea8851d0>,\n",
       " <matplotlib.lines.Line2D at 0x7fdeea885310>,\n",
       " <matplotlib.lines.Line2D at 0x7fdeea87ab50>,\n",
       " <matplotlib.lines.Line2D at 0x7fdeea885590>,\n",
       " <matplotlib.lines.Line2D at 0x7fdeea8856d0>,\n",
       " <matplotlib.lines.Line2D at 0x7fdeea885810>,\n",
       " <matplotlib.lines.Line2D at 0x7fdeea885950>,\n",
       " <matplotlib.lines.Line2D at 0x7fdeea885a90>,\n",
       " <matplotlib.lines.Line2D at 0x7fdeea885bd0>,\n",
       " <matplotlib.lines.Line2D at 0x7fdeea885450>,\n",
       " <matplotlib.lines.Line2D at 0x7fdeea885e50>,\n",
       " <matplotlib.lines.Line2D at 0x7fdeea885f90>,\n",
       " <matplotlib.lines.Line2D at 0x7fdeea80e110>,\n",
       " <matplotlib.lines.Line2D at 0x7fdeea80e250>,\n",
       " <matplotlib.lines.Line2D at 0x7fdeea80e390>,\n",
       " <matplotlib.lines.Line2D at 0x7fdeea80e4d0>,\n",
       " <matplotlib.lines.Line2D at 0x7fdeea885d10>,\n",
       " <matplotlib.lines.Line2D at 0x7fdeea80e750>,\n",
       " <matplotlib.lines.Line2D at 0x7fdeea80e890>,\n",
       " <matplotlib.lines.Line2D at 0x7fdeea80e9d0>,\n",
       " <matplotlib.lines.Line2D at 0x7fdeea80eb10>,\n",
       " <matplotlib.lines.Line2D at 0x7fdeea80ec50>,\n",
       " <matplotlib.lines.Line2D at 0x7fdeea80ed90>,\n",
       " <matplotlib.lines.Line2D at 0x7fdeea80e610>,\n",
       " <matplotlib.lines.Line2D at 0x7fdeea819050>,\n",
       " <matplotlib.lines.Line2D at 0x7fdeea819190>,\n",
       " <matplotlib.lines.Line2D at 0x7fdeea8192d0>,\n",
       " <matplotlib.lines.Line2D at 0x7fdeea819410>,\n",
       " <matplotlib.lines.Line2D at 0x7fdeea819550>,\n",
       " <matplotlib.lines.Line2D at 0x7fdeea819690>,\n",
       " <matplotlib.lines.Line2D at 0x7fdeea80eed0>,\n",
       " <matplotlib.lines.Line2D at 0x7fdeea819910>,\n",
       " <matplotlib.lines.Line2D at 0x7fdeea819a50>,\n",
       " <matplotlib.lines.Line2D at 0x7fdeea819b90>,\n",
       " <matplotlib.lines.Line2D at 0x7fdeea819cd0>,\n",
       " <matplotlib.lines.Line2D at 0x7fdeea819e10>,\n",
       " <matplotlib.lines.Line2D at 0x7fdeea819f50>,\n",
       " <matplotlib.lines.Line2D at 0x7fdeea8197d0>,\n",
       " <matplotlib.lines.Line2D at 0x7fdeea822210>,\n",
       " <matplotlib.lines.Line2D at 0x7fdeea822350>,\n",
       " <matplotlib.lines.Line2D at 0x7fdeea822490>,\n",
       " <matplotlib.lines.Line2D at 0x7fdeea8225d0>,\n",
       " <matplotlib.lines.Line2D at 0x7fdeea822710>,\n",
       " <matplotlib.lines.Line2D at 0x7fdeea822850>,\n",
       " <matplotlib.lines.Line2D at 0x7fdeea8220d0>,\n",
       " <matplotlib.lines.Line2D at 0x7fdeea822ad0>,\n",
       " <matplotlib.lines.Line2D at 0x7fdeea822c10>,\n",
       " <matplotlib.lines.Line2D at 0x7fdeea822d50>,\n",
       " <matplotlib.lines.Line2D at 0x7fdeea822e90>,\n",
       " <matplotlib.lines.Line2D at 0x7fdeea822fd0>,\n",
       " <matplotlib.lines.Line2D at 0x7fdeea82e150>,\n",
       " <matplotlib.lines.Line2D at 0x7fdeea822990>,\n",
       " <matplotlib.lines.Line2D at 0x7fdeea82e3d0>,\n",
       " <matplotlib.lines.Line2D at 0x7fdeea82e510>,\n",
       " <matplotlib.lines.Line2D at 0x7fdeea82e650>,\n",
       " <matplotlib.lines.Line2D at 0x7fdeea82e790>,\n",
       " <matplotlib.lines.Line2D at 0x7fdeea82e8d0>,\n",
       " <matplotlib.lines.Line2D at 0x7fdeea82ea10>,\n",
       " <matplotlib.lines.Line2D at 0x7fdeea82e290>,\n",
       " <matplotlib.lines.Line2D at 0x7fdeea82ec90>,\n",
       " <matplotlib.lines.Line2D at 0x7fdeea82edd0>,\n",
       " <matplotlib.lines.Line2D at 0x7fdeea82ef10>,\n",
       " <matplotlib.lines.Line2D at 0x7fdeea837090>,\n",
       " <matplotlib.lines.Line2D at 0x7fdeea8371d0>,\n",
       " <matplotlib.lines.Line2D at 0x7fdeea837310>,\n",
       " <matplotlib.lines.Line2D at 0x7fdeea82eb50>,\n",
       " <matplotlib.lines.Line2D at 0x7fdeea837590>,\n",
       " <matplotlib.lines.Line2D at 0x7fdeea8376d0>,\n",
       " <matplotlib.lines.Line2D at 0x7fdeea837810>,\n",
       " <matplotlib.lines.Line2D at 0x7fdeea92c950>,\n",
       " <matplotlib.lines.Line2D at 0x7fdeea92c550>,\n",
       " <matplotlib.lines.Line2D at 0x7fdeea92c290>,\n",
       " <matplotlib.lines.Line2D at 0x7fdeea91fe50>,\n",
       " <matplotlib.lines.Line2D at 0x7fdeea91fb10>,\n",
       " <matplotlib.lines.Line2D at 0x7fdeea91f150>,\n",
       " <matplotlib.lines.Line2D at 0x7fdeea916250>,\n",
       " <matplotlib.lines.Line2D at 0x7fdeea916f10>,\n",
       " <matplotlib.lines.Line2D at 0x7fdeea916fd0>,\n",
       " <matplotlib.lines.Line2D at 0x7fdeea916690>,\n",
       " <matplotlib.lines.Line2D at 0x7fdeea91fe10>,\n",
       " <matplotlib.lines.Line2D at 0x7fdeea98ac90>,\n",
       " <matplotlib.lines.Line2D at 0x7fdeea98a310>,\n",
       " <matplotlib.lines.Line2D at 0x7fdeea98af10>,\n",
       " <matplotlib.lines.Line2D at 0x7fdeea98a1d0>,\n",
       " <matplotlib.lines.Line2D at 0x7fdeea981350>,\n",
       " <matplotlib.lines.Line2D at 0x7fdeea9817d0>,\n",
       " <matplotlib.lines.Line2D at 0x7fdeea916cd0>,\n",
       " <matplotlib.lines.Line2D at 0x7fdeea981e50>,\n",
       " <matplotlib.lines.Line2D at 0x7fdeea981490>,\n",
       " <matplotlib.lines.Line2D at 0x7fdeea975f90>,\n",
       " <matplotlib.lines.Line2D at 0x7fdeea975bd0>,\n",
       " <matplotlib.lines.Line2D at 0x7fdeea8378d0>,\n",
       " <matplotlib.lines.Line2D at 0x7fdeea837a50>,\n",
       " <matplotlib.lines.Line2D at 0x7fdeea981dd0>,\n",
       " <matplotlib.lines.Line2D at 0x7fdeea837c50>,\n",
       " <matplotlib.lines.Line2D at 0x7fdeea837d50>,\n",
       " <matplotlib.lines.Line2D at 0x7fdeea837e50>,\n",
       " <matplotlib.lines.Line2D at 0x7fdeea837f50>,\n",
       " <matplotlib.lines.Line2D at 0x7fdeea841090>,\n",
       " <matplotlib.lines.Line2D at 0x7fdeea841190>,\n",
       " <matplotlib.lines.Line2D at 0x7fdeea837b50>,\n",
       " <matplotlib.lines.Line2D at 0x7fdeea841390>,\n",
       " <matplotlib.lines.Line2D at 0x7fdeea841490>,\n",
       " <matplotlib.lines.Line2D at 0x7fdeea841590>,\n",
       " <matplotlib.lines.Line2D at 0x7fdeea841690>,\n",
       " <matplotlib.lines.Line2D at 0x7fdeea841790>,\n",
       " <matplotlib.lines.Line2D at 0x7fdeea841890>,\n",
       " <matplotlib.lines.Line2D at 0x7fdeea841290>,\n",
       " <matplotlib.lines.Line2D at 0x7fdeea841ad0>,\n",
       " <matplotlib.lines.Line2D at 0x7fdeea841c10>,\n",
       " <matplotlib.lines.Line2D at 0x7fdeea841d50>,\n",
       " <matplotlib.lines.Line2D at 0x7fdeea841e90>,\n",
       " <matplotlib.lines.Line2D at 0x7fdeea841fd0>,\n",
       " <matplotlib.lines.Line2D at 0x7fdeea84b150>,\n",
       " <matplotlib.lines.Line2D at 0x7fdeea841990>,\n",
       " <matplotlib.lines.Line2D at 0x7fdeea84b3d0>,\n",
       " <matplotlib.lines.Line2D at 0x7fdeea84b510>,\n",
       " <matplotlib.lines.Line2D at 0x7fdeea84b650>,\n",
       " <matplotlib.lines.Line2D at 0x7fdeea84b790>,\n",
       " <matplotlib.lines.Line2D at 0x7fdeea84b8d0>,\n",
       " <matplotlib.lines.Line2D at 0x7fdeea84ba10>,\n",
       " <matplotlib.lines.Line2D at 0x7fdeea84b290>,\n",
       " <matplotlib.lines.Line2D at 0x7fdeea84bc90>,\n",
       " <matplotlib.lines.Line2D at 0x7fdeea84bdd0>,\n",
       " <matplotlib.lines.Line2D at 0x7fdeea84bf10>,\n",
       " <matplotlib.lines.Line2D at 0x7fdeea7d6090>,\n",
       " <matplotlib.lines.Line2D at 0x7fdeea7d61d0>,\n",
       " <matplotlib.lines.Line2D at 0x7fdeea7d6310>,\n",
       " <matplotlib.lines.Line2D at 0x7fdeea84bb50>,\n",
       " <matplotlib.lines.Line2D at 0x7fdeea7d6590>,\n",
       " <matplotlib.lines.Line2D at 0x7fdeea7d66d0>,\n",
       " <matplotlib.lines.Line2D at 0x7fdeea7d6810>,\n",
       " <matplotlib.lines.Line2D at 0x7fdeea7d6950>,\n",
       " <matplotlib.lines.Line2D at 0x7fdeea7d6a90>,\n",
       " <matplotlib.lines.Line2D at 0x7fdeea7d6bd0>,\n",
       " <matplotlib.lines.Line2D at 0x7fdeea7d6450>,\n",
       " <matplotlib.lines.Line2D at 0x7fdeea7d6e50>,\n",
       " <matplotlib.lines.Line2D at 0x7fdeea7d6f90>,\n",
       " <matplotlib.lines.Line2D at 0x7fdeea7e0110>,\n",
       " <matplotlib.lines.Line2D at 0x7fdeea7e0250>,\n",
       " <matplotlib.lines.Line2D at 0x7fdeea7e0390>,\n",
       " <matplotlib.lines.Line2D at 0x7fdeea7e04d0>,\n",
       " <matplotlib.lines.Line2D at 0x7fdeea7d6d10>,\n",
       " <matplotlib.lines.Line2D at 0x7fdeea7e0750>,\n",
       " <matplotlib.lines.Line2D at 0x7fdeea7e0890>,\n",
       " <matplotlib.lines.Line2D at 0x7fdeea7e09d0>,\n",
       " <matplotlib.lines.Line2D at 0x7fdeea7e0b10>,\n",
       " <matplotlib.lines.Line2D at 0x7fdeea7e0c50>,\n",
       " <matplotlib.lines.Line2D at 0x7fdeea7e0d90>,\n",
       " <matplotlib.lines.Line2D at 0x7fdeea7e0610>,\n",
       " <matplotlib.lines.Line2D at 0x7fdeea7e9050>,\n",
       " <matplotlib.lines.Line2D at 0x7fdeea7e9190>,\n",
       " <matplotlib.lines.Line2D at 0x7fdeea7e92d0>,\n",
       " <matplotlib.lines.Line2D at 0x7fdeea7e9410>,\n",
       " <matplotlib.lines.Line2D at 0x7fdeea7e9550>,\n",
       " <matplotlib.lines.Line2D at 0x7fdeea7e9690>,\n",
       " <matplotlib.lines.Line2D at 0x7fdeea7e0ed0>,\n",
       " <matplotlib.lines.Line2D at 0x7fdeea7e9910>,\n",
       " <matplotlib.lines.Line2D at 0x7fdeea7e9a50>,\n",
       " <matplotlib.lines.Line2D at 0x7fdeea7e9b90>,\n",
       " <matplotlib.lines.Line2D at 0x7fdeea7e9cd0>,\n",
       " <matplotlib.lines.Line2D at 0x7fdeea7e9e10>,\n",
       " <matplotlib.lines.Line2D at 0x7fdeea7e9f50>,\n",
       " <matplotlib.lines.Line2D at 0x7fdeea7e97d0>,\n",
       " <matplotlib.lines.Line2D at 0x7fdeea7f4210>,\n",
       " <matplotlib.lines.Line2D at 0x7fdeea7f4350>,\n",
       " <matplotlib.lines.Line2D at 0x7fdeea7f4490>,\n",
       " <matplotlib.lines.Line2D at 0x7fdeea7f45d0>,\n",
       " <matplotlib.lines.Line2D at 0x7fdeea7f4710>,\n",
       " <matplotlib.lines.Line2D at 0x7fdeea7f4850>,\n",
       " <matplotlib.lines.Line2D at 0x7fdeea7f40d0>,\n",
       " <matplotlib.lines.Line2D at 0x7fdeea7f4ad0>,\n",
       " <matplotlib.lines.Line2D at 0x7fdeea7f4c10>,\n",
       " <matplotlib.lines.Line2D at 0x7fdeea7f4d50>,\n",
       " <matplotlib.lines.Line2D at 0x7fdeea7f4e90>,\n",
       " <matplotlib.lines.Line2D at 0x7fdeea7f4fd0>,\n",
       " <matplotlib.lines.Line2D at 0x7fdeea7ff150>,\n",
       " <matplotlib.lines.Line2D at 0x7fdeea7f4990>,\n",
       " <matplotlib.lines.Line2D at 0x7fdeea7ff3d0>,\n",
       " <matplotlib.lines.Line2D at 0x7fdeea7ff510>,\n",
       " <matplotlib.lines.Line2D at 0x7fdeea7ff650>,\n",
       " <matplotlib.lines.Line2D at 0x7fdeea7ff790>,\n",
       " <matplotlib.lines.Line2D at 0x7fdeea7ff8d0>,\n",
       " <matplotlib.lines.Line2D at 0x7fdeea7ffa10>,\n",
       " <matplotlib.lines.Line2D at 0x7fdeea7ff290>,\n",
       " <matplotlib.lines.Line2D at 0x7fdeea7ffc90>,\n",
       " <matplotlib.lines.Line2D at 0x7fdeea7ffdd0>,\n",
       " <matplotlib.lines.Line2D at 0x7fdeea7fff10>,\n",
       " <matplotlib.lines.Line2D at 0x7fdeea809090>,\n",
       " <matplotlib.lines.Line2D at 0x7fdeea8091d0>,\n",
       " <matplotlib.lines.Line2D at 0x7fdeea809310>,\n",
       " <matplotlib.lines.Line2D at 0x7fdeea7ffb50>,\n",
       " <matplotlib.lines.Line2D at 0x7fdeea809590>,\n",
       " <matplotlib.lines.Line2D at 0x7fdeea8096d0>,\n",
       " <matplotlib.lines.Line2D at 0x7fdeea809810>,\n",
       " <matplotlib.lines.Line2D at 0x7fdeea809950>,\n",
       " <matplotlib.lines.Line2D at 0x7fdeea809a90>,\n",
       " <matplotlib.lines.Line2D at 0x7fdeea809bd0>,\n",
       " <matplotlib.lines.Line2D at 0x7fdeea809450>,\n",
       " <matplotlib.lines.Line2D at 0x7fdeea809e50>,\n",
       " <matplotlib.lines.Line2D at 0x7fdeea809f90>,\n",
       " <matplotlib.lines.Line2D at 0x7fdeea793110>,\n",
       " <matplotlib.lines.Line2D at 0x7fdeea793250>,\n",
       " <matplotlib.lines.Line2D at 0x7fdeea793390>,\n",
       " <matplotlib.lines.Line2D at 0x7fdeea7934d0>,\n",
       " <matplotlib.lines.Line2D at 0x7fdeea809d10>,\n",
       " <matplotlib.lines.Line2D at 0x7fdeea793750>,\n",
       " <matplotlib.lines.Line2D at 0x7fdeea793890>,\n",
       " <matplotlib.lines.Line2D at 0x7fdeea7939d0>,\n",
       " <matplotlib.lines.Line2D at 0x7fdeea793b10>,\n",
       " <matplotlib.lines.Line2D at 0x7fdeea793c50>,\n",
       " <matplotlib.lines.Line2D at 0x7fdeea793d90>,\n",
       " <matplotlib.lines.Line2D at 0x7fdeea793610>,\n",
       " <matplotlib.lines.Line2D at 0x7fdeea79c050>,\n",
       " <matplotlib.lines.Line2D at 0x7fdeea79c190>,\n",
       " <matplotlib.lines.Line2D at 0x7fdeea79c2d0>,\n",
       " <matplotlib.lines.Line2D at 0x7fdeea79c410>,\n",
       " <matplotlib.lines.Line2D at 0x7fdeea79c550>,\n",
       " <matplotlib.lines.Line2D at 0x7fdeea79c690>,\n",
       " <matplotlib.lines.Line2D at 0x7fdeea793ed0>,\n",
       " <matplotlib.lines.Line2D at 0x7fdeea79c910>,\n",
       " <matplotlib.lines.Line2D at 0x7fdeea79ca50>,\n",
       " <matplotlib.lines.Line2D at 0x7fdeea79cb90>,\n",
       " <matplotlib.lines.Line2D at 0x7fdeea79ccd0>,\n",
       " <matplotlib.lines.Line2D at 0x7fdeea79ce10>,\n",
       " <matplotlib.lines.Line2D at 0x7fdeea79cf50>,\n",
       " <matplotlib.lines.Line2D at 0x7fdeea79c7d0>,\n",
       " <matplotlib.lines.Line2D at 0x7fdeea7a7210>,\n",
       " <matplotlib.lines.Line2D at 0x7fdeea7a7350>,\n",
       " <matplotlib.lines.Line2D at 0x7fdeea7a7490>,\n",
       " <matplotlib.lines.Line2D at 0x7fdeea7a75d0>,\n",
       " <matplotlib.lines.Line2D at 0x7fdeea7a7710>,\n",
       " <matplotlib.lines.Line2D at 0x7fdeea7a7850>,\n",
       " <matplotlib.lines.Line2D at 0x7fdeea7a70d0>,\n",
       " <matplotlib.lines.Line2D at 0x7fdeea7a7ad0>,\n",
       " <matplotlib.lines.Line2D at 0x7fdeea7a7c10>,\n",
       " <matplotlib.lines.Line2D at 0x7fdeea7a7d50>,\n",
       " <matplotlib.lines.Line2D at 0x7fdeea7a7e90>,\n",
       " <matplotlib.lines.Line2D at 0x7fdeea7a7fd0>,\n",
       " <matplotlib.lines.Line2D at 0x7fdeea7b1150>,\n",
       " <matplotlib.lines.Line2D at 0x7fdeea7a7990>,\n",
       " <matplotlib.lines.Line2D at 0x7fdeea7b13d0>,\n",
       " <matplotlib.lines.Line2D at 0x7fdeea7b1510>,\n",
       " <matplotlib.lines.Line2D at 0x7fdeea7b1650>,\n",
       " <matplotlib.lines.Line2D at 0x7fdeea7b1790>,\n",
       " <matplotlib.lines.Line2D at 0x7fdeea7b18d0>,\n",
       " <matplotlib.lines.Line2D at 0x7fdeea7b1a10>,\n",
       " <matplotlib.lines.Line2D at 0x7fdeea7b1290>,\n",
       " <matplotlib.lines.Line2D at 0x7fdeea7b1c90>,\n",
       " <matplotlib.lines.Line2D at 0x7fdeea7b1dd0>,\n",
       " <matplotlib.lines.Line2D at 0x7fdeea7b1f10>,\n",
       " <matplotlib.lines.Line2D at 0x7fdeea7ba090>,\n",
       " <matplotlib.lines.Line2D at 0x7fdeea7ba1d0>,\n",
       " <matplotlib.lines.Line2D at 0x7fdeea7ba310>,\n",
       " <matplotlib.lines.Line2D at 0x7fdeea7b1b50>,\n",
       " <matplotlib.lines.Line2D at 0x7fdeea7ba590>,\n",
       " <matplotlib.lines.Line2D at 0x7fdeea7ba6d0>,\n",
       " <matplotlib.lines.Line2D at 0x7fdeea7ba810>,\n",
       " <matplotlib.lines.Line2D at 0x7fdeea7ba950>,\n",
       " <matplotlib.lines.Line2D at 0x7fdeea7baa90>,\n",
       " <matplotlib.lines.Line2D at 0x7fdeea7babd0>,\n",
       " <matplotlib.lines.Line2D at 0x7fdeea7ba450>,\n",
       " <matplotlib.lines.Line2D at 0x7fdeea7bae50>,\n",
       " <matplotlib.lines.Line2D at 0x7fdeea7baf90>,\n",
       " <matplotlib.lines.Line2D at 0x7fdeea7c5110>,\n",
       " <matplotlib.lines.Line2D at 0x7fdeea7c5250>,\n",
       " <matplotlib.lines.Line2D at 0x7fdeea7c5390>,\n",
       " <matplotlib.lines.Line2D at 0x7fdeea7c54d0>,\n",
       " <matplotlib.lines.Line2D at 0x7fdeea7bad10>,\n",
       " <matplotlib.lines.Line2D at 0x7fdeea7c5750>,\n",
       " <matplotlib.lines.Line2D at 0x7fdeea7c5890>,\n",
       " <matplotlib.lines.Line2D at 0x7fdeea7c59d0>,\n",
       " <matplotlib.lines.Line2D at 0x7fdeea7c5b10>,\n",
       " <matplotlib.lines.Line2D at 0x7fdeea7c5c50>,\n",
       " <matplotlib.lines.Line2D at 0x7fdeea7c5d90>,\n",
       " <matplotlib.lines.Line2D at 0x7fdeea7c5610>,\n",
       " <matplotlib.lines.Line2D at 0x7fdeea74f050>,\n",
       " <matplotlib.lines.Line2D at 0x7fdeea74f190>,\n",
       " <matplotlib.lines.Line2D at 0x7fdeea74f2d0>,\n",
       " <matplotlib.lines.Line2D at 0x7fdeea74f410>,\n",
       " <matplotlib.lines.Line2D at 0x7fdeea74f550>,\n",
       " <matplotlib.lines.Line2D at 0x7fdeea74f690>,\n",
       " <matplotlib.lines.Line2D at 0x7fdeea7c5ed0>,\n",
       " <matplotlib.lines.Line2D at 0x7fdeea74f910>,\n",
       " <matplotlib.lines.Line2D at 0x7fdeea74fa50>,\n",
       " <matplotlib.lines.Line2D at 0x7fdeea74fb90>,\n",
       " <matplotlib.lines.Line2D at 0x7fdeea74fcd0>,\n",
       " <matplotlib.lines.Line2D at 0x7fdeea74fe10>,\n",
       " <matplotlib.lines.Line2D at 0x7fdeea74ff50>,\n",
       " <matplotlib.lines.Line2D at 0x7fdeea74f7d0>,\n",
       " <matplotlib.lines.Line2D at 0x7fdeea75a210>,\n",
       " <matplotlib.lines.Line2D at 0x7fdeea75a350>,\n",
       " <matplotlib.lines.Line2D at 0x7fdeea75a490>,\n",
       " <matplotlib.lines.Line2D at 0x7fdeea75a5d0>,\n",
       " <matplotlib.lines.Line2D at 0x7fdeea75a710>,\n",
       " <matplotlib.lines.Line2D at 0x7fdeea75a850>,\n",
       " <matplotlib.lines.Line2D at 0x7fdeea75a0d0>,\n",
       " <matplotlib.lines.Line2D at 0x7fdeea75aad0>,\n",
       " <matplotlib.lines.Line2D at 0x7fdeea75ac10>,\n",
       " <matplotlib.lines.Line2D at 0x7fdeea75ad50>,\n",
       " <matplotlib.lines.Line2D at 0x7fdeea75ae90>,\n",
       " <matplotlib.lines.Line2D at 0x7fdeea75afd0>,\n",
       " <matplotlib.lines.Line2D at 0x7fdeea763150>,\n",
       " <matplotlib.lines.Line2D at 0x7fdeea75a990>,\n",
       " <matplotlib.lines.Line2D at 0x7fdeea7633d0>,\n",
       " <matplotlib.lines.Line2D at 0x7fdeea763510>,\n",
       " <matplotlib.lines.Line2D at 0x7fdeea763650>,\n",
       " <matplotlib.lines.Line2D at 0x7fdeea763790>,\n",
       " <matplotlib.lines.Line2D at 0x7fdeea7638d0>,\n",
       " <matplotlib.lines.Line2D at 0x7fdeea763a10>,\n",
       " <matplotlib.lines.Line2D at 0x7fdeea763290>,\n",
       " <matplotlib.lines.Line2D at 0x7fdeea763c90>,\n",
       " <matplotlib.lines.Line2D at 0x7fdeea763dd0>,\n",
       " <matplotlib.lines.Line2D at 0x7fdeea763f10>,\n",
       " <matplotlib.lines.Line2D at 0x7fdeea76e090>,\n",
       " <matplotlib.lines.Line2D at 0x7fdeea76e1d0>,\n",
       " <matplotlib.lines.Line2D at 0x7fdeea76e310>,\n",
       " <matplotlib.lines.Line2D at 0x7fdeea763b50>,\n",
       " <matplotlib.lines.Line2D at 0x7fdeea76e590>,\n",
       " <matplotlib.lines.Line2D at 0x7fdeea76e6d0>,\n",
       " <matplotlib.lines.Line2D at 0x7fdeea76e810>,\n",
       " <matplotlib.lines.Line2D at 0x7fdeea76e950>,\n",
       " <matplotlib.lines.Line2D at 0x7fdeea76ea90>,\n",
       " <matplotlib.lines.Line2D at 0x7fdeea76ebd0>,\n",
       " <matplotlib.lines.Line2D at 0x7fdeea76e450>,\n",
       " <matplotlib.lines.Line2D at 0x7fdeea76ee50>,\n",
       " <matplotlib.lines.Line2D at 0x7fdeea76ef90>,\n",
       " <matplotlib.lines.Line2D at 0x7fdeea779110>,\n",
       " <matplotlib.lines.Line2D at 0x7fdeea779250>,\n",
       " <matplotlib.lines.Line2D at 0x7fdeea779390>,\n",
       " <matplotlib.lines.Line2D at 0x7fdeea7794d0>,\n",
       " <matplotlib.lines.Line2D at 0x7fdeea76ed10>,\n",
       " <matplotlib.lines.Line2D at 0x7fdeea779750>,\n",
       " <matplotlib.lines.Line2D at 0x7fdeea779890>,\n",
       " <matplotlib.lines.Line2D at 0x7fdeea7799d0>,\n",
       " <matplotlib.lines.Line2D at 0x7fdeea779b10>,\n",
       " <matplotlib.lines.Line2D at 0x7fdeea779c50>,\n",
       " <matplotlib.lines.Line2D at 0x7fdeea779d90>,\n",
       " <matplotlib.lines.Line2D at 0x7fdeea779610>,\n",
       " <matplotlib.lines.Line2D at 0x7fdeea781050>,\n",
       " <matplotlib.lines.Line2D at 0x7fdeea781190>,\n",
       " <matplotlib.lines.Line2D at 0x7fdeea7812d0>,\n",
       " <matplotlib.lines.Line2D at 0x7fdeea781410>,\n",
       " <matplotlib.lines.Line2D at 0x7fdeea781550>,\n",
       " <matplotlib.lines.Line2D at 0x7fdeea781690>,\n",
       " <matplotlib.lines.Line2D at 0x7fdeea779ed0>,\n",
       " <matplotlib.lines.Line2D at 0x7fdeea781910>,\n",
       " <matplotlib.lines.Line2D at 0x7fdeea781a50>,\n",
       " <matplotlib.lines.Line2D at 0x7fdeea781b90>,\n",
       " <matplotlib.lines.Line2D at 0x7fdeea781cd0>,\n",
       " <matplotlib.lines.Line2D at 0x7fdeea781e10>,\n",
       " <matplotlib.lines.Line2D at 0x7fdeea781f50>,\n",
       " <matplotlib.lines.Line2D at 0x7fdeea7817d0>,\n",
       " <matplotlib.lines.Line2D at 0x7fdeea78c210>,\n",
       " <matplotlib.lines.Line2D at 0x7fdeea78c350>,\n",
       " <matplotlib.lines.Line2D at 0x7fdeea78c490>,\n",
       " <matplotlib.lines.Line2D at 0x7fdeea78c5d0>,\n",
       " <matplotlib.lines.Line2D at 0x7fdeea78c710>,\n",
       " <matplotlib.lines.Line2D at 0x7fdeea78c850>,\n",
       " <matplotlib.lines.Line2D at 0x7fdeea78c0d0>,\n",
       " <matplotlib.lines.Line2D at 0x7fdeea78cad0>,\n",
       " <matplotlib.lines.Line2D at 0x7fdeea78cc10>,\n",
       " <matplotlib.lines.Line2D at 0x7fdeea78cd50>,\n",
       " <matplotlib.lines.Line2D at 0x7fdeea78ce90>,\n",
       " <matplotlib.lines.Line2D at 0x7fdeea78cfd0>,\n",
       " <matplotlib.lines.Line2D at 0x7fdeea717150>,\n",
       " <matplotlib.lines.Line2D at 0x7fdeea78c990>,\n",
       " <matplotlib.lines.Line2D at 0x7fdeea7173d0>,\n",
       " <matplotlib.lines.Line2D at 0x7fdeea717510>,\n",
       " <matplotlib.lines.Line2D at 0x7fdeea717650>,\n",
       " <matplotlib.lines.Line2D at 0x7fdeea717790>,\n",
       " <matplotlib.lines.Line2D at 0x7fdeea7178d0>,\n",
       " <matplotlib.lines.Line2D at 0x7fdeea717a10>,\n",
       " <matplotlib.lines.Line2D at 0x7fdeea717290>,\n",
       " <matplotlib.lines.Line2D at 0x7fdeea717c90>,\n",
       " <matplotlib.lines.Line2D at 0x7fdeea717dd0>,\n",
       " <matplotlib.lines.Line2D at 0x7fdeea717f10>,\n",
       " <matplotlib.lines.Line2D at 0x7fdeea721090>,\n",
       " <matplotlib.lines.Line2D at 0x7fdeea7211d0>,\n",
       " <matplotlib.lines.Line2D at 0x7fdeea721310>,\n",
       " <matplotlib.lines.Line2D at 0x7fdeea717b50>,\n",
       " <matplotlib.lines.Line2D at 0x7fdeea721590>,\n",
       " <matplotlib.lines.Line2D at 0x7fdeea7216d0>,\n",
       " <matplotlib.lines.Line2D at 0x7fdeea721810>,\n",
       " <matplotlib.lines.Line2D at 0x7fdeea721950>,\n",
       " <matplotlib.lines.Line2D at 0x7fdeea721a90>,\n",
       " <matplotlib.lines.Line2D at 0x7fdeea721bd0>,\n",
       " <matplotlib.lines.Line2D at 0x7fdeea721450>,\n",
       " <matplotlib.lines.Line2D at 0x7fdeea721e50>,\n",
       " <matplotlib.lines.Line2D at 0x7fdeea721f90>,\n",
       " <matplotlib.lines.Line2D at 0x7fdeea72a110>,\n",
       " <matplotlib.lines.Line2D at 0x7fdeea72a250>,\n",
       " <matplotlib.lines.Line2D at 0x7fdeea72a390>,\n",
       " <matplotlib.lines.Line2D at 0x7fdeea72a4d0>,\n",
       " <matplotlib.lines.Line2D at 0x7fdeea721d10>,\n",
       " <matplotlib.lines.Line2D at 0x7fdeea72a750>,\n",
       " <matplotlib.lines.Line2D at 0x7fdeea72a890>,\n",
       " <matplotlib.lines.Line2D at 0x7fdeea72a9d0>,\n",
       " <matplotlib.lines.Line2D at 0x7fdeea72ab10>,\n",
       " <matplotlib.lines.Line2D at 0x7fdeea72ac50>,\n",
       " <matplotlib.lines.Line2D at 0x7fdeea72ad90>,\n",
       " <matplotlib.lines.Line2D at 0x7fdeea72a610>,\n",
       " <matplotlib.lines.Line2D at 0x7fdeea734050>,\n",
       " <matplotlib.lines.Line2D at 0x7fdeea734190>,\n",
       " <matplotlib.lines.Line2D at 0x7fdeea7342d0>,\n",
       " <matplotlib.lines.Line2D at 0x7fdeea734410>,\n",
       " <matplotlib.lines.Line2D at 0x7fdeea734550>,\n",
       " <matplotlib.lines.Line2D at 0x7fdeea734690>,\n",
       " <matplotlib.lines.Line2D at 0x7fdeea72aed0>,\n",
       " <matplotlib.lines.Line2D at 0x7fdeea734910>,\n",
       " <matplotlib.lines.Line2D at 0x7fdeea734a50>,\n",
       " <matplotlib.lines.Line2D at 0x7fdeea734b90>,\n",
       " <matplotlib.lines.Line2D at 0x7fdeea734cd0>,\n",
       " <matplotlib.lines.Line2D at 0x7fdeea734e10>,\n",
       " <matplotlib.lines.Line2D at 0x7fdeea734f50>,\n",
       " <matplotlib.lines.Line2D at 0x7fdeea7347d0>,\n",
       " <matplotlib.lines.Line2D at 0x7fdeea73f210>,\n",
       " <matplotlib.lines.Line2D at 0x7fdeea73f350>,\n",
       " <matplotlib.lines.Line2D at 0x7fdeea73f490>,\n",
       " <matplotlib.lines.Line2D at 0x7fdeea73f5d0>,\n",
       " <matplotlib.lines.Line2D at 0x7fdeea73f710>,\n",
       " <matplotlib.lines.Line2D at 0x7fdeea73f850>,\n",
       " <matplotlib.lines.Line2D at 0x7fdeea73f0d0>,\n",
       " <matplotlib.lines.Line2D at 0x7fdeea73fad0>,\n",
       " <matplotlib.lines.Line2D at 0x7fdeea73fc10>,\n",
       " <matplotlib.lines.Line2D at 0x7fdeea73fd50>,\n",
       " <matplotlib.lines.Line2D at 0x7fdeea73fe90>,\n",
       " <matplotlib.lines.Line2D at 0x7fdeea73ffd0>,\n",
       " <matplotlib.lines.Line2D at 0x7fdeea74a150>,\n",
       " <matplotlib.lines.Line2D at 0x7fdeea73f990>,\n",
       " <matplotlib.lines.Line2D at 0x7fdeea74a3d0>,\n",
       " <matplotlib.lines.Line2D at 0x7fdeea74a510>,\n",
       " <matplotlib.lines.Line2D at 0x7fdeea74a650>,\n",
       " <matplotlib.lines.Line2D at 0x7fdeea74a790>,\n",
       " <matplotlib.lines.Line2D at 0x7fdeea74a8d0>,\n",
       " <matplotlib.lines.Line2D at 0x7fdeea74aa10>,\n",
       " <matplotlib.lines.Line2D at 0x7fdeea74a290>,\n",
       " <matplotlib.lines.Line2D at 0x7fdeea74ac90>,\n",
       " <matplotlib.lines.Line2D at 0x7fdeea74add0>,\n",
       " <matplotlib.lines.Line2D at 0x7fdeea74af10>,\n",
       " <matplotlib.lines.Line2D at 0x7fdeea6d2090>,\n",
       " <matplotlib.lines.Line2D at 0x7fdeea6d21d0>,\n",
       " <matplotlib.lines.Line2D at 0x7fdeea6d2310>,\n",
       " <matplotlib.lines.Line2D at 0x7fdeea74ab50>,\n",
       " <matplotlib.lines.Line2D at 0x7fdeea6d2590>,\n",
       " <matplotlib.lines.Line2D at 0x7fdeea6d26d0>,\n",
       " <matplotlib.lines.Line2D at 0x7fdeea6d2810>,\n",
       " <matplotlib.lines.Line2D at 0x7fdeea6d2950>,\n",
       " <matplotlib.lines.Line2D at 0x7fdeea6d2a90>,\n",
       " <matplotlib.lines.Line2D at 0x7fdeea6d2bd0>,\n",
       " <matplotlib.lines.Line2D at 0x7fdeea6d2450>,\n",
       " <matplotlib.lines.Line2D at 0x7fdeea6d2e50>,\n",
       " <matplotlib.lines.Line2D at 0x7fdeea6d2f90>,\n",
       " <matplotlib.lines.Line2D at 0x7fdeea6df110>,\n",
       " <matplotlib.lines.Line2D at 0x7fdeea6df250>,\n",
       " <matplotlib.lines.Line2D at 0x7fdeea6df390>,\n",
       " <matplotlib.lines.Line2D at 0x7fdeea6df4d0>,\n",
       " <matplotlib.lines.Line2D at 0x7fdeea6d2d10>,\n",
       " <matplotlib.lines.Line2D at 0x7fdeea6df750>,\n",
       " <matplotlib.lines.Line2D at 0x7fdeea6df890>,\n",
       " <matplotlib.lines.Line2D at 0x7fdeea6df9d0>,\n",
       " <matplotlib.lines.Line2D at 0x7fdeea6dfb10>,\n",
       " <matplotlib.lines.Line2D at 0x7fdeea6dfc50>,\n",
       " <matplotlib.lines.Line2D at 0x7fdeea6dfd90>,\n",
       " <matplotlib.lines.Line2D at 0x7fdeea6df610>,\n",
       " <matplotlib.lines.Line2D at 0x7fdeea6e8050>,\n",
       " <matplotlib.lines.Line2D at 0x7fdeea6e8190>,\n",
       " <matplotlib.lines.Line2D at 0x7fdeea6e82d0>,\n",
       " <matplotlib.lines.Line2D at 0x7fdeea6e8410>,\n",
       " <matplotlib.lines.Line2D at 0x7fdeea6e8550>,\n",
       " <matplotlib.lines.Line2D at 0x7fdeea6e8690>,\n",
       " <matplotlib.lines.Line2D at 0x7fdeea6dfed0>,\n",
       " <matplotlib.lines.Line2D at 0x7fdeea6e8910>,\n",
       " <matplotlib.lines.Line2D at 0x7fdeea6e8a50>,\n",
       " <matplotlib.lines.Line2D at 0x7fdeea6e8b90>,\n",
       " <matplotlib.lines.Line2D at 0x7fdeea6e8cd0>,\n",
       " <matplotlib.lines.Line2D at 0x7fdeea6e8e10>,\n",
       " <matplotlib.lines.Line2D at 0x7fdeea6e8f50>,\n",
       " <matplotlib.lines.Line2D at 0x7fdeea6e87d0>,\n",
       " <matplotlib.lines.Line2D at 0x7fdeea6f1210>,\n",
       " <matplotlib.lines.Line2D at 0x7fdeea6f1350>,\n",
       " <matplotlib.lines.Line2D at 0x7fdeea6f1490>,\n",
       " <matplotlib.lines.Line2D at 0x7fdeea6f15d0>,\n",
       " <matplotlib.lines.Line2D at 0x7fdeea6f1710>,\n",
       " <matplotlib.lines.Line2D at 0x7fdeea6f1850>,\n",
       " <matplotlib.lines.Line2D at 0x7fdeea6f10d0>,\n",
       " <matplotlib.lines.Line2D at 0x7fdeea6f1ad0>,\n",
       " <matplotlib.lines.Line2D at 0x7fdeea6f1c10>,\n",
       " <matplotlib.lines.Line2D at 0x7fdeea6f1d50>,\n",
       " <matplotlib.lines.Line2D at 0x7fdeea6f1e90>,\n",
       " <matplotlib.lines.Line2D at 0x7fdeea6f1fd0>,\n",
       " <matplotlib.lines.Line2D at 0x7fdeea6fc150>,\n",
       " <matplotlib.lines.Line2D at 0x7fdeea6f1990>,\n",
       " <matplotlib.lines.Line2D at 0x7fdeea6fc3d0>,\n",
       " <matplotlib.lines.Line2D at 0x7fdeea6fc510>,\n",
       " <matplotlib.lines.Line2D at 0x7fdeea6fc650>,\n",
       " <matplotlib.lines.Line2D at 0x7fdeea6fc790>,\n",
       " <matplotlib.lines.Line2D at 0x7fdeea6fc8d0>,\n",
       " <matplotlib.lines.Line2D at 0x7fdeea6fca10>,\n",
       " <matplotlib.lines.Line2D at 0x7fdeea6fc290>,\n",
       " <matplotlib.lines.Line2D at 0x7fdeea6fcc90>,\n",
       " <matplotlib.lines.Line2D at 0x7fdeea6fcdd0>,\n",
       " <matplotlib.lines.Line2D at 0x7fdeea6fcf10>,\n",
       " <matplotlib.lines.Line2D at 0x7fdeea706090>,\n",
       " <matplotlib.lines.Line2D at 0x7fdeea7061d0>,\n",
       " <matplotlib.lines.Line2D at 0x7fdeea706310>,\n",
       " <matplotlib.lines.Line2D at 0x7fdeea6fcb50>,\n",
       " <matplotlib.lines.Line2D at 0x7fdeea706590>,\n",
       " <matplotlib.lines.Line2D at 0x7fdeea7066d0>,\n",
       " <matplotlib.lines.Line2D at 0x7fdeea706810>,\n",
       " <matplotlib.lines.Line2D at 0x7fdeea706950>,\n",
       " <matplotlib.lines.Line2D at 0x7fdeea706a90>,\n",
       " <matplotlib.lines.Line2D at 0x7fdeea706bd0>,\n",
       " <matplotlib.lines.Line2D at 0x7fdeea706450>,\n",
       " <matplotlib.lines.Line2D at 0x7fdeea706e50>,\n",
       " <matplotlib.lines.Line2D at 0x7fdeea706f90>,\n",
       " <matplotlib.lines.Line2D at 0x7fdeea690110>,\n",
       " <matplotlib.lines.Line2D at 0x7fdeea690250>,\n",
       " <matplotlib.lines.Line2D at 0x7fdeea690390>,\n",
       " <matplotlib.lines.Line2D at 0x7fdeea6904d0>,\n",
       " <matplotlib.lines.Line2D at 0x7fdeea706d10>,\n",
       " <matplotlib.lines.Line2D at 0x7fdeea690750>,\n",
       " <matplotlib.lines.Line2D at 0x7fdeea690890>,\n",
       " <matplotlib.lines.Line2D at 0x7fdeea6909d0>,\n",
       " <matplotlib.lines.Line2D at 0x7fdeea690b10>,\n",
       " <matplotlib.lines.Line2D at 0x7fdeea690c50>,\n",
       " <matplotlib.lines.Line2D at 0x7fdeea690d90>,\n",
       " <matplotlib.lines.Line2D at 0x7fdeea690610>,\n",
       " <matplotlib.lines.Line2D at 0x7fdeea69a050>,\n",
       " <matplotlib.lines.Line2D at 0x7fdeea69a190>,\n",
       " <matplotlib.lines.Line2D at 0x7fdeea69a2d0>,\n",
       " <matplotlib.lines.Line2D at 0x7fdeea69a410>,\n",
       " <matplotlib.lines.Line2D at 0x7fdeea69a550>,\n",
       " <matplotlib.lines.Line2D at 0x7fdeea69a690>,\n",
       " <matplotlib.lines.Line2D at 0x7fdeea690ed0>,\n",
       " <matplotlib.lines.Line2D at 0x7fdeea69a910>,\n",
       " <matplotlib.lines.Line2D at 0x7fdeea69aa50>,\n",
       " <matplotlib.lines.Line2D at 0x7fdeea69ab90>,\n",
       " <matplotlib.lines.Line2D at 0x7fdeea69acd0>,\n",
       " <matplotlib.lines.Line2D at 0x7fdeea69ae10>,\n",
       " <matplotlib.lines.Line2D at 0x7fdeea69af50>,\n",
       " <matplotlib.lines.Line2D at 0x7fdeea69a7d0>,\n",
       " <matplotlib.lines.Line2D at 0x7fdeea6a4210>,\n",
       " <matplotlib.lines.Line2D at 0x7fdeea6a4350>,\n",
       " <matplotlib.lines.Line2D at 0x7fdeea6a4490>,\n",
       " <matplotlib.lines.Line2D at 0x7fdeea6a45d0>,\n",
       " <matplotlib.lines.Line2D at 0x7fdeea6a4710>,\n",
       " <matplotlib.lines.Line2D at 0x7fdeea6a4850>,\n",
       " <matplotlib.lines.Line2D at 0x7fdeea6a40d0>,\n",
       " <matplotlib.lines.Line2D at 0x7fdeea6a4ad0>,\n",
       " <matplotlib.lines.Line2D at 0x7fdeea6a4c10>,\n",
       " <matplotlib.lines.Line2D at 0x7fdeea6a4d50>,\n",
       " <matplotlib.lines.Line2D at 0x7fdeea6a4e90>,\n",
       " <matplotlib.lines.Line2D at 0x7fdeea6a4fd0>,\n",
       " <matplotlib.lines.Line2D at 0x7fdeea6af150>,\n",
       " <matplotlib.lines.Line2D at 0x7fdeea6a4990>,\n",
       " <matplotlib.lines.Line2D at 0x7fdeea6af3d0>,\n",
       " <matplotlib.lines.Line2D at 0x7fdeea6af510>,\n",
       " <matplotlib.lines.Line2D at 0x7fdeea6af650>,\n",
       " <matplotlib.lines.Line2D at 0x7fdeea6af790>,\n",
       " <matplotlib.lines.Line2D at 0x7fdeea6af8d0>,\n",
       " <matplotlib.lines.Line2D at 0x7fdeea6afa10>,\n",
       " <matplotlib.lines.Line2D at 0x7fdeea6af290>,\n",
       " <matplotlib.lines.Line2D at 0x7fdeea6afc90>,\n",
       " <matplotlib.lines.Line2D at 0x7fdeea6afdd0>,\n",
       " <matplotlib.lines.Line2D at 0x7fdeea6aff10>,\n",
       " <matplotlib.lines.Line2D at 0x7fdeea6b9090>,\n",
       " <matplotlib.lines.Line2D at 0x7fdeea6b91d0>,\n",
       " <matplotlib.lines.Line2D at 0x7fdeea6b9310>,\n",
       " <matplotlib.lines.Line2D at 0x7fdeea6afb50>,\n",
       " <matplotlib.lines.Line2D at 0x7fdeea6b9590>,\n",
       " <matplotlib.lines.Line2D at 0x7fdeea6b96d0>,\n",
       " <matplotlib.lines.Line2D at 0x7fdeea6b9810>,\n",
       " <matplotlib.lines.Line2D at 0x7fdeea6b9950>,\n",
       " <matplotlib.lines.Line2D at 0x7fdeea6b9a90>,\n",
       " <matplotlib.lines.Line2D at 0x7fdeea6b9bd0>,\n",
       " <matplotlib.lines.Line2D at 0x7fdeea6b9450>,\n",
       " <matplotlib.lines.Line2D at 0x7fdeea6b9e50>,\n",
       " <matplotlib.lines.Line2D at 0x7fdeea6b9f90>,\n",
       " <matplotlib.lines.Line2D at 0x7fdeea6c3110>,\n",
       " <matplotlib.lines.Line2D at 0x7fdeea6c3250>,\n",
       " <matplotlib.lines.Line2D at 0x7fdeea6c3390>,\n",
       " <matplotlib.lines.Line2D at 0x7fdeea6c34d0>,\n",
       " <matplotlib.lines.Line2D at 0x7fdeea6b9d10>,\n",
       " <matplotlib.lines.Line2D at 0x7fdeea6c3750>,\n",
       " <matplotlib.lines.Line2D at 0x7fdeea6c3890>,\n",
       " <matplotlib.lines.Line2D at 0x7fdeea6c39d0>,\n",
       " <matplotlib.lines.Line2D at 0x7fdeea6c3b10>,\n",
       " <matplotlib.lines.Line2D at 0x7fdeea6c3c50>,\n",
       " <matplotlib.lines.Line2D at 0x7fdeea6c3d90>,\n",
       " <matplotlib.lines.Line2D at 0x7fdeea6c3610>,\n",
       " <matplotlib.lines.Line2D at 0x7fdeea6cd050>,\n",
       " <matplotlib.lines.Line2D at 0x7fdeea6cd190>,\n",
       " <matplotlib.lines.Line2D at 0x7fdeea6cd2d0>,\n",
       " <matplotlib.lines.Line2D at 0x7fdeea6cd410>,\n",
       " <matplotlib.lines.Line2D at 0x7fdeea6cd550>,\n",
       " <matplotlib.lines.Line2D at 0x7fdeea6cd690>,\n",
       " <matplotlib.lines.Line2D at 0x7fdeea6c3ed0>,\n",
       " <matplotlib.lines.Line2D at 0x7fdeea6cd910>,\n",
       " <matplotlib.lines.Line2D at 0x7fdeea6cda50>,\n",
       " <matplotlib.lines.Line2D at 0x7fdeea6cdb90>,\n",
       " <matplotlib.lines.Line2D at 0x7fdeea6cdcd0>,\n",
       " <matplotlib.lines.Line2D at 0x7fdeea6cde10>,\n",
       " <matplotlib.lines.Line2D at 0x7fdeea6cdf50>,\n",
       " <matplotlib.lines.Line2D at 0x7fdeea6cd7d0>,\n",
       " <matplotlib.lines.Line2D at 0x7fdeea657210>,\n",
       " <matplotlib.lines.Line2D at 0x7fdeea657350>,\n",
       " <matplotlib.lines.Line2D at 0x7fdeea657490>,\n",
       " <matplotlib.lines.Line2D at 0x7fdeea6575d0>,\n",
       " <matplotlib.lines.Line2D at 0x7fdeea657710>,\n",
       " <matplotlib.lines.Line2D at 0x7fdeea657850>,\n",
       " <matplotlib.lines.Line2D at 0x7fdeea6570d0>,\n",
       " <matplotlib.lines.Line2D at 0x7fdeea657ad0>,\n",
       " <matplotlib.lines.Line2D at 0x7fdeea657c10>,\n",
       " <matplotlib.lines.Line2D at 0x7fdeea657d50>,\n",
       " <matplotlib.lines.Line2D at 0x7fdeea657e90>,\n",
       " <matplotlib.lines.Line2D at 0x7fdeea657fd0>,\n",
       " <matplotlib.lines.Line2D at 0x7fdeea662150>,\n",
       " <matplotlib.lines.Line2D at 0x7fdeea657990>,\n",
       " <matplotlib.lines.Line2D at 0x7fdeea6623d0>,\n",
       " <matplotlib.lines.Line2D at 0x7fdeea662510>,\n",
       " <matplotlib.lines.Line2D at 0x7fdeea662650>,\n",
       " <matplotlib.lines.Line2D at 0x7fdeea662790>,\n",
       " <matplotlib.lines.Line2D at 0x7fdeea662950>,\n",
       " <matplotlib.lines.Line2D at 0x7fdeea662a90>,\n",
       " <matplotlib.lines.Line2D at 0x7fdeea662290>,\n",
       " <matplotlib.lines.Line2D at 0x7fdeea662d10>,\n",
       " <matplotlib.lines.Line2D at 0x7fdeea662e50>,\n",
       " <matplotlib.lines.Line2D at 0x7fdeea662f90>,\n",
       " <matplotlib.lines.Line2D at 0x7fdeea66b110>,\n",
       " <matplotlib.lines.Line2D at 0x7fdeea66b250>,\n",
       " <matplotlib.lines.Line2D at 0x7fdeea66b390>,\n",
       " <matplotlib.lines.Line2D at 0x7fdeea662bd0>,\n",
       " <matplotlib.lines.Line2D at 0x7fdeea66b610>,\n",
       " <matplotlib.lines.Line2D at 0x7fdeea66b750>,\n",
       " <matplotlib.lines.Line2D at 0x7fdeea66b890>,\n",
       " <matplotlib.lines.Line2D at 0x7fdeea66b9d0>,\n",
       " <matplotlib.lines.Line2D at 0x7fdeea66bb10>,\n",
       " <matplotlib.lines.Line2D at 0x7fdeea66bc50>,\n",
       " <matplotlib.lines.Line2D at 0x7fdeea66b4d0>,\n",
       " <matplotlib.lines.Line2D at 0x7fdeea66bed0>,\n",
       " <matplotlib.lines.Line2D at 0x7fdeea675050>,\n",
       " <matplotlib.lines.Line2D at 0x7fdeea675190>,\n",
       " <matplotlib.lines.Line2D at 0x7fdeea6752d0>,\n",
       " <matplotlib.lines.Line2D at 0x7fdeea675410>,\n",
       " <matplotlib.lines.Line2D at 0x7fdeea675550>,\n",
       " <matplotlib.lines.Line2D at 0x7fdeea66bd90>,\n",
       " <matplotlib.lines.Line2D at 0x7fdeea6757d0>,\n",
       " <matplotlib.lines.Line2D at 0x7fdeea675910>,\n",
       " <matplotlib.lines.Line2D at 0x7fdeea675a50>,\n",
       " <matplotlib.lines.Line2D at 0x7fdeea675b90>,\n",
       " <matplotlib.lines.Line2D at 0x7fdeea675cd0>,\n",
       " <matplotlib.lines.Line2D at 0x7fdeea675e10>,\n",
       " <matplotlib.lines.Line2D at 0x7fdeea675690>,\n",
       " <matplotlib.lines.Line2D at 0x7fdeea6800d0>,\n",
       " <matplotlib.lines.Line2D at 0x7fdeea680210>,\n",
       " <matplotlib.lines.Line2D at 0x7fdeea680350>,\n",
       " <matplotlib.lines.Line2D at 0x7fdeea680490>,\n",
       " <matplotlib.lines.Line2D at 0x7fdeea6805d0>,\n",
       " <matplotlib.lines.Line2D at 0x7fdeea680710>,\n",
       " <matplotlib.lines.Line2D at 0x7fdeea675f50>,\n",
       " <matplotlib.lines.Line2D at 0x7fdeea680990>,\n",
       " <matplotlib.lines.Line2D at 0x7fdeea680ad0>,\n",
       " <matplotlib.lines.Line2D at 0x7fdeea680c10>,\n",
       " <matplotlib.lines.Line2D at 0x7fdeea680d50>,\n",
       " <matplotlib.lines.Line2D at 0x7fdeea680e90>,\n",
       " <matplotlib.lines.Line2D at 0x7fdeea680fd0>,\n",
       " <matplotlib.lines.Line2D at 0x7fdeea680850>,\n",
       " <matplotlib.lines.Line2D at 0x7fdeea68a290>,\n",
       " <matplotlib.lines.Line2D at 0x7fdeea68a3d0>,\n",
       " <matplotlib.lines.Line2D at 0x7fdeea68a510>,\n",
       " <matplotlib.lines.Line2D at 0x7fdeea68a650>,\n",
       " <matplotlib.lines.Line2D at 0x7fdeea68a790>,\n",
       " <matplotlib.lines.Line2D at 0x7fdeea68a8d0>,\n",
       " <matplotlib.lines.Line2D at 0x7fdeea68a150>,\n",
       " <matplotlib.lines.Line2D at 0x7fdeea68ab50>,\n",
       " <matplotlib.lines.Line2D at 0x7fdeea68ac90>,\n",
       " <matplotlib.lines.Line2D at 0x7fdeea68add0>,\n",
       " <matplotlib.lines.Line2D at 0x7fdeea68af10>,\n",
       " <matplotlib.lines.Line2D at 0x7fdeea614090>,\n",
       " <matplotlib.lines.Line2D at 0x7fdeea6141d0>,\n",
       " <matplotlib.lines.Line2D at 0x7fdeea68aa10>,\n",
       " <matplotlib.lines.Line2D at 0x7fdeea614450>,\n",
       " <matplotlib.lines.Line2D at 0x7fdeea614590>,\n",
       " <matplotlib.lines.Line2D at 0x7fdeea6146d0>,\n",
       " <matplotlib.lines.Line2D at 0x7fdeea614810>,\n",
       " <matplotlib.lines.Line2D at 0x7fdeea614950>,\n",
       " <matplotlib.lines.Line2D at 0x7fdeea614a90>,\n",
       " <matplotlib.lines.Line2D at 0x7fdeea614310>,\n",
       " <matplotlib.lines.Line2D at 0x7fdeea614d10>,\n",
       " <matplotlib.lines.Line2D at 0x7fdeea614e50>,\n",
       " <matplotlib.lines.Line2D at 0x7fdeea614f90>,\n",
       " <matplotlib.lines.Line2D at 0x7fdeea61e110>,\n",
       " <matplotlib.lines.Line2D at 0x7fdeea61e250>,\n",
       " <matplotlib.lines.Line2D at 0x7fdeea61e390>,\n",
       " <matplotlib.lines.Line2D at 0x7fdeea614bd0>,\n",
       " <matplotlib.lines.Line2D at 0x7fdeea61e610>,\n",
       " <matplotlib.lines.Line2D at 0x7fdeea61e750>,\n",
       " <matplotlib.lines.Line2D at 0x7fdeea61e890>,\n",
       " <matplotlib.lines.Line2D at 0x7fdeea61e9d0>,\n",
       " <matplotlib.lines.Line2D at 0x7fdeea61eb10>,\n",
       " <matplotlib.lines.Line2D at 0x7fdeea61ec50>,\n",
       " <matplotlib.lines.Line2D at 0x7fdeea61e4d0>,\n",
       " <matplotlib.lines.Line2D at 0x7fdeea61eed0>,\n",
       " <matplotlib.lines.Line2D at 0x7fdeea629050>,\n",
       " <matplotlib.lines.Line2D at 0x7fdeea629190>,\n",
       " <matplotlib.lines.Line2D at 0x7fdeea6292d0>,\n",
       " <matplotlib.lines.Line2D at 0x7fdeea629410>,\n",
       " <matplotlib.lines.Line2D at 0x7fdeea629550>,\n",
       " <matplotlib.lines.Line2D at 0x7fdeea61ed90>,\n",
       " <matplotlib.lines.Line2D at 0x7fdeea6297d0>,\n",
       " <matplotlib.lines.Line2D at 0x7fdeea629910>,\n",
       " <matplotlib.lines.Line2D at 0x7fdeea629a50>,\n",
       " <matplotlib.lines.Line2D at 0x7fdeea629b90>,\n",
       " <matplotlib.lines.Line2D at 0x7fdeea629cd0>,\n",
       " <matplotlib.lines.Line2D at 0x7fdeea629e10>,\n",
       " <matplotlib.lines.Line2D at 0x7fdeea629690>,\n",
       " <matplotlib.lines.Line2D at 0x7fdeea6330d0>,\n",
       " <matplotlib.lines.Line2D at 0x7fdeea633210>,\n",
       " <matplotlib.lines.Line2D at 0x7fdeea633350>,\n",
       " <matplotlib.lines.Line2D at 0x7fdeea633490>,\n",
       " <matplotlib.lines.Line2D at 0x7fdeea6335d0>,\n",
       " <matplotlib.lines.Line2D at 0x7fdeea633710>,\n",
       " <matplotlib.lines.Line2D at 0x7fdeea629f50>,\n",
       " <matplotlib.lines.Line2D at 0x7fdeea633990>,\n",
       " <matplotlib.lines.Line2D at 0x7fdeea633ad0>,\n",
       " <matplotlib.lines.Line2D at 0x7fdeea633c10>,\n",
       " <matplotlib.lines.Line2D at 0x7fdeea633d50>,\n",
       " <matplotlib.lines.Line2D at 0x7fdeea633e90>,\n",
       " <matplotlib.lines.Line2D at 0x7fdeea633fd0>,\n",
       " <matplotlib.lines.Line2D at 0x7fdeea633850>,\n",
       " <matplotlib.lines.Line2D at 0x7fdeea63c290>,\n",
       " <matplotlib.lines.Line2D at 0x7fdeea63c3d0>,\n",
       " <matplotlib.lines.Line2D at 0x7fdeea63c510>,\n",
       " <matplotlib.lines.Line2D at 0x7fdeea63c650>,\n",
       " <matplotlib.lines.Line2D at 0x7fdeea63c790>,\n",
       " <matplotlib.lines.Line2D at 0x7fdeea63c8d0>,\n",
       " <matplotlib.lines.Line2D at 0x7fdeea63c150>,\n",
       " <matplotlib.lines.Line2D at 0x7fdeea63cb50>,\n",
       " <matplotlib.lines.Line2D at 0x7fdeea63cc90>,\n",
       " <matplotlib.lines.Line2D at 0x7fdeea63cdd0>,\n",
       " <matplotlib.lines.Line2D at 0x7fdeea63cf10>,\n",
       " <matplotlib.lines.Line2D at 0x7fdeea646090>,\n",
       " <matplotlib.lines.Line2D at 0x7fdeea6461d0>,\n",
       " <matplotlib.lines.Line2D at 0x7fdeea63ca10>,\n",
       " <matplotlib.lines.Line2D at 0x7fdeea646450>,\n",
       " <matplotlib.lines.Line2D at 0x7fdeea646590>,\n",
       " <matplotlib.lines.Line2D at 0x7fdeea6466d0>,\n",
       " <matplotlib.lines.Line2D at 0x7fdeea646810>,\n",
       " <matplotlib.lines.Line2D at 0x7fdeea646950>,\n",
       " <matplotlib.lines.Line2D at 0x7fdeea646a90>,\n",
       " <matplotlib.lines.Line2D at 0x7fdeea646310>,\n",
       " <matplotlib.lines.Line2D at 0x7fdeea646d10>,\n",
       " <matplotlib.lines.Line2D at 0x7fdeea646e50>,\n",
       " <matplotlib.lines.Line2D at 0x7fdeea646f90>,\n",
       " <matplotlib.lines.Line2D at 0x7fdeea5d1110>,\n",
       " <matplotlib.lines.Line2D at 0x7fdeea5d1250>,\n",
       " <matplotlib.lines.Line2D at 0x7fdeea5d1390>,\n",
       " <matplotlib.lines.Line2D at 0x7fdeea646bd0>,\n",
       " <matplotlib.lines.Line2D at 0x7fdeea5d1610>,\n",
       " <matplotlib.lines.Line2D at 0x7fdeea5d1750>,\n",
       " <matplotlib.lines.Line2D at 0x7fdeea5d1890>,\n",
       " <matplotlib.lines.Line2D at 0x7fdeea5d19d0>,\n",
       " <matplotlib.lines.Line2D at 0x7fdeea5d1b10>,\n",
       " <matplotlib.lines.Line2D at 0x7fdeea5d1c50>,\n",
       " <matplotlib.lines.Line2D at 0x7fdeea5d14d0>,\n",
       " <matplotlib.lines.Line2D at 0x7fdeea5d1ed0>,\n",
       " <matplotlib.lines.Line2D at 0x7fdeea5db050>,\n",
       " <matplotlib.lines.Line2D at 0x7fdeea5db190>,\n",
       " <matplotlib.lines.Line2D at 0x7fdeea5db2d0>,\n",
       " <matplotlib.lines.Line2D at 0x7fdeea5db410>,\n",
       " <matplotlib.lines.Line2D at 0x7fdeea5db550>,\n",
       " <matplotlib.lines.Line2D at 0x7fdeea5d1d90>,\n",
       " <matplotlib.lines.Line2D at 0x7fdeea5db7d0>,\n",
       " <matplotlib.lines.Line2D at 0x7fdeea5db910>,\n",
       " <matplotlib.lines.Line2D at 0x7fdeea5dba50>,\n",
       " <matplotlib.lines.Line2D at 0x7fdeea5dbb90>,\n",
       " <matplotlib.lines.Line2D at 0x7fdeea5dbcd0>,\n",
       " <matplotlib.lines.Line2D at 0x7fdeea5dbe10>,\n",
       " <matplotlib.lines.Line2D at 0x7fdeea5db690>,\n",
       " <matplotlib.lines.Line2D at 0x7fdeea5e50d0>,\n",
       " <matplotlib.lines.Line2D at 0x7fdeea5e5210>,\n",
       " <matplotlib.lines.Line2D at 0x7fdeea5e5350>,\n",
       " <matplotlib.lines.Line2D at 0x7fdeea5e5490>,\n",
       " <matplotlib.lines.Line2D at 0x7fdeea5e55d0>,\n",
       " <matplotlib.lines.Line2D at 0x7fdeea5e5710>,\n",
       " <matplotlib.lines.Line2D at 0x7fdeea5dbf50>,\n",
       " <matplotlib.lines.Line2D at 0x7fdeea5e5990>,\n",
       " <matplotlib.lines.Line2D at 0x7fdeea5e5ad0>,\n",
       " <matplotlib.lines.Line2D at 0x7fdeea5e5c10>,\n",
       " <matplotlib.lines.Line2D at 0x7fdeea5e5d50>,\n",
       " <matplotlib.lines.Line2D at 0x7fdeea5e5e90>,\n",
       " <matplotlib.lines.Line2D at 0x7fdeea5e5fd0>,\n",
       " <matplotlib.lines.Line2D at 0x7fdeea5e5850>,\n",
       " <matplotlib.lines.Line2D at 0x7fdeea5f0290>,\n",
       " <matplotlib.lines.Line2D at 0x7fdeea5f03d0>,\n",
       " <matplotlib.lines.Line2D at 0x7fdeea5f0510>,\n",
       " <matplotlib.lines.Line2D at 0x7fdeea5f0650>,\n",
       " <matplotlib.lines.Line2D at 0x7fdeea5f0790>,\n",
       " <matplotlib.lines.Line2D at 0x7fdeea5f08d0>,\n",
       " <matplotlib.lines.Line2D at 0x7fdeea5f0150>,\n",
       " <matplotlib.lines.Line2D at 0x7fdeea5f0b50>,\n",
       " <matplotlib.lines.Line2D at 0x7fdeea5f0c90>,\n",
       " <matplotlib.lines.Line2D at 0x7fdeea5f0dd0>,\n",
       " <matplotlib.lines.Line2D at 0x7fdeea5f0f10>,\n",
       " <matplotlib.lines.Line2D at 0x7fdeea5f9090>,\n",
       " <matplotlib.lines.Line2D at 0x7fdeea5f91d0>,\n",
       " <matplotlib.lines.Line2D at 0x7fdeea5f0a10>,\n",
       " <matplotlib.lines.Line2D at 0x7fdeea5f9450>,\n",
       " <matplotlib.lines.Line2D at 0x7fdeea5f9590>,\n",
       " <matplotlib.lines.Line2D at 0x7fdeea5f96d0>,\n",
       " <matplotlib.lines.Line2D at 0x7fdeea5f9810>,\n",
       " <matplotlib.lines.Line2D at 0x7fdeea5f9950>,\n",
       " <matplotlib.lines.Line2D at 0x7fdeea5f9a90>,\n",
       " <matplotlib.lines.Line2D at 0x7fdeea5f9310>,\n",
       " <matplotlib.lines.Line2D at 0x7fdeea5f9d10>,\n",
       " <matplotlib.lines.Line2D at 0x7fdeea5f9e50>,\n",
       " <matplotlib.lines.Line2D at 0x7fdeea5f9f90>,\n",
       " <matplotlib.lines.Line2D at 0x7fdeea605110>,\n",
       " <matplotlib.lines.Line2D at 0x7fdeea605250>,\n",
       " <matplotlib.lines.Line2D at 0x7fdeea605390>,\n",
       " <matplotlib.lines.Line2D at 0x7fdeea5f9bd0>,\n",
       " <matplotlib.lines.Line2D at 0x7fdeea605610>,\n",
       " <matplotlib.lines.Line2D at 0x7fdeea605750>,\n",
       " <matplotlib.lines.Line2D at 0x7fdeea605890>,\n",
       " <matplotlib.lines.Line2D at 0x7fdeea6059d0>,\n",
       " <matplotlib.lines.Line2D at 0x7fdeea605b10>]"
      ]
     },
     "execution_count": 257,
     "metadata": {},
     "output_type": "execute_result"
    },
    {
     "data": {
      "image/png": "[encoded data removed]",
      "text/plain": [
       "<matplotlib.figure.Figure at 0x7fdeebf04890>"
      ]
     },
     "metadata": {},
     "output_type": "display_data"
    }
   ],
   "source": [
    "%matplotlib inline\n",
    "plt.plot(walks)"
   ]
  },
  {
   "cell_type": "code",
   "execution_count": 3,
   "metadata": {
    "collapsed": false
   },
   "outputs": [
    {
     "data": {
      "image/png": "[encoded data removed]",
      "text/plain": [
       "<matplotlib.figure.Figure at 0x7feea867a290>"
      ]
     },
     "metadata": {},
     "output_type": "display_data"
    }
   ],
   "source": [
    "import numpy as np\n",
    "import matplotlib.pyplot as plt\n",
    "%matplotlib inline\n",
    "\n",
    "N = 500 # steps\n",
    "\n",
    "r = np.random.randint(1,3,N) # move 1 or 2 units of distance each step\n",
    "theta = np.radians(np.random.randint(0,361,N))\n",
    "\n",
    "# np.cumsum Return the cumulative sum of the elements along a given axis.\n",
    "x = np.cumsum(r*np.cos(theta))\n",
    "y = np.cumsum(r*np.sin(theta))\n",
    "plt.plot(x,y);"
   ]
  },
  {
   "cell_type": "code",
   "execution_count": 4,
   "metadata": {
    "collapsed": false
   },
   "outputs": [
    {
     "data": {
      "text/plain": [
       "array([2, 2, 2, 1, 2, 1, 2, 1, 2, 2, 2, 2, 2, 2, 1, 1, 1, 2, 1, 2, 1, 1, 1,\n",
       "       2, 1, 2, 1, 2, 1, 2, 1, 2, 1, 2, 2, 1, 1, 1, 2, 2, 2, 2, 1, 2, 2, 2,\n",
       "       2, 2, 2, 2, 2, 1, 1, 1, 1, 2, 1, 1, 2, 2, 1, 1, 2, 2, 2, 1, 1, 1, 2,\n",
       "       2, 2, 2, 1, 2, 1, 1, 2, 2, 1, 2, 2, 1, 2, 2, 2, 2, 1, 1, 2, 1, 2, 2,\n",
       "       1, 1, 2, 1, 2, 1, 2, 1, 2, 2, 1, 1, 1, 2, 1, 1, 1, 1, 1, 1, 1, 1, 2,\n",
       "       1, 1, 2, 1, 1, 2, 2, 2, 2, 2, 1, 1, 2, 1, 2, 1, 1, 2, 2, 1, 2, 2, 1,\n",
       "       2, 1, 1, 1, 2, 1, 1, 1, 2, 2, 1, 1, 1, 2, 2, 1, 2, 2, 1, 1, 2, 2, 2,\n",
       "       2, 2, 2, 1, 1, 1, 1, 2, 2, 2, 2, 2, 2, 1, 2, 2, 1, 2, 1, 1, 2, 1, 2,\n",
       "       2, 2, 2, 1, 2, 2, 2, 1, 2, 1, 2, 2, 2, 1, 2, 1, 1, 2, 2, 1, 1, 2, 1,\n",
       "       2, 2, 2, 1, 2, 1, 2, 1, 1, 1, 1, 2, 1, 1, 1, 2, 2, 1, 1, 1, 1, 2, 1,\n",
       "       2, 1, 2, 2, 1, 2, 1, 2, 1, 1, 1, 2, 1, 1, 1, 2, 1, 1, 1, 2, 2, 2, 1,\n",
       "       2, 2, 1, 1, 2, 1, 2, 2, 1, 2, 1, 1, 2, 2, 1, 1, 1, 2, 1, 2, 2, 2, 1,\n",
       "       2, 2, 2, 2, 1, 1, 2, 1, 2, 1, 2, 2, 2, 1, 1, 2, 1, 2, 2, 2, 2, 2, 2,\n",
       "       1, 1, 2, 1, 1, 1, 1, 2, 1, 1, 2, 2, 1, 2, 2, 2, 1, 2, 1, 1, 2, 1, 2,\n",
       "       1, 2, 1, 2, 2, 1, 2, 2, 2, 2, 1, 1, 2, 1, 2, 2, 1, 1, 2, 1, 1, 1, 2,\n",
       "       1, 1, 2, 1, 1, 2, 1, 2, 1, 2, 1, 1, 2, 1, 1, 1, 2, 1, 2, 1, 1, 1, 1,\n",
       "       1, 2, 2, 1, 1, 1, 1, 1, 2, 2, 2, 2, 2, 1, 2, 2, 1, 2, 1, 1, 2, 1, 2,\n",
       "       2, 2, 1, 2, 1, 1, 2, 1, 1, 2, 1, 1, 2, 1, 1, 1, 2, 1, 2, 2, 2, 2, 2,\n",
       "       1, 1, 1, 2, 2, 2, 1, 2, 1, 1, 2, 1, 1, 2, 1, 2, 2, 1, 1, 1, 2, 1, 1,\n",
       "       1, 1, 2, 2, 1, 2, 1, 1, 1, 2, 1, 1, 1, 2, 1, 2, 1, 2, 2, 2, 1, 2, 1,\n",
       "       1, 1, 2, 1, 2, 2, 1, 1, 1, 2, 2, 1, 2, 2, 1, 2, 1, 2, 2, 2, 2, 2, 2,\n",
       "       1, 2, 2, 2, 2, 1, 1, 1, 1, 1, 2, 2, 2, 2, 2, 2, 2])"
      ]
     },
     "execution_count": 4,
     "metadata": {},
     "output_type": "execute_result"
    }
   ],
   "source": [
    "r"
   ]
  },
  {
   "cell_type": "markdown",
   "metadata": {
    "collapsed": true
   },
   "source": [
    "# Breakout: trapezoidal integration"
   ]
  },
  {
   "cell_type": "code",
   "execution_count": 180,
   "metadata": {
    "collapsed": false
   },
   "outputs": [],
   "source": [
    "def f(x):\n",
    "    return x*x-3*x+2"
   ]
  },
  {
   "cell_type": "code",
   "execution_count": 181,
   "metadata": {
    "collapsed": false
   },
   "outputs": [],
   "source": [
    "import numpy as np\n",
    "def trapez(f,a,b,n):\n",
    "    s = f(np.linspace(a, b, n+1))\n",
    "    print((2*s.sum() - s[0]-s[-1])*(b-a)/(2*n))"
   ]
  },
  {
   "cell_type": "code",
   "execution_count": 185,
   "metadata": {
    "collapsed": true
   },
   "outputs": [],
   "source": [
    "import numpy as np\n",
    "def trapez(f,a,b,n):\n",
    "    x = np.linspace(a, b, n+1)\n",
    "    print((2*f(x).sum() - f(a)-f(b))*(b-a)/(2*n))"
   ]
  },
  {
   "cell_type": "code",
   "execution_count": 186,
   "metadata": {
    "collapsed": false
   },
   "outputs": [
    {
     "name": "stdout",
     "output_type": "stream",
     "text": [
      "4.545\n"
     ]
    }
   ],
   "source": [
    "trapez(f,-1,2,10)"
   ]
  },
  {
   "cell_type": "code",
   "execution_count": 147,
   "metadata": {
    "collapsed": false
   },
   "outputs": [
    {
     "name": "stdout",
     "output_type": "stream",
     "text": [
      "[ 4.        4.004001  4.008004 ...,  8.988004  8.994001  9.      ]\n"
     ]
    }
   ],
   "source": [
    "s = np.vectorize(f(x))"
   ]
  },
  {
   "cell_type": "code",
   "execution_count": 148,
   "metadata": {
    "collapsed": false
   },
   "outputs": [
    {
     "ename": "AttributeError",
     "evalue": "'vectorize' object has no attribute 'sum'",
     "output_type": "error",
     "traceback": [
      "\u001b[1;31m---------------------------------------------------------------------------\u001b[0m",
      "\u001b[1;31mAttributeError\u001b[0m                            Traceback (most recent call last)",
      "\u001b[1;32m<ipython-input-148-17e2f89bea7e>\u001b[0m in \u001b[0;36m<module>\u001b[1;34m()\u001b[0m\n\u001b[1;32m----> 1\u001b[1;33m \u001b[0ms\u001b[0m\u001b[1;33m.\u001b[0m\u001b[0msum\u001b[0m\u001b[1;33m(\u001b[0m\u001b[1;33m)\u001b[0m\u001b[1;33m\u001b[0m\u001b[0m\n\u001b[0m",
      "\u001b[1;31mAttributeError\u001b[0m: 'vectorize' object has no attribute 'sum'"
     ]
    }
   ],
   "source": [
    "s.sum()"
   ]
  },
  {
   "cell_type": "code",
   "execution_count": 141,
   "metadata": {
    "collapsed": false
   },
   "outputs": [
    {
     "ename": "AttributeError",
     "evalue": "'NoneType' object has no attribute 'sum'",
     "output_type": "error",
     "traceback": [
      "\u001b[1;31m---------------------------------------------------------------------------\u001b[0m",
      "\u001b[1;31mAttributeError\u001b[0m                            Traceback (most recent call last)",
      "\u001b[1;32m<ipython-input-141-17e2f89bea7e>\u001b[0m in \u001b[0;36m<module>\u001b[1;34m()\u001b[0m\n\u001b[1;32m----> 1\u001b[1;33m \u001b[0ms\u001b[0m\u001b[1;33m.\u001b[0m\u001b[0msum\u001b[0m\u001b[1;33m(\u001b[0m\u001b[1;33m)\u001b[0m\u001b[1;33m\u001b[0m\u001b[0m\n\u001b[0m",
      "\u001b[1;31mAttributeError\u001b[0m: 'NoneType' object has no attribute 'sum'"
     ]
    }
   ],
   "source": [
    "s.sum()"
   ]
  },
  {
   "cell_type": "code",
   "execution_count": 131,
   "metadata": {
    "collapsed": false
   },
   "outputs": [
    {
     "data": {
      "text/plain": [
       "-166.66650000000001"
      ]
     },
     "execution_count": 131,
     "metadata": {},
     "output_type": "execute_result"
    }
   ],
   "source": [
    "f(x).sum()"
   ]
  },
  {
   "cell_type": "code",
   "execution_count": 98,
   "metadata": {
    "collapsed": true
   },
   "outputs": [],
   "source": [
    "x = np.linspace(1,2,1001)"
   ]
  },
  {
   "cell_type": "code",
   "execution_count": 99,
   "metadata": {
    "collapsed": false
   },
   "outputs": [
    {
     "data": {
      "text/plain": [
       "array([ 1.   ,  1.001,  1.002, ...,  1.998,  1.999,  2.   ])"
      ]
     },
     "execution_count": 99,
     "metadata": {},
     "output_type": "execute_result"
    }
   ],
   "source": [
    "x"
   ]
  },
  {
   "cell_type": "code",
   "execution_count": 72,
   "metadata": {
    "collapsed": false
   },
   "outputs": [
    {
     "name": "stdout",
     "output_type": "stream",
     "text": [
      "[ 4.        4.004001  4.008004 ...,  8.988004  8.994001  9.      ]\n"
     ]
    },
    {
     "ename": "TypeError",
     "evalue": "'NoneType' object has no attribute '__getitem__'",
     "output_type": "error",
     "traceback": [
      "\u001b[1;31m---------------------------------------------------------------------------\u001b[0m",
      "\u001b[1;31mTypeError\u001b[0m                                 Traceback (most recent call last)",
      "\u001b[1;32m<ipython-input-72-578fbe5bc7bf>\u001b[0m in \u001b[0;36m<module>\u001b[1;34m()\u001b[0m\n\u001b[1;32m----> 1\u001b[1;33m \u001b[0mf\u001b[0m\u001b[1;33m(\u001b[0m\u001b[0mx\u001b[0m\u001b[1;33m)\u001b[0m\u001b[1;33m[\u001b[0m\u001b[1;36m0\u001b[0m\u001b[1;33m,\u001b[0m\u001b[1;36m0\u001b[0m\u001b[1;33m]\u001b[0m\u001b[1;33m\u001b[0m\u001b[0m\n\u001b[0m",
      "\u001b[1;31mTypeError\u001b[0m: 'NoneType' object has no attribute '__getitem__'"
     ]
    }
   ],
   "source": [
    "f(x)[0,0]"
   ]
  },
  {
   "cell_type": "code",
   "execution_count": 50,
   "metadata": {
    "collapsed": false
   },
   "outputs": [],
   "source": [
    "x = np.linspace(1, 2, 1001)"
   ]
  },
  {
   "cell_type": "code",
   "execution_count": 51,
   "metadata": {
    "collapsed": false
   },
   "outputs": [
    {
     "data": {
      "text/plain": [
       "array([ 1.   ,  1.001,  1.002, ...,  1.998,  1.999,  2.   ])"
      ]
     },
     "execution_count": 51,
     "metadata": {},
     "output_type": "execute_result"
    }
   ],
   "source": [
    "x"
   ]
  },
  {
   "cell_type": "code",
   "execution_count": 61,
   "metadata": {
    "collapsed": false
   },
   "outputs": [
    {
     "ename": "TypeError",
     "evalue": "unsupported operand type(s) for ** or pow(): 'list' and 'int'",
     "output_type": "error",
     "traceback": [
      "\u001b[1;31m---------------------------------------------------------------------------\u001b[0m",
      "\u001b[1;31mTypeError\u001b[0m                                 Traceback (most recent call last)",
      "\u001b[1;32m<ipython-input-61-f27d5cac613c>\u001b[0m in \u001b[0;36m<module>\u001b[1;34m()\u001b[0m\n\u001b[1;32m----> 1\u001b[1;33m \u001b[0mf\u001b[0m\u001b[1;33m(\u001b[0m\u001b[1;33m[\u001b[0m\u001b[1;36m0\u001b[0m\u001b[1;33m]\u001b[0m\u001b[1;33m)\u001b[0m\u001b[1;33m\u001b[0m\u001b[0m\n\u001b[0m",
      "\u001b[1;32m<ipython-input-55-88473efe9518>\u001b[0m in \u001b[0;36mf\u001b[1;34m(x)\u001b[0m\n\u001b[0;32m      1\u001b[0m \u001b[1;32mdef\u001b[0m \u001b[0mf\u001b[0m\u001b[1;33m(\u001b[0m\u001b[0mx\u001b[0m\u001b[1;33m)\u001b[0m\u001b[1;33m:\u001b[0m\u001b[1;33m\u001b[0m\u001b[0m\n\u001b[1;32m----> 2\u001b[1;33m     \u001b[1;32mprint\u001b[0m\u001b[1;33m(\u001b[0m\u001b[0mx\u001b[0m\u001b[1;33m**\u001b[0m\u001b[1;36m2\u001b[0m\u001b[1;33m+\u001b[0m\u001b[1;36m2\u001b[0m\u001b[1;33m*\u001b[0m\u001b[0mx\u001b[0m\u001b[1;33m+\u001b[0m\u001b[1;36m1\u001b[0m\u001b[1;33m)\u001b[0m\u001b[1;33m\u001b[0m\u001b[0m\n\u001b[0m",
      "\u001b[1;31mTypeError\u001b[0m: unsupported operand type(s) for ** or pow(): 'list' and 'int'"
     ]
    }
   ],
   "source": [
    "f([0])"
   ]
  },
  {
   "cell_type": "code",
   "execution_count": 188,
   "metadata": {
    "collapsed": false
   },
   "outputs": [
    {
     "name": "stdout",
     "output_type": "stream",
     "text": [
      "The slowest run took 20.45 times longer than the fastest. This could mean that an intermediate result is being cached.\n",
      "10000000 loops, best of 3: 152 ns per loop\n"
     ]
    }
   ],
   "source": [
    "%%timeit\n",
    "def f(x):\n",
    "    return x*x - 3*x + 2\n",
    "\n",
    "def trape(f,a,b,n):\n",
    "    #f = np.vectorize(f) # can apply on vector\n",
    "    h = float(b - a)/n\n",
    "    arr = f(np.linspace(a,b,n+1))\n",
    "    print (h/2.)*(2*arr.sum() - arr[0] - arr[-1])"
   ]
  },
  {
   "cell_type": "code",
   "execution_count": 153,
   "metadata": {
    "collapsed": false
   },
   "outputs": [
    {
     "name": "stdout",
     "output_type": "stream",
     "text": [
      "4.5000045\n"
     ]
    }
   ],
   "source": [
    "trape(f,-1,2,1000)"
   ]
  },
  {
   "cell_type": "code",
   "execution_count": 155,
   "metadata": {
    "collapsed": false,
    "scrolled": true
   },
   "outputs": [
    {
     "ename": "NameError",
     "evalue": "name 'arr' is not defined",
     "output_type": "error",
     "traceback": [
      "\u001b[1;31m---------------------------------------------------------------------------\u001b[0m",
      "\u001b[1;31mNameError\u001b[0m                                 Traceback (most recent call last)",
      "\u001b[1;32m<ipython-input-155-1cea32c5bbfc>\u001b[0m in \u001b[0;36m<module>\u001b[1;34m()\u001b[0m\n\u001b[1;32m----> 1\u001b[1;33m \u001b[0marr\u001b[0m\u001b[1;33m.\u001b[0m\u001b[0msum\u001b[0m\u001b[1;33m(\u001b[0m\u001b[1;33m)\u001b[0m\u001b[1;33m\u001b[0m\u001b[0m\n\u001b[0m",
      "\u001b[1;31mNameError\u001b[0m: name 'arr' is not defined"
     ]
    }
   ],
   "source": [
    "arr.sum()"
   ]
  },
  {
   "cell_type": "code",
   "execution_count": 187,
   "metadata": {
    "collapsed": true
   },
   "outputs": [],
   "source": [
    "timeit?"
   ]
  },
  {
   "cell_type": "code",
   "execution_count": null,
   "metadata": {
    "collapsed": true
   },
   "outputs": [],
   "source": []
  }
 ],
 "metadata": {
  "kernelspec": {
   "display_name": "Python 2",
   "language": "python",
   "name": "python2"
  },
  "language_info": {
   "codemirror_mode": {
    "name": "ipython",
    "version": 2
   },
   "file_extension": ".py",
   "mimetype": "text/x-python",
   "name": "python",
   "nbconvert_exporter": "python",
   "pygments_lexer": "ipython2",
   "version": "2.7.11"
  }
 },
 "nbformat": 4,
 "nbformat_minor": 0
}
