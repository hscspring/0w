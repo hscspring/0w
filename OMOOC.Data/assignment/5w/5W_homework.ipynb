{
 "cells": [
  {
   "cell_type": "markdown",
   "metadata": {},
   "source": [
    "1. 学习理解什么是极大似然估计。\n",
    "2. 使用Pandas中的函数，下载上证综指过去1年的收盘数据，以此来计算日收益率序列，对这个数据画出直方图，计算这组数据的各个描述性统计量。\n",
    "3. 对上述收益率数据，使用参数方法和非参数方法估计其概率密度函数。参数方法选择正态分布和对数正态分布两种假设。基于上述三种方法分别计算收益率小于0的概率。\n",
    "4. 使用Pandas中的函数，下载你感兴趣的任意两支股票的数据，计算日收益率序列，使用假设检验来判断这两支股票的平均收益率是否有差别。"
   ]
  },
  {
   "cell_type": "code",
   "execution_count": 1,
   "metadata": {
    "collapsed": true
   },
   "outputs": [],
   "source": [
    "from scipy import stats\n",
    "from scipy import optimize\n",
    "import numpy as np\n",
    "import random\n",
    "%matplotlib inline\n",
    "import matplotlib.pyplot as plt\n",
    "import seaborn as sns"
   ]
  },
  {
   "cell_type": "markdown",
   "metadata": {},
   "source": [
    "# 1.理解极大似然估计"
   ]
  },
  {
   "cell_type": "markdown",
   "metadata": {},
   "source": [
    "## 基本概念\n",
    "\n",
    "设总体含有待估参数θ，它可以取很多值，我们要在θ的一切可能取值之中选出一个使样本观测值出现的概率为最大的θ值（记为θ'）作为θ的估计，并称θ'为θ 的极大似然估计。一般，当总体分布类型已知时，极大似然估计（MLE）是一种常用的估计方法。"
   ]
  },
  {
   "cell_type": "markdown",
   "metadata": {},
   "source": [
    "## 数学模型及算法\n",
    "\n",
    "X的概率密度函数为：p(x;θ),其中θ为未知参数，从总体中获得容量为n的样本观测值x1,x2,x3...,xn，则在X1=x1,X2=x2...,Xn=xn时联合密度函数为："
   ]
  },
  {
   "cell_type": "markdown",
   "metadata": {},
   "source": [
    "\\begin{equation*}\n",
    "L(\\theta) = \\prod_{i=1}^{n} p(x_i,\\theta)\n",
    "\\end{equation*}"
   ]
  },
  {
   "cell_type": "markdown",
   "metadata": {},
   "source": [
    "称为似然函数，对于不同的θ，同一组样本观察值x1,x2...,xn的联合密度函数值不同，因而我们选择θ的极大似然估计θ'应满足："
   ]
  },
  {
   "cell_type": "markdown",
   "metadata": {},
   "source": [
    "\\begin{equation*}\n",
    "L(\\theta‘) = max L(\\theta)\n",
    "\\end{equation*}"
   ]
  },
  {
   "cell_type": "markdown",
   "metadata": {},
   "source": [
    "当函数关于参数可导时，可通过求导方法获得似然函数极大值对应的参数。为了方便求导，一般会对似然函数取对数，称lnL(θ)为对数似然函数，它与L(θ)在同一点达到最大。通过L(θ)对θ每一分量求偏导并令其为0求得："
   ]
  },
  {
   "cell_type": "markdown",
   "metadata": {},
   "source": [
    "\\begin{equation*}\n",
    "\\frac{\\partial L(\\theta)}{\\partial \\theta_j} = 0\n",
    "\\quad\\quad \\text{j=1,2,...,k}\n",
    "\\end{equation*}"
   ]
  },
  {
   "cell_type": "markdown",
   "metadata": {},
   "source": [
    "## 性质\n",
    "\n",
    "**不变原则：** 设θ'是θ的极大似然估计，g(θ)是θ的连续函数，则g(θ)的极大似然估计为g(θ')  "
   ]
  },
  {
   "cell_type": "markdown",
   "metadata": {},
   "source": [
    "**渐进正态性：** 设总体X具有密度函数p(x;θ)，未知参数θ属于一个非退化区间，并假定：  "
   ]
  },
  {
   "cell_type": "markdown",
   "metadata": {},
   "source": [
    "（1）对一切Θ，存在：\n",
    "\\begin{equation*}\n",
    "\\frac{\\partial ln(p)}{\\partial \\theta}\n",
    "\\frac{\\partial^2 ln(p)}{\\partial \\theta^2}\n",
    "\\frac{\\partial^3 ln(p)}{\\partial \\theta^3}\n",
    "\\end{equation*}"
   ]
  },
  {
   "cell_type": "markdown",
   "metadata": {},
   "source": [
    "（2）对一切Θ，有：\n",
    "\n",
    "\\begin{equation*}\n",
    "\\left|\\frac{\\partial ln(p)}{\\partial \\theta}\\right| < F_1(x)\\\\\n",
    "\\left|\\frac{\\partial^2 ln(p)}{\\partial \\theta^2}\\right| <F_2(x) \\\\\n",
    "\\left|\\frac{\\partial^3 ln(p)}{\\partial \\theta^3}\\right| <F_3(x)\n",
    "\\end{equation*}\n",
    "\n",
    "其中函数：\n",
    "\\begin{equation*}\n",
    "F_1(x)，F_2(x) 在(-\\infty,\\infty)上可积，而函数F_3(x)满足：\n",
    "\\int_{-\\infty}^{\\infty} F_3(x)p(x;\\theta)dx<M\n",
    "\\end{equation*}\n",
    "其中M与θ无关。"
   ]
  },
  {
   "cell_type": "markdown",
   "metadata": {},
   "source": [
    "（3）对一切θ，有：\n",
    "\n",
    "\\begin{equation*}\n",
    "0 < E(\\frac{\\partial ln(p)}{\\partial \\theta})^2 = \\int_{-\\infty}^{\\infty} (\\frac{\\partial ln(p)}{\\partial \\theta})^2p(x;\\theta)dx < \\infty\n",
    "\\end{equation*}\n",
    "\n",
    "则在分布参数θ的真值θ0为θ集合的一个内点的情况下，其似然方程：\n",
    "\\begin{equation*}\n",
    "\\frac{\\partial ln(p)}{\\partial \\theta}=0\n",
    "\\end{equation*}\n",
    "有一个解θ'存在，并对任意ε>0，随着n趋向无穷，有：\n",
    "\\begin{equation*}\n",
    "P(|\\theta'-\\theta_0|>ε) \\rightarrow 0\n",
    "\\end{equation*}\n",
    "且θ'渐进服从正态分布：\n",
    "\\begin{equation*}\n",
    "N(\\theta_0,[nE(\\frac{\\partial ln(p)}{\\partial \\theta})^2]_{\\theta=\\theta_0}^{-1})\n",
    "\\end{equation*}\n",
    "\n",
    "该定理对单参数离散分布场合也成立，只要把定理中的密度函数看成概率函数，积分改成求和即可。"
   ]
  },
  {
   "cell_type": "markdown",
   "metadata": {},
   "source": [
    "## 通俗理解  \n",
    "\n",
    "**转载，个别地方有调整**\n",
    "\n",
    "最大似然法,英文名称是Maximum Likelihood Method，在统计中应用很广。这个方法的思想最早由高斯提出来，后来由菲舍加以推广并命名。\n",
    "\n",
    "最大似然法是要解决这样一个问题：给定一组数据和一个参数待定的模型，如何确定模型的参数，使得这个确定参数后的模型在所有模型中产生已知数据的概率最大。通俗一点讲，就是在什么情况下最有可能发生已知的事件。\n",
    "\n",
    "举个例子，假如有一个罐子，里面有黑白两种颜色的球，数目多少不知，两种颜色的比例也不知。我们想知道罐中白球和黑球的比例，但我们不能把罐中的球全部拿出来数。现在我们可以每次任意从已经摇匀的罐中拿一个球出来，记录球的颜色，然后把拿出来的球 再放回罐中。这个过程可以重复，我们可以用记录的球的颜色来估计罐中黑白球的比例。假如在前面的一百次重复记录中，有七十次是白球，请问罐中白球所占的比 例最有可能是多少？\n",
    "\n",
    "我想很多人立马有答案：70%。这个答案是正确的。可是为什么呢？其实，在很多常识的背后，都有相应的理论支持。在上面的问题中，就有最大似然法的支持。\n",
    "\n",
    "我们假设罐中白球的比例是p，那么黑球的比例就是1-p。因为每抽一个球出来，在记录颜色之后，我们把抽出的球放回了罐中并摇匀，所以每次抽出来的球的颜 色服从同一独立分布。这里我们把一次抽出来球的颜色称为一次抽样。题目中在一百次抽样中，七十次是白球的概率是P(Data | M)，这里Data是所有的数据，M是所给出的模型，表示每次抽出来的球是白色的概率为p。如果第一抽样的结果记为x1，第二抽样的结果记为x2，。。。 那么Data = (x1,x2,...,x100)。这样，\n",
    "P(Data | M)\n",
    "= P(x1,x2,...,x100|M)\n",
    "= P(x1|M)P(x2|M)...P(x100|M)\n",
    "= p^70(1-p)^30.\n",
    "那么p在取什么值的时候，P(Data |M)的值最大呢？将p^70(1-p)^30对p求导，并其等于零。\n",
    "70p^69(1-p)^30-p^70*30(1-p)^29=0。\n",
    "解方程可以得到p=0.7。\n",
    "在边界点p=0,1，P(Data|M)=0。所以当p=0.7时，P(Data|M)的值最大。这和我们常识中按抽样中的比例来计算的结果是一样的。\n",
    "\n",
    "接着想到了连续变量。\n",
    "\n",
    "假如我们有一组连续变量的采样值（x1,x2,...,xn），我们知道这组数据服从正态分布，标准差已知。请问这个正态分布的期望值为多少时，产生这个 已有数据的概率最大？\n",
    "P(Data | M) = ??\n",
    "\n",
    "求导，u=(x1+x2+...+xn)/n.这个正态分布的期望值，就是这组数据的均值。在我们的日常生活和工作中，我们经常会用到平均值，这是有道理的，可以用最大似然法来解释。如果数据服从正态分布，这是最可能的数据。\n",
    "\n",
    "最大似然法原理简单，应用很广。举个例子，这样的情况在生活会经常遇到。假如人们会感染一种病毒，有一种测试方法，在被测试者已感染这个病毒时，测试结果 为阳性的概率为95%。在被测试者没有感染这个病毒时，测试结果为阳性的概率为2%。现在，有一个人的测试结果为阳性，问这个人感染了病毒吗？根据最大似 然法，如果一个人感染病毒，95%的测试结果会为阳性；而如果这个人没有感染病毒，只有2%的测试结果会为阳性，所以这个人应该是已经感染病毒了。\n",
    "\n",
    "最大似然法应用广泛，但是经常会受到一种批评，而且对于这种批评，尤其在数据量比较小的时候，最大似然法的支持者没有很多充分的反驳理由：在最大似然法 中，只考虑了由一个模型产生一个已知数据的概率，而没有考虑模型本身的概率。相对应的考虑了模型本身概率的方法，是贝叶斯方法（Bayesian method)。\n",
    "\n",
    "在上面测试病毒的例子中，如果我们知道在整体人群中，只有1%人会感染这种病毒，那么，根据贝叶斯方法，这个被测试者只有1/3左右的可能性感染了病毒 {1%*95%/(1%*95%+99%*2%)=32.4%}\n",
    "在这里，我们看到先验概率对结果的影响很大。\n",
    "\n",
    "不过，当数据量比较大的时候，先验概率的影响就会减小。比如，人们在被检测出感染了一个严重的病毒后，一般会去其他医院复查。假如同一个人在三家医院进行了独立的检查，结果都是阳性。那么，这个人真正感染了病毒的概率有多大？在这个人感染病毒时，出现这种检测结果的可能性为95%*95%*95% = 85.7%；而在这个人没有感染病毒时，出现这种检测结果的可能性为2%*2%*2% = 0.000008。根据最大似然法，我们应选择这个人感染了病毒。\n",
    "\n",
    "根据贝叶斯方法，这个人感染病毒的概率为1%*95%*95%*95%/(1%*95%*95%*95%+99%*2%*2%*2%) = 99.9%。\n",
    "\n",
    "在以后的一个应用中，才对“模型已知，参数未定”这一要求有了进一步的认识。\n",
    "\n",
    "\n",
    "原文在**[这里](http://www.zhizhihu.com/html/y2010/1520.html)**\n"
   ]
  },
  {
   "cell_type": "markdown",
   "metadata": {},
   "source": [
    "# 2.大盘日收益率"
   ]
  },
  {
   "cell_type": "code",
   "execution_count": 3,
   "metadata": {
    "collapsed": true
   },
   "outputs": [],
   "source": [
    "import pandas as pd\n",
    "import tushare as ts\n",
    "import datetime"
   ]
  },
  {
   "cell_type": "markdown",
   "metadata": {},
   "source": [
    "## 收益率"
   ]
  },
  {
   "cell_type": "markdown",
   "metadata": {},
   "source": [
    "收益率一般有两种计算方式，一种是单期的简单收益率，另一种是计算复利的连续复合收益率。\n",
    "\n",
    "单期简单收益率：\n",
    "\\begin{equation*}\n",
    "1 + R_t = \\frac{P_t}{P_{t-1}} \\\\\n",
    "R_t = \\frac{(P_t-P_{t-1})}{P_{t-1}}\n",
    "\\end{equation*}\n",
    "\n",
    "多期（k期）简单收益率：\n",
    "\\begin{equation*}\n",
    "R_{kt} = \\sum_{i=1}^k R_t\n",
    "\\end{equation*}\n",
    "\n",
    "连续复合收益率（单期）：\n",
    "\\begin{equation*}\n",
    "r_t = ln(1+R_t) = ln \\frac{P_t}{P_{t-1}} = ln(P_t) - ln(P_{t-1})\n",
    "\\end{equation*}\n",
    "\n",
    "连续复合收益率（k期）：\n",
    "\\begin{equation*}\n",
    "r_t[k] = ln(P_t)-ln(P_{t-k+1}) = ln(P_t)-ln(P_{t-1}) + ln(P_{t-1})-ln(P_{t-2}) +...+ ln(P_{t-k-2}) -ln(P_{t-k+1}) \\\\= r_t+ r_{t-1}+...+r_{t-k+1}\n",
    "\\end{equation*}\n",
    "\n",
    "有两篇文章基本将这个问题描述清楚了：  \n",
    "[处理金融数据为什么要对数化](https://www.zhihu.com/question/20064721)  \n",
    "[自然对数于股票收益率](http://blog.163.com/shyang_li@126/blog/static/952031020094260227810)"
   ]
  },
  {
   "cell_type": "markdown",
   "metadata": {},
   "source": [
    "## e"
   ]
  },
  {
   "cell_type": "markdown",
   "metadata": {},
   "source": [
    "说起收益率，不得不说一下大名鼎鼎的e，也就是增长极限：\n",
    "\n",
    "\\begin{equation*}\n",
    "growth = \\lim_{n \\rightarrow +\\infty} (1+ \\frac{100\\%}{n})^n = 2.718281828...\n",
    "\\end{equation*}\n",
    "\n",
    "它的含义是单位时间内，持续的翻倍增长所能达到的极限值。所以，利率最多的增长就是e。  \n",
    "换成利率（t表示年）表示：\n",
    "\n",
    "\\begin{equation*}\n",
    "growth = e^{rt}\n",
    "\\end{equation*}\n",
    "\n",
    "这就是增长率的通用计算公式。我们可以很快算出实际收益。\n",
    "另外，用72除以增长率就是翻倍的大约时间，也就是经济学上著名的[72法则](https://zh.wikipedia.org/zh/72法則)  \n",
    "\n",
    "关于e，有篇文章描述的非常清楚（同时里面还有另一篇介绍e基础的文章链接）：  \n",
    "[e，一个常数的传奇](http://www.physixfan.com/archives/1371)"
   ]
  },
  {
   "cell_type": "markdown",
   "metadata": {},
   "source": [
    "## Step1：读取数据"
   ]
  },
  {
   "cell_type": "code",
   "execution_count": null,
   "metadata": {
    "collapsed": true
   },
   "outputs": [],
   "source": [
    "from pandas_datareader import data, wb\n",
    "import pandas.io.data as web"
   ]
  },
  {
   "cell_type": "code",
   "execution_count": 13,
   "metadata": {
    "collapsed": true
   },
   "outputs": [],
   "source": [
    "sh = web.DataReader(\"000001.SS\", 'yahoo', start='2015-09-30', end='2016-09-30')"
   ]
  },
  {
   "cell_type": "code",
   "execution_count": 4,
   "metadata": {
    "collapsed": false
   },
   "outputs": [],
   "source": [
    "#sh = data.DataReader(\"000001.SS\", 'yahoo', \"2015-1-1\", \"2016-5-27\")\n",
    "sh = ts.get_hist_data('sh', start='2015-09-30', end='2016-09-30')"
   ]
  },
  {
   "cell_type": "code",
   "execution_count": 90,
   "metadata": {
    "collapsed": true
   },
   "outputs": [],
   "source": [
    "google = web.DataReader(\"GOOGL\", 'yahoo', start='2015-09-30', end='2016-09-30')"
   ]
  },
  {
   "cell_type": "code",
   "execution_count": null,
   "metadata": {
    "collapsed": true
   },
   "outputs": [],
   "source": []
  },
  {
   "cell_type": "code",
   "execution_count": null,
   "metadata": {
    "collapsed": true
   },
   "outputs": [],
   "source": []
  },
  {
   "cell_type": "markdown",
   "metadata": {},
   "source": [
    "## Step2：探索数据"
   ]
  },
  {
   "cell_type": "code",
   "execution_count": 15,
   "metadata": {
    "collapsed": false
   },
   "outputs": [
    {
     "data": {
      "text/html": [
       "<div>\n",
       "<table border=\"1\" class=\"dataframe\">\n",
       "  <thead>\n",
       "    <tr style=\"text-align: right;\">\n",
       "      <th></th>\n",
       "      <th>Open</th>\n",
       "      <th>High</th>\n",
       "      <th>Low</th>\n",
       "      <th>Close</th>\n",
       "      <th>Volume</th>\n",
       "      <th>Adj Close</th>\n",
       "    </tr>\n",
       "    <tr>\n",
       "      <th>Date</th>\n",
       "      <th></th>\n",
       "      <th></th>\n",
       "      <th></th>\n",
       "      <th></th>\n",
       "      <th></th>\n",
       "      <th></th>\n",
       "    </tr>\n",
       "  </thead>\n",
       "  <tbody>\n",
       "    <tr>\n",
       "      <th>2015-09-30</th>\n",
       "      <td>3052.78</td>\n",
       "      <td>3052.78</td>\n",
       "      <td>3052.78</td>\n",
       "      <td>3052.78</td>\n",
       "      <td>0</td>\n",
       "      <td>3052.78</td>\n",
       "    </tr>\n",
       "    <tr>\n",
       "      <th>2015-10-12</th>\n",
       "      <td>3287.66</td>\n",
       "      <td>3287.66</td>\n",
       "      <td>3287.66</td>\n",
       "      <td>3287.66</td>\n",
       "      <td>0</td>\n",
       "      <td>3287.66</td>\n",
       "    </tr>\n",
       "    <tr>\n",
       "      <th>2015-10-14</th>\n",
       "      <td>3262.44</td>\n",
       "      <td>3262.44</td>\n",
       "      <td>3262.44</td>\n",
       "      <td>3262.44</td>\n",
       "      <td>0</td>\n",
       "      <td>3262.44</td>\n",
       "    </tr>\n",
       "    <tr>\n",
       "      <th>2015-10-15</th>\n",
       "      <td>3338.07</td>\n",
       "      <td>3338.07</td>\n",
       "      <td>3338.07</td>\n",
       "      <td>3338.07</td>\n",
       "      <td>0</td>\n",
       "      <td>3338.07</td>\n",
       "    </tr>\n",
       "    <tr>\n",
       "      <th>2015-10-16</th>\n",
       "      <td>3391.35</td>\n",
       "      <td>3391.35</td>\n",
       "      <td>3391.35</td>\n",
       "      <td>3391.35</td>\n",
       "      <td>0</td>\n",
       "      <td>3391.35</td>\n",
       "    </tr>\n",
       "  </tbody>\n",
       "</table>\n",
       "</div>"
      ],
      "text/plain": [
       "               Open     High      Low    Close  Volume  Adj Close\n",
       "Date                                                             \n",
       "2015-09-30  3052.78  3052.78  3052.78  3052.78       0    3052.78\n",
       "2015-10-12  3287.66  3287.66  3287.66  3287.66       0    3287.66\n",
       "2015-10-14  3262.44  3262.44  3262.44  3262.44       0    3262.44\n",
       "2015-10-15  3338.07  3338.07  3338.07  3338.07       0    3338.07\n",
       "2015-10-16  3391.35  3391.35  3391.35  3391.35       0    3391.35"
      ]
     },
     "execution_count": 15,
     "metadata": {},
     "output_type": "execute_result"
    }
   ],
   "source": [
    "sh.head()"
   ]
  },
  {
   "cell_type": "code",
   "execution_count": 145,
   "metadata": {
    "collapsed": false
   },
   "outputs": [
    {
     "data": {
      "text/html": [
       "<div>\n",
       "<table border=\"1\" class=\"dataframe\">\n",
       "  <thead>\n",
       "    <tr style=\"text-align: right;\">\n",
       "      <th></th>\n",
       "      <th>open</th>\n",
       "      <th>high</th>\n",
       "      <th>close</th>\n",
       "      <th>low</th>\n",
       "      <th>volume</th>\n",
       "      <th>price_change</th>\n",
       "      <th>p_change</th>\n",
       "      <th>ma5</th>\n",
       "      <th>ma10</th>\n",
       "      <th>ma20</th>\n",
       "      <th>v_ma5</th>\n",
       "      <th>v_ma10</th>\n",
       "      <th>v_ma20</th>\n",
       "    </tr>\n",
       "  </thead>\n",
       "  <tbody>\n",
       "    <tr>\n",
       "      <th>count</th>\n",
       "      <td>247.000000</td>\n",
       "      <td>247.000000</td>\n",
       "      <td>247.000000</td>\n",
       "      <td>247.000000</td>\n",
       "      <td>2.470000e+02</td>\n",
       "      <td>247.000000</td>\n",
       "      <td>247.000000</td>\n",
       "      <td>247.000000</td>\n",
       "      <td>247.000000</td>\n",
       "      <td>247.000000</td>\n",
       "      <td>2.470000e+02</td>\n",
       "      <td>2.470000e+02</td>\n",
       "      <td>2.470000e+02</td>\n",
       "    </tr>\n",
       "    <tr>\n",
       "      <th>mean</th>\n",
       "      <td>3383.393850</td>\n",
       "      <td>3431.607097</td>\n",
       "      <td>3387.269036</td>\n",
       "      <td>3330.598721</td>\n",
       "      <td>3.133212e+06</td>\n",
       "      <td>-6.897381</td>\n",
       "      <td>-0.155263</td>\n",
       "      <td>3402.931737</td>\n",
       "      <td>3421.429437</td>\n",
       "      <td>3453.477300</td>\n",
       "      <td>3.179796e+06</td>\n",
       "      <td>3.228594e+06</td>\n",
       "      <td>3.303285e+06</td>\n",
       "    </tr>\n",
       "    <tr>\n",
       "      <th>std</th>\n",
       "      <td>577.876731</td>\n",
       "      <td>588.856362</td>\n",
       "      <td>574.307176</td>\n",
       "      <td>551.972649</td>\n",
       "      <td>1.655280e+06</td>\n",
       "      <td>89.316978</td>\n",
       "      <td>2.464555</td>\n",
       "      <td>580.194230</td>\n",
       "      <td>583.688210</td>\n",
       "      <td>578.336815</td>\n",
       "      <td>1.616697e+06</td>\n",
       "      <td>1.592419e+06</td>\n",
       "      <td>1.543688e+06</td>\n",
       "    </tr>\n",
       "    <tr>\n",
       "      <th>min</th>\n",
       "      <td>2652.850000</td>\n",
       "      <td>2735.260000</td>\n",
       "      <td>2655.660000</td>\n",
       "      <td>2638.300000</td>\n",
       "      <td>7.056912e+05</td>\n",
       "      <td>-345.350000</td>\n",
       "      <td>-8.490000</td>\n",
       "      <td>2713.448000</td>\n",
       "      <td>2734.699000</td>\n",
       "      <td>2785.652000</td>\n",
       "      <td>1.091824e+06</td>\n",
       "      <td>1.150535e+06</td>\n",
       "      <td>1.319294e+06</td>\n",
       "    </tr>\n",
       "    <tr>\n",
       "      <th>25%</th>\n",
       "      <td>2947.345000</td>\n",
       "      <td>2986.040000</td>\n",
       "      <td>2951.245000</td>\n",
       "      <td>2912.435000</td>\n",
       "      <td>1.922865e+06</td>\n",
       "      <td>-39.100000</td>\n",
       "      <td>-1.195000</td>\n",
       "      <td>2959.100000</td>\n",
       "      <td>2963.020000</td>\n",
       "      <td>2981.928000</td>\n",
       "      <td>2.007426e+06</td>\n",
       "      <td>2.109901e+06</td>\n",
       "      <td>2.118971e+06</td>\n",
       "    </tr>\n",
       "    <tr>\n",
       "      <th>50%</th>\n",
       "      <td>3203.560000</td>\n",
       "      <td>3298.630000</td>\n",
       "      <td>3232.350000</td>\n",
       "      <td>3178.900000</td>\n",
       "      <td>2.668821e+06</td>\n",
       "      <td>3.280000</td>\n",
       "      <td>0.110000</td>\n",
       "      <td>3251.444000</td>\n",
       "      <td>3303.197000</td>\n",
       "      <td>3355.713000</td>\n",
       "      <td>2.590065e+06</td>\n",
       "      <td>2.506967e+06</td>\n",
       "      <td>2.681256e+06</td>\n",
       "    </tr>\n",
       "    <tr>\n",
       "      <th>75%</th>\n",
       "      <td>3627.740000</td>\n",
       "      <td>3663.845000</td>\n",
       "      <td>3641.480000</td>\n",
       "      <td>3600.080000</td>\n",
       "      <td>3.988699e+06</td>\n",
       "      <td>42.380000</td>\n",
       "      <td>1.260000</td>\n",
       "      <td>3631.191000</td>\n",
       "      <td>3643.410500</td>\n",
       "      <td>3687.644000</td>\n",
       "      <td>4.034897e+06</td>\n",
       "      <td>4.066548e+06</td>\n",
       "      <td>4.240627e+06</td>\n",
       "    </tr>\n",
       "    <tr>\n",
       "      <th>max</th>\n",
       "      <td>5174.418000</td>\n",
       "      <td>5178.191000</td>\n",
       "      <td>5166.350000</td>\n",
       "      <td>5103.401000</td>\n",
       "      <td>8.550351e+06</td>\n",
       "      <td>224.190000</td>\n",
       "      <td>5.760000</td>\n",
       "      <td>5127.879000</td>\n",
       "      <td>5052.792000</td>\n",
       "      <td>4925.927000</td>\n",
       "      <td>7.287152e+06</td>\n",
       "      <td>6.936106e+06</td>\n",
       "      <td>6.499393e+06</td>\n",
       "    </tr>\n",
       "  </tbody>\n",
       "</table>\n",
       "</div>"
      ],
      "text/plain": [
       "              open         high        close          low        volume  \\\n",
       "count   247.000000   247.000000   247.000000   247.000000  2.470000e+02   \n",
       "mean   3383.393850  3431.607097  3387.269036  3330.598721  3.133212e+06   \n",
       "std     577.876731   588.856362   574.307176   551.972649  1.655280e+06   \n",
       "min    2652.850000  2735.260000  2655.660000  2638.300000  7.056912e+05   \n",
       "25%    2947.345000  2986.040000  2951.245000  2912.435000  1.922865e+06   \n",
       "50%    3203.560000  3298.630000  3232.350000  3178.900000  2.668821e+06   \n",
       "75%    3627.740000  3663.845000  3641.480000  3600.080000  3.988699e+06   \n",
       "max    5174.418000  5178.191000  5166.350000  5103.401000  8.550351e+06   \n",
       "\n",
       "       price_change    p_change          ma5         ma10         ma20  \\\n",
       "count    247.000000  247.000000   247.000000   247.000000   247.000000   \n",
       "mean      -6.897381   -0.155263  3402.931737  3421.429437  3453.477300   \n",
       "std       89.316978    2.464555   580.194230   583.688210   578.336815   \n",
       "min     -345.350000   -8.490000  2713.448000  2734.699000  2785.652000   \n",
       "25%      -39.100000   -1.195000  2959.100000  2963.020000  2981.928000   \n",
       "50%        3.280000    0.110000  3251.444000  3303.197000  3355.713000   \n",
       "75%       42.380000    1.260000  3631.191000  3643.410500  3687.644000   \n",
       "max      224.190000    5.760000  5127.879000  5052.792000  4925.927000   \n",
       "\n",
       "              v_ma5        v_ma10        v_ma20  \n",
       "count  2.470000e+02  2.470000e+02  2.470000e+02  \n",
       "mean   3.179796e+06  3.228594e+06  3.303285e+06  \n",
       "std    1.616697e+06  1.592419e+06  1.543688e+06  \n",
       "min    1.091824e+06  1.150535e+06  1.319294e+06  \n",
       "25%    2.007426e+06  2.109901e+06  2.118971e+06  \n",
       "50%    2.590065e+06  2.506967e+06  2.681256e+06  \n",
       "75%    4.034897e+06  4.066548e+06  4.240627e+06  \n",
       "max    7.287152e+06  6.936106e+06  6.499393e+06  "
      ]
     },
     "execution_count": 145,
     "metadata": {},
     "output_type": "execute_result"
    }
   ],
   "source": [
    "sh.describe()"
   ]
  },
  {
   "cell_type": "code",
   "execution_count": 146,
   "metadata": {
    "collapsed": false
   },
   "outputs": [
    {
     "name": "stdout",
     "output_type": "stream",
     "text": [
      "<class 'pandas.core.frame.DataFrame'>\n",
      "Index: 247 entries, 2016-05-31 to 2015-05-29\n",
      "Data columns (total 13 columns):\n",
      "open            247 non-null float64\n",
      "high            247 non-null float64\n",
      "close           247 non-null float64\n",
      "low             247 non-null float64\n",
      "volume          247 non-null float64\n",
      "price_change    247 non-null float64\n",
      "p_change        247 non-null float64\n",
      "ma5             247 non-null float64\n",
      "ma10            247 non-null float64\n",
      "ma20            247 non-null float64\n",
      "v_ma5           247 non-null float64\n",
      "v_ma10          247 non-null float64\n",
      "v_ma20          247 non-null float64\n",
      "dtypes: float64(13)\n",
      "memory usage: 27.0+ KB\n"
     ]
    }
   ],
   "source": [
    "sh.info()"
   ]
  },
  {
   "cell_type": "markdown",
   "metadata": {},
   "source": [
    "## Step3：数据处理"
   ]
  },
  {
   "cell_type": "code",
   "execution_count": 5,
   "metadata": {
    "collapsed": true
   },
   "outputs": [],
   "source": [
    "sh =sh.sort_index() #按时间排序"
   ]
  },
  {
   "cell_type": "code",
   "execution_count": 6,
   "metadata": {
    "collapsed": false
   },
   "outputs": [
    {
     "data": {
      "text/html": [
       "<div>\n",
       "<table border=\"1\" class=\"dataframe\">\n",
       "  <thead>\n",
       "    <tr style=\"text-align: right;\">\n",
       "      <th></th>\n",
       "      <th>open</th>\n",
       "      <th>high</th>\n",
       "      <th>close</th>\n",
       "      <th>low</th>\n",
       "      <th>volume</th>\n",
       "      <th>price_change</th>\n",
       "      <th>p_change</th>\n",
       "      <th>ma5</th>\n",
       "      <th>ma10</th>\n",
       "      <th>ma20</th>\n",
       "      <th>v_ma5</th>\n",
       "      <th>v_ma10</th>\n",
       "      <th>v_ma20</th>\n",
       "    </tr>\n",
       "    <tr>\n",
       "      <th>date</th>\n",
       "      <th></th>\n",
       "      <th></th>\n",
       "      <th></th>\n",
       "      <th></th>\n",
       "      <th></th>\n",
       "      <th></th>\n",
       "      <th></th>\n",
       "      <th></th>\n",
       "      <th></th>\n",
       "      <th></th>\n",
       "      <th></th>\n",
       "      <th></th>\n",
       "      <th></th>\n",
       "    </tr>\n",
       "  </thead>\n",
       "  <tbody>\n",
       "    <tr>\n",
       "      <th>2015-09-30</th>\n",
       "      <td>3052.84</td>\n",
       "      <td>3073.30</td>\n",
       "      <td>3052.78</td>\n",
       "      <td>3039.74</td>\n",
       "      <td>1466424.50</td>\n",
       "      <td>14.64</td>\n",
       "      <td>0.48</td>\n",
       "      <td>3085.344</td>\n",
       "      <td>3106.875</td>\n",
       "      <td>3127.993</td>\n",
       "      <td>1831488.50</td>\n",
       "      <td>2193528.73</td>\n",
       "      <td>2681256.30</td>\n",
       "    </tr>\n",
       "    <tr>\n",
       "      <th>2015-10-08</th>\n",
       "      <td>3156.07</td>\n",
       "      <td>3172.28</td>\n",
       "      <td>3143.36</td>\n",
       "      <td>3133.13</td>\n",
       "      <td>2342760.50</td>\n",
       "      <td>90.58</td>\n",
       "      <td>2.97</td>\n",
       "      <td>3085.478</td>\n",
       "      <td>3112.605</td>\n",
       "      <td>3126.830</td>\n",
       "      <td>1874265.15</td>\n",
       "      <td>2110201.88</td>\n",
       "      <td>2582178.10</td>\n",
       "    </tr>\n",
       "    <tr>\n",
       "      <th>2015-10-09</th>\n",
       "      <td>3146.64</td>\n",
       "      <td>3192.72</td>\n",
       "      <td>3183.15</td>\n",
       "      <td>3137.79</td>\n",
       "      <td>2348514.50</td>\n",
       "      <td>39.79</td>\n",
       "      <td>1.27</td>\n",
       "      <td>3103.638</td>\n",
       "      <td>3121.128</td>\n",
       "      <td>3127.978</td>\n",
       "      <td>1871440.30</td>\n",
       "      <td>2135877.92</td>\n",
       "      <td>2480518.75</td>\n",
       "    </tr>\n",
       "    <tr>\n",
       "      <th>2015-10-12</th>\n",
       "      <td>3193.54</td>\n",
       "      <td>3318.71</td>\n",
       "      <td>3287.66</td>\n",
       "      <td>3188.41</td>\n",
       "      <td>3862947.25</td>\n",
       "      <td>104.51</td>\n",
       "      <td>3.28</td>\n",
       "      <td>3141.018</td>\n",
       "      <td>3134.240</td>\n",
       "      <td>3138.341</td>\n",
       "      <td>2330574.70</td>\n",
       "      <td>2282275.30</td>\n",
       "      <td>2525432.05</td>\n",
       "    </tr>\n",
       "    <tr>\n",
       "      <th>2015-10-13</th>\n",
       "      <td>3262.16</td>\n",
       "      <td>3298.63</td>\n",
       "      <td>3293.23</td>\n",
       "      <td>3253.25</td>\n",
       "      <td>2971531.25</td>\n",
       "      <td>5.57</td>\n",
       "      <td>0.17</td>\n",
       "      <td>3192.036</td>\n",
       "      <td>3145.001</td>\n",
       "      <td>3144.480</td>\n",
       "      <td>2598435.60</td>\n",
       "      <td>2304642.28</td>\n",
       "      <td>2546300.88</td>\n",
       "    </tr>\n",
       "  </tbody>\n",
       "</table>\n",
       "</div>"
      ],
      "text/plain": [
       "               open     high    close      low      volume  price_change  \\\n",
       "date                                                                       \n",
       "2015-09-30  3052.84  3073.30  3052.78  3039.74  1466424.50         14.64   \n",
       "2015-10-08  3156.07  3172.28  3143.36  3133.13  2342760.50         90.58   \n",
       "2015-10-09  3146.64  3192.72  3183.15  3137.79  2348514.50         39.79   \n",
       "2015-10-12  3193.54  3318.71  3287.66  3188.41  3862947.25        104.51   \n",
       "2015-10-13  3262.16  3298.63  3293.23  3253.25  2971531.25          5.57   \n",
       "\n",
       "            p_change       ma5      ma10      ma20       v_ma5      v_ma10  \\\n",
       "date                                                                         \n",
       "2015-09-30      0.48  3085.344  3106.875  3127.993  1831488.50  2193528.73   \n",
       "2015-10-08      2.97  3085.478  3112.605  3126.830  1874265.15  2110201.88   \n",
       "2015-10-09      1.27  3103.638  3121.128  3127.978  1871440.30  2135877.92   \n",
       "2015-10-12      3.28  3141.018  3134.240  3138.341  2330574.70  2282275.30   \n",
       "2015-10-13      0.17  3192.036  3145.001  3144.480  2598435.60  2304642.28   \n",
       "\n",
       "                v_ma20  \n",
       "date                    \n",
       "2015-09-30  2681256.30  \n",
       "2015-10-08  2582178.10  \n",
       "2015-10-09  2480518.75  \n",
       "2015-10-12  2525432.05  \n",
       "2015-10-13  2546300.88  "
      ]
     },
     "execution_count": 6,
     "metadata": {},
     "output_type": "execute_result"
    }
   ],
   "source": [
    "sh.head()"
   ]
  },
  {
   "cell_type": "markdown",
   "metadata": {},
   "source": [
    "### 计算收益率  \n",
    "单期收益率数据本来就有，我们只需要计算复合收益率即可。"
   ]
  },
  {
   "cell_type": "code",
   "execution_count": 16,
   "metadata": {
    "collapsed": false
   },
   "outputs": [],
   "source": [
    "sh_adj = sh.drop(sh.columns[[0,1,2,4,5]],axis=1)"
   ]
  },
  {
   "cell_type": "code",
   "execution_count": 17,
   "metadata": {
    "collapsed": true
   },
   "outputs": [],
   "source": [
    "sh_adj.index = pd.to_datetime(sh_adj.index)"
   ]
  },
  {
   "cell_type": "code",
   "execution_count": 19,
   "metadata": {
    "collapsed": false
   },
   "outputs": [
    {
     "ename": "ValueError",
     "evalue": "Length mismatch: Expected axis has 1 elements, new values have 2 elements",
     "output_type": "error",
     "traceback": [
      "\u001b[1;31m---------------------------------------------------------------------------\u001b[0m",
      "\u001b[1;31mValueError\u001b[0m                                Traceback (most recent call last)",
      "\u001b[1;32m<ipython-input-19-687a348952a0>\u001b[0m in \u001b[0;36m<module>\u001b[1;34m()\u001b[0m\n\u001b[1;32m----> 1\u001b[1;33m \u001b[0msh_adj\u001b[0m\u001b[1;33m.\u001b[0m\u001b[0mcolumns\u001b[0m \u001b[1;33m=\u001b[0m \u001b[1;33m[\u001b[0m\u001b[1;34m\"close\"\u001b[0m\u001b[1;33m,\u001b[0m\u001b[1;34m\"rs\"\u001b[0m\u001b[1;33m]\u001b[0m\u001b[1;33m\u001b[0m\u001b[0m\n\u001b[0m",
      "\u001b[1;32m/home/evil_rabbit/anaconda2/lib/python2.7/site-packages/pandas/core/generic.pyc\u001b[0m in \u001b[0;36m__setattr__\u001b[1;34m(self, name, value)\u001b[0m\n\u001b[0;32m   2680\u001b[0m         \u001b[1;32mtry\u001b[0m\u001b[1;33m:\u001b[0m\u001b[1;33m\u001b[0m\u001b[0m\n\u001b[0;32m   2681\u001b[0m             \u001b[0mobject\u001b[0m\u001b[1;33m.\u001b[0m\u001b[0m__getattribute__\u001b[0m\u001b[1;33m(\u001b[0m\u001b[0mself\u001b[0m\u001b[1;33m,\u001b[0m \u001b[0mname\u001b[0m\u001b[1;33m)\u001b[0m\u001b[1;33m\u001b[0m\u001b[0m\n\u001b[1;32m-> 2682\u001b[1;33m             \u001b[1;32mreturn\u001b[0m \u001b[0mobject\u001b[0m\u001b[1;33m.\u001b[0m\u001b[0m__setattr__\u001b[0m\u001b[1;33m(\u001b[0m\u001b[0mself\u001b[0m\u001b[1;33m,\u001b[0m \u001b[0mname\u001b[0m\u001b[1;33m,\u001b[0m \u001b[0mvalue\u001b[0m\u001b[1;33m)\u001b[0m\u001b[1;33m\u001b[0m\u001b[0m\n\u001b[0m\u001b[0;32m   2683\u001b[0m         \u001b[1;32mexcept\u001b[0m \u001b[0mAttributeError\u001b[0m\u001b[1;33m:\u001b[0m\u001b[1;33m\u001b[0m\u001b[0m\n\u001b[0;32m   2684\u001b[0m             \u001b[1;32mpass\u001b[0m\u001b[1;33m\u001b[0m\u001b[0m\n",
      "\u001b[1;32mpandas/src/properties.pyx\u001b[0m in \u001b[0;36mpandas.lib.AxisProperty.__set__ (pandas/lib.c:45018)\u001b[1;34m()\u001b[0m\n",
      "\u001b[1;32m/home/evil_rabbit/anaconda2/lib/python2.7/site-packages/pandas/core/generic.pyc\u001b[0m in \u001b[0;36m_set_axis\u001b[1;34m(self, axis, labels)\u001b[0m\n\u001b[0;32m    423\u001b[0m \u001b[1;33m\u001b[0m\u001b[0m\n\u001b[0;32m    424\u001b[0m     \u001b[1;32mdef\u001b[0m \u001b[0m_set_axis\u001b[0m\u001b[1;33m(\u001b[0m\u001b[0mself\u001b[0m\u001b[1;33m,\u001b[0m \u001b[0maxis\u001b[0m\u001b[1;33m,\u001b[0m \u001b[0mlabels\u001b[0m\u001b[1;33m)\u001b[0m\u001b[1;33m:\u001b[0m\u001b[1;33m\u001b[0m\u001b[0m\n\u001b[1;32m--> 425\u001b[1;33m         \u001b[0mself\u001b[0m\u001b[1;33m.\u001b[0m\u001b[0m_data\u001b[0m\u001b[1;33m.\u001b[0m\u001b[0mset_axis\u001b[0m\u001b[1;33m(\u001b[0m\u001b[0maxis\u001b[0m\u001b[1;33m,\u001b[0m \u001b[0mlabels\u001b[0m\u001b[1;33m)\u001b[0m\u001b[1;33m\u001b[0m\u001b[0m\n\u001b[0m\u001b[0;32m    426\u001b[0m         \u001b[0mself\u001b[0m\u001b[1;33m.\u001b[0m\u001b[0m_clear_item_cache\u001b[0m\u001b[1;33m(\u001b[0m\u001b[1;33m)\u001b[0m\u001b[1;33m\u001b[0m\u001b[0m\n\u001b[0;32m    427\u001b[0m \u001b[1;33m\u001b[0m\u001b[0m\n",
      "\u001b[1;32m/home/evil_rabbit/anaconda2/lib/python2.7/site-packages/pandas/core/internals.pyc\u001b[0m in \u001b[0;36mset_axis\u001b[1;34m(self, axis, new_labels)\u001b[0m\n\u001b[0;32m   2576\u001b[0m             raise ValueError('Length mismatch: Expected axis has %d elements, '\n\u001b[0;32m   2577\u001b[0m                              \u001b[1;34m'new values have %d elements'\u001b[0m \u001b[1;33m%\u001b[0m\u001b[1;33m\u001b[0m\u001b[0m\n\u001b[1;32m-> 2578\u001b[1;33m                              (old_len, new_len))\n\u001b[0m\u001b[0;32m   2579\u001b[0m \u001b[1;33m\u001b[0m\u001b[0m\n\u001b[0;32m   2580\u001b[0m         \u001b[0mself\u001b[0m\u001b[1;33m.\u001b[0m\u001b[0maxes\u001b[0m\u001b[1;33m[\u001b[0m\u001b[0maxis\u001b[0m\u001b[1;33m]\u001b[0m \u001b[1;33m=\u001b[0m \u001b[0mnew_labels\u001b[0m\u001b[1;33m\u001b[0m\u001b[0m\n",
      "\u001b[1;31mValueError\u001b[0m: Length mismatch: Expected axis has 1 elements, new values have 2 elements"
     ]
    }
   ],
   "source": [
    "sh_adj.columns = [\"close\",\"rs\"]"
   ]
  },
  {
   "cell_type": "code",
   "execution_count": 23,
   "metadata": {
    "collapsed": false,
    "scrolled": false
   },
   "outputs": [
    {
     "data": {
      "text/html": [
       "<div>\n",
       "<table border=\"1\" class=\"dataframe\">\n",
       "  <thead>\n",
       "    <tr style=\"text-align: right;\">\n",
       "      <th></th>\n",
       "      <th>Close</th>\n",
       "    </tr>\n",
       "    <tr>\n",
       "      <th>Date</th>\n",
       "      <th></th>\n",
       "    </tr>\n",
       "  </thead>\n",
       "  <tbody>\n",
       "    <tr>\n",
       "      <th>2015-09-30</th>\n",
       "      <td>3052.78</td>\n",
       "    </tr>\n",
       "    <tr>\n",
       "      <th>2015-10-12</th>\n",
       "      <td>3287.66</td>\n",
       "    </tr>\n",
       "    <tr>\n",
       "      <th>2015-10-14</th>\n",
       "      <td>3262.44</td>\n",
       "    </tr>\n",
       "    <tr>\n",
       "      <th>2015-10-15</th>\n",
       "      <td>3338.07</td>\n",
       "    </tr>\n",
       "    <tr>\n",
       "      <th>2015-10-16</th>\n",
       "      <td>3391.35</td>\n",
       "    </tr>\n",
       "  </tbody>\n",
       "</table>\n",
       "</div>"
      ],
      "text/plain": [
       "              Close\n",
       "Date               \n",
       "2015-09-30  3052.78\n",
       "2015-10-12  3287.66\n",
       "2015-10-14  3262.44\n",
       "2015-10-15  3338.07\n",
       "2015-10-16  3391.35"
      ]
     },
     "execution_count": 23,
     "metadata": {},
     "output_type": "execute_result"
    }
   ],
   "source": [
    "sh_adj.head()"
   ]
  },
  {
   "cell_type": "code",
   "execution_count": 91,
   "metadata": {
    "collapsed": false
   },
   "outputs": [
    {
     "data": {
      "text/html": [
       "<div>\n",
       "<table border=\"1\" class=\"dataframe\">\n",
       "  <thead>\n",
       "    <tr style=\"text-align: right;\">\n",
       "      <th></th>\n",
       "      <th>Open</th>\n",
       "      <th>High</th>\n",
       "      <th>Low</th>\n",
       "      <th>Close</th>\n",
       "      <th>Volume</th>\n",
       "      <th>Adj Close</th>\n",
       "    </tr>\n",
       "    <tr>\n",
       "      <th>Date</th>\n",
       "      <th></th>\n",
       "      <th></th>\n",
       "      <th></th>\n",
       "      <th></th>\n",
       "      <th></th>\n",
       "      <th></th>\n",
       "    </tr>\n",
       "  </thead>\n",
       "  <tbody>\n",
       "    <tr>\n",
       "      <th>2015-09-30</th>\n",
       "      <td>631.830017</td>\n",
       "      <td>639.309998</td>\n",
       "      <td>629.150024</td>\n",
       "      <td>638.369995</td>\n",
       "      <td>2647700</td>\n",
       "      <td>638.369995</td>\n",
       "    </tr>\n",
       "    <tr>\n",
       "      <th>2015-10-01</th>\n",
       "      <td>637.940002</td>\n",
       "      <td>643.840027</td>\n",
       "      <td>631.119995</td>\n",
       "      <td>642.000000</td>\n",
       "      <td>2125300</td>\n",
       "      <td>642.000000</td>\n",
       "    </tr>\n",
       "    <tr>\n",
       "      <th>2015-10-02</th>\n",
       "      <td>638.010010</td>\n",
       "      <td>657.000000</td>\n",
       "      <td>633.500000</td>\n",
       "      <td>656.989990</td>\n",
       "      <td>2439400</td>\n",
       "      <td>656.989990</td>\n",
       "    </tr>\n",
       "    <tr>\n",
       "      <th>2015-10-05</th>\n",
       "      <td>661.599976</td>\n",
       "      <td>673.030029</td>\n",
       "      <td>655.869995</td>\n",
       "      <td>671.679993</td>\n",
       "      <td>1898000</td>\n",
       "      <td>671.679993</td>\n",
       "    </tr>\n",
       "    <tr>\n",
       "      <th>2015-10-06</th>\n",
       "      <td>669.349976</td>\n",
       "      <td>678.799988</td>\n",
       "      <td>663.080017</td>\n",
       "      <td>671.640015</td>\n",
       "      <td>2138700</td>\n",
       "      <td>671.640015</td>\n",
       "    </tr>\n",
       "  </tbody>\n",
       "</table>\n",
       "</div>"
      ],
      "text/plain": [
       "                  Open        High         Low       Close   Volume  \\\n",
       "Date                                                                  \n",
       "2015-09-30  631.830017  639.309998  629.150024  638.369995  2647700   \n",
       "2015-10-01  637.940002  643.840027  631.119995  642.000000  2125300   \n",
       "2015-10-02  638.010010  657.000000  633.500000  656.989990  2439400   \n",
       "2015-10-05  661.599976  673.030029  655.869995  671.679993  1898000   \n",
       "2015-10-06  669.349976  678.799988  663.080017  671.640015  2138700   \n",
       "\n",
       "             Adj Close  \n",
       "Date                    \n",
       "2015-09-30  638.369995  \n",
       "2015-10-01  642.000000  \n",
       "2015-10-02  656.989990  \n",
       "2015-10-05  671.679993  \n",
       "2015-10-06  671.640015  "
      ]
     },
     "execution_count": 91,
     "metadata": {},
     "output_type": "execute_result"
    }
   ],
   "source": [
    "google.head()"
   ]
  },
  {
   "cell_type": "code",
   "execution_count": 92,
   "metadata": {
    "collapsed": true
   },
   "outputs": [],
   "source": [
    "google['r'] = ((google['Close']-google['Close'].shift(1))/google['Close'].shift(1))*100"
   ]
  },
  {
   "cell_type": "code",
   "execution_count": 94,
   "metadata": {
    "collapsed": false
   },
   "outputs": [
    {
     "data": {
      "text/html": [
       "<div>\n",
       "<table border=\"1\" class=\"dataframe\">\n",
       "  <thead>\n",
       "    <tr style=\"text-align: right;\">\n",
       "      <th></th>\n",
       "      <th>Open</th>\n",
       "      <th>High</th>\n",
       "      <th>Low</th>\n",
       "      <th>Close</th>\n",
       "      <th>Volume</th>\n",
       "      <th>Adj Close</th>\n",
       "      <th>r</th>\n",
       "    </tr>\n",
       "    <tr>\n",
       "      <th>Date</th>\n",
       "      <th></th>\n",
       "      <th></th>\n",
       "      <th></th>\n",
       "      <th></th>\n",
       "      <th></th>\n",
       "      <th></th>\n",
       "      <th></th>\n",
       "    </tr>\n",
       "  </thead>\n",
       "  <tbody>\n",
       "    <tr>\n",
       "      <th>2015-09-30</th>\n",
       "      <td>631.830017</td>\n",
       "      <td>639.309998</td>\n",
       "      <td>629.150024</td>\n",
       "      <td>638.369995</td>\n",
       "      <td>2647700</td>\n",
       "      <td>638.369995</td>\n",
       "      <td>NaN</td>\n",
       "    </tr>\n",
       "    <tr>\n",
       "      <th>2015-10-01</th>\n",
       "      <td>637.940002</td>\n",
       "      <td>643.840027</td>\n",
       "      <td>631.119995</td>\n",
       "      <td>642.000000</td>\n",
       "      <td>2125300</td>\n",
       "      <td>642.000000</td>\n",
       "      <td>0.568637</td>\n",
       "    </tr>\n",
       "    <tr>\n",
       "      <th>2015-10-02</th>\n",
       "      <td>638.010010</td>\n",
       "      <td>657.000000</td>\n",
       "      <td>633.500000</td>\n",
       "      <td>656.989990</td>\n",
       "      <td>2439400</td>\n",
       "      <td>656.989990</td>\n",
       "      <td>2.334889</td>\n",
       "    </tr>\n",
       "    <tr>\n",
       "      <th>2015-10-05</th>\n",
       "      <td>661.599976</td>\n",
       "      <td>673.030029</td>\n",
       "      <td>655.869995</td>\n",
       "      <td>671.679993</td>\n",
       "      <td>1898000</td>\n",
       "      <td>671.679993</td>\n",
       "      <td>2.235955</td>\n",
       "    </tr>\n",
       "    <tr>\n",
       "      <th>2015-10-06</th>\n",
       "      <td>669.349976</td>\n",
       "      <td>678.799988</td>\n",
       "      <td>663.080017</td>\n",
       "      <td>671.640015</td>\n",
       "      <td>2138700</td>\n",
       "      <td>671.640015</td>\n",
       "      <td>-0.005952</td>\n",
       "    </tr>\n",
       "  </tbody>\n",
       "</table>\n",
       "</div>"
      ],
      "text/plain": [
       "                  Open        High         Low       Close   Volume  \\\n",
       "Date                                                                  \n",
       "2015-09-30  631.830017  639.309998  629.150024  638.369995  2647700   \n",
       "2015-10-01  637.940002  643.840027  631.119995  642.000000  2125300   \n",
       "2015-10-02  638.010010  657.000000  633.500000  656.989990  2439400   \n",
       "2015-10-05  661.599976  673.030029  655.869995  671.679993  1898000   \n",
       "2015-10-06  669.349976  678.799988  663.080017  671.640015  2138700   \n",
       "\n",
       "             Adj Close         r  \n",
       "Date                              \n",
       "2015-09-30  638.369995       NaN  \n",
       "2015-10-01  642.000000  0.568637  \n",
       "2015-10-02  656.989990  2.334889  \n",
       "2015-10-05  671.679993  2.235955  \n",
       "2015-10-06  671.640015 -0.005952  "
      ]
     },
     "execution_count": 94,
     "metadata": {},
     "output_type": "execute_result"
    }
   ],
   "source": [
    "google.head()"
   ]
  },
  {
   "cell_type": "code",
   "execution_count": null,
   "metadata": {
    "collapsed": true
   },
   "outputs": [],
   "source": []
  },
  {
   "cell_type": "code",
   "execution_count": 38,
   "metadata": {
    "collapsed": false
   },
   "outputs": [],
   "source": [
    "sh_adj['Cindy'] = sh_adj['Close'].diff()[1:]/sh_adj['Close'][:-1]*100"
   ]
  },
  {
   "cell_type": "code",
   "execution_count": 24,
   "metadata": {
    "collapsed": false
   },
   "outputs": [],
   "source": [
    "sh_adj['r'] = ((sh_adj['Close']-sh_adj['Close'].shift(1))/sh_adj['Close'])*100"
   ]
  },
  {
   "cell_type": "code",
   "execution_count": null,
   "metadata": {
    "collapsed": true
   },
   "outputs": [],
   "source": [
    "sh_adj['r2'] = ((sh_adj['Close']-sh_adj['Close'].shift(1))/sh_adj['Close'])*100"
   ]
  },
  {
   "cell_type": "code",
   "execution_count": 36,
   "metadata": {
    "collapsed": true
   },
   "outputs": [],
   "source": [
    "sh_adj['r3'] = ((sh_adj['Close']-sh_adj['Close'].shift(1))/sh_adj['Close'].shift(1))*100"
   ]
  },
  {
   "cell_type": "code",
   "execution_count": 55,
   "metadata": {
    "collapsed": true
   },
   "outputs": [],
   "source": [
    "sh_adj['Cindy2'] = sh_adj['Close'].diff()[1:]/sh_adj['Close'][:-1]*100"
   ]
  },
  {
   "cell_type": "code",
   "execution_count": 57,
   "metadata": {
    "collapsed": false
   },
   "outputs": [
    {
     "data": {
      "text/plain": [
       "7.6939707414225609"
      ]
     },
     "execution_count": 57,
     "metadata": {},
     "output_type": "execute_result"
    }
   ],
   "source": [
    "sh_adj['Close'].diff()[1]/sh_adj['Close'][0]*100"
   ]
  },
  {
   "cell_type": "code",
   "execution_count": 67,
   "metadata": {
    "collapsed": true
   },
   "outputs": [],
   "source": [
    "a = sh['Close'].diff()[1:]"
   ]
  },
  {
   "cell_type": "code",
   "execution_count": 69,
   "metadata": {
    "collapsed": true
   },
   "outputs": [],
   "source": [
    "b = sh['Close'][:-1]"
   ]
  },
  {
   "cell_type": "code",
   "execution_count": 73,
   "metadata": {
    "collapsed": true
   },
   "outputs": [],
   "source": [
    "sh_adj['test']=np.ones(len(sh_adj.index))"
   ]
  },
  {
   "cell_type": "code",
   "execution_count": 88,
   "metadata": {
    "collapsed": false
   },
   "outputs": [],
   "source": [
    "sh_adj['test'][1:] = [sh_adj.ix[i, 'Close'] for i in sh_adj.index[:-1]]"
   ]
  },
  {
   "cell_type": "code",
   "execution_count": 89,
   "metadata": {
    "collapsed": false,
    "scrolled": true
   },
   "outputs": [
    {
     "data": {
      "text/html": [
       "<div>\n",
       "<table border=\"1\" class=\"dataframe\">\n",
       "  <thead>\n",
       "    <tr style=\"text-align: right;\">\n",
       "      <th></th>\n",
       "      <th>Close</th>\n",
       "      <th>r</th>\n",
       "      <th>Cindy</th>\n",
       "      <th>r3</th>\n",
       "      <th>Cindy2</th>\n",
       "      <th>test</th>\n",
       "    </tr>\n",
       "    <tr>\n",
       "      <th>Date</th>\n",
       "      <th></th>\n",
       "      <th></th>\n",
       "      <th></th>\n",
       "      <th></th>\n",
       "      <th></th>\n",
       "      <th></th>\n",
       "    </tr>\n",
       "  </thead>\n",
       "  <tbody>\n",
       "    <tr>\n",
       "      <th>2015-09-30</th>\n",
       "      <td>3052.78</td>\n",
       "      <td>NaN</td>\n",
       "      <td>NaN</td>\n",
       "      <td>NaN</td>\n",
       "      <td>NaN</td>\n",
       "      <td>3052.78</td>\n",
       "    </tr>\n",
       "    <tr>\n",
       "      <th>2015-10-12</th>\n",
       "      <td>3287.66</td>\n",
       "      <td>7.144291</td>\n",
       "      <td>7.144291</td>\n",
       "      <td>7.693971</td>\n",
       "      <td>7.144291</td>\n",
       "      <td>3052.78</td>\n",
       "    </tr>\n",
       "    <tr>\n",
       "      <th>2015-10-14</th>\n",
       "      <td>3262.44</td>\n",
       "      <td>-0.773041</td>\n",
       "      <td>-0.773041</td>\n",
       "      <td>-0.767111</td>\n",
       "      <td>-0.773041</td>\n",
       "      <td>3287.66</td>\n",
       "    </tr>\n",
       "    <tr>\n",
       "      <th>2015-10-15</th>\n",
       "      <td>3338.07</td>\n",
       "      <td>2.265680</td>\n",
       "      <td>2.265680</td>\n",
       "      <td>2.318204</td>\n",
       "      <td>2.265680</td>\n",
       "      <td>3262.44</td>\n",
       "    </tr>\n",
       "    <tr>\n",
       "      <th>2015-10-16</th>\n",
       "      <td>3391.35</td>\n",
       "      <td>1.571056</td>\n",
       "      <td>1.571056</td>\n",
       "      <td>1.596132</td>\n",
       "      <td>1.571056</td>\n",
       "      <td>3338.07</td>\n",
       "    </tr>\n",
       "  </tbody>\n",
       "</table>\n",
       "</div>"
      ],
      "text/plain": [
       "              Close         r     Cindy        r3    Cindy2     test\n",
       "Date                                                                \n",
       "2015-09-30  3052.78       NaN       NaN       NaN       NaN  3052.78\n",
       "2015-10-12  3287.66  7.144291  7.144291  7.693971  7.144291  3052.78\n",
       "2015-10-14  3262.44 -0.773041 -0.773041 -0.767111 -0.773041  3287.66\n",
       "2015-10-15  3338.07  2.265680  2.265680  2.318204  2.265680  3262.44\n",
       "2015-10-16  3391.35  1.571056  1.571056  1.596132  1.571056  3338.07"
      ]
     },
     "execution_count": 89,
     "metadata": {},
     "output_type": "execute_result"
    }
   ],
   "source": [
    "sh_adj.head()"
   ]
  },
  {
   "cell_type": "code",
   "execution_count": 12,
   "metadata": {
    "collapsed": false
   },
   "outputs": [],
   "source": [
    "\n",
    "sh_adj['rc'] = np.log(sh_adj['close']/(sh_adj['close'].shift(1)))*100"
   ]
  },
  {
   "cell_type": "code",
   "execution_count": 13,
   "metadata": {
    "collapsed": false
   },
   "outputs": [
    {
     "data": {
      "text/html": [
       "<div>\n",
       "<table border=\"1\" class=\"dataframe\">\n",
       "  <thead>\n",
       "    <tr style=\"text-align: right;\">\n",
       "      <th></th>\n",
       "      <th>close</th>\n",
       "      <th>rs</th>\n",
       "      <th>rc</th>\n",
       "    </tr>\n",
       "    <tr>\n",
       "      <th>date</th>\n",
       "      <th></th>\n",
       "      <th></th>\n",
       "      <th></th>\n",
       "    </tr>\n",
       "  </thead>\n",
       "  <tbody>\n",
       "    <tr>\n",
       "      <th>2015-05-29</th>\n",
       "      <td>4611.744</td>\n",
       "      <td>-0.18</td>\n",
       "      <td>NaN</td>\n",
       "    </tr>\n",
       "    <tr>\n",
       "      <th>2015-06-01</th>\n",
       "      <td>4828.738</td>\n",
       "      <td>4.71</td>\n",
       "      <td>4.597906</td>\n",
       "    </tr>\n",
       "    <tr>\n",
       "      <th>2015-06-02</th>\n",
       "      <td>4910.527</td>\n",
       "      <td>1.69</td>\n",
       "      <td>1.679612</td>\n",
       "    </tr>\n",
       "    <tr>\n",
       "      <th>2015-06-03</th>\n",
       "      <td>4909.978</td>\n",
       "      <td>-0.01</td>\n",
       "      <td>-0.011181</td>\n",
       "    </tr>\n",
       "    <tr>\n",
       "      <th>2015-06-04</th>\n",
       "      <td>4947.102</td>\n",
       "      <td>0.76</td>\n",
       "      <td>0.753249</td>\n",
       "    </tr>\n",
       "  </tbody>\n",
       "</table>\n",
       "</div>"
      ],
      "text/plain": [
       "               close    rs        rc\n",
       "date                                \n",
       "2015-05-29  4611.744 -0.18       NaN\n",
       "2015-06-01  4828.738  4.71  4.597906\n",
       "2015-06-02  4910.527  1.69  1.679612\n",
       "2015-06-03  4909.978 -0.01 -0.011181\n",
       "2015-06-04  4947.102  0.76  0.753249"
      ]
     },
     "execution_count": 13,
     "metadata": {},
     "output_type": "execute_result"
    }
   ],
   "source": [
    "sh_adj.head()\n",
    "# 单期收益率（rs）比复合收益率（rc）略大。\n",
    "# 删除行：dropna(axis=0)  .dropna(how='any')"
   ]
  },
  {
   "cell_type": "markdown",
   "metadata": {},
   "source": [
    "## Step4：数据分析\n",
    "\n",
    "* 均值、中位数、最大值、最小值  \n",
    "* 方差、标准差、四分位距  "
   ]
  },
  {
   "cell_type": "code",
   "execution_count": 14,
   "metadata": {
    "collapsed": false
   },
   "outputs": [],
   "source": [
    "rs=sh_adj['rs'][1:]"
   ]
  },
  {
   "cell_type": "code",
   "execution_count": 15,
   "metadata": {
    "collapsed": true
   },
   "outputs": [],
   "source": [
    "rc=sh_adj['rc'][1:]"
   ]
  },
  {
   "cell_type": "code",
   "execution_count": 16,
   "metadata": {
    "collapsed": false,
    "scrolled": true
   },
   "outputs": [
    {
     "data": {
      "text/plain": [
       "date\n",
       "2015-06-01    4.71\n",
       "2015-06-02    1.69\n",
       "2015-06-03   -0.01\n",
       "2015-06-04    0.76\n",
       "2015-06-05    1.54\n",
       "Name: rs, dtype: float64"
      ]
     },
     "execution_count": 16,
     "metadata": {},
     "output_type": "execute_result"
    }
   ],
   "source": [
    "rs.head()"
   ]
  },
  {
   "cell_type": "code",
   "execution_count": 17,
   "metadata": {
    "collapsed": false
   },
   "outputs": [
    {
     "data": {
      "text/plain": [
       "246"
      ]
     },
     "execution_count": 17,
     "metadata": {},
     "output_type": "execute_result"
    }
   ],
   "source": [
    "rs.size"
   ]
  },
  {
   "cell_type": "code",
   "execution_count": 18,
   "metadata": {
    "collapsed": false
   },
   "outputs": [
    {
     "data": {
      "text/plain": [
       "date\n",
       "2015-06-01    4.597906\n",
       "2015-06-02    1.679612\n",
       "2015-06-03   -0.011181\n",
       "2015-06-04    0.753249\n",
       "2015-06-05    1.524453\n",
       "Name: rc, dtype: float64"
      ]
     },
     "execution_count": 18,
     "metadata": {},
     "output_type": "execute_result"
    }
   ],
   "source": [
    "rc.head()"
   ]
  },
  {
   "cell_type": "code",
   "execution_count": 200,
   "metadata": {
    "collapsed": false
   },
   "outputs": [
    {
     "data": {
      "text/plain": [
       "(-0.15516260162601633, -0.18625230972387646)"
      ]
     },
     "execution_count": 200,
     "metadata": {},
     "output_type": "execute_result"
    }
   ],
   "source": [
    "# 均值\n",
    "np.mean(rs),np.mean(rc)\n",
    "# 说明平均是亏损的"
   ]
  },
  {
   "cell_type": "code",
   "execution_count": 201,
   "metadata": {
    "collapsed": false
   },
   "outputs": [
    {
     "data": {
      "text/plain": [
       "(0.125, 0.12397329570214555)"
      ]
     },
     "execution_count": 201,
     "metadata": {},
     "output_type": "execute_result"
    }
   ],
   "source": [
    "# 中位数\n",
    "np.median(rs),np.median(rc)\n",
    "# 说明前半段时间是盈利的，后期开始亏损"
   ]
  },
  {
   "cell_type": "code",
   "execution_count": 206,
   "metadata": {
    "collapsed": false
   },
   "outputs": [
    {
     "data": {
      "text/plain": [
       "(5.7599999999999998, 5.6036120268484586)"
      ]
     },
     "execution_count": 206,
     "metadata": {},
     "output_type": "execute_result"
    }
   ],
   "source": [
    "# 最大值\n",
    "np.max(rs),np.max(rc)"
   ]
  },
  {
   "cell_type": "code",
   "execution_count": 207,
   "metadata": {
    "collapsed": false
   },
   "outputs": [
    {
     "data": {
      "text/plain": [
       "(-8.4900000000000002, -8.8729056091908074)"
      ]
     },
     "execution_count": 207,
     "metadata": {},
     "output_type": "execute_result"
    }
   ],
   "source": [
    "# 最小值\n",
    "np.min(rs),np.min(rc)"
   ]
  },
  {
   "cell_type": "code",
   "execution_count": 217,
   "metadata": {
    "collapsed": false
   },
   "outputs": [
    {
     "data": {
      "text/plain": [
       "(6.0740298516094935, 6.22486348443352)"
      ]
     },
     "execution_count": 217,
     "metadata": {},
     "output_type": "execute_result"
    }
   ],
   "source": [
    "# 方差\n",
    "np.var(rs),np.var(rc)"
   ]
  },
  {
   "cell_type": "code",
   "execution_count": 241,
   "metadata": {
    "collapsed": false
   },
   "outputs": [
    {
     "data": {
      "text/plain": [
       "(6.098821810187494, 6.250271090492433)"
      ]
     },
     "execution_count": 241,
     "metadata": {},
     "output_type": "execute_result"
    }
   ],
   "source": [
    "rs.var(ddof=1),rc.var(ddof=1)"
   ]
  },
  {
   "cell_type": "code",
   "execution_count": 218,
   "metadata": {
    "collapsed": false
   },
   "outputs": [
    {
     "data": {
      "text/plain": [
       "(2.4645546964126184, 2.494967631941048)"
      ]
     },
     "execution_count": 218,
     "metadata": {},
     "output_type": "execute_result"
    }
   ],
   "source": [
    "# 标准差\n",
    "np.std(rs),np.std(rc)"
   ]
  },
  {
   "cell_type": "code",
   "execution_count": 242,
   "metadata": {
    "collapsed": false
   },
   "outputs": [
    {
     "data": {
      "text/plain": [
       "(2.469579277971755, 2.500054217510579)"
      ]
     },
     "execution_count": 242,
     "metadata": {},
     "output_type": "execute_result"
    }
   ],
   "source": [
    "rs.std(ddof=1),rc.std(ddof=1)"
   ]
  },
  {
   "cell_type": "code",
   "execution_count": 239,
   "metadata": {
    "collapsed": false
   },
   "outputs": [
    {
     "data": {
      "text/plain": [
       "array([-1.2125,  0.125 ,  1.265 ,  5.76  ])"
      ]
     },
     "execution_count": 239,
     "metadata": {},
     "output_type": "execute_result"
    }
   ],
   "source": [
    "# rs四分位距\n",
    "np.percentile(rs,(25,50,75,100))"
   ]
  },
  {
   "cell_type": "code",
   "execution_count": 240,
   "metadata": {
    "collapsed": false
   },
   "outputs": [
    {
     "data": {
      "text/plain": [
       "array([-1.21741016,  0.1239733 ,  1.25462089,  5.60361203])"
      ]
     },
     "execution_count": 240,
     "metadata": {},
     "output_type": "execute_result"
    }
   ],
   "source": [
    "# rc四分位距\n",
    "np.percentile(rc,(25,50,75,100))"
   ]
  },
  {
   "cell_type": "code",
   "execution_count": 20,
   "metadata": {
    "collapsed": false
   },
   "outputs": [],
   "source": [
    "sh_adj_des = sh_adj.drop(sh_adj.columns[[0]],axis=1).describe()"
   ]
  },
  {
   "cell_type": "code",
   "execution_count": 215,
   "metadata": {
    "collapsed": false
   },
   "outputs": [
    {
     "data": {
      "text/html": [
       "<div>\n",
       "<table border=\"1\" class=\"dataframe\">\n",
       "  <thead>\n",
       "    <tr style=\"text-align: right;\">\n",
       "      <th></th>\n",
       "      <th>rs</th>\n",
       "      <th>rc</th>\n",
       "    </tr>\n",
       "  </thead>\n",
       "  <tbody>\n",
       "    <tr>\n",
       "      <th>count</th>\n",
       "      <td>247.000000</td>\n",
       "      <td>246.000000</td>\n",
       "    </tr>\n",
       "    <tr>\n",
       "      <th>mean</th>\n",
       "      <td>-0.155263</td>\n",
       "      <td>-0.186252</td>\n",
       "    </tr>\n",
       "    <tr>\n",
       "      <th>std</th>\n",
       "      <td>2.464555</td>\n",
       "      <td>2.500054</td>\n",
       "    </tr>\n",
       "    <tr>\n",
       "      <th>min</th>\n",
       "      <td>-8.490000</td>\n",
       "      <td>-8.872906</td>\n",
       "    </tr>\n",
       "    <tr>\n",
       "      <th>25%</th>\n",
       "      <td>-1.195000</td>\n",
       "      <td>-1.217410</td>\n",
       "    </tr>\n",
       "    <tr>\n",
       "      <th>50%</th>\n",
       "      <td>0.110000</td>\n",
       "      <td>0.123973</td>\n",
       "    </tr>\n",
       "    <tr>\n",
       "      <th>75%</th>\n",
       "      <td>1.260000</td>\n",
       "      <td>1.254621</td>\n",
       "    </tr>\n",
       "    <tr>\n",
       "      <th>max</th>\n",
       "      <td>5.760000</td>\n",
       "      <td>5.603612</td>\n",
       "    </tr>\n",
       "  </tbody>\n",
       "</table>\n",
       "</div>"
      ],
      "text/plain": [
       "               rs          rc\n",
       "count  247.000000  246.000000\n",
       "mean    -0.155263   -0.186252\n",
       "std      2.464555    2.500054\n",
       "min     -8.490000   -8.872906\n",
       "25%     -1.195000   -1.217410\n",
       "50%      0.110000    0.123973\n",
       "75%      1.260000    1.254621\n",
       "max      5.760000    5.603612"
      ]
     },
     "execution_count": 215,
     "metadata": {},
     "output_type": "execute_result"
    }
   ],
   "source": [
    "sh_adj_des"
   ]
  },
  {
   "cell_type": "markdown",
   "metadata": {},
   "source": [
    "# 3.概率密度"
   ]
  },
  {
   "cell_type": "markdown",
   "metadata": {},
   "source": [
    "## 参数方法估计概率密度函数"
   ]
  },
  {
   "cell_type": "markdown",
   "metadata": {},
   "source": [
    "### 概率密度函数"
   ]
  },
  {
   "cell_type": "code",
   "execution_count": 21,
   "metadata": {
    "collapsed": false
   },
   "outputs": [
    {
     "data": {
      "image/png": "[encoded data removed]",
      "text/plain": [
       "<matplotlib.figure.Figure at 0x7fb601c9d450>"
      ]
     },
     "metadata": {},
     "output_type": "display_data"
    }
   ],
   "source": [
    "fig, axes= plt.subplots(1,2,figsize=(12,5))\n",
    "\n",
    "#axes[0].hist(rs,normed=True)\n",
    "#axes[1].hist(rc,normed=True)\n",
    "\n",
    "axes[0].hist(rs);\n",
    "axes[1].hist(rc);"
   ]
  },
  {
   "cell_type": "code",
   "execution_count": 22,
   "metadata": {
    "collapsed": true
   },
   "outputs": [],
   "source": [
    "np.random.seed(123456789)"
   ]
  },
  {
   "cell_type": "code",
   "execution_count": 23,
   "metadata": {
    "collapsed": true
   },
   "outputs": [],
   "source": [
    "mu1, sigma1 = rs.mean(), rs.std()"
   ]
  },
  {
   "cell_type": "code",
   "execution_count": 24,
   "metadata": {
    "collapsed": true
   },
   "outputs": [],
   "source": [
    "mu2, sigma2 = rc.mean(), rc.std()"
   ]
  },
  {
   "cell_type": "code",
   "execution_count": 25,
   "metadata": {
    "collapsed": true
   },
   "outputs": [],
   "source": [
    "n=246"
   ]
  },
  {
   "cell_type": "code",
   "execution_count": 26,
   "metadata": {
    "collapsed": true
   },
   "outputs": [],
   "source": [
    "TDs = stats.norm(mu1, sigma1)"
   ]
  },
  {
   "cell_type": "code",
   "execution_count": 27,
   "metadata": {
    "collapsed": true
   },
   "outputs": [],
   "source": [
    "TDc = stats.norm(mu2, sigma2)"
   ]
  },
  {
   "cell_type": "code",
   "execution_count": 28,
   "metadata": {
    "collapsed": true
   },
   "outputs": [],
   "source": [
    "TD1 = stats.norm(mu1, sigma1).rvs(n)"
   ]
  },
  {
   "cell_type": "code",
   "execution_count": 29,
   "metadata": {
    "collapsed": true
   },
   "outputs": [],
   "source": [
    "TD2 = stats.norm(mu2, sigma2).rvs(n)"
   ]
  },
  {
   "cell_type": "code",
   "execution_count": 136,
   "metadata": {
    "collapsed": false
   },
   "outputs": [],
   "source": [
    "t1, p1 = stats.ttest_ind(TD1, rs)"
   ]
  },
  {
   "cell_type": "code",
   "execution_count": 32,
   "metadata": {
    "collapsed": true
   },
   "outputs": [],
   "source": [
    "t2, p2 = stats.ttest_ind(TD2, rc)"
   ]
  },
  {
   "cell_type": "code",
   "execution_count": 137,
   "metadata": {
    "collapsed": false
   },
   "outputs": [
    {
     "data": {
      "text/plain": [
       "(-0.69567794857971943, 0.48696034314329906)"
      ]
     },
     "execution_count": 137,
     "metadata": {},
     "output_type": "execute_result"
    }
   ],
   "source": [
    "t1,p1"
   ]
  },
  {
   "cell_type": "code",
   "execution_count": 34,
   "metadata": {
    "collapsed": false
   },
   "outputs": [
    {
     "data": {
      "text/plain": [
       "(-0.12495054969194372, 0.90061394360813551)"
      ]
     },
     "execution_count": 34,
     "metadata": {},
     "output_type": "execute_result"
    }
   ],
   "source": [
    "t2,p2"
   ]
  },
  {
   "cell_type": "markdown",
   "metadata": {},
   "source": [
    "p值太大，不能拒绝原假设（rs和rc服从正态分布），因此rs和rc可看作服从正态分布。"
   ]
  },
  {
   "cell_type": "code",
   "execution_count": 35,
   "metadata": {
    "collapsed": false
   },
   "outputs": [
    {
     "data": {
      "image/png": "[encoded data removed]",
      "text/plain": [
       "<matplotlib.figure.Figure at 0x7fb5ff830590>"
      ]
     },
     "metadata": {},
     "output_type": "display_data"
    }
   ],
   "source": [
    "fig , axes = plt.subplots(1,2,figsize=(12,5))\n",
    "\n",
    "sns.distplot(rs, ax=axes[0])\n",
    "x = np.linspace(*TDs.interval(0.999), num=100)\n",
    "axes[0].plot(x, TDs.pdf(x))\n",
    "\n",
    "sns.distplot(rc, ax=axes[1])\n",
    "x = np.linspace(*TDc.interval(0.999), num=100)\n",
    "axes[1].plot(x, TDc.pdf(x))\n",
    "\n",
    "fig.tight_layout()"
   ]
  },
  {
   "cell_type": "markdown",
   "metadata": {},
   "source": [
    "### 收益率小于0的概率"
   ]
  },
  {
   "cell_type": "code",
   "execution_count": 36,
   "metadata": {
    "collapsed": true
   },
   "outputs": [],
   "source": [
    "rs2 = rs<0;\n",
    "rc2 = rc<0;"
   ]
  },
  {
   "cell_type": "code",
   "execution_count": 37,
   "metadata": {
    "collapsed": false
   },
   "outputs": [
    {
     "data": {
      "text/plain": [
       "False    0.520325\n",
       "True     0.479675\n",
       "Name: rs, dtype: float64"
      ]
     },
     "execution_count": 37,
     "metadata": {},
     "output_type": "execute_result"
    }
   ],
   "source": [
    "rs2.value_counts()/len(rs2)"
   ]
  },
  {
   "cell_type": "code",
   "execution_count": 38,
   "metadata": {
    "collapsed": false
   },
   "outputs": [
    {
     "data": {
      "text/plain": [
       "False    0.520325\n",
       "True     0.479675\n",
       "Name: rc, dtype: float64"
      ]
     },
     "execution_count": 38,
     "metadata": {},
     "output_type": "execute_result"
    }
   ],
   "source": [
    "rc2.value_counts()/len(rc2)"
   ]
  },
  {
   "cell_type": "code",
   "execution_count": 39,
   "metadata": {
    "collapsed": false,
    "scrolled": true
   },
   "outputs": [
    {
     "data": {
      "text/plain": [
       "0.52504889013623157"
      ]
     },
     "execution_count": 39,
     "metadata": {},
     "output_type": "execute_result"
    }
   ],
   "source": [
    "TDs.cdf(0)"
   ]
  },
  {
   "cell_type": "code",
   "execution_count": 40,
   "metadata": {
    "collapsed": false
   },
   "outputs": [
    {
     "data": {
      "text/plain": [
       "0.52969345420136238"
      ]
     },
     "execution_count": 40,
     "metadata": {},
     "output_type": "execute_result"
    }
   ],
   "source": [
    "TDc.cdf(0)"
   ]
  },
  {
   "cell_type": "markdown",
   "metadata": {},
   "source": [
    "对rs，实际小于0的比例为：48%，但估计的结果为52.5%;  \n",
    "对rc，实际小于0的比例为：48%，但估计的结果为53%。"
   ]
  },
  {
   "cell_type": "markdown",
   "metadata": {},
   "source": [
    "## 非参数方法估计概率密度函数"
   ]
  },
  {
   "cell_type": "markdown",
   "metadata": {},
   "source": [
    "### 概率密度函数"
   ]
  },
  {
   "cell_type": "code",
   "execution_count": 41,
   "metadata": {
    "collapsed": true
   },
   "outputs": [],
   "source": [
    "kde1 = stats.kde.gaussian_kde(rs)"
   ]
  },
  {
   "cell_type": "code",
   "execution_count": 42,
   "metadata": {
    "collapsed": true
   },
   "outputs": [],
   "source": [
    "kde_low_bw1 = stats.kde.gaussian_kde(rs, bw_method=0.15)"
   ]
  },
  {
   "cell_type": "code",
   "execution_count": 43,
   "metadata": {
    "collapsed": true
   },
   "outputs": [],
   "source": [
    "kde2 = stats.kde.gaussian_kde(rc)"
   ]
  },
  {
   "cell_type": "code",
   "execution_count": 44,
   "metadata": {
    "collapsed": true
   },
   "outputs": [],
   "source": [
    "kde_low_bw2 = stats.kde.gaussian_kde(rc, bw_method=0.15)"
   ]
  },
  {
   "cell_type": "code",
   "execution_count": 45,
   "metadata": {
    "collapsed": true
   },
   "outputs": [],
   "source": [
    "x1 = np.linspace(min(rs),max(rs),100)"
   ]
  },
  {
   "cell_type": "code",
   "execution_count": 46,
   "metadata": {
    "collapsed": true
   },
   "outputs": [],
   "source": [
    "x2 = np.linspace(min(rc),max(rc),100)"
   ]
  },
  {
   "cell_type": "code",
   "execution_count": 47,
   "metadata": {
    "collapsed": false,
    "scrolled": true
   },
   "outputs": [
    {
     "data": {
      "image/png": "[encoded data removed]",
      "text/plain": [
       "<matplotlib.figure.Figure at 0x7fb5ff8e33d0>"
      ]
     },
     "metadata": {},
     "output_type": "display_data"
    }
   ],
   "source": [
    "fig ,axes = plt.subplots(2,3,figsize=(12,6))\n",
    "\n",
    "axes[0,0].hist(rs, alpha=0.5, bins=25)\n",
    "axes[0,1].plot(x1, kde1(x1), label=\"KDE\")\n",
    "axes[0,1].plot(x1, kde_low_bw1(x1), label=\"KDE (low bw)\")\n",
    "#axes[1].plot(x, rs.pdf(x), label=\"True PDF\")\n",
    "axes[0,1].legend()\n",
    "sns.distplot(rs, bins=25, ax=axes[0,2])\n",
    "\n",
    "axes[1,0].hist(rc, alpha=0.5, bins=25)\n",
    "axes[1,1].plot(x2, kde2(x2), label=\"KDE\")\n",
    "axes[1,1].plot(x2, kde_low_bw2(x2), label=\"KDE (low bw)\")\n",
    "#sns.distplot(rc, bins=25, ax=axes[1,1])\n",
    "#axes[1].plot(x, rs.pdf(x), label=\"True PDF\")\n",
    "axes[1,1].legend()\n",
    "sns.distplot(rc, bins=25, ax=axes[1,2])\n",
    "\n",
    "fig.tight_layout()\n",
    "\n",
    "# 看着有点像正态分布，因此可试用正态分布。"
   ]
  },
  {
   "cell_type": "code",
   "execution_count": 49,
   "metadata": {
    "collapsed": false
   },
   "outputs": [
    {
     "data": {
      "text/plain": [
       "array([[-1.53584925,  1.71239948, -0.45115801,  1.4488507 , -0.7976659 ,\n",
       "         1.84093794,  0.35546927,  1.67930768, -2.1352192 ,  1.68119376]])"
      ]
     },
     "execution_count": 49,
     "metadata": {},
     "output_type": "execute_result"
    }
   ],
   "source": [
    "kde1.resample(10)"
   ]
  },
  {
   "cell_type": "code",
   "execution_count": 51,
   "metadata": {
    "collapsed": false
   },
   "outputs": [
    {
     "data": {
      "text/plain": [
       "array([[ 2.2393343 ,  2.09614995, -2.69868993, -0.31807468, -3.90945223,\n",
       "        -0.27579683, -8.24750433, -0.02230852, -3.50314568,  1.97958885]])"
      ]
     },
     "execution_count": 51,
     "metadata": {},
     "output_type": "execute_result"
    }
   ],
   "source": [
    "kde2.resample(10)"
   ]
  },
  {
   "cell_type": "code",
   "execution_count": 52,
   "metadata": {
    "collapsed": true
   },
   "outputs": [],
   "source": [
    "def _kde_cdf1(x1):\n",
    "    return kde1.integrate_box_1d(-np.inf, x1) "
   ]
  },
  {
   "cell_type": "code",
   "execution_count": 53,
   "metadata": {
    "collapsed": true
   },
   "outputs": [],
   "source": [
    "kde_cdf1 = np.vectorize(_kde_cdf1)"
   ]
  },
  {
   "cell_type": "code",
   "execution_count": 54,
   "metadata": {
    "collapsed": true
   },
   "outputs": [],
   "source": [
    "def _kde_cdf2(x2):\n",
    "    return kde2.integrate_box_1d(-np.inf, x2) "
   ]
  },
  {
   "cell_type": "code",
   "execution_count": 55,
   "metadata": {
    "collapsed": true
   },
   "outputs": [],
   "source": [
    "kde_cdf2 = np.vectorize(_kde_cdf2)"
   ]
  },
  {
   "cell_type": "code",
   "execution_count": 56,
   "metadata": {
    "collapsed": false
   },
   "outputs": [
    {
     "data": {
      "image/png": "[encoded data removed]",
      "text/plain": [
       "<matplotlib.figure.Figure at 0x7fb6033b8d10>"
      ]
     },
     "metadata": {},
     "output_type": "display_data"
    }
   ],
   "source": [
    "fig, axes = plt.subplots(1,2,figsize=(12,3))\n",
    "\n",
    "sns.distplot(rs, bins=25, ax=axes[0])\n",
    "#x1 = np.linspace(min(rs),max(rs),100)\n",
    "axes[0].plot(x1,kde_cdf1(x1))\n",
    "\n",
    "sns.distplot(rc, bins=25, ax=axes[1])\n",
    "#x2 = np.linspace(min(rc),max(rc),100)\n",
    "axes[1].plot(x2,kde_cdf2(x2))\n",
    "\n",
    "fig.tight_layout()"
   ]
  },
  {
   "cell_type": "markdown",
   "metadata": {},
   "source": [
    "### 收益率小于0的概率"
   ]
  },
  {
   "cell_type": "code",
   "execution_count": 58,
   "metadata": {
    "collapsed": false
   },
   "outputs": [
    {
     "data": {
      "text/plain": [
       "array(0.48824766139650083)"
      ]
     },
     "execution_count": 58,
     "metadata": {},
     "output_type": "execute_result"
    }
   ],
   "source": [
    "kde_cdf1(0)"
   ]
  },
  {
   "cell_type": "code",
   "execution_count": 59,
   "metadata": {
    "collapsed": false
   },
   "outputs": [
    {
     "data": {
      "text/plain": [
       "array(0.4888418133278765)"
      ]
     },
     "execution_count": 59,
     "metadata": {},
     "output_type": "execute_result"
    }
   ],
   "source": [
    "kde_cdf2(0)"
   ]
  },
  {
   "cell_type": "markdown",
   "metadata": {},
   "source": [
    "对rs，实际小于0的比例为：48%，估计的结果为48.8%;  \n",
    "对rc，实际小于0的比例为：48%，估计的结果为48.9%。  \n",
    "**可以发现，非参数估计结果更加准确。**"
   ]
  },
  {
   "cell_type": "markdown",
   "metadata": {
    "collapsed": true
   },
   "source": [
    "# 4.股票对比"
   ]
  },
  {
   "cell_type": "markdown",
   "metadata": {},
   "source": [
    "## Step1：读取数据"
   ]
  },
  {
   "cell_type": "code",
   "execution_count": 69,
   "metadata": {
    "collapsed": true
   },
   "outputs": [],
   "source": [
    "pa = ts.get_hist_data('601318', start='2015-05-29', end='2016-05-31') #中国平安"
   ]
  },
  {
   "cell_type": "code",
   "execution_count": 65,
   "metadata": {
    "collapsed": true
   },
   "outputs": [],
   "source": [
    "kd = ts.get_hist_data('002230', start='2015-05-29', end='2016-05-31') #科大讯飞"
   ]
  },
  {
   "cell_type": "markdown",
   "metadata": {},
   "source": [
    "## Step2：数据处理"
   ]
  },
  {
   "cell_type": "code",
   "execution_count": 66,
   "metadata": {
    "collapsed": false
   },
   "outputs": [
    {
     "data": {
      "text/html": [
       "<div>\n",
       "<table border=\"1\" class=\"dataframe\">\n",
       "  <thead>\n",
       "    <tr style=\"text-align: right;\">\n",
       "      <th></th>\n",
       "      <th>open</th>\n",
       "      <th>high</th>\n",
       "      <th>close</th>\n",
       "      <th>low</th>\n",
       "      <th>volume</th>\n",
       "      <th>price_change</th>\n",
       "      <th>p_change</th>\n",
       "      <th>ma5</th>\n",
       "      <th>ma10</th>\n",
       "      <th>ma20</th>\n",
       "      <th>v_ma5</th>\n",
       "      <th>v_ma10</th>\n",
       "      <th>v_ma20</th>\n",
       "      <th>turnover</th>\n",
       "    </tr>\n",
       "    <tr>\n",
       "      <th>date</th>\n",
       "      <th></th>\n",
       "      <th></th>\n",
       "      <th></th>\n",
       "      <th></th>\n",
       "      <th></th>\n",
       "      <th></th>\n",
       "      <th></th>\n",
       "      <th></th>\n",
       "      <th></th>\n",
       "      <th></th>\n",
       "      <th></th>\n",
       "      <th></th>\n",
       "      <th></th>\n",
       "      <th></th>\n",
       "    </tr>\n",
       "  </thead>\n",
       "  <tbody>\n",
       "    <tr>\n",
       "      <th>2016-05-31</th>\n",
       "      <td>27.11</td>\n",
       "      <td>29.26</td>\n",
       "      <td>29.03</td>\n",
       "      <td>27.11</td>\n",
       "      <td>410502.84</td>\n",
       "      <td>2.15</td>\n",
       "      <td>8.00</td>\n",
       "      <td>27.862</td>\n",
       "      <td>28.012</td>\n",
       "      <td>27.704</td>\n",
       "      <td>245283.89</td>\n",
       "      <td>318340.90</td>\n",
       "      <td>297650.45</td>\n",
       "      <td>3.60</td>\n",
       "    </tr>\n",
       "    <tr>\n",
       "      <th>2016-05-30</th>\n",
       "      <td>27.22</td>\n",
       "      <td>27.30</td>\n",
       "      <td>26.88</td>\n",
       "      <td>26.71</td>\n",
       "      <td>170247.23</td>\n",
       "      <td>-0.69</td>\n",
       "      <td>-2.50</td>\n",
       "      <td>27.772</td>\n",
       "      <td>27.902</td>\n",
       "      <td>27.582</td>\n",
       "      <td>233451.53</td>\n",
       "      <td>305166.61</td>\n",
       "      <td>290630.40</td>\n",
       "      <td>1.49</td>\n",
       "    </tr>\n",
       "    <tr>\n",
       "      <th>2016-05-27</th>\n",
       "      <td>27.88</td>\n",
       "      <td>28.18</td>\n",
       "      <td>27.57</td>\n",
       "      <td>27.52</td>\n",
       "      <td>150513.86</td>\n",
       "      <td>-0.27</td>\n",
       "      <td>-0.97</td>\n",
       "      <td>27.982</td>\n",
       "      <td>28.073</td>\n",
       "      <td>27.504</td>\n",
       "      <td>247266.67</td>\n",
       "      <td>327073.70</td>\n",
       "      <td>297228.85</td>\n",
       "      <td>1.32</td>\n",
       "    </tr>\n",
       "    <tr>\n",
       "      <th>2016-05-26</th>\n",
       "      <td>27.68</td>\n",
       "      <td>28.25</td>\n",
       "      <td>27.84</td>\n",
       "      <td>27.00</td>\n",
       "      <td>225438.30</td>\n",
       "      <td>-0.15</td>\n",
       "      <td>-0.54</td>\n",
       "      <td>27.950</td>\n",
       "      <td>27.996</td>\n",
       "      <td>27.487</td>\n",
       "      <td>276280.18</td>\n",
       "      <td>333090.66</td>\n",
       "      <td>300024.03</td>\n",
       "      <td>1.98</td>\n",
       "    </tr>\n",
       "    <tr>\n",
       "      <th>2016-05-25</th>\n",
       "      <td>28.97</td>\n",
       "      <td>29.00</td>\n",
       "      <td>27.99</td>\n",
       "      <td>27.95</td>\n",
       "      <td>269717.22</td>\n",
       "      <td>-0.59</td>\n",
       "      <td>-2.06</td>\n",
       "      <td>28.008</td>\n",
       "      <td>27.955</td>\n",
       "      <td>27.456</td>\n",
       "      <td>306126.87</td>\n",
       "      <td>346748.73</td>\n",
       "      <td>309480.59</td>\n",
       "      <td>2.37</td>\n",
       "    </tr>\n",
       "  </tbody>\n",
       "</table>\n",
       "</div>"
      ],
      "text/plain": [
       "             open   high  close    low     volume  price_change  p_change  \\\n",
       "date                                                                        \n",
       "2016-05-31  27.11  29.26  29.03  27.11  410502.84          2.15      8.00   \n",
       "2016-05-30  27.22  27.30  26.88  26.71  170247.23         -0.69     -2.50   \n",
       "2016-05-27  27.88  28.18  27.57  27.52  150513.86         -0.27     -0.97   \n",
       "2016-05-26  27.68  28.25  27.84  27.00  225438.30         -0.15     -0.54   \n",
       "2016-05-25  28.97  29.00  27.99  27.95  269717.22         -0.59     -2.06   \n",
       "\n",
       "               ma5    ma10    ma20      v_ma5     v_ma10     v_ma20  turnover  \n",
       "date                                                                           \n",
       "2016-05-31  27.862  28.012  27.704  245283.89  318340.90  297650.45      3.60  \n",
       "2016-05-30  27.772  27.902  27.582  233451.53  305166.61  290630.40      1.49  \n",
       "2016-05-27  27.982  28.073  27.504  247266.67  327073.70  297228.85      1.32  \n",
       "2016-05-26  27.950  27.996  27.487  276280.18  333090.66  300024.03      1.98  \n",
       "2016-05-25  28.008  27.955  27.456  306126.87  346748.73  309480.59      2.37  "
      ]
     },
     "execution_count": 66,
     "metadata": {},
     "output_type": "execute_result"
    }
   ],
   "source": [
    "kd.head()"
   ]
  },
  {
   "cell_type": "code",
   "execution_count": 70,
   "metadata": {
    "collapsed": false
   },
   "outputs": [
    {
     "data": {
      "text/html": [
       "<div>\n",
       "<table border=\"1\" class=\"dataframe\">\n",
       "  <thead>\n",
       "    <tr style=\"text-align: right;\">\n",
       "      <th></th>\n",
       "      <th>open</th>\n",
       "      <th>high</th>\n",
       "      <th>close</th>\n",
       "      <th>low</th>\n",
       "      <th>volume</th>\n",
       "      <th>price_change</th>\n",
       "      <th>p_change</th>\n",
       "      <th>ma5</th>\n",
       "      <th>ma10</th>\n",
       "      <th>ma20</th>\n",
       "      <th>v_ma5</th>\n",
       "      <th>v_ma10</th>\n",
       "      <th>v_ma20</th>\n",
       "      <th>turnover</th>\n",
       "    </tr>\n",
       "    <tr>\n",
       "      <th>date</th>\n",
       "      <th></th>\n",
       "      <th></th>\n",
       "      <th></th>\n",
       "      <th></th>\n",
       "      <th></th>\n",
       "      <th></th>\n",
       "      <th></th>\n",
       "      <th></th>\n",
       "      <th></th>\n",
       "      <th></th>\n",
       "      <th></th>\n",
       "      <th></th>\n",
       "      <th></th>\n",
       "      <th></th>\n",
       "    </tr>\n",
       "  </thead>\n",
       "  <tbody>\n",
       "    <tr>\n",
       "      <th>2016-05-31</th>\n",
       "      <td>31.94</td>\n",
       "      <td>33.50</td>\n",
       "      <td>32.70</td>\n",
       "      <td>31.94</td>\n",
       "      <td>758825.88</td>\n",
       "      <td>0.79</td>\n",
       "      <td>2.48</td>\n",
       "      <td>31.900</td>\n",
       "      <td>31.841</td>\n",
       "      <td>31.693</td>\n",
       "      <td>292294.96</td>\n",
       "      <td>298696.19</td>\n",
       "      <td>320422.50</td>\n",
       "      <td>0.70</td>\n",
       "    </tr>\n",
       "    <tr>\n",
       "      <th>2016-05-30</th>\n",
       "      <td>31.75</td>\n",
       "      <td>31.94</td>\n",
       "      <td>31.94</td>\n",
       "      <td>31.50</td>\n",
       "      <td>220975.00</td>\n",
       "      <td>0.34</td>\n",
       "      <td>1.08</td>\n",
       "      <td>31.690</td>\n",
       "      <td>31.723</td>\n",
       "      <td>31.652</td>\n",
       "      <td>177633.98</td>\n",
       "      <td>243505.28</td>\n",
       "      <td>307940.19</td>\n",
       "      <td>0.20</td>\n",
       "    </tr>\n",
       "    <tr>\n",
       "      <th>2016-05-27</th>\n",
       "      <td>31.70</td>\n",
       "      <td>31.71</td>\n",
       "      <td>31.60</td>\n",
       "      <td>31.58</td>\n",
       "      <td>140987.52</td>\n",
       "      <td>-0.03</td>\n",
       "      <td>-0.10</td>\n",
       "      <td>31.666</td>\n",
       "      <td>31.691</td>\n",
       "      <td>31.656</td>\n",
       "      <td>188916.07</td>\n",
       "      <td>245526.07</td>\n",
       "      <td>309867.01</td>\n",
       "      <td>0.13</td>\n",
       "    </tr>\n",
       "    <tr>\n",
       "      <th>2016-05-26</th>\n",
       "      <td>31.61</td>\n",
       "      <td>31.79</td>\n",
       "      <td>31.62</td>\n",
       "      <td>31.50</td>\n",
       "      <td>203561.39</td>\n",
       "      <td>0.01</td>\n",
       "      <td>0.03</td>\n",
       "      <td>31.712</td>\n",
       "      <td>31.702</td>\n",
       "      <td>31.686</td>\n",
       "      <td>195797.03</td>\n",
       "      <td>270692.40</td>\n",
       "      <td>314189.46</td>\n",
       "      <td>0.19</td>\n",
       "    </tr>\n",
       "    <tr>\n",
       "      <th>2016-05-25</th>\n",
       "      <td>31.83</td>\n",
       "      <td>31.88</td>\n",
       "      <td>31.64</td>\n",
       "      <td>31.59</td>\n",
       "      <td>137125.00</td>\n",
       "      <td>0.00</td>\n",
       "      <td>0.00</td>\n",
       "      <td>31.756</td>\n",
       "      <td>31.712</td>\n",
       "      <td>31.717</td>\n",
       "      <td>212118.86</td>\n",
       "      <td>307205.90</td>\n",
       "      <td>320474.46</td>\n",
       "      <td>0.13</td>\n",
       "    </tr>\n",
       "  </tbody>\n",
       "</table>\n",
       "</div>"
      ],
      "text/plain": [
       "             open   high  close    low     volume  price_change  p_change  \\\n",
       "date                                                                        \n",
       "2016-05-31  31.94  33.50  32.70  31.94  758825.88          0.79      2.48   \n",
       "2016-05-30  31.75  31.94  31.94  31.50  220975.00          0.34      1.08   \n",
       "2016-05-27  31.70  31.71  31.60  31.58  140987.52         -0.03     -0.10   \n",
       "2016-05-26  31.61  31.79  31.62  31.50  203561.39          0.01      0.03   \n",
       "2016-05-25  31.83  31.88  31.64  31.59  137125.00          0.00      0.00   \n",
       "\n",
       "               ma5    ma10    ma20      v_ma5     v_ma10     v_ma20  turnover  \n",
       "date                                                                           \n",
       "2016-05-31  31.900  31.841  31.693  292294.96  298696.19  320422.50      0.70  \n",
       "2016-05-30  31.690  31.723  31.652  177633.98  243505.28  307940.19      0.20  \n",
       "2016-05-27  31.666  31.691  31.656  188916.07  245526.07  309867.01      0.13  \n",
       "2016-05-26  31.712  31.702  31.686  195797.03  270692.40  314189.46      0.19  \n",
       "2016-05-25  31.756  31.712  31.717  212118.86  307205.90  320474.46      0.13  "
      ]
     },
     "execution_count": 70,
     "metadata": {},
     "output_type": "execute_result"
    }
   ],
   "source": [
    "pa.head()"
   ]
  },
  {
   "cell_type": "code",
   "execution_count": 119,
   "metadata": {
    "collapsed": false
   },
   "outputs": [
    {
     "name": "stdout",
     "output_type": "stream",
     "text": [
      "<class 'pandas.core.frame.DataFrame'>\n",
      "Index: 202 entries, 2015-05-29 to 2016-05-31\n",
      "Data columns (total 14 columns):\n",
      "open            202 non-null float64\n",
      "high            202 non-null float64\n",
      "close           202 non-null float64\n",
      "low             202 non-null float64\n",
      "volume          202 non-null float64\n",
      "price_change    202 non-null float64\n",
      "p_change        202 non-null float64\n",
      "ma5             202 non-null float64\n",
      "ma10            202 non-null float64\n",
      "ma20            202 non-null float64\n",
      "v_ma5           202 non-null float64\n",
      "v_ma10          202 non-null float64\n",
      "v_ma20          202 non-null float64\n",
      "turnover        202 non-null float64\n",
      "dtypes: float64(14)\n",
      "memory usage: 23.7+ KB\n"
     ]
    }
   ],
   "source": [
    "kd.info()"
   ]
  },
  {
   "cell_type": "code",
   "execution_count": 120,
   "metadata": {
    "collapsed": false
   },
   "outputs": [
    {
     "name": "stdout",
     "output_type": "stream",
     "text": [
      "<class 'pandas.core.frame.DataFrame'>\n",
      "Index: 247 entries, 2015-05-29 to 2016-05-31\n",
      "Data columns (total 14 columns):\n",
      "open            247 non-null float64\n",
      "high            247 non-null float64\n",
      "close           247 non-null float64\n",
      "low             247 non-null float64\n",
      "volume          247 non-null float64\n",
      "price_change    247 non-null float64\n",
      "p_change        247 non-null float64\n",
      "ma5             247 non-null float64\n",
      "ma10            247 non-null float64\n",
      "ma20            247 non-null float64\n",
      "v_ma5           247 non-null float64\n",
      "v_ma10          247 non-null float64\n",
      "v_ma20          247 non-null float64\n",
      "turnover        247 non-null float64\n",
      "dtypes: float64(14)\n",
      "memory usage: 28.9+ KB\n"
     ]
    }
   ],
   "source": [
    "pa.info()"
   ]
  },
  {
   "cell_type": "code",
   "execution_count": 71,
   "metadata": {
    "collapsed": true
   },
   "outputs": [],
   "source": [
    "pa =pa.sort_index() #按时间排序\n",
    "kd =kd.sort_index()"
   ]
  },
  {
   "cell_type": "code",
   "execution_count": 78,
   "metadata": {
    "collapsed": true
   },
   "outputs": [],
   "source": [
    "pad = pa.drop(pa.columns[[0,1,3,4,5,6,7,8,9,10,11,12,13]],axis=1)"
   ]
  },
  {
   "cell_type": "code",
   "execution_count": 79,
   "metadata": {
    "collapsed": true
   },
   "outputs": [],
   "source": [
    "kdd = kd.drop(kd.columns[[0,1,3,4,5,6,7,8,9,10,11,12,13]],axis=1)"
   ]
  },
  {
   "cell_type": "markdown",
   "metadata": {
    "collapsed": true
   },
   "source": [
    "## Step3：计算日收益率\n",
    "\n",
    "根据上面的分析，两种收益率差别并不大，这里，我们将使用复合收益率。"
   ]
  },
  {
   "cell_type": "code",
   "execution_count": 80,
   "metadata": {
    "collapsed": false
   },
   "outputs": [
    {
     "data": {
      "text/html": [
       "<div>\n",
       "<table border=\"1\" class=\"dataframe\">\n",
       "  <thead>\n",
       "    <tr style=\"text-align: right;\">\n",
       "      <th></th>\n",
       "      <th>close</th>\n",
       "    </tr>\n",
       "    <tr>\n",
       "      <th>date</th>\n",
       "      <th></th>\n",
       "    </tr>\n",
       "  </thead>\n",
       "  <tbody>\n",
       "    <tr>\n",
       "      <th>2015-05-29</th>\n",
       "      <td>85.44</td>\n",
       "    </tr>\n",
       "    <tr>\n",
       "      <th>2015-06-01</th>\n",
       "      <td>87.41</td>\n",
       "    </tr>\n",
       "    <tr>\n",
       "      <th>2015-06-02</th>\n",
       "      <td>86.38</td>\n",
       "    </tr>\n",
       "    <tr>\n",
       "      <th>2015-06-03</th>\n",
       "      <td>85.54</td>\n",
       "    </tr>\n",
       "    <tr>\n",
       "      <th>2015-06-04</th>\n",
       "      <td>88.01</td>\n",
       "    </tr>\n",
       "  </tbody>\n",
       "</table>\n",
       "</div>"
      ],
      "text/plain": [
       "            close\n",
       "date             \n",
       "2015-05-29  85.44\n",
       "2015-06-01  87.41\n",
       "2015-06-02  86.38\n",
       "2015-06-03  85.54\n",
       "2015-06-04  88.01"
      ]
     },
     "execution_count": 80,
     "metadata": {},
     "output_type": "execute_result"
    }
   ],
   "source": [
    "pad.head()"
   ]
  },
  {
   "cell_type": "code",
   "execution_count": 81,
   "metadata": {
    "collapsed": true
   },
   "outputs": [],
   "source": [
    "pad['rpa'] = np.log(pad['close']/(pad['close'].shift(1)))*100"
   ]
  },
  {
   "cell_type": "code",
   "execution_count": 83,
   "metadata": {
    "collapsed": true
   },
   "outputs": [],
   "source": [
    "kdd['rkd'] = np.log(kdd['close']/(kdd['close'].shift(1)))*100"
   ]
  },
  {
   "cell_type": "code",
   "execution_count": 84,
   "metadata": {
    "collapsed": false
   },
   "outputs": [
    {
     "data": {
      "text/html": [
       "<div>\n",
       "<table border=\"1\" class=\"dataframe\">\n",
       "  <thead>\n",
       "    <tr style=\"text-align: right;\">\n",
       "      <th></th>\n",
       "      <th>close</th>\n",
       "      <th>rkd</th>\n",
       "    </tr>\n",
       "    <tr>\n",
       "      <th>date</th>\n",
       "      <th></th>\n",
       "      <th></th>\n",
       "    </tr>\n",
       "  </thead>\n",
       "  <tbody>\n",
       "    <tr>\n",
       "      <th>2015-05-29</th>\n",
       "      <td>51.30</td>\n",
       "      <td>NaN</td>\n",
       "    </tr>\n",
       "    <tr>\n",
       "      <th>2015-06-01</th>\n",
       "      <td>53.40</td>\n",
       "      <td>4.011999</td>\n",
       "    </tr>\n",
       "    <tr>\n",
       "      <th>2015-06-02</th>\n",
       "      <td>58.30</td>\n",
       "      <td>8.779135</td>\n",
       "    </tr>\n",
       "    <tr>\n",
       "      <th>2015-06-03</th>\n",
       "      <td>57.19</td>\n",
       "      <td>-1.922304</td>\n",
       "    </tr>\n",
       "    <tr>\n",
       "      <th>2015-06-04</th>\n",
       "      <td>55.28</td>\n",
       "      <td>-3.396788</td>\n",
       "    </tr>\n",
       "  </tbody>\n",
       "</table>\n",
       "</div>"
      ],
      "text/plain": [
       "            close       rkd\n",
       "date                       \n",
       "2015-05-29  51.30       NaN\n",
       "2015-06-01  53.40  4.011999\n",
       "2015-06-02  58.30  8.779135\n",
       "2015-06-03  57.19 -1.922304\n",
       "2015-06-04  55.28 -3.396788"
      ]
     },
     "execution_count": 84,
     "metadata": {},
     "output_type": "execute_result"
    }
   ],
   "source": [
    "kdd.head()"
   ]
  },
  {
   "cell_type": "code",
   "execution_count": 89,
   "metadata": {
    "collapsed": false
   },
   "outputs": [],
   "source": [
    "# 删除行：dropna(axis=0)  .dropna(how='any')\n",
    "pad = pad.dropna(axis=0);\n",
    "kdd = kdd.dropna(axis=0);"
   ]
  },
  {
   "cell_type": "code",
   "execution_count": 90,
   "metadata": {
    "collapsed": false
   },
   "outputs": [
    {
     "data": {
      "text/html": [
       "<div>\n",
       "<table border=\"1\" class=\"dataframe\">\n",
       "  <thead>\n",
       "    <tr style=\"text-align: right;\">\n",
       "      <th></th>\n",
       "      <th>close</th>\n",
       "      <th>rpa</th>\n",
       "    </tr>\n",
       "    <tr>\n",
       "      <th>date</th>\n",
       "      <th></th>\n",
       "      <th></th>\n",
       "    </tr>\n",
       "  </thead>\n",
       "  <tbody>\n",
       "    <tr>\n",
       "      <th>2015-06-01</th>\n",
       "      <td>87.41</td>\n",
       "      <td>2.279532</td>\n",
       "    </tr>\n",
       "    <tr>\n",
       "      <th>2015-06-02</th>\n",
       "      <td>86.38</td>\n",
       "      <td>-1.185353</td>\n",
       "    </tr>\n",
       "    <tr>\n",
       "      <th>2015-06-03</th>\n",
       "      <td>85.54</td>\n",
       "      <td>-0.977206</td>\n",
       "    </tr>\n",
       "    <tr>\n",
       "      <th>2015-06-04</th>\n",
       "      <td>88.01</td>\n",
       "      <td>2.846634</td>\n",
       "    </tr>\n",
       "    <tr>\n",
       "      <th>2015-06-05</th>\n",
       "      <td>86.95</td>\n",
       "      <td>-1.211720</td>\n",
       "    </tr>\n",
       "  </tbody>\n",
       "</table>\n",
       "</div>"
      ],
      "text/plain": [
       "            close       rpa\n",
       "date                       \n",
       "2015-06-01  87.41  2.279532\n",
       "2015-06-02  86.38 -1.185353\n",
       "2015-06-03  85.54 -0.977206\n",
       "2015-06-04  88.01  2.846634\n",
       "2015-06-05  86.95 -1.211720"
      ]
     },
     "execution_count": 90,
     "metadata": {},
     "output_type": "execute_result"
    }
   ],
   "source": [
    "pad.head()"
   ]
  },
  {
   "cell_type": "code",
   "execution_count": 91,
   "metadata": {
    "collapsed": false
   },
   "outputs": [
    {
     "data": {
      "text/html": [
       "<div>\n",
       "<table border=\"1\" class=\"dataframe\">\n",
       "  <thead>\n",
       "    <tr style=\"text-align: right;\">\n",
       "      <th></th>\n",
       "      <th>close</th>\n",
       "      <th>rkd</th>\n",
       "    </tr>\n",
       "    <tr>\n",
       "      <th>date</th>\n",
       "      <th></th>\n",
       "      <th></th>\n",
       "    </tr>\n",
       "  </thead>\n",
       "  <tbody>\n",
       "    <tr>\n",
       "      <th>2015-06-01</th>\n",
       "      <td>53.40</td>\n",
       "      <td>4.011999</td>\n",
       "    </tr>\n",
       "    <tr>\n",
       "      <th>2015-06-02</th>\n",
       "      <td>58.30</td>\n",
       "      <td>8.779135</td>\n",
       "    </tr>\n",
       "    <tr>\n",
       "      <th>2015-06-03</th>\n",
       "      <td>57.19</td>\n",
       "      <td>-1.922304</td>\n",
       "    </tr>\n",
       "    <tr>\n",
       "      <th>2015-06-04</th>\n",
       "      <td>55.28</td>\n",
       "      <td>-3.396788</td>\n",
       "    </tr>\n",
       "    <tr>\n",
       "      <th>2015-06-05</th>\n",
       "      <td>53.80</td>\n",
       "      <td>-2.713771</td>\n",
       "    </tr>\n",
       "  </tbody>\n",
       "</table>\n",
       "</div>"
      ],
      "text/plain": [
       "            close       rkd\n",
       "date                       \n",
       "2015-06-01  53.40  4.011999\n",
       "2015-06-02  58.30  8.779135\n",
       "2015-06-03  57.19 -1.922304\n",
       "2015-06-04  55.28 -3.396788\n",
       "2015-06-05  53.80 -2.713771"
      ]
     },
     "execution_count": 91,
     "metadata": {},
     "output_type": "execute_result"
    }
   ],
   "source": [
    "kdd.head()"
   ]
  },
  {
   "cell_type": "markdown",
   "metadata": {
    "collapsed": true
   },
   "source": [
    "## Step4：收益率比较\n",
    "\n",
    "假设没区别，用t检验。"
   ]
  },
  {
   "cell_type": "code",
   "execution_count": 92,
   "metadata": {
    "collapsed": true
   },
   "outputs": [],
   "source": [
    "rpa = pad.rpa"
   ]
  },
  {
   "cell_type": "code",
   "execution_count": 94,
   "metadata": {
    "collapsed": false
   },
   "outputs": [],
   "source": [
    "rkd = kdd.rkd"
   ]
  },
  {
   "cell_type": "code",
   "execution_count": 127,
   "metadata": {
    "collapsed": false
   },
   "outputs": [],
   "source": [
    "t, p = stats.ttest_ind(rpa, rkd)"
   ]
  },
  {
   "cell_type": "code",
   "execution_count": 128,
   "metadata": {
    "collapsed": false
   },
   "outputs": [
    {
     "data": {
      "text/plain": [
       "(-0.21233548971436625, 0.83194253486088876)"
      ]
     },
     "execution_count": 128,
     "metadata": {},
     "output_type": "execute_result"
    }
   ],
   "source": [
    "t,p \n",
    "# 不能拒绝原假设，因此，根据t检验的结果，两组数据的差别无统计学意义。"
   ]
  },
  {
   "cell_type": "code",
   "execution_count": 104,
   "metadata": {
    "collapsed": false,
    "scrolled": true
   },
   "outputs": [
    {
     "data": {
      "image/png": "[encoded data removed]",
      "text/plain": [
       "<matplotlib.figure.Figure at 0x7fb5ff7de1d0>"
      ]
     },
     "metadata": {},
     "output_type": "display_data"
    }
   ],
   "source": [
    "#绘制股价走势图\n",
    "\n",
    "fig , axes = plt.subplots(2,1,figsize=(15,5))\n",
    "\n",
    "closepa = pad[\"close\"]\n",
    "closepa.plot(ax=axes[0])\n",
    "\n",
    "closekd = kdd[\"close\"]\n",
    "closekd.plot(ax=axes[1])\n",
    "\n",
    "fig.tight_layout()"
   ]
  },
  {
   "cell_type": "code",
   "execution_count": 105,
   "metadata": {
    "collapsed": false
   },
   "outputs": [
    {
     "data": {
      "image/png": "[encoded data removed]",
      "text/plain": [
       "<matplotlib.figure.Figure at 0x7fb601dab7d0>"
      ]
     },
     "metadata": {},
     "output_type": "display_data"
    }
   ],
   "source": [
    "#绘制收益率变动图\n",
    "\n",
    "fig , axes = plt.subplots(2,1,figsize=(15,5))\n",
    "\n",
    "rpa.plot(ax=axes[0])\n",
    "\n",
    "rkd.plot(ax=axes[1])\n",
    "\n",
    "fig.tight_layout()"
   ]
  },
  {
   "cell_type": "code",
   "execution_count": 141,
   "metadata": {
    "collapsed": false
   },
   "outputs": [
    {
     "data": {
      "image/png": "[encoded data removed]",
      "text/plain": [
       "<matplotlib.figure.Figure at 0x7fb5ff1ab710>"
      ]
     },
     "metadata": {},
     "output_type": "display_data"
    }
   ],
   "source": [
    "fig , axes = plt.subplots(1,2,figsize=(12,5))\n",
    "\n",
    "sns.distplot(rpa, ax=axes[0], bins=25)\n",
    "sns.distplot(rkd, ax=axes[1], bins=25)\n",
    "\n",
    "fig.tight_layout()"
   ]
  },
  {
   "cell_type": "markdown",
   "metadata": {},
   "source": [
    "考虑到平安银行有少量数据比较异常，可以将该数据剔除后再进行比较，预期t值可能会更小。"
   ]
  },
  {
   "cell_type": "code",
   "execution_count": 108,
   "metadata": {
    "collapsed": false
   },
   "outputs": [
    {
     "data": {
      "text/plain": [
       "date\n",
       "2015-07-08   -10.532177\n",
       "2015-07-27   -79.009581\n",
       "2015-08-24   -10.811664\n",
       "Name: rpa, dtype: float64"
      ]
     },
     "execution_count": 108,
     "metadata": {},
     "output_type": "execute_result"
    }
   ],
   "source": [
    "rpa.ix[rpa<-10]"
   ]
  },
  {
   "cell_type": "code",
   "execution_count": 115,
   "metadata": {
    "collapsed": true
   },
   "outputs": [],
   "source": [
    "rpa2 = rpa.drop(\"2015-07-27\")"
   ]
  },
  {
   "cell_type": "code",
   "execution_count": 114,
   "metadata": {
    "collapsed": false
   },
   "outputs": [
    {
     "data": {
      "text/plain": [
       "246"
      ]
     },
     "execution_count": 114,
     "metadata": {},
     "output_type": "execute_result"
    }
   ],
   "source": [
    "rpa.size"
   ]
  },
  {
   "cell_type": "code",
   "execution_count": 116,
   "metadata": {
    "collapsed": false
   },
   "outputs": [
    {
     "data": {
      "text/plain": [
       "245"
      ]
     },
     "execution_count": 116,
     "metadata": {},
     "output_type": "execute_result"
    }
   ],
   "source": [
    "rpa2.size"
   ]
  },
  {
   "cell_type": "code",
   "execution_count": 117,
   "metadata": {
    "collapsed": true
   },
   "outputs": [],
   "source": [
    "rkd2 = rkd"
   ]
  },
  {
   "cell_type": "code",
   "execution_count": 121,
   "metadata": {
    "collapsed": false,
    "scrolled": true
   },
   "outputs": [
    {
     "data": {
      "text/plain": [
       "201"
      ]
     },
     "execution_count": 121,
     "metadata": {},
     "output_type": "execute_result"
    }
   ],
   "source": [
    "rkd2.size"
   ]
  },
  {
   "cell_type": "code",
   "execution_count": 122,
   "metadata": {
    "collapsed": true
   },
   "outputs": [],
   "source": [
    "t2, p2 = stats.ttest_ind(rpa2, rkd2)"
   ]
  },
  {
   "cell_type": "code",
   "execution_count": 138,
   "metadata": {
    "collapsed": false
   },
   "outputs": [
    {
     "data": {
      "text/plain": [
       "(0.59478135010142419, 0.55229261443164712)"
      ]
     },
     "execution_count": 138,
     "metadata": {},
     "output_type": "execute_result"
    }
   ],
   "source": [
    "t2, p2\n",
    "\n",
    "# t值反而增加，当然t值都非常小，我们的结论并没有改变。  \n",
    "# 说明一些异常点可能会对结果会造成较大影响。"
   ]
  },
  {
   "cell_type": "code",
   "execution_count": 130,
   "metadata": {
    "collapsed": false
   },
   "outputs": [
    {
     "data": {
      "text/plain": [
       "count    245.000000\n",
       "mean      -0.069528\n",
       "std        2.467951\n",
       "min      -10.811664\n",
       "25%       -1.117185\n",
       "50%        0.000000\n",
       "75%        0.913248\n",
       "max        9.683406\n",
       "Name: rpa, dtype: float64"
      ]
     },
     "execution_count": 130,
     "metadata": {},
     "output_type": "execute_result"
    }
   ],
   "source": [
    "rpa2.describe()"
   ]
  },
  {
   "cell_type": "code",
   "execution_count": 131,
   "metadata": {
    "collapsed": false
   },
   "outputs": [
    {
     "data": {
      "text/plain": [
       "count    246.000000\n",
       "mean      -0.390422\n",
       "std        5.603334\n",
       "min      -79.009581\n",
       "25%       -1.120820\n",
       "50%       -0.014182\n",
       "75%        0.904099\n",
       "max        9.683406\n",
       "Name: rpa, dtype: float64"
      ]
     },
     "execution_count": 131,
     "metadata": {},
     "output_type": "execute_result"
    }
   ],
   "source": [
    "rpa.describe()"
   ]
  },
  {
   "cell_type": "markdown",
   "metadata": {},
   "source": [
    "**通过均值和标准差对比，我们不难发现，虽然只是剔除了一组数据，但结果相差甚远。原因是异常点数据太极端。**"
   ]
  },
  {
   "cell_type": "code",
   "execution_count": 125,
   "metadata": {
    "collapsed": false
   },
   "outputs": [
    {
     "data": {
      "image/png": "[encoded data removed]",
      "text/plain": [
       "<matplotlib.figure.Figure at 0x7fb5ff11ffd0>"
      ]
     },
     "metadata": {},
     "output_type": "display_data"
    }
   ],
   "source": [
    "#重新绘制收益率变动图\n",
    "\n",
    "fig , axes = plt.subplots(2,1,figsize=(15,5))\n",
    "\n",
    "rpa2.plot(ax=axes[0])\n",
    "\n",
    "rkd2.plot(ax=axes[1])\n",
    "\n",
    "fig.tight_layout()"
   ]
  },
  {
   "cell_type": "code",
   "execution_count": 140,
   "metadata": {
    "collapsed": false
   },
   "outputs": [
    {
     "data": {
      "image/png": "[encoded data removed]",
      "text/plain": [
       "<matplotlib.figure.Figure at 0x7fb5ff2b1890>"
      ]
     },
     "metadata": {},
     "output_type": "display_data"
    }
   ],
   "source": [
    "fig , axes = plt.subplots(1,2,figsize=(12,5))\n",
    "\n",
    "sns.distplot(rpa2, ax=axes[0], bins=25)\n",
    "sns.distplot(rkd2, ax=axes[1], bins=25)\n",
    "\n",
    "fig.tight_layout()"
   ]
  },
  {
   "cell_type": "code",
   "execution_count": null,
   "metadata": {
    "collapsed": true
   },
   "outputs": [],
   "source": []
  }
 ],
 "metadata": {
  "kernelspec": {
   "display_name": "Python 2",
   "language": "python",
   "name": "python2"
  },
  "language_info": {
   "codemirror_mode": {
    "name": "ipython",
    "version": 2
   },
   "file_extension": ".py",
   "mimetype": "text/x-python",
   "name": "python",
   "nbconvert_exporter": "python",
   "pygments_lexer": "ipython2",
   "version": "2.7.12"
  },
  "latex_envs": {
   "LaTeX_envs_menu_present": true,
   "bibliofile": "biblio.bib",
   "cite_by": "apalike",
   "current_citInitial": 1,
   "eqLabelWithNumbers": true,
   "eqNumInitial": 1,
   "hotkeys": {
    "equation": "Ctrl-E",
    "itemize": "Ctrl-I"
   },
   "labels_anchors": false,
   "latex_user_defs": false,
   "report_style_numbering": false,
   "user_envs_cfg": false
  },
  "toc": {
   "colors": {
    "hover_highlight": "#DAA520",
    "running_highlight": "#FF0000",
    "selected_highlight": "#FFD700"
   },
   "moveMenuLeft": true,
   "nav_menu": {
    "height": "0px",
    "width": "0px"
   },
   "navigate_menu": true,
   "number_sections": true,
   "sideBar": true,
   "threshold": 4,
   "toc_cell": false,
   "toc_section_display": "block",
   "toc_window_display": false
  }
 },
 "nbformat": 4,
 "nbformat_minor": 0
}
