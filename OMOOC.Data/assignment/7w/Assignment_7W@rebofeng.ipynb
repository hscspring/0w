{
 "cells": [
  {
   "cell_type": "markdown",
   "metadata": {},
   "source": [
    "## 学习理解如何用最小二乘法的矩阵公式得到线性回归的解，并使用numpy库来实现该算法。"
   ]
  },
  {
   "cell_type": "markdown",
   "metadata": {
    "collapsed": true
   },
   "source": [
    "最小二乘法（method of least squares)是回归分析中常用的标准方法，主要用于寻求overdetermined system系统的解。所谓overdetermined system，即系统中的等式比未知量要多。最小二乘（least squares）的核心思想是使得误差的平方和最小。\n",
    "\n",
    "对于如下一个overdetermined system\n",
    "\n",
    "$\\sum_{j=1}^nX_{ij}\\beta_{j}=y_{i},(i=1,2,...,m)$, 其中m > n\n",
    "\n",
    "最小二乘法的目的是求得向量$\\beta$使得目标函数$S(\\beta)$的值最小，其中\n",
    "\n",
    "$S(\\beta)=\\sum_{i=1}^m | y_{i} - \\sum_{j=1}^nX_{ij}\\beta_{j} | ^{2}=||y-X\\beta||^{2}$,\n",
    "\n",
    "对上面这个公式求解可得到$\\beta$的解为：\n",
    "\n",
    "$\\beta = (X^{T}X)^{-1}X^{T}y$\n",
    "\n",
    "目标函数最小值的求解方法有很多种，比如用微积分中的梯度法，或者线性代数的方法，不过利用这个公式并借助numpy库就可以实现一个利用最小二乘法求线性回归的解的函数。"
   ]
  },
  {
   "cell_type": "code",
   "execution_count": 4,
   "metadata": {
    "collapsed": false
   },
   "outputs": [],
   "source": [
    "import numpy as np\n",
    "import statsmodels.api as sm"
   ]
  },
  {
   "cell_type": "code",
   "execution_count": 18,
   "metadata": {
    "collapsed": true
   },
   "outputs": [],
   "source": [
    "def least_sqares(y,X):\n",
    "    return np.linalg.inv(X.T.dot(X)).dot(X.T).dot(y)"
   ]
  },
  {
   "cell_type": "markdown",
   "metadata": {},
   "source": [
    "借用statsmodels文档中的示例代码测试一下"
   ]
  },
  {
   "cell_type": "code",
   "execution_count": 19,
   "metadata": {
    "collapsed": false
   },
   "outputs": [],
   "source": [
    "#构造测试数据\n",
    "nsample = 100\n",
    "x = np.linspace(0, 10, 100)\n",
    "X = np.column_stack((x, x**2))\n",
    "beta = np.array([1, 0.1, 10])\n",
    "e = np.random.normal(size=nsample)\n",
    "\n",
    "\n",
    "X = sm.add_constant(X)\n",
    "y = np.dot(X, beta) + e"
   ]
  },
  {
   "cell_type": "code",
   "execution_count": 20,
   "metadata": {
    "collapsed": false
   },
   "outputs": [
    {
     "data": {
      "text/plain": [
       "array([  1.20643475,  -0.0825874 ,  10.021948  ])"
      ]
     },
     "execution_count": 20,
     "metadata": {},
     "output_type": "execute_result"
    }
   ],
   "source": [
    "#使用自定义函数求beta\n",
    "beta = least_sqares(y,X);beta"
   ]
  },
  {
   "cell_type": "code",
   "execution_count": 21,
   "metadata": {
    "collapsed": false
   },
   "outputs": [
    {
     "data": {
      "text/plain": [
       "array([  1.20643475,  -0.0825874 ,  10.021948  ])"
      ]
     },
     "execution_count": 21,
     "metadata": {},
     "output_type": "execute_result"
    }
   ],
   "source": [
    "#使用statsmodels模块求beta\n",
    "model = sm.OLS(y,X)\n",
    "result = model.fit()\n",
    "result.params"
   ]
  },
  {
   "cell_type": "markdown",
   "metadata": {},
   "source": [
    "## 使用pandas库中的函数下载上证综指和任一成份股票数据，计算日收益率，对这两组数据建立回归模型，将上证综指的收益率作为解释变量，说明这个模型的用处。"
   ]
  },
  {
   "cell_type": "code",
   "execution_count": 596,
   "metadata": {
    "collapsed": false
   },
   "outputs": [],
   "source": [
    "from pandas_datareader import data\n",
    "import pandas as pd\n",
    "import datetime\n",
    "import statsmodels.api as sm\n",
    "import statsmodels.formula.api as smf\n",
    "import statsmodels.graphics.api as smg\n",
    "import patsy\n",
    "import matplotlib.pyplot as plt\n",
    "%matplotlib inline"
   ]
  },
  {
   "cell_type": "code",
   "execution_count": 845,
   "metadata": {
    "collapsed": false
   },
   "outputs": [],
   "source": [
    "begin = datetime.datetime(2015,10,21)\n",
    "end = datetime.datetime(2016,10,21)\n",
    "gzmt = data.DataReader('600519.SS','yahoo',begin,end)#贵州茅台\n",
    "sh = data.DataReader('000001.SS','yahoo',begin,end)#上证指数"
   ]
  },
  {
   "cell_type": "code",
   "execution_count": 97,
   "metadata": {
    "collapsed": false
   },
   "outputs": [
    {
     "data": {
      "text/plain": [
       "(263, 263)"
      ]
     },
     "execution_count": 97,
     "metadata": {},
     "output_type": "execute_result"
    }
   ],
   "source": [
    "len(gzmt),len(gzmt.dropna())"
   ]
  },
  {
   "cell_type": "code",
   "execution_count": 98,
   "metadata": {
    "collapsed": false
   },
   "outputs": [
    {
     "data": {
      "text/plain": [
       "(235, 235)"
      ]
     },
     "execution_count": 98,
     "metadata": {},
     "output_type": "execute_result"
    }
   ],
   "source": [
    "len(sh),len(sh.dropna())"
   ]
  },
  {
   "cell_type": "code",
   "execution_count": 99,
   "metadata": {
    "collapsed": true
   },
   "outputs": [],
   "source": [
    "# 计算上证指数收益率\n",
    "close_price_sh = sh['Close']\n",
    "profits_sh = close_price_sh.diff()[1:].div(close_price_sh[:-1].values)\n",
    "\n",
    "# 计算贵州茅台收益率\n",
    "close_price_gzmt = gzmt['Close']\n",
    "profits_gzmt = close_price_gzmt.diff()[1:].div(close_price_gzmt[:-1].values)"
   ]
  },
  {
   "cell_type": "code",
   "execution_count": 100,
   "metadata": {
    "collapsed": false
   },
   "outputs": [
    {
     "data": {
      "text/plain": [
       "(234, 234)"
      ]
     },
     "execution_count": 100,
     "metadata": {},
     "output_type": "execute_result"
    }
   ],
   "source": [
    "len(profits_sh), len(profits_sh.dropna())"
   ]
  },
  {
   "cell_type": "code",
   "execution_count": 101,
   "metadata": {
    "collapsed": false
   },
   "outputs": [
    {
     "data": {
      "text/plain": [
       "(262, 262)"
      ]
     },
     "execution_count": 101,
     "metadata": {},
     "output_type": "execute_result"
    }
   ],
   "source": [
    "len(profits_gzmt), len(profits_gzmt.dropna())"
   ]
  },
  {
   "cell_type": "markdown",
   "metadata": {},
   "source": [
    "比较上证指数和贵州茅台的收益率数据发现，两者长度不一致，必须对数据进行处理使二者长度一致才能进行下一步操作。"
   ]
  },
  {
   "cell_type": "code",
   "execution_count": 102,
   "metadata": {
    "collapsed": false
   },
   "outputs": [],
   "source": [
    "profits = pd.DataFrame(profits_gzmt,columns=['profits_gzmt']).join(pd.DataFrame(profits_sh,columns=['profits_sh']))\n",
    "profits = profits.dropna()"
   ]
  },
  {
   "cell_type": "code",
   "execution_count": 103,
   "metadata": {
    "collapsed": false
   },
   "outputs": [
    {
     "name": "stdout",
     "output_type": "stream",
     "text": [
      "                            OLS Regression Results                            \n",
      "==============================================================================\n",
      "Dep. Variable:           profits_gzmt   R-squared:                       0.309\n",
      "Model:                            OLS   Adj. R-squared:                  0.306\n",
      "Method:                 Least Squares   F-statistic:                     103.8\n",
      "Date:                Sat, 22 Oct 2016   Prob (F-statistic):           2.20e-20\n",
      "Time:                        08:30:58   Log-Likelihood:                 660.41\n",
      "No. Observations:                 234   AIC:                            -1317.\n",
      "Df Residuals:                     232   BIC:                            -1310.\n",
      "Df Model:                           1                                         \n",
      "Covariance Type:            nonrobust                                         \n",
      "==============================================================================\n",
      "                 coef    std err          t      P>|t|      [95.0% Conf. Int.]\n",
      "------------------------------------------------------------------------------\n",
      "Intercept      0.0018      0.001      1.902      0.058     -6.42e-05     0.004\n",
      "profits_sh     0.6031      0.059     10.188      0.000         0.486     0.720\n",
      "==============================================================================\n",
      "Omnibus:                       33.257   Durbin-Watson:                   2.069\n",
      "Prob(Omnibus):                  0.000   Jarque-Bera (JB):               55.207\n",
      "Skew:                           0.791   Prob(JB):                     1.03e-12\n",
      "Kurtosis:                       4.777   Cond. No.                         62.7\n",
      "==============================================================================\n",
      "\n",
      "Warnings:\n",
      "[1] Standard Errors assume that the covariance matrix of the errors is correctly specified.\n"
     ]
    }
   ],
   "source": [
    "profit_results = smf.ols('profits_gzmt ~ profits_sh',profits).fit()\n",
    "print profit_results.summary()"
   ]
  },
  {
   "cell_type": "markdown",
   "metadata": {},
   "source": [
    "从结果来看，profits_sh的coef值为0.6031，说明上证指数的收益率还是对贵州茅台的收益率有相当大的影响，不过R-squared值为0.309，说明该模型仅仅能够解释30%左右茅台收益率结果。\n",
    "\n",
    "下面再找两个股票来对比一下，一个是深证市场的万科，一个是创业板的同花顺。"
   ]
  },
  {
   "cell_type": "code",
   "execution_count": 829,
   "metadata": {
    "collapsed": true
   },
   "outputs": [],
   "source": [
    "#获取同花顺数据\n",
    "ths = data.DataReader('300033.SZ','yahoo',begin,end)\n",
    "# 计算同花顺收益率\n",
    "close_price_ths = ths['Close']\n",
    "profits_ths = close_price_ths.diff()[1:].div(close_price_ths[:-1].values)\n",
    "#构造dataframe，并清除无效数据\n",
    "profits = pd.DataFrame(profits_ths,columns=['profits_ths']).join(pd.DataFrame(profits_sh,columns=['profits_sh']))\n",
    "profits = profits.dropna()"
   ]
  },
  {
   "cell_type": "code",
   "execution_count": 830,
   "metadata": {
    "collapsed": false
   },
   "outputs": [
    {
     "name": "stdout",
     "output_type": "stream",
     "text": [
      "                            OLS Regression Results                            \n",
      "==============================================================================\n",
      "Dep. Variable:            profits_ths   R-squared:                       0.436\n",
      "Model:                            OLS   Adj. R-squared:                  0.433\n",
      "Method:                 Least Squares   F-statistic:                     179.0\n",
      "Date:                Sun, 23 Oct 2016   Prob (F-statistic):           1.22e-30\n",
      "Time:                        15:18:00   Log-Likelihood:                 493.98\n",
      "No. Observations:                 234   AIC:                            -984.0\n",
      "Df Residuals:                     232   BIC:                            -977.1\n",
      "Df Model:                           1                                         \n",
      "Covariance Type:            nonrobust                                         \n",
      "==============================================================================\n",
      "                 coef    std err          t      P>|t|      [95.0% Conf. Int.]\n",
      "------------------------------------------------------------------------------\n",
      "Intercept      0.0006      0.002      0.322      0.748        -0.003     0.004\n",
      "profits_sh     1.6130      0.121     13.380      0.000         1.375     1.851\n",
      "==============================================================================\n",
      "Omnibus:                       30.214   Durbin-Watson:                   2.102\n",
      "Prob(Omnibus):                  0.000   Jarque-Bera (JB):               54.174\n",
      "Skew:                           0.695   Prob(JB):                     1.72e-12\n",
      "Kurtosis:                       4.904   Cond. No.                         62.7\n",
      "==============================================================================\n",
      "\n",
      "Warnings:\n",
      "[1] Standard Errors assume that the covariance matrix of the errors is correctly specified.\n"
     ]
    }
   ],
   "source": [
    "profit_results = smf.ols('profits_ths ~ profits_sh',profits).fit()\n",
    "print profit_results.summary()"
   ]
  },
  {
   "cell_type": "markdown",
   "metadata": {},
   "source": [
    "从模型拟合的结果来看，同花顺收益率为上证指数的1.6倍，这也符合创业板股票的特征，R-squared值为0.436，说明该模型可以解释40%左右同花顺的收益率情况。可实际上同花顺不不属于上证指数成份股，这说明上面这个模型的结果仅仅具有一定的参考价值，必须参照其它模型的结果才能有更可靠的解释力度。"
   ]
  },
  {
   "cell_type": "code",
   "execution_count": 833,
   "metadata": {
    "collapsed": true
   },
   "outputs": [],
   "source": [
    "#获取万科数据\n",
    "wk = data.DataReader('000002.SZ','yahoo',begin,end)\n",
    "# 计算万科收益率\n",
    "close_price_wk = wk['Close']\n",
    "profits_wk = close_price_wk.diff()[1:].div(close_price_wk[:-1].values)\n",
    "#构造dataframe，并清除无效数据\n",
    "profits = pd.DataFrame(profits_wk,columns=['profits_wk']).join(pd.DataFrame(profits_sh,columns=['profits_sh']))\n",
    "profits = profits.dropna()"
   ]
  },
  {
   "cell_type": "code",
   "execution_count": 834,
   "metadata": {
    "collapsed": false,
    "scrolled": false
   },
   "outputs": [
    {
     "name": "stdout",
     "output_type": "stream",
     "text": [
      "                            OLS Regression Results                            \n",
      "==============================================================================\n",
      "Dep. Variable:             profits_wk   R-squared:                       0.015\n",
      "Model:                            OLS   Adj. R-squared:                  0.011\n",
      "Method:                 Least Squares   F-statistic:                     3.508\n",
      "Date:                Sun, 23 Oct 2016   Prob (F-statistic):             0.0623\n",
      "Time:                        15:21:16   Log-Likelihood:                 506.23\n",
      "No. Observations:                 234   AIC:                            -1008.\n",
      "Df Residuals:                     232   BIC:                            -1002.\n",
      "Df Model:                           1                                         \n",
      "Covariance Type:            nonrobust                                         \n",
      "==============================================================================\n",
      "                 coef    std err          t      P>|t|      [95.0% Conf. Int.]\n",
      "------------------------------------------------------------------------------\n",
      "Intercept      0.0033      0.002      1.806      0.072        -0.000     0.007\n",
      "profits_sh     0.2143      0.114      1.873      0.062        -0.011     0.440\n",
      "==============================================================================\n",
      "Omnibus:                       79.694   Durbin-Watson:                   1.483\n",
      "Prob(Omnibus):                  0.000   Jarque-Bera (JB):              415.843\n",
      "Skew:                           1.238   Prob(JB):                     5.02e-91\n",
      "Kurtosis:                       9.043   Cond. No.                         62.7\n",
      "==============================================================================\n",
      "\n",
      "Warnings:\n",
      "[1] Standard Errors assume that the covariance matrix of the errors is correctly specified.\n"
     ]
    }
   ],
   "source": [
    "profit_results = smf.ols('profits_wk ~ profits_sh',profits).fit()\n",
    "print profit_results.summary()"
   ]
  },
  {
   "cell_type": "markdown",
   "metadata": {},
   "source": [
    "从模型输出结果来看，上证指数对万科的收益率影响比较小，不过pvalues值为0.062，处于临界位置，R-squared为0.015，也说明了该模型仅仅能够解释万科2%左右的收益率情况。这倒是跟实际情况比较温和。\n",
    "\n",
    "下面换用深圳指数再用上面的模型来模拟一下。"
   ]
  },
  {
   "cell_type": "markdown",
   "metadata": {},
   "source": [
    "**本来打算用深圳市场数据验证一下，可是yahoo finance似乎出问题了，读取深证成指的数据时总是报错。**"
   ]
  },
  {
   "cell_type": "code",
   "execution_count": 849,
   "metadata": {
    "collapsed": false
   },
   "outputs": [],
   "source": [
    "#获取深圳市场数据\n",
    "#shen = data.DataReader('399001.SZ','yahoo',begin,end)\n",
    "# 计算深证指数收益率\n",
    "#close_price_shen = shen['Close']\n",
    "#profits_shen = close_price_shen.diff()[1:].div(close_price_shen[:-1].values)\n",
    "#使用深圳市场数据重新构造dataframe，并清除无效数据\n",
    "#profits = pd.DataFrame(profits_wk,columns=['profits_wk']).join(pd.DataFrame(profits_shen,columns=['profits_shen']))\n",
    "#profits = profits.dropna()"
   ]
  },
  {
   "cell_type": "markdown",
   "metadata": {},
   "source": [
    "## 在kaggle网站上找到titanic数据，并使用logistic回归来建模，研究分析每个因素对应生存的重要性。"
   ]
  },
  {
   "cell_type": "code",
   "execution_count": 671,
   "metadata": {
    "collapsed": false,
    "scrolled": false
   },
   "outputs": [
    {
     "data": {
      "text/html": [
       "<div>\n",
       "<table border=\"1\" class=\"dataframe\">\n",
       "  <thead>\n",
       "    <tr style=\"text-align: right;\">\n",
       "      <th></th>\n",
       "      <th>PassengerId</th>\n",
       "      <th>Survived</th>\n",
       "      <th>Pclass</th>\n",
       "      <th>Name</th>\n",
       "      <th>Sex</th>\n",
       "      <th>Age</th>\n",
       "      <th>SibSp</th>\n",
       "      <th>Parch</th>\n",
       "      <th>Ticket</th>\n",
       "      <th>Fare</th>\n",
       "      <th>Cabin</th>\n",
       "      <th>Embarked</th>\n",
       "    </tr>\n",
       "  </thead>\n",
       "  <tbody>\n",
       "    <tr>\n",
       "      <th>0</th>\n",
       "      <td>1</td>\n",
       "      <td>0</td>\n",
       "      <td>3</td>\n",
       "      <td>Braund, Mr. Owen Harris</td>\n",
       "      <td>male</td>\n",
       "      <td>22.0</td>\n",
       "      <td>1</td>\n",
       "      <td>0</td>\n",
       "      <td>A/5 21171</td>\n",
       "      <td>7.2500</td>\n",
       "      <td>NaN</td>\n",
       "      <td>S</td>\n",
       "    </tr>\n",
       "    <tr>\n",
       "      <th>1</th>\n",
       "      <td>2</td>\n",
       "      <td>1</td>\n",
       "      <td>1</td>\n",
       "      <td>Cumings, Mrs. John Bradley (Florence Briggs Th...</td>\n",
       "      <td>female</td>\n",
       "      <td>38.0</td>\n",
       "      <td>1</td>\n",
       "      <td>0</td>\n",
       "      <td>PC 17599</td>\n",
       "      <td>71.2833</td>\n",
       "      <td>C85</td>\n",
       "      <td>C</td>\n",
       "    </tr>\n",
       "    <tr>\n",
       "      <th>2</th>\n",
       "      <td>3</td>\n",
       "      <td>1</td>\n",
       "      <td>3</td>\n",
       "      <td>Heikkinen, Miss. Laina</td>\n",
       "      <td>female</td>\n",
       "      <td>26.0</td>\n",
       "      <td>0</td>\n",
       "      <td>0</td>\n",
       "      <td>STON/O2. 3101282</td>\n",
       "      <td>7.9250</td>\n",
       "      <td>NaN</td>\n",
       "      <td>S</td>\n",
       "    </tr>\n",
       "    <tr>\n",
       "      <th>3</th>\n",
       "      <td>4</td>\n",
       "      <td>1</td>\n",
       "      <td>1</td>\n",
       "      <td>Futrelle, Mrs. Jacques Heath (Lily May Peel)</td>\n",
       "      <td>female</td>\n",
       "      <td>35.0</td>\n",
       "      <td>1</td>\n",
       "      <td>0</td>\n",
       "      <td>113803</td>\n",
       "      <td>53.1000</td>\n",
       "      <td>C123</td>\n",
       "      <td>S</td>\n",
       "    </tr>\n",
       "    <tr>\n",
       "      <th>4</th>\n",
       "      <td>5</td>\n",
       "      <td>0</td>\n",
       "      <td>3</td>\n",
       "      <td>Allen, Mr. William Henry</td>\n",
       "      <td>male</td>\n",
       "      <td>35.0</td>\n",
       "      <td>0</td>\n",
       "      <td>0</td>\n",
       "      <td>373450</td>\n",
       "      <td>8.0500</td>\n",
       "      <td>NaN</td>\n",
       "      <td>S</td>\n",
       "    </tr>\n",
       "  </tbody>\n",
       "</table>\n",
       "</div>"
      ],
      "text/plain": [
       "   PassengerId  Survived  Pclass  \\\n",
       "0            1         0       3   \n",
       "1            2         1       1   \n",
       "2            3         1       3   \n",
       "3            4         1       1   \n",
       "4            5         0       3   \n",
       "\n",
       "                                                Name     Sex   Age  SibSp  \\\n",
       "0                            Braund, Mr. Owen Harris    male  22.0      1   \n",
       "1  Cumings, Mrs. John Bradley (Florence Briggs Th...  female  38.0      1   \n",
       "2                             Heikkinen, Miss. Laina  female  26.0      0   \n",
       "3       Futrelle, Mrs. Jacques Heath (Lily May Peel)  female  35.0      1   \n",
       "4                           Allen, Mr. William Henry    male  35.0      0   \n",
       "\n",
       "   Parch            Ticket     Fare Cabin Embarked  \n",
       "0      0         A/5 21171   7.2500   NaN        S  \n",
       "1      0          PC 17599  71.2833   C85        C  \n",
       "2      0  STON/O2. 3101282   7.9250   NaN        S  \n",
       "3      0            113803  53.1000  C123        S  \n",
       "4      0            373450   8.0500   NaN        S  "
      ]
     },
     "execution_count": 671,
     "metadata": {},
     "output_type": "execute_result"
    }
   ],
   "source": [
    "train = pd.read_csv('train.csv')\n",
    "train.head()"
   ]
  },
  {
   "cell_type": "code",
   "execution_count": 672,
   "metadata": {
    "collapsed": false,
    "scrolled": false
   },
   "outputs": [
    {
     "name": "stdout",
     "output_type": "stream",
     "text": [
      "<class 'pandas.core.frame.DataFrame'>\n",
      "RangeIndex: 891 entries, 0 to 890\n",
      "Data columns (total 12 columns):\n",
      "PassengerId    891 non-null int64\n",
      "Survived       891 non-null int64\n",
      "Pclass         891 non-null int64\n",
      "Name           891 non-null object\n",
      "Sex            891 non-null object\n",
      "Age            714 non-null float64\n",
      "SibSp          891 non-null int64\n",
      "Parch          891 non-null int64\n",
      "Ticket         891 non-null object\n",
      "Fare           891 non-null float64\n",
      "Cabin          204 non-null object\n",
      "Embarked       889 non-null object\n",
      "dtypes: float64(2), int64(5), object(5)\n",
      "memory usage: 83.6+ KB\n"
     ]
    }
   ],
   "source": [
    "train.info()"
   ]
  },
  {
   "cell_type": "code",
   "execution_count": 673,
   "metadata": {
    "collapsed": false
   },
   "outputs": [],
   "source": [
    "# 清除多余数据及无效数据\n",
    "train = train.drop(['Ticket','Cabin'],axis=1)\n",
    "train = train.dropna()"
   ]
  },
  {
   "cell_type": "code",
   "execution_count": 674,
   "metadata": {
    "collapsed": false
   },
   "outputs": [
    {
     "data": {
      "text/plain": [
       "712"
      ]
     },
     "execution_count": 674,
     "metadata": {},
     "output_type": "execute_result"
    }
   ],
   "source": [
    "len(train)"
   ]
  },
  {
   "cell_type": "markdown",
   "metadata": {},
   "source": [
    "绘制一些图形来查看数据"
   ]
  },
  {
   "cell_type": "code",
   "execution_count": 675,
   "metadata": {
    "collapsed": false
   },
   "outputs": [
    {
     "data": {
      "image/png": "[encoded data removed]",
      "text/plain": [
       "<matplotlib.figure.Figure at 0x14117f510>"
      ]
     },
     "metadata": {},
     "output_type": "display_data"
    }
   ],
   "source": [
    "fig,ax = plt.subplots(2,2,figsize=(12,6))\n",
    "\n",
    "train.Survived.value_counts().plot(kind='barh',color='green',ax = ax[0][0])\n",
    "ax[0][0].set_title(\"distribution of survival(1 = Survived, 0 = Died)\")\n",
    "\n",
    "\n",
    "\n",
    "train.Pclass.value_counts().plot(kind='barh',color='green',ax = ax[0][1])\n",
    "ax[0][1].set_title(\"Class distribution\")\n",
    "\n",
    "train.Sex.value_counts().plot(kind='barh',color='green',ax = ax[1][0])\n",
    "ax[1][0].set_title(\"Sex distribution\");\n",
    "\n",
    "train.Embarked.value_counts().plot(kind='barh',color='green',ax = ax[1][1])\n",
    "ax[1][1].set_title(\"Passengers per boarding location\");\n",
    "\n"
   ]
  },
  {
   "cell_type": "code",
   "execution_count": 676,
   "metadata": {
    "collapsed": false,
    "scrolled": false
   },
   "outputs": [
    {
     "data": {
      "image/png": "[encoded data removed]",
      "text/plain": [
       "<matplotlib.figure.Figure at 0x14638f950>"
      ]
     },
     "metadata": {},
     "output_type": "display_data"
    }
   ],
   "source": [
    "fig,ax = plt.subplots(2,2,figsize=(12,6))\n",
    "\n",
    "\n",
    "ax[0][0].scatter(train.Survived, train.Age)\n",
    "ax[0][0].set_title(\"survived by age(1 = Survived, 0 = Died)\")\n",
    "\n",
    "train[train.Survived == 1].Pclass.value_counts().plot(kind='barh',color='green',ax = ax[0][1])\n",
    "ax[0][1].set_title(\"Survived by Pclass\");\n",
    "\n",
    "train[train.Survived == 1].Sex.value_counts().plot(kind='barh',color='green',ax = ax[1][0])\n",
    "ax[1][0].set_title(\"Survived by sex\");\n",
    "\n",
    "train[train.Survived == 1].Embarked.value_counts().plot(kind='barh',color='green',ax = ax[1][1])\n",
    "ax[1][1].set_title(\"Survived by Embarked\");"
   ]
  },
  {
   "cell_type": "markdown",
   "metadata": {},
   "source": [
    "从上图可以大致猜测到：幸存人数中年龄区别不太明显，头等舱幸存人数多，女性幸存人数多，S地点登船的人群幸存人数多。\n",
    "\n",
    "下面使用logistic regression来研究不同参数对幸存率的影响。"
   ]
  },
  {
   "cell_type": "code",
   "execution_count": 681,
   "metadata": {
    "collapsed": false
   },
   "outputs": [
    {
     "name": "stdout",
     "output_type": "stream",
     "text": [
      "Optimization terminated successfully.\n",
      "         Current function value: 0.609629\n",
      "         Iterations 5\n"
     ]
    }
   ],
   "source": [
    "model_pclass = smf.logit(\"Survived ~ C(Pclass)\",data = train)\n",
    "result_pclass = model_pclass.fit()"
   ]
  },
  {
   "cell_type": "code",
   "execution_count": 682,
   "metadata": {
    "collapsed": false
   },
   "outputs": [
    {
     "name": "stdout",
     "output_type": "stream",
     "text": [
      "                           Logit Regression Results                           \n",
      "==============================================================================\n",
      "Dep. Variable:               Survived   No. Observations:                  712\n",
      "Model:                          Logit   Df Residuals:                      709\n",
      "Method:                           MLE   Df Model:                            2\n",
      "Date:                Sun, 23 Oct 2016   Pseudo R-squ.:                 0.09657\n",
      "Time:                        12:57:16   Log-Likelihood:                -434.06\n",
      "converged:                       True   LL-Null:                       -480.45\n",
      "                                        LLR p-value:                 7.088e-21\n",
      "==================================================================================\n",
      "                     coef    std err          z      P>|z|      [95.0% Conf. Int.]\n",
      "----------------------------------------------------------------------------------\n",
      "Intercept          0.6286      0.155      4.061      0.000         0.325     0.932\n",
      "C(Pclass)[T.2]    -0.7096      0.217     -3.269      0.001        -1.135    -0.284\n",
      "C(Pclass)[T.3]    -1.7844      0.199     -8.987      0.000        -2.174    -1.395\n",
      "==================================================================================\n"
     ]
    }
   ],
   "source": [
    "print result_pclass.summary()"
   ]
  },
  {
   "cell_type": "code",
   "execution_count": 686,
   "metadata": {
    "collapsed": false
   },
   "outputs": [
    {
     "name": "stdout",
     "output_type": "stream",
     "text": [
      "Optimization terminated successfully.\n",
      "         Current function value: 0.526383\n",
      "         Iterations 5\n"
     ]
    }
   ],
   "source": [
    "model_sex = smf.logit(\"Survived ~ Sex\", data = train)\n",
    "result_sex = model_sex.fit()"
   ]
  },
  {
   "cell_type": "code",
   "execution_count": 687,
   "metadata": {
    "collapsed": false
   },
   "outputs": [
    {
     "name": "stdout",
     "output_type": "stream",
     "text": [
      "                           Logit Regression Results                           \n",
      "==============================================================================\n",
      "Dep. Variable:               Survived   No. Observations:                  712\n",
      "Model:                          Logit   Df Residuals:                      710\n",
      "Method:                           MLE   Df Model:                            1\n",
      "Date:                Sun, 23 Oct 2016   Pseudo R-squ.:                  0.2199\n",
      "Time:                        13:07:23   Log-Likelihood:                -374.78\n",
      "converged:                       True   LL-Null:                       -480.45\n",
      "                                        LLR p-value:                 7.029e-48\n",
      "===============================================================================\n",
      "                  coef    std err          z      P>|z|      [95.0% Conf. Int.]\n",
      "-------------------------------------------------------------------------------\n",
      "Intercept       1.1141      0.144      7.734      0.000         0.832     1.396\n",
      "Sex[T.male]    -2.4676      0.185    -13.327      0.000        -2.831    -2.105\n",
      "===============================================================================\n"
     ]
    }
   ],
   "source": [
    "print result_sex.summary()"
   ]
  },
  {
   "cell_type": "code",
   "execution_count": 688,
   "metadata": {
    "collapsed": false
   },
   "outputs": [
    {
     "name": "stdout",
     "output_type": "stream",
     "text": [
      "Optimization terminated successfully.\n",
      "         Current function value: 0.671367\n",
      "         Iterations 4\n"
     ]
    }
   ],
   "source": [
    "model_age = smf.logit(\"Survived ~ Age\", data = train)\n",
    "result_age = model_age.fit()"
   ]
  },
  {
   "cell_type": "code",
   "execution_count": 689,
   "metadata": {
    "collapsed": false
   },
   "outputs": [
    {
     "name": "stdout",
     "output_type": "stream",
     "text": [
      "                           Logit Regression Results                           \n",
      "==============================================================================\n",
      "Dep. Variable:               Survived   No. Observations:                  712\n",
      "Model:                          Logit   Df Residuals:                      710\n",
      "Method:                           MLE   Df Model:                            1\n",
      "Date:                Sun, 23 Oct 2016   Pseudo R-squ.:                0.005076\n",
      "Time:                        13:07:49   Log-Likelihood:                -478.01\n",
      "converged:                       True   LL-Null:                       -480.45\n",
      "                                        LLR p-value:                   0.02721\n",
      "==============================================================================\n",
      "                 coef    std err          z      P>|z|      [95.0% Conf. Int.]\n",
      "------------------------------------------------------------------------------\n",
      "Intercept     -0.0412      0.174     -0.237      0.813        -0.382     0.300\n",
      "Age           -0.0118      0.005     -2.192      0.028        -0.022    -0.001\n",
      "==============================================================================\n"
     ]
    }
   ],
   "source": [
    "print result_age.summary()"
   ]
  },
  {
   "cell_type": "code",
   "execution_count": 692,
   "metadata": {
    "collapsed": false
   },
   "outputs": [
    {
     "name": "stdout",
     "output_type": "stream",
     "text": [
      "Optimization terminated successfully.\n",
      "         Current function value: 0.674671\n",
      "         Iterations 4\n"
     ]
    }
   ],
   "source": [
    "model_sibsp = smf.logit(\"Survived ~ SibSp\", data = train)\n",
    "result_sibsp = model_sibsp.fit()"
   ]
  },
  {
   "cell_type": "code",
   "execution_count": 693,
   "metadata": {
    "collapsed": false,
    "scrolled": true
   },
   "outputs": [
    {
     "name": "stdout",
     "output_type": "stream",
     "text": [
      "                           Logit Regression Results                           \n",
      "==============================================================================\n",
      "Dep. Variable:               Survived   No. Observations:                  712\n",
      "Model:                          Logit   Df Residuals:                      710\n",
      "Method:                           MLE   Df Model:                            1\n",
      "Date:                Sun, 23 Oct 2016   Pseudo R-squ.:               0.0001795\n",
      "Time:                        13:11:44   Log-Likelihood:                -480.37\n",
      "converged:                       True   LL-Null:                       -480.45\n",
      "                                        LLR p-value:                    0.6779\n",
      "==============================================================================\n",
      "                 coef    std err          z      P>|z|      [95.0% Conf. Int.]\n",
      "------------------------------------------------------------------------------\n",
      "Intercept     -0.3692      0.087     -4.235      0.000        -0.540    -0.198\n",
      "SibSp         -0.0343      0.083     -0.414      0.679        -0.197     0.128\n",
      "==============================================================================\n"
     ]
    }
   ],
   "source": [
    "print result_sibsp.summary()"
   ]
  },
  {
   "cell_type": "code",
   "execution_count": 695,
   "metadata": {
    "collapsed": false
   },
   "outputs": [
    {
     "name": "stdout",
     "output_type": "stream",
     "text": [
      "Optimization terminated successfully.\n",
      "         Current function value: 0.655482\n",
      "         Iterations 5\n"
     ]
    }
   ],
   "source": [
    "model_embarked = smf.logit(\"Survived ~ Embarked\", data = train)\n",
    "result_embarked = model_embarked.fit()"
   ]
  },
  {
   "cell_type": "code",
   "execution_count": 696,
   "metadata": {
    "collapsed": false,
    "scrolled": false
   },
   "outputs": [
    {
     "name": "stdout",
     "output_type": "stream",
     "text": [
      "                           Logit Regression Results                           \n",
      "==============================================================================\n",
      "Dep. Variable:               Survived   No. Observations:                  712\n",
      "Model:                          Logit   Df Residuals:                      709\n",
      "Method:                           MLE   Df Model:                            2\n",
      "Date:                Sun, 23 Oct 2016   Pseudo R-squ.:                 0.02862\n",
      "Time:                        13:12:49   Log-Likelihood:                -466.70\n",
      "converged:                       True   LL-Null:                       -480.45\n",
      "                                        LLR p-value:                 1.069e-06\n",
      "=================================================================================\n",
      "                    coef    std err          z      P>|z|      [95.0% Conf. Int.]\n",
      "---------------------------------------------------------------------------------\n",
      "Intercept         0.4376      0.180      2.436      0.015         0.086     0.790\n",
      "Embarked[T.Q]    -1.3539      0.455     -2.974      0.003        -2.246    -0.462\n",
      "Embarked[T.S]    -1.0008      0.200     -4.999      0.000        -1.393    -0.608\n",
      "=================================================================================\n"
     ]
    }
   ],
   "source": [
    "print result_embarked.summary()"
   ]
  },
  {
   "cell_type": "code",
   "execution_count": 698,
   "metadata": {
    "collapsed": false
   },
   "outputs": [
    {
     "name": "stdout",
     "output_type": "stream",
     "text": [
      "Optimization terminated successfully.\n",
      "         Current function value: 0.670318\n",
      "         Iterations 4\n"
     ]
    }
   ],
   "source": [
    "model_parch = smf.logit(\"Survived ~ Parch\", data = train)\n",
    "result_parch = model_parch.fit()"
   ]
  },
  {
   "cell_type": "code",
   "execution_count": 699,
   "metadata": {
    "collapsed": false,
    "scrolled": true
   },
   "outputs": [
    {
     "name": "stdout",
     "output_type": "stream",
     "text": [
      "                           Logit Regression Results                           \n",
      "==============================================================================\n",
      "Dep. Variable:               Survived   No. Observations:                  712\n",
      "Model:                          Logit   Df Residuals:                      710\n",
      "Method:                           MLE   Df Model:                            1\n",
      "Date:                Sun, 23 Oct 2016   Pseudo R-squ.:                0.006630\n",
      "Time:                        13:14:39   Log-Likelihood:                -477.27\n",
      "converged:                       True   LL-Null:                       -480.45\n",
      "                                        LLR p-value:                   0.01160\n",
      "==============================================================================\n",
      "                 coef    std err          z      P>|z|      [95.0% Conf. Int.]\n",
      "------------------------------------------------------------------------------\n",
      "Intercept     -0.4860      0.086     -5.620      0.000        -0.655    -0.316\n",
      "Parch          0.2246      0.090      2.499      0.012         0.048     0.401\n",
      "==============================================================================\n"
     ]
    }
   ],
   "source": [
    "print result_parch.summary()"
   ]
  },
  {
   "cell_type": "code",
   "execution_count": 700,
   "metadata": {
    "collapsed": false
   },
   "outputs": [
    {
     "name": "stdout",
     "output_type": "stream",
     "text": [
      "Optimization terminated successfully.\n",
      "         Current function value: 0.631432\n",
      "         Iterations 6\n"
     ]
    }
   ],
   "source": [
    "model_fare = smf.logit(\"Survived ~ Fare\", data = train)\n",
    "result_fare = model_fare.fit()"
   ]
  },
  {
   "cell_type": "code",
   "execution_count": 701,
   "metadata": {
    "collapsed": false
   },
   "outputs": [
    {
     "name": "stdout",
     "output_type": "stream",
     "text": [
      "                           Logit Regression Results                           \n",
      "==============================================================================\n",
      "Dep. Variable:               Survived   No. Observations:                  712\n",
      "Model:                          Logit   Df Residuals:                      710\n",
      "Method:                           MLE   Df Model:                            1\n",
      "Date:                Sun, 23 Oct 2016   Pseudo R-squ.:                 0.06426\n",
      "Time:                        13:16:48   Log-Likelihood:                -449.58\n",
      "converged:                       True   LL-Null:                       -480.45\n",
      "                                        LLR p-value:                 3.909e-15\n",
      "==============================================================================\n",
      "                 coef    std err          z      P>|z|      [95.0% Conf. Int.]\n",
      "------------------------------------------------------------------------------\n",
      "Intercept     -0.8945      0.107     -8.330      0.000        -1.105    -0.684\n",
      "Fare           0.0157      0.002      6.323      0.000         0.011     0.021\n",
      "==============================================================================\n"
     ]
    }
   ],
   "source": [
    "print result_fare.summary()"
   ]
  },
  {
   "cell_type": "code",
   "execution_count": 786,
   "metadata": {
    "collapsed": false,
    "scrolled": true
   },
   "outputs": [
    {
     "data": {
      "text/plain": [
       "numpy.float64"
      ]
     },
     "execution_count": 786,
     "metadata": {},
     "output_type": "execute_result"
    }
   ],
   "source": [
    "type(result_fare.prsquared)"
   ]
  },
  {
   "cell_type": "code",
   "execution_count": 788,
   "metadata": {
    "collapsed": false,
    "scrolled": true
   },
   "outputs": [
    {
     "name": "stdout",
     "output_type": "stream",
     "text": [
      "                    coef  prsquare        pvalue\n",
      "C(Pclass)[T.2] -0.709578  0.096567  1.079475e-03\n",
      "C(Pclass)[T.3] -1.784379  0.096567  2.551729e-19\n",
      "Sex[T.male]    -2.467621  0.219932  1.610935e-40\n",
      "Age            -0.011757  0.005076  2.837387e-02\n",
      "SibSp          -0.034296  0.000180  6.788475e-01\n",
      "Parch           0.224583  0.006630  1.246924e-02\n",
      "Embarked[T.Q]  -1.353913  0.028616  2.940391e-03\n",
      "Embarked[T.S]  -1.000785  0.028616  5.753849e-07\n",
      "Fare            0.015738  0.064257  2.569047e-10\n"
     ]
    }
   ],
   "source": [
    "#使用上面所有模型结果中的coef、prsquare、pvalued构造一个dataframe\n",
    "result_pclass_pd = pd.DataFrame(data = {'coef':result_pclass.params[1:],'pvalue':result_pclass.pvalues[1:],'prsquare':result_pclass.prsquared})\n",
    "result_sex_pd = pd.DataFrame(data = {'coef':result_sex.params[1:],'pvalue':result_sex.pvalues[1:],'prsquare':result_sex.prsquared})\n",
    "result_age_pd = pd.DataFrame(data = {'coef':result_age.params[1:],'pvalue':result_age.pvalues[1:],'prsquare':result_age.prsquared})\n",
    "result_sibsp_pd = pd.DataFrame(data = {'coef':result_sibsp.params[1:],'pvalue':result_sibsp.pvalues[1:],'prsquare':result_sibsp.prsquared})\n",
    "result_parch_pd = pd.DataFrame(data = {'coef':result_parch.params[1:],'pvalue':result_parch.pvalues[1:],'prsquare':result_parch.prsquared})\n",
    "result_embarked_pd = pd.DataFrame(data = {'coef':result_embarked.params[1:],'pvalue':result_embarked.pvalues[1:],'prsquare':result_embarked.prsquared})\n",
    "result_fare_pd = pd.DataFrame(data = {'coef':result_fare.params[1:],'pvalue':result_fare.pvalues[1:],'prsquare':result_fare.prsquared})\n",
    "\n",
    "result_all = pd.concat([result_pclass_pd,result_sex_pd,result_age_pd,result_sibsp_pd,\n",
    "          result_parch_pd,result_embarked_pd,result_fare_pd])\n",
    "print result_all"
   ]
  },
  {
   "cell_type": "markdown",
   "metadata": {},
   "source": [
    "结果分析：\n",
    "\n",
    "1. 从Pseudo R-squ值来看，可以很明显的看到Sex指标对于幸存率影响最大，其次是Pclass,影响最小的是SibSp\n",
    "\n",
    "2. 从coef来看，sex指标影响也比较大，T.male值为负，说明性别为男会明显降低幸存率。其次就是三等舱和地点Q登船的人幸存率比较低。Fare的coef值为正，说明票价越高幸存率越高，这跟Pclass指标相吻合。Parch值为正，说明有父母或子女同行的幸存概率高。\n",
    "\n",
    "3. SibSp指标的pvalue值太高，说明其统计显著性（statistic significance)不明显，其次，Age指标的pvalue值也不低，处于临界位置。\n",
    "\n",
    "综上分析，Sex指标对于幸存率影响最大，其次是Pclass。"
   ]
  },
  {
   "cell_type": "markdown",
   "metadata": {},
   "source": [
    "根据上面分析结果，下面构造多个变量的模型来观察一下。"
   ]
  },
  {
   "cell_type": "code",
   "execution_count": 795,
   "metadata": {
    "collapsed": false
   },
   "outputs": [
    {
     "name": "stdout",
     "output_type": "stream",
     "text": [
      "Optimization terminated successfully.\n",
      "         Current function value: 0.444060\n",
      "         Iterations 6\n"
     ]
    }
   ],
   "source": [
    "#使用全部影响因子\n",
    "model = smf.logit(\"Survived ~ C(Pclass) + Sex + SibSp + Age + Embarked + Parch + Fare\", data = train)\n",
    "result = model.fit()"
   ]
  },
  {
   "cell_type": "code",
   "execution_count": 794,
   "metadata": {
    "collapsed": false,
    "scrolled": true
   },
   "outputs": [
    {
     "name": "stdout",
     "output_type": "stream",
     "text": [
      "                           Logit Regression Results                           \n",
      "==============================================================================\n",
      "Dep. Variable:               Survived   No. Observations:                  712\n",
      "Model:                          Logit   Df Residuals:                      702\n",
      "Method:                           MLE   Df Model:                            9\n",
      "Date:                Sun, 23 Oct 2016   Pseudo R-squ.:                  0.3419\n",
      "Time:                        14:30:30   Log-Likelihood:                -316.17\n",
      "converged:                       True   LL-Null:                       -480.45\n",
      "                                        LLR p-value:                 2.249e-65\n",
      "==================================================================================\n",
      "                     coef    std err          z      P>|z|      [95.0% Conf. Int.]\n",
      "----------------------------------------------------------------------------------\n",
      "Intercept          4.4329      0.536      8.271      0.000         3.383     5.483\n",
      "C(Pclass)[T.2]    -1.1896      0.329     -3.614      0.000        -1.835    -0.544\n",
      "C(Pclass)[T.3]    -2.3952      0.343     -6.976      0.000        -3.068    -1.722\n",
      "Sex[T.male]       -2.6379      0.223    -11.829      0.000        -3.075    -2.201\n",
      "Embarked[T.Q]     -0.8234      0.600     -1.372      0.170        -2.000     0.353\n",
      "Embarked[T.S]     -0.4028      0.275     -1.467      0.142        -0.941     0.135\n",
      "SibSp             -0.3629      0.129     -2.807      0.005        -0.616    -0.110\n",
      "Age               -0.0433      0.008     -5.204      0.000        -0.060    -0.027\n",
      "Parch             -0.0604      0.124     -0.487      0.626        -0.303     0.183\n",
      "Fare               0.0015      0.003      0.559      0.576        -0.004     0.007\n",
      "==================================================================================\n"
     ]
    }
   ],
   "source": [
    "print result.summary()"
   ]
  },
  {
   "cell_type": "markdown",
   "metadata": {},
   "source": [
    "从Pseudo R-squ值来看，似乎比单变量的模型的解释力度更强，重要影响因子依然是Pclass和Sex，不过模型中Embarked、Parch和Fare的统计显著性不强。"
   ]
  },
  {
   "cell_type": "code",
   "execution_count": 796,
   "metadata": {
    "collapsed": false,
    "scrolled": true
   },
   "outputs": [
    {
     "name": "stdout",
     "output_type": "stream",
     "text": [
      "Optimization terminated successfully.\n",
      "         Current function value: 0.471951\n",
      "         Iterations 6\n"
     ]
    }
   ],
   "source": [
    "#仅仅使用Pclass和Sex\n",
    "model = smf.logit(\"Survived ~ C(Pclass) + Sex\", data = train)\n",
    "result = model.fit()"
   ]
  },
  {
   "cell_type": "code",
   "execution_count": 797,
   "metadata": {
    "collapsed": false,
    "scrolled": true
   },
   "outputs": [
    {
     "name": "stdout",
     "output_type": "stream",
     "text": [
      "                           Logit Regression Results                           \n",
      "==============================================================================\n",
      "Dep. Variable:               Survived   No. Observations:                  712\n",
      "Model:                          Logit   Df Residuals:                      708\n",
      "Method:                           MLE   Df Model:                            3\n",
      "Date:                Sun, 23 Oct 2016   Pseudo R-squ.:                  0.3006\n",
      "Time:                        14:48:33   Log-Likelihood:                -336.03\n",
      "converged:                       True   LL-Null:                       -480.45\n",
      "                                        LLR p-value:                 2.582e-62\n",
      "==================================================================================\n",
      "                     coef    std err          z      P>|z|      [95.0% Conf. Int.]\n",
      "----------------------------------------------------------------------------------\n",
      "Intercept          2.3237      0.239      9.714      0.000         1.855     2.793\n",
      "C(Pclass)[T.2]    -0.9195      0.258     -3.561      0.000        -1.426    -0.413\n",
      "C(Pclass)[T.3]    -1.9674      0.238     -8.258      0.000        -2.434    -1.500\n",
      "Sex[T.male]       -2.5664      0.203    -12.620      0.000        -2.965    -2.168\n",
      "==================================================================================\n"
     ]
    }
   ],
   "source": [
    "print result.summary()"
   ]
  },
  {
   "cell_type": "markdown",
   "metadata": {},
   "source": [
    "减少影响因子，Pseudo R-squ值减小。"
   ]
  },
  {
   "cell_type": "code",
   "execution_count": 814,
   "metadata": {
    "collapsed": false
   },
   "outputs": [
    {
     "name": "stdout",
     "output_type": "stream",
     "text": [
      "Optimization terminated successfully.\n",
      "         Current function value: 0.446657\n",
      "         Iterations 6\n"
     ]
    }
   ],
   "source": [
    "#使用影响较大的因\n",
    "model = smf.logit(\"Survived ~ C(Pclass) + Sex + SibSp + Age\", data = train)\n",
    "result = model.fit()"
   ]
  },
  {
   "cell_type": "code",
   "execution_count": 815,
   "metadata": {
    "collapsed": false,
    "scrolled": false
   },
   "outputs": [
    {
     "name": "stdout",
     "output_type": "stream",
     "text": [
      "                           Logit Regression Results                           \n",
      "==============================================================================\n",
      "Dep. Variable:               Survived   No. Observations:                  712\n",
      "Model:                          Logit   Df Residuals:                      706\n",
      "Method:                           MLE   Df Model:                            5\n",
      "Date:                Sun, 23 Oct 2016   Pseudo R-squ.:                  0.3381\n",
      "Time:                        14:54:33   Log-Likelihood:                -318.02\n",
      "converged:                       True   LL-Null:                       -480.45\n",
      "                                        LLR p-value:                 4.498e-68\n",
      "==================================================================================\n",
      "                     coef    std err          z      P>|z|      [95.0% Conf. Int.]\n",
      "----------------------------------------------------------------------------------\n",
      "Intercept          4.3254      0.451      9.597      0.000         3.442     5.209\n",
      "C(Pclass)[T.2]    -1.4063      0.285     -4.937      0.000        -1.965    -0.848\n",
      "C(Pclass)[T.3]    -2.6450      0.286     -9.251      0.000        -3.205    -2.085\n",
      "Sex[T.male]       -2.6190      0.215    -12.181      0.000        -3.040    -2.198\n",
      "SibSp             -0.3786      0.121     -3.119      0.002        -0.616    -0.141\n",
      "Age               -0.0449      0.008     -5.456      0.000        -0.061    -0.029\n",
      "==================================================================================\n"
     ]
    }
   ],
   "source": [
    "print result.summary()"
   ]
  },
  {
   "cell_type": "markdown",
   "metadata": {},
   "source": [
    "试了不同的影响因素组合，发现仅仅使用Sex和Pclass两个因素的时候Pseudo R-squ为0.3006，使用全部影响因素，Pseudo R-squ值最大，为0.3419，其它组合基本介于其中，这再次说明了影响幸存率的主要影响因素为性别（Sex）和仓位等级（Pclass)。"
   ]
  },
  {
   "cell_type": "code",
   "execution_count": 816,
   "metadata": {
    "collapsed": false
   },
   "outputs": [
    {
     "name": "stdout",
     "output_type": "stream",
     "text": [
      "Optimization terminated successfully.\n",
      "         Current function value: 0.610124\n",
      "         Iterations 6\n"
     ]
    }
   ],
   "source": [
    "#使用全部影响因子\n",
    "model = smf.logit(\"Survived ~ SibSp + Age + Embarked + Parch + Fare\", data = train)\n",
    "result = model.fit()"
   ]
  },
  {
   "cell_type": "code",
   "execution_count": 817,
   "metadata": {
    "collapsed": false,
    "scrolled": true
   },
   "outputs": [
    {
     "name": "stdout",
     "output_type": "stream",
     "text": [
      "                           Logit Regression Results                           \n",
      "==============================================================================\n",
      "Dep. Variable:               Survived   No. Observations:                  712\n",
      "Model:                          Logit   Df Residuals:                      705\n",
      "Method:                           MLE   Df Model:                            6\n",
      "Date:                Sun, 23 Oct 2016   Pseudo R-squ.:                 0.09583\n",
      "Time:                        15:00:45   Log-Likelihood:                -434.41\n",
      "converged:                       True   LL-Null:                       -480.45\n",
      "                                        LLR p-value:                 1.116e-17\n",
      "=================================================================================\n",
      "                    coef    std err          z      P>|z|      [95.0% Conf. Int.]\n",
      "---------------------------------------------------------------------------------\n",
      "Intercept         0.3965      0.286      1.385      0.166        -0.164     0.957\n",
      "Embarked[T.Q]    -0.7855      0.472     -1.663      0.096        -1.711     0.140\n",
      "Embarked[T.S]    -0.6049      0.219     -2.760      0.006        -1.034    -0.175\n",
      "SibSp            -0.3162      0.104     -3.048      0.002        -0.520    -0.113\n",
      "Age              -0.0242      0.006     -3.837      0.000        -0.037    -0.012\n",
      "Parch             0.1139      0.104      1.099      0.272        -0.089     0.317\n",
      "Fare              0.0169      0.003      5.770      0.000         0.011     0.023\n",
      "=================================================================================\n"
     ]
    }
   ],
   "source": [
    "print result.summary()"
   ]
  },
  {
   "cell_type": "markdown",
   "metadata": {},
   "source": [
    "去除影响最大的两个因素，Pseudo R-squ为0.09583，模型的解释力度大大下降。"
   ]
  },
  {
   "cell_type": "markdown",
   "metadata": {},
   "source": [
    "## 搜集某个城市过去1个月的PM2.5小时级数据，根据时间序列预测方法，来预测未来三天的PM2.5情况。"
   ]
  },
  {
   "cell_type": "code",
   "execution_count": 523,
   "metadata": {
    "collapsed": false
   },
   "outputs": [],
   "source": [
    "#生成日期列表，读取2016年8月份和9月份的数据\n",
    "start = datetime.date(2016,8,1)\n",
    "interval = datetime.timedelta(days=1)\n",
    "datelist = []\n",
    "datelist.append(start.strftime(\"%Y%m%d\"))\n",
    "for i in range(60):\n",
    "    newday = start + interval\n",
    "    start = newday\n",
    "    datelist.append(start.strftime(\"%Y%m%d\"))"
   ]
  },
  {
   "cell_type": "code",
   "execution_count": 524,
   "metadata": {
    "collapsed": true
   },
   "outputs": [],
   "source": [
    "#生成文件路径列表\n",
    "filepath = './quanguo_20160101-20161015/china_cities_20160801.csv'\n",
    "filepath_all = [filepath[:-12] + d + '.csv' for d in datelist]"
   ]
  },
  {
   "cell_type": "code",
   "execution_count": 525,
   "metadata": {
    "collapsed": false
   },
   "outputs": [],
   "source": [
    "#读取、筛选pm2.5数据文件，然后将其合并到一个DataFrame中\n",
    "pm25_list = []\n",
    "for f in filepath_all:\n",
    "    pm25_all = pd.read_csv(f)\n",
    "    pm25_day = pm25_all[pm25_all['type'] == 'PM2.5']\n",
    "    pm25_list.append(pm25_day)\n",
    "pm25 = pd.concat(pm25_list)"
   ]
  },
  {
   "cell_type": "code",
   "execution_count": 526,
   "metadata": {
    "collapsed": false
   },
   "outputs": [],
   "source": [
    "#修改日期列的数据类型\n",
    "pm25['Date'] = pm25['date'].astype(str) + ':' + pm25['hour'].astype(str)\n",
    "#pm25_aug['Date'] = pm25['Date'].apply(lambda x: pd.to_datetime(x,format=\"%Y%m%d:%H\"))\n",
    "pm25['Date'] = pd.to_datetime(pm25['Date'],format=\"%Y%m%d:%H\")#这种方法比上面更快\n",
    "pm25 = pm25.set_index('Date')\n",
    "pm25 = pm25.iloc[:,3:] # 删除无用的列"
   ]
  },
  {
   "cell_type": "code",
   "execution_count": 527,
   "metadata": {
    "collapsed": false,
    "scrolled": true
   },
   "outputs": [
    {
     "data": {
      "text/html": [
       "<div>\n",
       "<table border=\"1\" class=\"dataframe\">\n",
       "  <thead>\n",
       "    <tr style=\"text-align: right;\">\n",
       "      <th></th>\n",
       "      <th>北京</th>\n",
       "      <th>天津</th>\n",
       "      <th>石家庄</th>\n",
       "      <th>唐山</th>\n",
       "      <th>秦皇岛</th>\n",
       "      <th>邯郸</th>\n",
       "      <th>保定</th>\n",
       "      <th>张家口</th>\n",
       "      <th>承德</th>\n",
       "      <th>廊坊</th>\n",
       "      <th>...</th>\n",
       "      <th>五家渠</th>\n",
       "      <th>克州</th>\n",
       "      <th>普洱</th>\n",
       "      <th>襄阳</th>\n",
       "      <th>葫芦岛</th>\n",
       "      <th>河源</th>\n",
       "      <th>揭阳</th>\n",
       "      <th>辽阳</th>\n",
       "      <th>朝阳</th>\n",
       "      <th>丹东</th>\n",
       "    </tr>\n",
       "    <tr>\n",
       "      <th>Date</th>\n",
       "      <th></th>\n",
       "      <th></th>\n",
       "      <th></th>\n",
       "      <th></th>\n",
       "      <th></th>\n",
       "      <th></th>\n",
       "      <th></th>\n",
       "      <th></th>\n",
       "      <th></th>\n",
       "      <th></th>\n",
       "      <th></th>\n",
       "      <th></th>\n",
       "      <th></th>\n",
       "      <th></th>\n",
       "      <th></th>\n",
       "      <th></th>\n",
       "      <th></th>\n",
       "      <th></th>\n",
       "      <th></th>\n",
       "      <th></th>\n",
       "      <th></th>\n",
       "    </tr>\n",
       "  </thead>\n",
       "  <tbody>\n",
       "    <tr>\n",
       "      <th>2016-08-01 00:00:00</th>\n",
       "      <td>59.0</td>\n",
       "      <td>38.0</td>\n",
       "      <td>42.0</td>\n",
       "      <td>26.0</td>\n",
       "      <td>20.0</td>\n",
       "      <td>56.0</td>\n",
       "      <td>118.0</td>\n",
       "      <td>55.0</td>\n",
       "      <td>28.0</td>\n",
       "      <td>76.0</td>\n",
       "      <td>...</td>\n",
       "      <td>21.0</td>\n",
       "      <td>16.0</td>\n",
       "      <td>22.0</td>\n",
       "      <td>36.0</td>\n",
       "      <td>25.0</td>\n",
       "      <td>43.0</td>\n",
       "      <td>54.0</td>\n",
       "      <td>43.0</td>\n",
       "      <td>27.0</td>\n",
       "      <td>20.0</td>\n",
       "    </tr>\n",
       "    <tr>\n",
       "      <th>2016-08-01 01:00:00</th>\n",
       "      <td>58.0</td>\n",
       "      <td>42.0</td>\n",
       "      <td>34.0</td>\n",
       "      <td>27.0</td>\n",
       "      <td>25.0</td>\n",
       "      <td>50.0</td>\n",
       "      <td>129.0</td>\n",
       "      <td>56.0</td>\n",
       "      <td>28.0</td>\n",
       "      <td>70.0</td>\n",
       "      <td>...</td>\n",
       "      <td>29.0</td>\n",
       "      <td>9.0</td>\n",
       "      <td>21.0</td>\n",
       "      <td>35.0</td>\n",
       "      <td>29.0</td>\n",
       "      <td>38.0</td>\n",
       "      <td>52.0</td>\n",
       "      <td>38.0</td>\n",
       "      <td>23.0</td>\n",
       "      <td>19.0</td>\n",
       "    </tr>\n",
       "    <tr>\n",
       "      <th>2016-08-01 02:00:00</th>\n",
       "      <td>56.0</td>\n",
       "      <td>44.0</td>\n",
       "      <td>34.0</td>\n",
       "      <td>40.0</td>\n",
       "      <td>27.0</td>\n",
       "      <td>46.0</td>\n",
       "      <td>125.0</td>\n",
       "      <td>72.0</td>\n",
       "      <td>28.0</td>\n",
       "      <td>79.0</td>\n",
       "      <td>...</td>\n",
       "      <td>27.0</td>\n",
       "      <td>9.0</td>\n",
       "      <td>20.0</td>\n",
       "      <td>39.0</td>\n",
       "      <td>40.0</td>\n",
       "      <td>35.0</td>\n",
       "      <td>59.0</td>\n",
       "      <td>33.0</td>\n",
       "      <td>17.0</td>\n",
       "      <td>18.0</td>\n",
       "    </tr>\n",
       "    <tr>\n",
       "      <th>2016-08-01 03:00:00</th>\n",
       "      <td>57.0</td>\n",
       "      <td>50.0</td>\n",
       "      <td>36.0</td>\n",
       "      <td>30.0</td>\n",
       "      <td>33.0</td>\n",
       "      <td>59.0</td>\n",
       "      <td>113.0</td>\n",
       "      <td>60.0</td>\n",
       "      <td>29.0</td>\n",
       "      <td>78.0</td>\n",
       "      <td>...</td>\n",
       "      <td>29.0</td>\n",
       "      <td>12.0</td>\n",
       "      <td>13.0</td>\n",
       "      <td>43.0</td>\n",
       "      <td>49.0</td>\n",
       "      <td>36.0</td>\n",
       "      <td>64.0</td>\n",
       "      <td>31.0</td>\n",
       "      <td>15.0</td>\n",
       "      <td>20.0</td>\n",
       "    </tr>\n",
       "    <tr>\n",
       "      <th>2016-08-01 04:00:00</th>\n",
       "      <td>59.0</td>\n",
       "      <td>55.0</td>\n",
       "      <td>33.0</td>\n",
       "      <td>33.0</td>\n",
       "      <td>30.0</td>\n",
       "      <td>54.0</td>\n",
       "      <td>111.0</td>\n",
       "      <td>60.0</td>\n",
       "      <td>30.0</td>\n",
       "      <td>67.0</td>\n",
       "      <td>...</td>\n",
       "      <td>29.0</td>\n",
       "      <td>15.0</td>\n",
       "      <td>12.0</td>\n",
       "      <td>37.0</td>\n",
       "      <td>44.0</td>\n",
       "      <td>37.0</td>\n",
       "      <td>71.0</td>\n",
       "      <td>31.0</td>\n",
       "      <td>16.0</td>\n",
       "      <td>17.0</td>\n",
       "    </tr>\n",
       "  </tbody>\n",
       "</table>\n",
       "<p>5 rows × 367 columns</p>\n",
       "</div>"
      ],
      "text/plain": [
       "                       北京    天津   石家庄    唐山   秦皇岛    邯郸     保定   张家口    承德  \\\n",
       "Date                                                                         \n",
       "2016-08-01 00:00:00  59.0  38.0  42.0  26.0  20.0  56.0  118.0  55.0  28.0   \n",
       "2016-08-01 01:00:00  58.0  42.0  34.0  27.0  25.0  50.0  129.0  56.0  28.0   \n",
       "2016-08-01 02:00:00  56.0  44.0  34.0  40.0  27.0  46.0  125.0  72.0  28.0   \n",
       "2016-08-01 03:00:00  57.0  50.0  36.0  30.0  33.0  59.0  113.0  60.0  29.0   \n",
       "2016-08-01 04:00:00  59.0  55.0  33.0  33.0  30.0  54.0  111.0  60.0  30.0   \n",
       "\n",
       "                       廊坊  ...    五家渠    克州    普洱    襄阳   葫芦岛    河源    揭阳  \\\n",
       "Date                       ...                                              \n",
       "2016-08-01 00:00:00  76.0  ...   21.0  16.0  22.0  36.0  25.0  43.0  54.0   \n",
       "2016-08-01 01:00:00  70.0  ...   29.0   9.0  21.0  35.0  29.0  38.0  52.0   \n",
       "2016-08-01 02:00:00  79.0  ...   27.0   9.0  20.0  39.0  40.0  35.0  59.0   \n",
       "2016-08-01 03:00:00  78.0  ...   29.0  12.0  13.0  43.0  49.0  36.0  64.0   \n",
       "2016-08-01 04:00:00  67.0  ...   29.0  15.0  12.0  37.0  44.0  37.0  71.0   \n",
       "\n",
       "                       辽阳    朝阳    丹东  \n",
       "Date                                   \n",
       "2016-08-01 00:00:00  43.0  27.0  20.0  \n",
       "2016-08-01 01:00:00  38.0  23.0  19.0  \n",
       "2016-08-01 02:00:00  33.0  17.0  18.0  \n",
       "2016-08-01 03:00:00  31.0  15.0  20.0  \n",
       "2016-08-01 04:00:00  31.0  16.0  17.0  \n",
       "\n",
       "[5 rows x 367 columns]"
      ]
     },
     "execution_count": 527,
     "metadata": {},
     "output_type": "execute_result"
    }
   ],
   "source": [
    "pm25.head()"
   ]
  },
  {
   "cell_type": "code",
   "execution_count": 528,
   "metadata": {
    "collapsed": false
   },
   "outputs": [
    {
     "data": {
      "text/html": [
       "<div>\n",
       "<table border=\"1\" class=\"dataframe\">\n",
       "  <thead>\n",
       "    <tr style=\"text-align: right;\">\n",
       "      <th></th>\n",
       "      <th>北京</th>\n",
       "      <th>天津</th>\n",
       "      <th>石家庄</th>\n",
       "      <th>唐山</th>\n",
       "      <th>秦皇岛</th>\n",
       "      <th>邯郸</th>\n",
       "      <th>保定</th>\n",
       "      <th>张家口</th>\n",
       "      <th>承德</th>\n",
       "      <th>廊坊</th>\n",
       "      <th>...</th>\n",
       "      <th>五家渠</th>\n",
       "      <th>克州</th>\n",
       "      <th>普洱</th>\n",
       "      <th>襄阳</th>\n",
       "      <th>葫芦岛</th>\n",
       "      <th>河源</th>\n",
       "      <th>揭阳</th>\n",
       "      <th>辽阳</th>\n",
       "      <th>朝阳</th>\n",
       "      <th>丹东</th>\n",
       "    </tr>\n",
       "    <tr>\n",
       "      <th>Date</th>\n",
       "      <th></th>\n",
       "      <th></th>\n",
       "      <th></th>\n",
       "      <th></th>\n",
       "      <th></th>\n",
       "      <th></th>\n",
       "      <th></th>\n",
       "      <th></th>\n",
       "      <th></th>\n",
       "      <th></th>\n",
       "      <th></th>\n",
       "      <th></th>\n",
       "      <th></th>\n",
       "      <th></th>\n",
       "      <th></th>\n",
       "      <th></th>\n",
       "      <th></th>\n",
       "      <th></th>\n",
       "      <th></th>\n",
       "      <th></th>\n",
       "      <th></th>\n",
       "    </tr>\n",
       "  </thead>\n",
       "  <tbody>\n",
       "    <tr>\n",
       "      <th>2016-09-30 19:00:00</th>\n",
       "      <td>119.0</td>\n",
       "      <td>56.0</td>\n",
       "      <td>117.0</td>\n",
       "      <td>77.0</td>\n",
       "      <td>89.0</td>\n",
       "      <td>22.0</td>\n",
       "      <td>106.0</td>\n",
       "      <td>49.0</td>\n",
       "      <td>40.0</td>\n",
       "      <td>68.0</td>\n",
       "      <td>...</td>\n",
       "      <td>7.0</td>\n",
       "      <td>60.0</td>\n",
       "      <td>14.0</td>\n",
       "      <td>18.0</td>\n",
       "      <td>66.0</td>\n",
       "      <td>26.0</td>\n",
       "      <td>24.0</td>\n",
       "      <td>76.0</td>\n",
       "      <td>14.0</td>\n",
       "      <td>45.0</td>\n",
       "    </tr>\n",
       "    <tr>\n",
       "      <th>2016-09-30 20:00:00</th>\n",
       "      <td>126.0</td>\n",
       "      <td>58.0</td>\n",
       "      <td>103.0</td>\n",
       "      <td>77.0</td>\n",
       "      <td>102.0</td>\n",
       "      <td>31.0</td>\n",
       "      <td>127.0</td>\n",
       "      <td>56.0</td>\n",
       "      <td>46.0</td>\n",
       "      <td>75.0</td>\n",
       "      <td>...</td>\n",
       "      <td>9.0</td>\n",
       "      <td>66.0</td>\n",
       "      <td>16.0</td>\n",
       "      <td>21.0</td>\n",
       "      <td>89.0</td>\n",
       "      <td>25.0</td>\n",
       "      <td>27.0</td>\n",
       "      <td>78.0</td>\n",
       "      <td>15.0</td>\n",
       "      <td>56.0</td>\n",
       "    </tr>\n",
       "    <tr>\n",
       "      <th>2016-09-30 21:00:00</th>\n",
       "      <td>128.0</td>\n",
       "      <td>59.0</td>\n",
       "      <td>124.0</td>\n",
       "      <td>67.0</td>\n",
       "      <td>80.0</td>\n",
       "      <td>37.0</td>\n",
       "      <td>131.0</td>\n",
       "      <td>53.0</td>\n",
       "      <td>47.0</td>\n",
       "      <td>82.0</td>\n",
       "      <td>...</td>\n",
       "      <td>18.0</td>\n",
       "      <td>80.0</td>\n",
       "      <td>25.0</td>\n",
       "      <td>24.0</td>\n",
       "      <td>92.0</td>\n",
       "      <td>29.0</td>\n",
       "      <td>29.0</td>\n",
       "      <td>70.0</td>\n",
       "      <td>14.0</td>\n",
       "      <td>50.0</td>\n",
       "    </tr>\n",
       "    <tr>\n",
       "      <th>2016-09-30 22:00:00</th>\n",
       "      <td>129.0</td>\n",
       "      <td>60.0</td>\n",
       "      <td>125.0</td>\n",
       "      <td>73.0</td>\n",
       "      <td>71.0</td>\n",
       "      <td>42.0</td>\n",
       "      <td>157.0</td>\n",
       "      <td>56.0</td>\n",
       "      <td>50.0</td>\n",
       "      <td>83.0</td>\n",
       "      <td>...</td>\n",
       "      <td>45.0</td>\n",
       "      <td>74.0</td>\n",
       "      <td>24.0</td>\n",
       "      <td>22.0</td>\n",
       "      <td>75.0</td>\n",
       "      <td>30.0</td>\n",
       "      <td>28.0</td>\n",
       "      <td>65.0</td>\n",
       "      <td>13.0</td>\n",
       "      <td>72.0</td>\n",
       "    </tr>\n",
       "    <tr>\n",
       "      <th>2016-09-30 23:00:00</th>\n",
       "      <td>131.0</td>\n",
       "      <td>60.0</td>\n",
       "      <td>142.0</td>\n",
       "      <td>74.0</td>\n",
       "      <td>71.0</td>\n",
       "      <td>40.0</td>\n",
       "      <td>182.0</td>\n",
       "      <td>49.0</td>\n",
       "      <td>52.0</td>\n",
       "      <td>91.0</td>\n",
       "      <td>...</td>\n",
       "      <td>28.0</td>\n",
       "      <td>91.0</td>\n",
       "      <td>19.0</td>\n",
       "      <td>23.0</td>\n",
       "      <td>62.0</td>\n",
       "      <td>31.0</td>\n",
       "      <td>29.0</td>\n",
       "      <td>57.0</td>\n",
       "      <td>13.0</td>\n",
       "      <td>73.0</td>\n",
       "    </tr>\n",
       "  </tbody>\n",
       "</table>\n",
       "<p>5 rows × 367 columns</p>\n",
       "</div>"
      ],
      "text/plain": [
       "                        北京    天津    石家庄    唐山    秦皇岛    邯郸     保定   张家口    承德  \\\n",
       "Date                                                                            \n",
       "2016-09-30 19:00:00  119.0  56.0  117.0  77.0   89.0  22.0  106.0  49.0  40.0   \n",
       "2016-09-30 20:00:00  126.0  58.0  103.0  77.0  102.0  31.0  127.0  56.0  46.0   \n",
       "2016-09-30 21:00:00  128.0  59.0  124.0  67.0   80.0  37.0  131.0  53.0  47.0   \n",
       "2016-09-30 22:00:00  129.0  60.0  125.0  73.0   71.0  42.0  157.0  56.0  50.0   \n",
       "2016-09-30 23:00:00  131.0  60.0  142.0  74.0   71.0  40.0  182.0  49.0  52.0   \n",
       "\n",
       "                       廊坊  ...    五家渠    克州    普洱    襄阳   葫芦岛    河源    揭阳  \\\n",
       "Date                       ...                                              \n",
       "2016-09-30 19:00:00  68.0  ...    7.0  60.0  14.0  18.0  66.0  26.0  24.0   \n",
       "2016-09-30 20:00:00  75.0  ...    9.0  66.0  16.0  21.0  89.0  25.0  27.0   \n",
       "2016-09-30 21:00:00  82.0  ...   18.0  80.0  25.0  24.0  92.0  29.0  29.0   \n",
       "2016-09-30 22:00:00  83.0  ...   45.0  74.0  24.0  22.0  75.0  30.0  28.0   \n",
       "2016-09-30 23:00:00  91.0  ...   28.0  91.0  19.0  23.0  62.0  31.0  29.0   \n",
       "\n",
       "                       辽阳    朝阳    丹东  \n",
       "Date                                   \n",
       "2016-09-30 19:00:00  76.0  14.0  45.0  \n",
       "2016-09-30 20:00:00  78.0  15.0  56.0  \n",
       "2016-09-30 21:00:00  70.0  14.0  50.0  \n",
       "2016-09-30 22:00:00  65.0  13.0  72.0  \n",
       "2016-09-30 23:00:00  57.0  13.0  73.0  \n",
       "\n",
       "[5 rows x 367 columns]"
      ]
     },
     "execution_count": 528,
     "metadata": {},
     "output_type": "execute_result"
    }
   ],
   "source": [
    "pm25.tail()"
   ]
  },
  {
   "cell_type": "code",
   "execution_count": 545,
   "metadata": {
    "collapsed": false
   },
   "outputs": [],
   "source": [
    "#筛选出8月份的数据\n",
    "pm25_aug = pm25[pm25.index.month == 8]\n",
    "#筛选出9月份的数据\n",
    "pm25_sep = pm25[pm25.index.month == 9]"
   ]
  },
  {
   "cell_type": "code",
   "execution_count": 546,
   "metadata": {
    "collapsed": false
   },
   "outputs": [
    {
     "data": {
      "text/plain": [
       "(733, 706)"
      ]
     },
     "execution_count": 546,
     "metadata": {},
     "output_type": "execute_result"
    }
   ],
   "source": [
    "len(pm25_aug),len(pm25_sep)"
   ]
  },
  {
   "cell_type": "markdown",
   "metadata": {},
   "source": [
    "如果数据采集完整的话，应该分布有744行和720行，说明数据不完整，应该进行相应的处理"
   ]
  },
  {
   "cell_type": "code",
   "execution_count": 547,
   "metadata": {
    "collapsed": false
   },
   "outputs": [],
   "source": [
    "#在8月份数据的index中补充缺失的时间点\n",
    "daterange = pd.date_range('2016-08-01 00:00:00','2016-08-31 23:00:00',freq='H')\n",
    "pm25_aug = pm25_aug.reindex(daterange,fill_value=np.nan)\n",
    "\n",
    "#在9月份数据的index中补充缺失的时间点\n",
    "daterange = pd.date_range('2016-09-01 00:00:00','2016-09-30 23:00:00',freq='H')\n",
    "pm25_sep = pm25_sep.reindex(daterange,fill_value=np.nan)"
   ]
  },
  {
   "cell_type": "code",
   "execution_count": 548,
   "metadata": {
    "collapsed": false
   },
   "outputs": [
    {
     "data": {
      "text/plain": [
       "2016-08-31 20:00:00    47.0\n",
       "2016-08-04 12:00:00    47.0\n",
       "2016-08-30 08:00:00    48.0\n",
       "2016-08-31 23:00:00    50.0\n",
       "2016-08-31 21:00:00    51.0\n",
       "2016-08-30 07:00:00    51.0\n",
       "2016-08-30 06:00:00    51.0\n",
       "2016-08-31 22:00:00    53.0\n",
       "2016-08-04 13:00:00    54.0\n",
       "2016-08-02 08:00:00     NaN\n",
       "2016-08-02 09:00:00     NaN\n",
       "2016-08-02 10:00:00     NaN\n",
       "2016-08-04 01:00:00     NaN\n",
       "2016-08-04 03:00:00     NaN\n",
       "2016-08-04 04:00:00     NaN\n",
       "2016-08-04 05:00:00     NaN\n",
       "2016-08-04 07:00:00     NaN\n",
       "2016-08-12 01:00:00     NaN\n",
       "2016-08-22 01:00:00     NaN\n",
       "2016-08-25 10:00:00     NaN\n",
       "Name: 上海, dtype: float64"
      ]
     },
     "execution_count": 548,
     "metadata": {},
     "output_type": "execute_result"
    }
   ],
   "source": [
    "pm25_aug[u'上海'.encode('utf-8')].sort_values()[-20:]"
   ]
  },
  {
   "cell_type": "code",
   "execution_count": 549,
   "metadata": {
    "collapsed": false
   },
   "outputs": [
    {
     "data": {
      "text/plain": [
       "2016-09-09 06:00:00    105.0\n",
       "2016-09-09 07:00:00    105.0\n",
       "2016-09-03 07:00:00    107.0\n",
       "2016-09-03 08:00:00    107.0\n",
       "2016-09-14 15:00:00      NaN\n",
       "2016-09-18 12:00:00      NaN\n",
       "2016-09-18 13:00:00      NaN\n",
       "2016-09-18 14:00:00      NaN\n",
       "2016-09-18 15:00:00      NaN\n",
       "2016-09-18 16:00:00      NaN\n",
       "2016-09-18 17:00:00      NaN\n",
       "2016-09-18 18:00:00      NaN\n",
       "2016-09-18 19:00:00      NaN\n",
       "2016-09-18 20:00:00      NaN\n",
       "2016-09-18 21:00:00      NaN\n",
       "2016-09-18 22:00:00      NaN\n",
       "2016-09-19 11:00:00      NaN\n",
       "2016-09-20 18:00:00      NaN\n",
       "2016-09-20 20:00:00      NaN\n",
       "2016-09-29 09:00:00      NaN\n",
       "Name: 上海, dtype: float64"
      ]
     },
     "execution_count": 549,
     "metadata": {},
     "output_type": "execute_result"
    }
   ],
   "source": [
    "pm25_sep[u'上海'.encode('utf-8')].sort_values()[-20:]"
   ]
  },
  {
   "cell_type": "code",
   "execution_count": 550,
   "metadata": {
    "collapsed": false
   },
   "outputs": [
    {
     "data": {
      "image/png": "[encoded data removed]",
      "text/plain": [
       "<matplotlib.figure.Figure at 0x12b3cfa90>"
      ]
     },
     "metadata": {},
     "output_type": "display_data"
    }
   ],
   "source": [
    "pm25_aug[u'上海'.encode('utf-8')].plot(figsize=(12,4));"
   ]
  },
  {
   "cell_type": "code",
   "execution_count": 551,
   "metadata": {
    "collapsed": false
   },
   "outputs": [
    {
     "data": {
      "image/png": "[encoded data removed]",
      "text/plain": [
       "<matplotlib.figure.Figure at 0x12b3c5590>"
      ]
     },
     "metadata": {},
     "output_type": "display_data"
    }
   ],
   "source": [
    "pm25_sep[u'上海'.encode('utf-8')].plot(figsize=(12,4));"
   ]
  },
  {
   "cell_type": "markdown",
   "metadata": {},
   "source": [
    "准备对上海的pm2.5数据进行分析，根据上面排序后的结果以及上图来可以看出：\n",
    "1. 8月份缺失的时间点比较分散，可近似采用上一时刻的数据来填补。\n",
    "2. 9月18号缺失数据非常严重，采用上一时刻的数据来补充的话误差很大，不过用来验证预测的数据足够了，毕竟前三天的数据还是比较完整的。"
   ]
  },
  {
   "cell_type": "code",
   "execution_count": 552,
   "metadata": {
    "collapsed": false
   },
   "outputs": [],
   "source": [
    "#填补缺失的数据\n",
    "pm25_aug = pm25_aug.fillna(method='pad')\n",
    "pm25_sep = pm25_sep.fillna(method='pad')\n",
    "\n",
    "#pm25_aug[u'上海'.encode('utf-8')].sort_values()[-20:]"
   ]
  },
  {
   "cell_type": "code",
   "execution_count": 553,
   "metadata": {
    "collapsed": false,
    "scrolled": true
   },
   "outputs": [
    {
     "data": {
      "image/png": "[encoded data removed]",
      "text/plain": [
       "<matplotlib.figure.Figure at 0x12c664050>"
      ]
     },
     "metadata": {},
     "output_type": "display_data"
    }
   ],
   "source": [
    "pm25_aug[u'上海'.encode('utf-8')].plot(figsize=(12,4));"
   ]
  },
  {
   "cell_type": "code",
   "execution_count": 554,
   "metadata": {
    "collapsed": false
   },
   "outputs": [
    {
     "data": {
      "image/png": "[encoded data removed]",
      "text/plain": [
       "<matplotlib.figure.Figure at 0x12cc2d290>"
      ]
     },
     "metadata": {},
     "output_type": "display_data"
    }
   ],
   "source": [
    "pm25_sep[u'上海'.encode('utf-8')].plot(figsize=(12,4));"
   ]
  },
  {
   "cell_type": "code",
   "execution_count": 555,
   "metadata": {
    "collapsed": false
   },
   "outputs": [
    {
     "data": {
      "text/plain": [
       "(744, 720)"
      ]
     },
     "execution_count": 555,
     "metadata": {},
     "output_type": "execute_result"
    }
   ],
   "source": [
    "len(pm25_aug),len(pm25_sep)"
   ]
  },
  {
   "cell_type": "markdown",
   "metadata": {},
   "source": [
    "可以看出来，现在数据完整了，不过columns的名称为中文，不方便处理，因此需增加一列。"
   ]
  },
  {
   "cell_type": "code",
   "execution_count": 558,
   "metadata": {
    "collapsed": true
   },
   "outputs": [],
   "source": [
    "pm25_aug['shanghai'] = pm25_aug[u'上海'.encode('utf-8')]\n",
    "pm25_sep['shanghai'] = pm25_sep[u'上海'.encode('utf-8')]"
   ]
  },
  {
   "cell_type": "markdown",
   "metadata": {},
   "source": [
    "数据读取和处理的工作基本完成，下面可以开始对数据进行分析和处理了。\n",
    "\n",
    "先用smg.tsa模块提供的plot_acf绘图函数来观察pm2.5数据在时间序列上的autocorrelation情形。"
   ]
  },
  {
   "cell_type": "code",
   "execution_count": 561,
   "metadata": {
    "collapsed": false
   },
   "outputs": [
    {
     "data": {
      "image/png": "[encoded data removed]",
      "text/plain": [
       "<matplotlib.figure.Figure at 0x12b3ecc90>"
      ]
     },
     "metadata": {},
     "output_type": "display_data"
    }
   ],
   "source": [
    "fig, axes = plt.subplots(1, 4, figsize=(12, 3))\n",
    "smg.tsa.plot_acf(pm25_aug.shanghai, lags=72, ax=axes[0])\n",
    "smg.tsa.plot_acf(pm25_aug.shanghai.diff().dropna(), lags=72, ax=axes[1])\n",
    "smg.tsa.plot_acf(pm25_aug.shanghai.diff().diff().dropna(), lags=72, ax=axes[2])\n",
    "smg.tsa.plot_acf(pm25_aug.shanghai.diff().diff().diff().dropna(), lags=72, ax=axes[3])\n",
    "fig.tight_layout()"
   ]
  },
  {
   "cell_type": "markdown",
   "metadata": {},
   "source": [
    "从上图可以看出，仅仅最左边的图形所展示出来的autocorrelation效果最为明显，高阶的时间序列值所呈现的autocorrelation效果逐步减弱"
   ]
  },
  {
   "cell_type": "code",
   "execution_count": 562,
   "metadata": {
    "collapsed": false
   },
   "outputs": [
    {
     "data": {
      "text/plain": [
       "1.9953529820474203"
      ]
     },
     "execution_count": 562,
     "metadata": {},
     "output_type": "execute_result"
    }
   ],
   "source": [
    "model = sm.tsa.AR(pm25_aug.shanghai)\n",
    "result = model.fit(72)\n",
    "sm.stats.durbin_watson(result.resid)#检测是否消除autocorrelation，结果在2附近则说明去除了。"
   ]
  },
  {
   "cell_type": "code",
   "execution_count": 564,
   "metadata": {
    "collapsed": false
   },
   "outputs": [
    {
     "data": {
      "image/png": "[encoded data removed]",
      "text/plain": [
       "<matplotlib.figure.Figure at 0x12889ed10>"
      ]
     },
     "metadata": {},
     "output_type": "display_data"
    }
   ],
   "source": [
    "fig,ax = plt.subplots(1,1,figsize=(8,3))\n",
    "smg.tsa.plot_acf(result.resid, lags=72, ax=ax);"
   ]
  },
  {
   "cell_type": "markdown",
   "metadata": {},
   "source": [
    "Durbin-Watson statistical test的结果为1.995352，很接近2，从上图也可以看出，autocorrelation基本不存在，说明选用的模型拟合数据效果不错。\n",
    "\n",
    "下面尝试用这个模型来预测未来3天的pm2.5数据"
   ]
  },
  {
   "cell_type": "code",
   "execution_count": 565,
   "metadata": {
    "collapsed": false
   },
   "outputs": [
    {
     "name": "stderr",
     "output_type": "stream",
     "text": [
      "//anaconda/lib/python2.7/site-packages/statsmodels/base/data.py:503: FutureWarning: TimeSeries is deprecated. Please use Series\n",
      "  return TimeSeries(result, index=self.predict_dates)\n"
     ]
    }
   ],
   "source": [
    "pm25_3d_forecast = result.predict(\"2016-09-01\",\"2016-09-04\")"
   ]
  },
  {
   "cell_type": "markdown",
   "metadata": {},
   "source": [
    "下面绘制图形来观察预测数据准确度如何。"
   ]
  },
  {
   "cell_type": "code",
   "execution_count": 570,
   "metadata": {
    "collapsed": false
   },
   "outputs": [
    {
     "data": {
      "image/png": "[encoded data removed]",
      "text/plain": [
       "<matplotlib.figure.Figure at 0x125078150>"
      ]
     },
     "metadata": {},
     "output_type": "display_data"
    }
   ],
   "source": [
    "fig, ax = plt.subplots(1, 1, figsize=(12, 4))\n",
    "ax.plot(pm25_aug.index.values[-72:], pm25_aug.shanghai.values[-72:], label=\"train data\")\n",
    "ax.plot(pm25_sep.index.values[:72], pm25_sep.shanghai.values[:72], label=\"actual outcome\")\n",
    "ax.plot(pd.date_range(\"2016-09-01\", \"2016-09-04\", freq=\"H\").values,\n",
    "        result.predict(\"2016-09-01\", \"2016-09-04\"), label=\"predicted outcome\")\n",
    "\n",
    "ax.legend()\n",
    "fig.tight_layout()"
   ]
  },
  {
   "cell_type": "markdown",
   "metadata": {},
   "source": [
    "从图形可以看出，预测结果极差，说明采用这个模型来预测pm2.5数据不佳，当然，也可能是模型参数选择不好。"
   ]
  }
 ],
 "metadata": {
  "anaconda-cloud": {},
  "kernelspec": {
   "display_name": "Python [Root]",
   "language": "python",
   "name": "Python [Root]"
  },
  "language_info": {
   "codemirror_mode": {
    "name": "ipython",
    "version": 2
   },
   "file_extension": ".py",
   "mimetype": "text/x-python",
   "name": "python",
   "nbconvert_exporter": "python",
   "pygments_lexer": "ipython2",
   "version": "2.7.12"
  }
 },
 "nbformat": 4,
 "nbformat_minor": 0
}
