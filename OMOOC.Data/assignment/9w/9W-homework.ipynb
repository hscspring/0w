{
 "cells": [
  {
   "cell_type": "markdown",
   "metadata": {
    "collapsed": true
   },
   "source": [
    "# 0.背景  \n",
    "\n",
    "## 0.1 目的  \n",
    "在股市中，投资主要是寻找价值低于当前价格的股票；而投机主要是追趋势低买高卖。  \n",
    "因此，本主题将尝试利用财务多因子策略选择基本面质地优良且低估最多的股票；而基于趋势追踪确定购买时机。  \n",
    "## 0.2 相关数据及指标说明  \n",
    "\n",
    "# 1.模型构建  \n",
    "* 风险：资产负债率（ALR），应收账款周转率（RTA），存货周转率（ITR），三项费用比（TCR）；（周转率用占比代替）  \n",
    "* 盈利：毛利率（GPA），净资产收益率（ROE），每股收益（EPS），净利润（NP）；\n",
    "* 估值：市销率（PS），市净率（PB），市盈率（PE）（LVR），市现率（PCF）;\n",
    "\n",
    "# 2.研究样本  \n",
    "\n",
    "* 选取2006-2016年做样本期，进行分析。"
   ]
  },
  {
   "cell_type": "markdown",
   "metadata": {},
   "source": [
    "# 3.研究过程"
   ]
  },
  {
   "cell_type": "markdown",
   "metadata": {},
   "source": [
    "## 3.1 获取数据"
   ]
  },
  {
   "cell_type": "code",
   "execution_count": 22,
   "metadata": {
    "collapsed": true
   },
   "outputs": [],
   "source": [
    "import pandas as pd\n",
    "from pandas import Series, DataFrame\n",
    "import numpy as np\n",
    "import statsmodels.api as sm\n",
    "import scipy.stats as scs\n",
    "import matplotlib.pyplot as plt\n",
    "%matplotlib inline"
   ]
  },
  {
   "cell_type": "code",
   "execution_count": 23,
   "metadata": {
    "collapsed": true
   },
   "outputs": [],
   "source": [
    "factors = ['ALR','RTA','ITR','TCR','GPA','ROE','EPS','NP','PS','PB','PE','PCF']"
   ]
  },
  {
   "cell_type": "code",
   "execution_count": 24,
   "metadata": {
    "collapsed": false
   },
   "outputs": [],
   "source": [
    "stock_set = [get_index_stocks('000001.XSHG', date =str(i) + '-01-01') for i in range(2006,2016)]"
   ]
  },
  {
   "cell_type": "code",
   "execution_count": 25,
   "metadata": {
    "collapsed": false
   },
   "outputs": [],
   "source": [
    "stock_set = DataFrame(stock_set).T"
   ]
  },
  {
   "cell_type": "code",
   "execution_count": 26,
   "metadata": {
    "collapsed": false
   },
   "outputs": [],
   "source": [
    "for i in range(10):\n",
    "    q = query(\n",
    "    valuation.code,\n",
    "        \n",
    "    balance.total_liability/balance.total_assets, # 资产负债率ALR\n",
    "    balance.account_receivable/income.operating_revenue, # 应收账款占比RTA\n",
    "    balance.inventories/income.operating_revenue, # 存货占比ITR\n",
    "    (income.sale_expense + income.administration_expense + income.financial_expense)/income.total_operating_revenue, # 三项费用占比TCR\n",
    "    \n",
    "    (income.operating_revenue-income.operating_cost)/income.operating_revenue, # 销售毛利率GPA\n",
    "    income.net_profit/balance.total_owner_equities, # 净资产收益率ROE\n",
    "    income.basic_eps, # 每股收益EPS\n",
    "    income.net_profit, # 净利润NP\n",
    "        \n",
    "    valuation.ps_ratio,\n",
    "    valuation.pb_ratio,\n",
    "    valuation.pe_ratio_lyr,\n",
    "    valuation.pcf_ratio    \n",
    "    ).filter(\n",
    "        valuation.code.in_(stock_set[i].dropna())\n",
    "    )"
   ]
  },
  {
   "cell_type": "code",
   "execution_count": 27,
   "metadata": {
    "collapsed": false
   },
   "outputs": [],
   "source": [
    "df_jq = [get_fundamentals(q, statDate=str(i)) for i in range(2006,2016)]"
   ]
  },
  {
   "cell_type": "code",
   "execution_count": 28,
   "metadata": {
    "collapsed": false
   },
   "outputs": [],
   "source": [
    "for i in range(10):\n",
    "    df_jq[i].columns= ['code'] + factors\n",
    "    df2006,df2007,df2008,df2009,df2010,df2011,df2012,df2013,df2014,df2015 = \\\n",
    "    df_jq[0].dropna(),df_jq[1].dropna(),df_jq[2].dropna(),df_jq[3].dropna(),\\\n",
    "    df_jq[4].dropna(),df_jq[5].dropna(),df_jq[6].dropna(),df_jq[7].dropna(),\\\n",
    "    df_jq[8].dropna(),df_jq[9].dropna()\n",
    "    \n",
    "#    map(lambda j: ('df'+ str(j)), range(2006,2016)) = df_jq[i]"
   ]
  },
  {
   "cell_type": "code",
   "execution_count": 29,
   "metadata": {
    "collapsed": false
   },
   "outputs": [
    {
     "data": {
      "text/html": [
       "<div>\n",
       "<table border=\"1\" class=\"dataframe\">\n",
       "  <thead>\n",
       "    <tr style=\"text-align: right;\">\n",
       "      <th></th>\n",
       "      <th>code</th>\n",
       "      <th>ALR</th>\n",
       "      <th>RTA</th>\n",
       "      <th>ITR</th>\n",
       "      <th>TCR</th>\n",
       "      <th>GPA</th>\n",
       "      <th>ROE</th>\n",
       "      <th>EPS</th>\n",
       "      <th>NP</th>\n",
       "      <th>PS</th>\n",
       "      <th>PB</th>\n",
       "      <th>PE</th>\n",
       "      <th>PCF</th>\n",
       "    </tr>\n",
       "  </thead>\n",
       "  <tbody>\n",
       "    <tr>\n",
       "      <th>1</th>\n",
       "      <td>600004.XSHG</td>\n",
       "      <td>0.207073</td>\n",
       "      <td>0.105287</td>\n",
       "      <td>0.013054</td>\n",
       "      <td>0.090902</td>\n",
       "      <td>0.401008</td>\n",
       "      <td>0.132468</td>\n",
       "      <td>1.0900</td>\n",
       "      <td>1294566144</td>\n",
       "      <td>2.90</td>\n",
       "      <td>1.77</td>\n",
       "      <td>15.0458</td>\n",
       "      <td>-23.62</td>\n",
       "    </tr>\n",
       "    <tr>\n",
       "      <th>2</th>\n",
       "      <td>600005.XSHG</td>\n",
       "      <td>0.697277</td>\n",
       "      <td>0.190308</td>\n",
       "      <td>0.189428</td>\n",
       "      <td>0.109126</td>\n",
       "      <td>-0.015178</td>\n",
       "      <td>-0.262665</td>\n",
       "      <td>-0.7440</td>\n",
       "      <td>-7510636544</td>\n",
       "      <td>0.48</td>\n",
       "      <td>1.01</td>\n",
       "      <td>27.8546</td>\n",
       "      <td>37.40</td>\n",
       "    </tr>\n",
       "    <tr>\n",
       "      <th>3</th>\n",
       "      <td>600006.XSHG</td>\n",
       "      <td>0.596814</td>\n",
       "      <td>0.130904</td>\n",
       "      <td>0.087929</td>\n",
       "      <td>0.138444</td>\n",
       "      <td>0.155154</td>\n",
       "      <td>0.035138</td>\n",
       "      <td>0.1722</td>\n",
       "      <td>286432032</td>\n",
       "      <td>1.11</td>\n",
       "      <td>2.77</td>\n",
       "      <td>126.0459</td>\n",
       "      <td>134.49</td>\n",
       "    </tr>\n",
       "    <tr>\n",
       "      <th>4</th>\n",
       "      <td>600007.XSHG</td>\n",
       "      <td>0.446941</td>\n",
       "      <td>0.062320</td>\n",
       "      <td>0.010311</td>\n",
       "      <td>0.100305</td>\n",
       "      <td>0.513255</td>\n",
       "      <td>0.111162</td>\n",
       "      <td>0.6200</td>\n",
       "      <td>628263104</td>\n",
       "      <td>8.41</td>\n",
       "      <td>3.45</td>\n",
       "      <td>35.2591</td>\n",
       "      <td>98.02</td>\n",
       "    </tr>\n",
       "    <tr>\n",
       "      <th>5</th>\n",
       "      <td>600008.XSHG</td>\n",
       "      <td>0.673350</td>\n",
       "      <td>0.192903</td>\n",
       "      <td>0.553320</td>\n",
       "      <td>0.235436</td>\n",
       "      <td>0.322998</td>\n",
       "      <td>0.059438</td>\n",
       "      <td>0.2241</td>\n",
       "      <td>701387520</td>\n",
       "      <td>4.38</td>\n",
       "      <td>3.05</td>\n",
       "      <td>40.2486</td>\n",
       "      <td>15.27</td>\n",
       "    </tr>\n",
       "  </tbody>\n",
       "</table>\n",
       "</div>"
      ],
      "text/plain": [
       "          code       ALR       RTA       ITR       TCR       GPA       ROE  \\\n",
       "1  600004.XSHG  0.207073  0.105287  0.013054  0.090902  0.401008  0.132468   \n",
       "2  600005.XSHG  0.697277  0.190308  0.189428  0.109126 -0.015178 -0.262665   \n",
       "3  600006.XSHG  0.596814  0.130904  0.087929  0.138444  0.155154  0.035138   \n",
       "4  600007.XSHG  0.446941  0.062320  0.010311  0.100305  0.513255  0.111162   \n",
       "5  600008.XSHG  0.673350  0.192903  0.553320  0.235436  0.322998  0.059438   \n",
       "\n",
       "      EPS          NP    PS    PB        PE     PCF  \n",
       "1  1.0900  1294566144  2.90  1.77   15.0458  -23.62  \n",
       "2 -0.7440 -7510636544  0.48  1.01   27.8546   37.40  \n",
       "3  0.1722   286432032  1.11  2.77  126.0459  134.49  \n",
       "4  0.6200   628263104  8.41  3.45   35.2591   98.02  \n",
       "5  0.2241   701387520  4.38  3.05   40.2486   15.27  "
      ]
     },
     "execution_count": 29,
     "metadata": {},
     "output_type": "execute_result"
    }
   ],
   "source": [
    "df2015.head()"
   ]
  },
  {
   "cell_type": "code",
   "execution_count": 268,
   "metadata": {
    "collapsed": false
   },
   "outputs": [],
   "source": [
    "#fdf['code'] = map(lambda i: fdf['code'][i][:6] ,np.arange(970))\n",
    "#df.loc[index_row]"
   ]
  },
  {
   "cell_type": "markdown",
   "metadata": {},
   "source": [
    "## 3.2 熵值法对各项指标进行评价"
   ]
  },
  {
   "cell_type": "markdown",
   "metadata": {},
   "source": [
    "熵值法需确定正向和反向指标，根据研究目的，将风险和估值列为负向指标，而将盈利列为正向指标。  \n",
    "* 风险：资产负债率（ALR），应收账款周转率（RTA），存货周转率（ITR），三项费用比（TCR）；（周转率用占比代替）  \n",
    "* 盈利：毛利率（GPA），净资产收益率（ROE），每股收益（EPS），净利润（NP）；  \n",
    "* 估值：市销率（PS），市净率（PB），市盈率（PE）（LVR），市现率（PCF）;"
   ]
  },
  {
   "cell_type": "markdown",
   "metadata": {},
   "source": [
    "### 3.2.1 熵值法代码"
   ]
  },
  {
   "cell_type": "code",
   "execution_count": 30,
   "metadata": {
    "collapsed": false
   },
   "outputs": [],
   "source": [
    "def entropy(X1,X2):\n",
    "    \n",
    "    # X1为正向指标，X2为反向指标\n",
    "    n = X1.shape[0]\n",
    "    m = X1.shape[1]\n",
    "    s = X2.shape[1]\n",
    "    \n",
    "    # 标准化数据\n",
    "    #standardized_X1 = 1/(X1.max()-X1.min())*X1 -  X1.min()/(X1.max()-X1.min())\n",
    "    standardized_X1 = (X1-X1.min()) /(X1.max()-X1.min())\n",
    "    standardized_X2 = (X2.max()-X2) /(X2.max()-X2.min())\n",
    "    standardized_X = pd.concat([standardized_X1 , standardized_X2], axis=1)\n",
    "\n",
    "    # 计算第j项指标第i个方案指标值的比重\n",
    "    fij = standardized_X/standardized_X.sum()\n",
    "    \n",
    "    # 计算第j项指标的熵Hj\n",
    "    Hj = -sum((fij*log(fij)).dropna())/log(n)\n",
    "    \n",
    "    # 计算各指标熵权w\n",
    "    gj = 1-Hj\n",
    "    wj = gj/sum(gj)\n",
    "    #w = wj.sort(ascending=False)\n",
    "    #wj2 = gj/((m+s)-sum(Hj))\n",
    "    \n",
    "    # 计算C矩阵\n",
    "    C = fij*wj\n",
    "    \n",
    "    # 直接求出的结果（越大越好）\n",
    "    v = sum(C,axis=1)\n",
    "    \n",
    "    # 计算距离d（越小越好，与max对比）\n",
    "    d = sqrt(sum( (C-C.max())**2, axis=1))\n",
    "    \n",
    "    # 计算贴进度T（越小越好）\n",
    "    T = 1- sum( C*C.max(), axis=1) / sum(C.max()**2)\n",
    "    \n",
    "    # 对结果进行处理，返回前十只股票的index\n",
    "    T.sort()\n",
    "    Top100 = T.head(100).index\n",
    "    \n",
    "    # 返回指标权重，Top10的index值\n",
    "    return wj, Top100"
   ]
  },
  {
   "cell_type": "markdown",
   "metadata": {},
   "source": [
    "### 3.2.2 按年计算各指标权重，并选出最佳的十只股票"
   ]
  },
  {
   "cell_type": "code",
   "execution_count": 31,
   "metadata": {
    "collapsed": false
   },
   "outputs": [],
   "source": [
    "df = [df2006,df2007,df2008,df2009,df2010,df2011,df2012,df2013,df2014,df2015]\n",
    "wj = np.zeros([len(factors),len(df)])\n",
    "Topindex = np.zeros([100,len(df)])\n",
    "Top100 = np.zeros([100,len(df)]).astype(np.object)\n",
    "for i in range(10):\n",
    "    wj[:,i], Topindex[:,i] = entropy(df[i][[\"GPA\",\"ROE\",\"EPS\",\"NP\"]],\\\n",
    "                                  df[i][[\"ALR\",\"RTA\",'ITR','TCR','PS','PB','PE','PCF']])\n",
    "    Top100[:,i] = df[i][\"code\"].loc[Topindex[:,i]]"
   ]
  },
  {
   "cell_type": "code",
   "execution_count": 32,
   "metadata": {
    "collapsed": false
   },
   "outputs": [],
   "source": [
    "wjpd = DataFrame(wj,\n",
    "                 index=factors,\n",
    "                 columns=[\"2006\",\"2007\",\"2008\",\"2009\",\"2010\",\"2011\",\"2012\",\"2013\",\"2014\",\"2015\"])"
   ]
  },
  {
   "cell_type": "code",
   "execution_count": 33,
   "metadata": {
    "collapsed": true
   },
   "outputs": [],
   "source": [
    "Top100pd = DataFrame(Top100,\n",
    "                   columns=[\"2006\",\"2007\",\"2008\",\"2009\",\"2010\",\"2011\",\"2012\",\"2013\",\"2014\",\"2015\"])"
   ]
  },
  {
   "cell_type": "code",
   "execution_count": 34,
   "metadata": {
    "collapsed": false
   },
   "outputs": [
    {
     "data": {
      "text/html": [
       "<div>\n",
       "<table border=\"1\" class=\"dataframe\">\n",
       "  <thead>\n",
       "    <tr style=\"text-align: right;\">\n",
       "      <th></th>\n",
       "      <th>2006</th>\n",
       "      <th>2007</th>\n",
       "      <th>2008</th>\n",
       "      <th>2009</th>\n",
       "      <th>2010</th>\n",
       "      <th>2011</th>\n",
       "      <th>2012</th>\n",
       "      <th>2013</th>\n",
       "      <th>2014</th>\n",
       "      <th>2015</th>\n",
       "    </tr>\n",
       "  </thead>\n",
       "  <tbody>\n",
       "    <tr>\n",
       "      <th>ALR</th>\n",
       "      <td>0.091516</td>\n",
       "      <td>0.073294</td>\n",
       "      <td>0.104402</td>\n",
       "      <td>0.074830</td>\n",
       "      <td>0.076672</td>\n",
       "      <td>0.108696</td>\n",
       "      <td>0.121339</td>\n",
       "      <td>0.093987</td>\n",
       "      <td>0.105277</td>\n",
       "      <td>0.131964</td>\n",
       "    </tr>\n",
       "    <tr>\n",
       "      <th>RTA</th>\n",
       "      <td>0.078763</td>\n",
       "      <td>0.054697</td>\n",
       "      <td>0.084651</td>\n",
       "      <td>0.078229</td>\n",
       "      <td>0.041191</td>\n",
       "      <td>0.073221</td>\n",
       "      <td>0.095331</td>\n",
       "      <td>0.072168</td>\n",
       "      <td>0.079348</td>\n",
       "      <td>0.072356</td>\n",
       "    </tr>\n",
       "    <tr>\n",
       "      <th>ITR</th>\n",
       "      <td>0.080004</td>\n",
       "      <td>0.066741</td>\n",
       "      <td>0.078892</td>\n",
       "      <td>0.076475</td>\n",
       "      <td>0.051040</td>\n",
       "      <td>0.097358</td>\n",
       "      <td>0.088935</td>\n",
       "      <td>0.072432</td>\n",
       "      <td>0.082051</td>\n",
       "      <td>0.077637</td>\n",
       "    </tr>\n",
       "    <tr>\n",
       "      <th>TCR</th>\n",
       "      <td>0.123142</td>\n",
       "      <td>0.272497</td>\n",
       "      <td>0.106089</td>\n",
       "      <td>0.143296</td>\n",
       "      <td>0.482668</td>\n",
       "      <td>0.141808</td>\n",
       "      <td>0.114264</td>\n",
       "      <td>0.170573</td>\n",
       "      <td>0.097762</td>\n",
       "      <td>0.115389</td>\n",
       "    </tr>\n",
       "    <tr>\n",
       "      <th>GPA</th>\n",
       "      <td>0.075381</td>\n",
       "      <td>0.052230</td>\n",
       "      <td>0.076850</td>\n",
       "      <td>0.078575</td>\n",
       "      <td>0.040129</td>\n",
       "      <td>0.071035</td>\n",
       "      <td>0.073433</td>\n",
       "      <td>0.122295</td>\n",
       "      <td>0.079104</td>\n",
       "      <td>0.097148</td>\n",
       "    </tr>\n",
       "    <tr>\n",
       "      <th>ROE</th>\n",
       "      <td>0.076042</td>\n",
       "      <td>0.053293</td>\n",
       "      <td>0.078684</td>\n",
       "      <td>0.079005</td>\n",
       "      <td>0.046877</td>\n",
       "      <td>0.075480</td>\n",
       "      <td>0.071560</td>\n",
       "      <td>0.067602</td>\n",
       "      <td>0.085268</td>\n",
       "      <td>0.074074</td>\n",
       "    </tr>\n",
       "    <tr>\n",
       "      <th>EPS</th>\n",
       "      <td>0.078531</td>\n",
       "      <td>0.052794</td>\n",
       "      <td>0.081265</td>\n",
       "      <td>0.077931</td>\n",
       "      <td>0.038712</td>\n",
       "      <td>0.070445</td>\n",
       "      <td>0.076608</td>\n",
       "      <td>0.068605</td>\n",
       "      <td>0.078742</td>\n",
       "      <td>0.072854</td>\n",
       "    </tr>\n",
       "    <tr>\n",
       "      <th>NP</th>\n",
       "      <td>0.074618</td>\n",
       "      <td>0.053651</td>\n",
       "      <td>0.070484</td>\n",
       "      <td>0.071178</td>\n",
       "      <td>0.037985</td>\n",
       "      <td>0.057097</td>\n",
       "      <td>0.071148</td>\n",
       "      <td>0.065465</td>\n",
       "      <td>0.073916</td>\n",
       "      <td>0.068771</td>\n",
       "    </tr>\n",
       "    <tr>\n",
       "      <th>PS</th>\n",
       "      <td>0.078821</td>\n",
       "      <td>0.053718</td>\n",
       "      <td>0.063451</td>\n",
       "      <td>0.076716</td>\n",
       "      <td>0.038809</td>\n",
       "      <td>0.066414</td>\n",
       "      <td>0.063878</td>\n",
       "      <td>0.063838</td>\n",
       "      <td>0.079478</td>\n",
       "      <td>0.072305</td>\n",
       "    </tr>\n",
       "    <tr>\n",
       "      <th>PB</th>\n",
       "      <td>0.078905</td>\n",
       "      <td>0.053733</td>\n",
       "      <td>0.086407</td>\n",
       "      <td>0.085268</td>\n",
       "      <td>0.041262</td>\n",
       "      <td>0.072731</td>\n",
       "      <td>0.074785</td>\n",
       "      <td>0.066065</td>\n",
       "      <td>0.078181</td>\n",
       "      <td>0.073026</td>\n",
       "    </tr>\n",
       "    <tr>\n",
       "      <th>PE</th>\n",
       "      <td>0.077901</td>\n",
       "      <td>0.062094</td>\n",
       "      <td>0.091476</td>\n",
       "      <td>0.079291</td>\n",
       "      <td>0.043047</td>\n",
       "      <td>0.074686</td>\n",
       "      <td>0.074521</td>\n",
       "      <td>0.067665</td>\n",
       "      <td>0.080339</td>\n",
       "      <td>0.071926</td>\n",
       "    </tr>\n",
       "    <tr>\n",
       "      <th>PCF</th>\n",
       "      <td>0.086375</td>\n",
       "      <td>0.151258</td>\n",
       "      <td>0.077348</td>\n",
       "      <td>0.079205</td>\n",
       "      <td>0.061608</td>\n",
       "      <td>0.091030</td>\n",
       "      <td>0.074198</td>\n",
       "      <td>0.069305</td>\n",
       "      <td>0.080534</td>\n",
       "      <td>0.072550</td>\n",
       "    </tr>\n",
       "  </tbody>\n",
       "</table>\n",
       "</div>"
      ],
      "text/plain": [
       "         2006      2007      2008      2009      2010      2011      2012  \\\n",
       "ALR  0.091516  0.073294  0.104402  0.074830  0.076672  0.108696  0.121339   \n",
       "RTA  0.078763  0.054697  0.084651  0.078229  0.041191  0.073221  0.095331   \n",
       "ITR  0.080004  0.066741  0.078892  0.076475  0.051040  0.097358  0.088935   \n",
       "TCR  0.123142  0.272497  0.106089  0.143296  0.482668  0.141808  0.114264   \n",
       "GPA  0.075381  0.052230  0.076850  0.078575  0.040129  0.071035  0.073433   \n",
       "ROE  0.076042  0.053293  0.078684  0.079005  0.046877  0.075480  0.071560   \n",
       "EPS  0.078531  0.052794  0.081265  0.077931  0.038712  0.070445  0.076608   \n",
       "NP   0.074618  0.053651  0.070484  0.071178  0.037985  0.057097  0.071148   \n",
       "PS   0.078821  0.053718  0.063451  0.076716  0.038809  0.066414  0.063878   \n",
       "PB   0.078905  0.053733  0.086407  0.085268  0.041262  0.072731  0.074785   \n",
       "PE   0.077901  0.062094  0.091476  0.079291  0.043047  0.074686  0.074521   \n",
       "PCF  0.086375  0.151258  0.077348  0.079205  0.061608  0.091030  0.074198   \n",
       "\n",
       "         2013      2014      2015  \n",
       "ALR  0.093987  0.105277  0.131964  \n",
       "RTA  0.072168  0.079348  0.072356  \n",
       "ITR  0.072432  0.082051  0.077637  \n",
       "TCR  0.170573  0.097762  0.115389  \n",
       "GPA  0.122295  0.079104  0.097148  \n",
       "ROE  0.067602  0.085268  0.074074  \n",
       "EPS  0.068605  0.078742  0.072854  \n",
       "NP   0.065465  0.073916  0.068771  \n",
       "PS   0.063838  0.079478  0.072305  \n",
       "PB   0.066065  0.078181  0.073026  \n",
       "PE   0.067665  0.080339  0.071926  \n",
       "PCF  0.069305  0.080534  0.072550  "
      ]
     },
     "execution_count": 34,
     "metadata": {},
     "output_type": "execute_result"
    }
   ],
   "source": [
    "wjpd"
   ]
  },
  {
   "cell_type": "code",
   "execution_count": 35,
   "metadata": {
    "collapsed": false
   },
   "outputs": [
    {
     "data": {
      "text/html": [
       "<div>\n",
       "<table border=\"1\" class=\"dataframe\">\n",
       "  <thead>\n",
       "    <tr style=\"text-align: right;\">\n",
       "      <th></th>\n",
       "      <th>2006</th>\n",
       "      <th>2007</th>\n",
       "      <th>2008</th>\n",
       "      <th>2009</th>\n",
       "      <th>2010</th>\n",
       "      <th>2011</th>\n",
       "      <th>2012</th>\n",
       "      <th>2013</th>\n",
       "      <th>2014</th>\n",
       "      <th>2015</th>\n",
       "    </tr>\n",
       "  </thead>\n",
       "  <tbody>\n",
       "    <tr>\n",
       "      <th>0</th>\n",
       "      <td>600028.XSHG</td>\n",
       "      <td>600028.XSHG</td>\n",
       "      <td>601857.XSHG</td>\n",
       "      <td>601857.XSHG</td>\n",
       "      <td>601857.XSHG</td>\n",
       "      <td>601857.XSHG</td>\n",
       "      <td>601857.XSHG</td>\n",
       "      <td>601857.XSHG</td>\n",
       "      <td>601857.XSHG</td>\n",
       "      <td>600028.XSHG</td>\n",
       "    </tr>\n",
       "    <tr>\n",
       "      <th>1</th>\n",
       "      <td>600019.XSHG</td>\n",
       "      <td>601919.XSHG</td>\n",
       "      <td>600050.XSHG</td>\n",
       "      <td>600028.XSHG</td>\n",
       "      <td>600028.XSHG</td>\n",
       "      <td>600028.XSHG</td>\n",
       "      <td>600028.XSHG</td>\n",
       "      <td>600028.XSHG</td>\n",
       "      <td>601088.XSHG</td>\n",
       "      <td>601857.XSHG</td>\n",
       "    </tr>\n",
       "    <tr>\n",
       "      <th>2</th>\n",
       "      <td>600362.XSHG</td>\n",
       "      <td>600019.XSHG</td>\n",
       "      <td>601088.XSHG</td>\n",
       "      <td>601088.XSHG</td>\n",
       "      <td>601088.XSHG</td>\n",
       "      <td>601088.XSHG</td>\n",
       "      <td>601088.XSHG</td>\n",
       "      <td>601088.XSHG</td>\n",
       "      <td>600028.XSHG</td>\n",
       "      <td>600104.XSHG</td>\n",
       "    </tr>\n",
       "    <tr>\n",
       "      <th>3</th>\n",
       "      <td>601111.XSHG</td>\n",
       "      <td>601600.XSHG</td>\n",
       "      <td>600028.XSHG</td>\n",
       "      <td>600050.XSHG</td>\n",
       "      <td>600104.XSHG</td>\n",
       "      <td>600104.XSHG</td>\n",
       "      <td>600104.XSHG</td>\n",
       "      <td>600104.XSHG</td>\n",
       "      <td>600519.XSHG</td>\n",
       "      <td>601668.XSHG</td>\n",
       "    </tr>\n",
       "    <tr>\n",
       "      <th>4</th>\n",
       "      <td>600005.XSHG</td>\n",
       "      <td>600385.XSHG</td>\n",
       "      <td>601919.XSHG</td>\n",
       "      <td>601668.XSHG</td>\n",
       "      <td>601668.XSHG</td>\n",
       "      <td>601668.XSHG</td>\n",
       "      <td>600519.XSHG</td>\n",
       "      <td>601668.XSHG</td>\n",
       "      <td>600104.XSHG</td>\n",
       "      <td>600519.XSHG</td>\n",
       "    </tr>\n",
       "    <tr>\n",
       "      <th>5</th>\n",
       "      <td>600900.XSHG</td>\n",
       "      <td>600050.XSHG</td>\n",
       "      <td>601898.XSHG</td>\n",
       "      <td>600104.XSHG</td>\n",
       "      <td>600019.XSHG</td>\n",
       "      <td>600519.XSHG</td>\n",
       "      <td>601668.XSHG</td>\n",
       "      <td>600519.XSHG</td>\n",
       "      <td>601668.XSHG</td>\n",
       "      <td>601088.XSHG</td>\n",
       "    </tr>\n",
       "    <tr>\n",
       "      <th>6</th>\n",
       "      <td>600050.XSHG</td>\n",
       "      <td>600005.XSHG</td>\n",
       "      <td>600188.XSHG</td>\n",
       "      <td>601390.XSHG</td>\n",
       "      <td>601111.XSHG</td>\n",
       "      <td>600585.XSHG</td>\n",
       "      <td>600900.XSHG</td>\n",
       "      <td>600011.XSHG</td>\n",
       "      <td>601006.XSHG</td>\n",
       "      <td>600011.XSHG</td>\n",
       "    </tr>\n",
       "    <tr>\n",
       "      <th>7</th>\n",
       "      <td>600026.XSHG</td>\n",
       "      <td>600104.XSHG</td>\n",
       "      <td>600519.XSHG</td>\n",
       "      <td>601898.XSHG</td>\n",
       "      <td>600188.XSHG</td>\n",
       "      <td>601898.XSHG</td>\n",
       "      <td>600048.XSHG</td>\n",
       "      <td>601006.XSHG</td>\n",
       "      <td>600048.XSHG</td>\n",
       "      <td>600048.XSHG</td>\n",
       "    </tr>\n",
       "    <tr>\n",
       "      <th>8</th>\n",
       "      <td>600808.XSHG</td>\n",
       "      <td>600900.XSHG</td>\n",
       "      <td>600019.XSHG</td>\n",
       "      <td>601186.XSHG</td>\n",
       "      <td>601390.XSHG</td>\n",
       "      <td>600031.XSHG</td>\n",
       "      <td>601800.XSHG</td>\n",
       "      <td>600048.XSHG</td>\n",
       "      <td>600900.XSHG</td>\n",
       "      <td>600900.XSHG</td>\n",
       "    </tr>\n",
       "    <tr>\n",
       "      <th>9</th>\n",
       "      <td>600875.XSHG</td>\n",
       "      <td>601991.XSHG</td>\n",
       "      <td>600026.XSHG</td>\n",
       "      <td>600019.XSHG</td>\n",
       "      <td>600900.XSHG</td>\n",
       "      <td>600188.XSHG</td>\n",
       "      <td>601898.XSHG</td>\n",
       "      <td>601800.XSHG</td>\n",
       "      <td>600585.XSHG</td>\n",
       "      <td>601800.XSHG</td>\n",
       "    </tr>\n",
       "  </tbody>\n",
       "</table>\n",
       "</div>"
      ],
      "text/plain": [
       "          2006         2007         2008         2009         2010  \\\n",
       "0  600028.XSHG  600028.XSHG  601857.XSHG  601857.XSHG  601857.XSHG   \n",
       "1  600019.XSHG  601919.XSHG  600050.XSHG  600028.XSHG  600028.XSHG   \n",
       "2  600362.XSHG  600019.XSHG  601088.XSHG  601088.XSHG  601088.XSHG   \n",
       "3  601111.XSHG  601600.XSHG  600028.XSHG  600050.XSHG  600104.XSHG   \n",
       "4  600005.XSHG  600385.XSHG  601919.XSHG  601668.XSHG  601668.XSHG   \n",
       "5  600900.XSHG  600050.XSHG  601898.XSHG  600104.XSHG  600019.XSHG   \n",
       "6  600050.XSHG  600005.XSHG  600188.XSHG  601390.XSHG  601111.XSHG   \n",
       "7  600026.XSHG  600104.XSHG  600519.XSHG  601898.XSHG  600188.XSHG   \n",
       "8  600808.XSHG  600900.XSHG  600019.XSHG  601186.XSHG  601390.XSHG   \n",
       "9  600875.XSHG  601991.XSHG  600026.XSHG  600019.XSHG  600900.XSHG   \n",
       "\n",
       "          2011         2012         2013         2014         2015  \n",
       "0  601857.XSHG  601857.XSHG  601857.XSHG  601857.XSHG  600028.XSHG  \n",
       "1  600028.XSHG  600028.XSHG  600028.XSHG  601088.XSHG  601857.XSHG  \n",
       "2  601088.XSHG  601088.XSHG  601088.XSHG  600028.XSHG  600104.XSHG  \n",
       "3  600104.XSHG  600104.XSHG  600104.XSHG  600519.XSHG  601668.XSHG  \n",
       "4  601668.XSHG  600519.XSHG  601668.XSHG  600104.XSHG  600519.XSHG  \n",
       "5  600519.XSHG  601668.XSHG  600519.XSHG  601668.XSHG  601088.XSHG  \n",
       "6  600585.XSHG  600900.XSHG  600011.XSHG  601006.XSHG  600011.XSHG  \n",
       "7  601898.XSHG  600048.XSHG  601006.XSHG  600048.XSHG  600048.XSHG  \n",
       "8  600031.XSHG  601800.XSHG  600048.XSHG  600900.XSHG  600900.XSHG  \n",
       "9  600188.XSHG  601898.XSHG  601800.XSHG  600585.XSHG  601800.XSHG  "
      ]
     },
     "execution_count": 35,
     "metadata": {},
     "output_type": "execute_result"
    }
   ],
   "source": [
    "Top100pd.head(10)"
   ]
  },
  {
   "cell_type": "markdown",
   "metadata": {},
   "source": [
    "### 3.2.3 分析"
   ]
  },
  {
   "cell_type": "markdown",
   "metadata": {},
   "source": [
    "#### 指标分析  \n",
    "\n",
    "1.权重上升的指标：  \n",
    "  * ALR：资产负债率\n",
    "  * GPA：毛利率  \n",
    "  \n",
    "2.权重下降的指标：  \n",
    "  *  PCF：市现率   \n",
    "    \n",
    "3.TCR（三项费用占比）指标波动明显。"
   ]
  },
  {
   "cell_type": "code",
   "execution_count": 38,
   "metadata": {
    "collapsed": false
   },
   "outputs": [
    {
     "data": {
      "image/png": "[encoded data removed]",
      "text/plain": [
       "<matplotlib.figure.Figure at 0x7f29ec06cb50>"
      ]
     },
     "metadata": {},
     "output_type": "display_data"
    }
   ],
   "source": [
    "fig, axes = plt.subplots(3,4, figsize=(20,9))\n",
    "\n",
    "wjpd.ix[\"ALR\"].plot(ax=axes[0,0])\n",
    "axes[0,0].set_title('资产负债率')\n",
    "wjpd.ix[\"RTA\"].plot(ax=axes[0,1])\n",
    "axes[0,1].set_title('应收账款占比')\n",
    "wjpd.ix[\"ITR\"].plot(ax=axes[0,2])\n",
    "axes[0,2].set_title('存货占比')\n",
    "wjpd.ix[\"TCR\"].plot(ax=axes[0,3])\n",
    "axes[0,3].set_title('三费占比')\n",
    "\n",
    "wjpd.ix[\"GPA\"].plot(ax=axes[1,0])\n",
    "axes[1,0].set_title('毛利率')\n",
    "wjpd.ix[\"ROE\"].plot(ax=axes[1,1])\n",
    "axes[1,1].set_title('净资产收益率')\n",
    "wjpd.ix[\"EPS\"].plot(ax=axes[1,2])\n",
    "axes[1,2].set_title('每股收益')\n",
    "wjpd.ix[\"NP\"].plot(ax=axes[1,3])\n",
    "axes[1,3].set_title('净利润')\n",
    "\n",
    "wjpd.ix[\"PS\"].plot(ax=axes[2,0])\n",
    "axes[2,0].set_title('市销率')\n",
    "wjpd.ix[\"PB\"].plot(ax=axes[2,1])\n",
    "axes[2,1].set_title('市净率')\n",
    "wjpd.ix[\"PE\"].plot(ax=axes[2,2])\n",
    "axes[2,2].set_title('市盈率')\n",
    "wjpd.ix[\"PCF\"].plot(ax=axes[2,3])\n",
    "axes[2,3].set_title('市现率')\n",
    "\n",
    "for i in range(3):\n",
    "    for j in range(4):\n",
    "        \n",
    "        axes[i,j].legend(loc=0,fontsize=12)    \n",
    "\n",
    "fig.tight_layout()"
   ]
  },
  {
   "cell_type": "code",
   "execution_count": 109,
   "metadata": {
    "collapsed": false
   },
   "outputs": [
    {
     "data": {
      "image/png": "[encoded data removed]",
      "text/plain": [
       "<matplotlib.figure.Figure at 0x7f09e5ba1190>"
      ]
     },
     "metadata": {},
     "output_type": "display_data"
    }
   ],
   "source": [
    "fig, ax = plt.subplots(1,1, figsize=(10,5))\n",
    "\n",
    "\n",
    "for i in range(12):\n",
    "    wjpd.ix[i].plot(ax=ax)\n",
    "    ax.legend(loc=0,fontsize=12)    \n",
    "\n",
    "fig.tight_layout()"
   ]
  },
  {
   "cell_type": "code",
   "execution_count": 39,
   "metadata": {
    "collapsed": false
   },
   "outputs": [
    {
     "data": {
      "image/png": "[encoded data removed]",
      "text/plain": [
       "<matplotlib.figure.Figure at 0x7f29ec06ce50>"
      ]
     },
     "metadata": {},
     "output_type": "display_data"
    }
   ],
   "source": [
    "fig, axes = plt.subplots(3,4, figsize=(20,9),sharey=True)\n",
    "\n",
    "wjpd.ix[\"ALR\"].plot(ax=axes[0,0])\n",
    "axes[0,0].set_title('资产负债率')\n",
    "wjpd.ix[\"RTA\"].plot(ax=axes[0,1])\n",
    "axes[0,1].set_title('应收账款占比')\n",
    "wjpd.ix[\"ITR\"].plot(ax=axes[0,2])\n",
    "axes[0,2].set_title('存货占比')\n",
    "wjpd.ix[\"TCR\"].plot(ax=axes[0,3])\n",
    "axes[0,3].set_title('三费占比')\n",
    "\n",
    "wjpd.ix[\"GPA\"].plot(ax=axes[1,0])\n",
    "axes[1,0].set_title('毛利率')\n",
    "wjpd.ix[\"ROE\"].plot(ax=axes[1,1])\n",
    "axes[1,1].set_title('净资产收益率')\n",
    "wjpd.ix[\"EPS\"].plot(ax=axes[1,2])\n",
    "axes[1,2].set_title('每股收益')\n",
    "wjpd.ix[\"NP\"].plot(ax=axes[1,3])\n",
    "axes[1,3].set_title('净利润')\n",
    "\n",
    "wjpd.ix[\"PS\"].plot(ax=axes[2,0])\n",
    "axes[2,0].set_title('市销率')\n",
    "wjpd.ix[\"PB\"].plot(ax=axes[2,1])\n",
    "axes[2,1].set_title('市净率')\n",
    "wjpd.ix[\"PE\"].plot(ax=axes[2,2])\n",
    "axes[2,2].set_title('市盈率')\n",
    "wjpd.ix[\"PCF\"].plot(ax=axes[2,3])\n",
    "axes[2,3].set_title('市现率')\n",
    "\n",
    "for i in range(3):\n",
    "    for j in range(4):\n",
    "        \n",
    "        axes[i,j].legend(loc=0,fontsize=12)    \n",
    "\n",
    "fig.tight_layout()"
   ]
  },
  {
   "cell_type": "markdown",
   "metadata": {},
   "source": [
    "#### 股票分析\n",
    "1.我们将十年内每年排名前100的股票按出现次数排名，得到的股票很可能就是符合我们条件的公司。\n",
    "经查，对应公司如下：  \n",
    "雅戈尔  \n",
    "长江电力  \n",
    "金地集团  \n",
    "中石化  \n",
    "海螺水泥  \n",
    "贵州茅台  \n",
    "青岛海尔  \n",
    "山东高速  \n",
    "宁沪高速  \n",
    "保利地产  \n",
    "中国联通"
   ]
  },
  {
   "cell_type": "code",
   "execution_count": 95,
   "metadata": {
    "collapsed": false
   },
   "outputs": [
    {
     "data": {
      "text/plain": [
       "600177.XSHG    10\n",
       "600900.XSHG    10\n",
       "600383.XSHG    10\n",
       "600028.XSHG    10\n",
       "600585.XSHG    10\n",
       "600519.XSHG    10\n",
       "600690.XSHG    10\n",
       "600350.XSHG    10\n",
       "600377.XSHG    10\n",
       "600048.XSHG    10\n",
       "600050.XSHG    10\n",
       "600019.XSHG     9\n",
       "600196.XSHG     9\n",
       "600600.XSHG     9\n",
       "601111.XSHG     9\n",
       "600660.XSHG     9\n",
       "600309.XSHG     9\n",
       "600104.XSHG     9\n",
       "600795.XSHG     9\n",
       "600663.XSHG     9\n",
       "601088.XSHG     8\n",
       "601857.XSHG     8\n",
       "601808.XSHG     8\n",
       "600362.XSHG     8\n",
       "601727.XSHG     8\n",
       "600276.XSHG     8\n",
       "601390.XSHG     8\n",
       "600031.XSHG     8\n",
       "601186.XSHG     8\n",
       "601699.XSHG     8\n",
       "601766.XSHG     8\n",
       "600886.XSHG     7\n",
       "600188.XSHG     7\n",
       "600875.XSHG     7\n",
       "600649.XSHG     7\n",
       "600887.XSHG     7\n",
       "600741.XSHG     7\n",
       "600153.XSHG     7\n",
       "600266.XSHG     7\n",
       "600809.XSHG     7\n",
       "600269.XSHG     7\n",
       "600376.XSHG     7\n",
       "601668.XSHG     7\n",
       "600123.XSHG     7\n",
       "601899.XSHG     6\n",
       "600295.XSHG     6\n",
       "600271.XSHG     6\n",
       "600150.XSHG     6\n",
       "601299.XSHG     6\n",
       "600588.XSHG     6\n",
       "dtype: int64"
      ]
     },
     "execution_count": 95,
     "metadata": {},
     "output_type": "execute_result"
    }
   ],
   "source": [
    "stock_choose = DataFrame(Top100.reshape(1000,1))[0].value_counts()\n",
    "stock_choose.head(50)"
   ]
  },
  {
   "cell_type": "markdown",
   "metadata": {
    "collapsed": true
   },
   "source": [
    "**转为公司名称**"
   ]
  },
  {
   "cell_type": "code",
   "execution_count": 44,
   "metadata": {
    "collapsed": false,
    "scrolled": true
   },
   "outputs": [
    {
     "data": {
      "text/html": [
       "<div>\n",
       "<table border=\"1\" class=\"dataframe\">\n",
       "  <thead>\n",
       "    <tr style=\"text-align: right;\">\n",
       "      <th></th>\n",
       "      <th>name</th>\n",
       "      <th>industry</th>\n",
       "      <th>area</th>\n",
       "      <th>pe</th>\n",
       "      <th>outstanding</th>\n",
       "      <th>totals</th>\n",
       "      <th>totalAssets</th>\n",
       "      <th>liquidAssets</th>\n",
       "      <th>fixedAssets</th>\n",
       "      <th>reserved</th>\n",
       "      <th>reservedPerShare</th>\n",
       "      <th>esp</th>\n",
       "      <th>bvps</th>\n",
       "      <th>pb</th>\n",
       "      <th>timeToMarket</th>\n",
       "    </tr>\n",
       "    <tr>\n",
       "      <th>code</th>\n",
       "      <th></th>\n",
       "      <th></th>\n",
       "      <th></th>\n",
       "      <th></th>\n",
       "      <th></th>\n",
       "      <th></th>\n",
       "      <th></th>\n",
       "      <th></th>\n",
       "      <th></th>\n",
       "      <th></th>\n",
       "      <th></th>\n",
       "      <th></th>\n",
       "      <th></th>\n",
       "      <th></th>\n",
       "      <th></th>\n",
       "    </tr>\n",
       "  </thead>\n",
       "  <tbody>\n",
       "    <tr>\n",
       "      <th>300522</th>\n",
       "      <td>N世名</td>\n",
       "      <td>染料涂料</td>\n",
       "      <td>江苏</td>\n",
       "      <td>35.67</td>\n",
       "      <td>1667.00</td>\n",
       "      <td>6667.0</td>\n",
       "      <td>33517.85</td>\n",
       "      <td>17482.50</td>\n",
       "      <td>4053.37</td>\n",
       "      <td>1882.30</td>\n",
       "      <td>0.28</td>\n",
       "      <td>0.187</td>\n",
       "      <td>4.41</td>\n",
       "      <td>6.05</td>\n",
       "      <td>20160705</td>\n",
       "    </tr>\n",
       "    <tr>\n",
       "      <th>300521</th>\n",
       "      <td>N爱司凯</td>\n",
       "      <td>专用机械</td>\n",
       "      <td>广东</td>\n",
       "      <td>55.22</td>\n",
       "      <td>2000.00</td>\n",
       "      <td>8000.0</td>\n",
       "      <td>29108.21</td>\n",
       "      <td>25952.76</td>\n",
       "      <td>1344.95</td>\n",
       "      <td>3513.45</td>\n",
       "      <td>0.44</td>\n",
       "      <td>0.073</td>\n",
       "      <td>3.93</td>\n",
       "      <td>4.12</td>\n",
       "      <td>20160705</td>\n",
       "    </tr>\n",
       "    <tr>\n",
       "      <th>000426</th>\n",
       "      <td>兴业矿业</td>\n",
       "      <td>铅锌</td>\n",
       "      <td>内蒙</td>\n",
       "      <td>0.00</td>\n",
       "      <td>96326.54</td>\n",
       "      <td>119388.9</td>\n",
       "      <td>432047.19</td>\n",
       "      <td>82100.34</td>\n",
       "      <td>132588.25</td>\n",
       "      <td>84317.49</td>\n",
       "      <td>0.71</td>\n",
       "      <td>-0.003</td>\n",
       "      <td>2.26</td>\n",
       "      <td>4.17</td>\n",
       "      <td>19960828</td>\n",
       "    </tr>\n",
       "  </tbody>\n",
       "</table>\n",
       "</div>"
      ],
      "text/plain": [
       "        name industry area     pe  outstanding    totals  totalAssets  \\\n",
       "code                                                                    \n",
       "300522   N世名     染料涂料   江苏  35.67      1667.00    6667.0     33517.85   \n",
       "300521  N爱司凯     专用机械   广东  55.22      2000.00    8000.0     29108.21   \n",
       "000426  兴业矿业       铅锌   内蒙   0.00     96326.54  119388.9    432047.19   \n",
       "\n",
       "        liquidAssets  fixedAssets  reserved  reservedPerShare    esp  bvps  \\\n",
       "code                                                                         \n",
       "300522      17482.50      4053.37   1882.30              0.28  0.187  4.41   \n",
       "300521      25952.76      1344.95   3513.45              0.44  0.073  3.93   \n",
       "000426      82100.34    132588.25  84317.49              0.71 -0.003  2.26   \n",
       "\n",
       "          pb  timeToMarket  \n",
       "code                        \n",
       "300522  6.05      20160705  \n",
       "300521  4.12      20160705  \n",
       "000426  4.17      19960828  "
      ]
     },
     "execution_count": 44,
     "metadata": {},
     "output_type": "execute_result"
    }
   ],
   "source": [
    "import tushare as ts\n",
    "\n",
    "stocks = ts.get_stock_basics()\n",
    "stocks.head(3)"
   ]
  },
  {
   "cell_type": "code",
   "execution_count": 70,
   "metadata": {
    "collapsed": false
   },
   "outputs": [
    {
     "data": {
      "text/plain": [
       "(288,)"
      ]
     },
     "execution_count": 70,
     "metadata": {},
     "output_type": "execute_result"
    }
   ],
   "source": [
    "stock_choose.shape"
   ]
  },
  {
   "cell_type": "code",
   "execution_count": 107,
   "metadata": {
    "collapsed": false
   },
   "outputs": [],
   "source": [
    "stock_choose_index = map(lambda i: stock_choose.index[i][:6] ,np.arange(288))"
   ]
  },
  {
   "cell_type": "code",
   "execution_count": 121,
   "metadata": {
    "collapsed": true
   },
   "outputs": [],
   "source": [
    "stock_choose.index = stock_choose_index"
   ]
  },
  {
   "cell_type": "code",
   "execution_count": 124,
   "metadata": {
    "collapsed": false
   },
   "outputs": [
    {
     "data": {
      "text/plain": [
       "600177    10\n",
       "600900    10\n",
       "600383    10\n",
       "600028    10\n",
       "600585    10\n",
       "dtype: int64"
      ]
     },
     "execution_count": 124,
     "metadata": {},
     "output_type": "execute_result"
    }
   ],
   "source": [
    "stock_choose.head()"
   ]
  },
  {
   "cell_type": "code",
   "execution_count": 111,
   "metadata": {
    "collapsed": true
   },
   "outputs": [],
   "source": [
    "companies = stocks['name'].loc[stock_choose_index]"
   ]
  },
  {
   "cell_type": "code",
   "execution_count": 125,
   "metadata": {
    "collapsed": false
   },
   "outputs": [
    {
     "data": {
      "text/plain": [
       "code\n",
       "600177     雅戈尔\n",
       "600900    长江电力\n",
       "600383    金地集团\n",
       "600028    中国石化\n",
       "600585    海螺水泥\n",
       "Name: name, dtype: object"
      ]
     },
     "execution_count": 125,
     "metadata": {},
     "output_type": "execute_result"
    }
   ],
   "source": [
    "companies.head()"
   ]
  },
  {
   "cell_type": "code",
   "execution_count": 129,
   "metadata": {
    "collapsed": false
   },
   "outputs": [
    {
     "data": {
      "text/html": [
       "<div>\n",
       "<table border=\"1\" class=\"dataframe\">\n",
       "  <thead>\n",
       "    <tr style=\"text-align: right;\">\n",
       "      <th></th>\n",
       "      <th>company</th>\n",
       "      <th>counts</th>\n",
       "    </tr>\n",
       "    <tr>\n",
       "      <th>code</th>\n",
       "      <th></th>\n",
       "      <th></th>\n",
       "    </tr>\n",
       "  </thead>\n",
       "  <tbody>\n",
       "    <tr>\n",
       "      <th>600177</th>\n",
       "      <td>雅戈尔</td>\n",
       "      <td>10</td>\n",
       "    </tr>\n",
       "    <tr>\n",
       "      <th>600900</th>\n",
       "      <td>长江电力</td>\n",
       "      <td>10</td>\n",
       "    </tr>\n",
       "    <tr>\n",
       "      <th>600383</th>\n",
       "      <td>金地集团</td>\n",
       "      <td>10</td>\n",
       "    </tr>\n",
       "    <tr>\n",
       "      <th>600028</th>\n",
       "      <td>中国石化</td>\n",
       "      <td>10</td>\n",
       "    </tr>\n",
       "    <tr>\n",
       "      <th>600585</th>\n",
       "      <td>海螺水泥</td>\n",
       "      <td>10</td>\n",
       "    </tr>\n",
       "    <tr>\n",
       "      <th>600519</th>\n",
       "      <td>贵州茅台</td>\n",
       "      <td>10</td>\n",
       "    </tr>\n",
       "    <tr>\n",
       "      <th>600690</th>\n",
       "      <td>青岛海尔</td>\n",
       "      <td>10</td>\n",
       "    </tr>\n",
       "    <tr>\n",
       "      <th>600350</th>\n",
       "      <td>山东高速</td>\n",
       "      <td>10</td>\n",
       "    </tr>\n",
       "    <tr>\n",
       "      <th>600377</th>\n",
       "      <td>宁沪高速</td>\n",
       "      <td>10</td>\n",
       "    </tr>\n",
       "    <tr>\n",
       "      <th>600048</th>\n",
       "      <td>保利地产</td>\n",
       "      <td>10</td>\n",
       "    </tr>\n",
       "    <tr>\n",
       "      <th>600050</th>\n",
       "      <td>中国联通</td>\n",
       "      <td>10</td>\n",
       "    </tr>\n",
       "    <tr>\n",
       "      <th>600019</th>\n",
       "      <td>宝钢股份</td>\n",
       "      <td>9</td>\n",
       "    </tr>\n",
       "    <tr>\n",
       "      <th>600196</th>\n",
       "      <td>复星医药</td>\n",
       "      <td>9</td>\n",
       "    </tr>\n",
       "    <tr>\n",
       "      <th>600600</th>\n",
       "      <td>青岛啤酒</td>\n",
       "      <td>9</td>\n",
       "    </tr>\n",
       "    <tr>\n",
       "      <th>601111</th>\n",
       "      <td>中国国航</td>\n",
       "      <td>9</td>\n",
       "    </tr>\n",
       "    <tr>\n",
       "      <th>600660</th>\n",
       "      <td>福耀玻璃</td>\n",
       "      <td>9</td>\n",
       "    </tr>\n",
       "    <tr>\n",
       "      <th>600309</th>\n",
       "      <td>万华化学</td>\n",
       "      <td>9</td>\n",
       "    </tr>\n",
       "    <tr>\n",
       "      <th>600104</th>\n",
       "      <td>上汽集团</td>\n",
       "      <td>9</td>\n",
       "    </tr>\n",
       "    <tr>\n",
       "      <th>600795</th>\n",
       "      <td>国电电力</td>\n",
       "      <td>9</td>\n",
       "    </tr>\n",
       "    <tr>\n",
       "      <th>600663</th>\n",
       "      <td>陆家嘴</td>\n",
       "      <td>9</td>\n",
       "    </tr>\n",
       "  </tbody>\n",
       "</table>\n",
       "</div>"
      ],
      "text/plain": [
       "       company  counts\n",
       "code                  \n",
       "600177     雅戈尔      10\n",
       "600900    长江电力      10\n",
       "600383    金地集团      10\n",
       "600028    中国石化      10\n",
       "600585    海螺水泥      10\n",
       "600519    贵州茅台      10\n",
       "600690    青岛海尔      10\n",
       "600350    山东高速      10\n",
       "600377    宁沪高速      10\n",
       "600048    保利地产      10\n",
       "600050    中国联通      10\n",
       "600019    宝钢股份       9\n",
       "600196    复星医药       9\n",
       "600600    青岛啤酒       9\n",
       "601111    中国国航       9\n",
       "600660    福耀玻璃       9\n",
       "600309    万华化学       9\n",
       "600104    上汽集团       9\n",
       "600795    国电电力       9\n",
       "600663     陆家嘴       9"
      ]
     },
     "execution_count": 129,
     "metadata": {},
     "output_type": "execute_result"
    }
   ],
   "source": [
    "mystock_choose = pd.concat([companies,stock_choose], axis=1) \n",
    "mystock_choose.columns = ['company','counts']\n",
    "mystock_choose.head(20)"
   ]
  },
  {
   "cell_type": "code",
   "execution_count": 142,
   "metadata": {
    "collapsed": false
   },
   "outputs": [
    {
     "data": {
      "image/png": "[encoded data removed]",
      "text/plain": [
       "<matplotlib.figure.Figure at 0x7f29e4647a10>"
      ]
     },
     "metadata": {},
     "output_type": "display_data"
    }
   ],
   "source": [
    "fig, ax = plt.subplots(1,1, figsize=(13,5))\n",
    "\n",
    "ax.hist(mystock_choose['counts'])\n",
    "\n",
    "fig.tight_layout()"
   ]
  },
  {
   "cell_type": "markdown",
   "metadata": {},
   "source": [
    "2.通过上面的分析，我们发现找出来的公司的确是比较优秀的公司，但基本也都时大盘股。可能也与板块、概念等有关。"
   ]
  },
  {
   "cell_type": "markdown",
   "metadata": {},
   "source": [
    "**2015年的情况：**"
   ]
  },
  {
   "cell_type": "code",
   "execution_count": 179,
   "metadata": {
    "collapsed": false
   },
   "outputs": [
    {
     "data": {
      "text/plain": [
       "0     600028.XSHG\n",
       "1     601857.XSHG\n",
       "2     600104.XSHG\n",
       "3     601668.XSHG\n",
       "4     600519.XSHG\n",
       "5     601088.XSHG\n",
       "6     600011.XSHG\n",
       "7     600048.XSHG\n",
       "8     600900.XSHG\n",
       "9     601800.XSHG\n",
       "10    601006.XSHG\n",
       "11    601766.XSHG\n",
       "12    600886.XSHG\n",
       "13    601186.XSHG\n",
       "14    601390.XSHG\n",
       "15    600050.XSHG\n",
       "16    600018.XSHG\n",
       "17    600585.XSHG\n",
       "18    601633.XSHG\n",
       "19    600276.XSHG\n",
       "Name: 2015, dtype: object"
      ]
     },
     "execution_count": 179,
     "metadata": {},
     "output_type": "execute_result"
    }
   ],
   "source": [
    "Top100pd[\"2015\"].head(20)"
   ]
  },
  {
   "cell_type": "markdown",
   "metadata": {},
   "source": [
    "##### 按市值排序，找出2015年中的小盘股（市值小于20亿元）：  \n",
    "结果发现并没有满足条件的股票。"
   ]
  },
  {
   "cell_type": "code",
   "execution_count": 183,
   "metadata": {
    "collapsed": false
   },
   "outputs": [],
   "source": [
    "mystock_set_little = Top100pd[\"2015\"]"
   ]
  },
  {
   "cell_type": "code",
   "execution_count": 185,
   "metadata": {
    "collapsed": false
   },
   "outputs": [
    {
     "data": {
      "text/html": [
       "<div>\n",
       "<table border=\"1\" class=\"dataframe\">\n",
       "  <thead>\n",
       "    <tr style=\"text-align: right;\">\n",
       "      <th></th>\n",
       "      <th>code</th>\n",
       "      <th>market_cap</th>\n",
       "      <th>pe_ratio</th>\n",
       "    </tr>\n",
       "  </thead>\n",
       "  <tbody>\n",
       "    <tr>\n",
       "      <th>0</th>\n",
       "      <td>600543.XSHG</td>\n",
       "      <td>0</td>\n",
       "      <td>0</td>\n",
       "    </tr>\n",
       "    <tr>\n",
       "      <th>1</th>\n",
       "      <td>603518.XSHG</td>\n",
       "      <td>0</td>\n",
       "      <td>0</td>\n",
       "    </tr>\n",
       "    <tr>\n",
       "      <th>2</th>\n",
       "      <td>600779.XSHG</td>\n",
       "      <td>0</td>\n",
       "      <td>1</td>\n",
       "    </tr>\n",
       "    <tr>\n",
       "      <th>3</th>\n",
       "      <td>600599.XSHG</td>\n",
       "      <td>0</td>\n",
       "      <td>1</td>\n",
       "    </tr>\n",
       "    <tr>\n",
       "      <th>4</th>\n",
       "      <td>603099.XSHG</td>\n",
       "      <td>0</td>\n",
       "      <td>0</td>\n",
       "    </tr>\n",
       "    <tr>\n",
       "      <th>5</th>\n",
       "      <td>600258.XSHG</td>\n",
       "      <td>0</td>\n",
       "      <td>0</td>\n",
       "    </tr>\n",
       "    <tr>\n",
       "      <th>6</th>\n",
       "      <td>600285.XSHG</td>\n",
       "      <td>0</td>\n",
       "      <td>0</td>\n",
       "    </tr>\n",
       "    <tr>\n",
       "      <th>7</th>\n",
       "      <td>603998.XSHG</td>\n",
       "      <td>0</td>\n",
       "      <td>0</td>\n",
       "    </tr>\n",
       "    <tr>\n",
       "      <th>8</th>\n",
       "      <td>600358.XSHG</td>\n",
       "      <td>0</td>\n",
       "      <td>1</td>\n",
       "    </tr>\n",
       "    <tr>\n",
       "      <th>9</th>\n",
       "      <td>601188.XSHG</td>\n",
       "      <td>0</td>\n",
       "      <td>0</td>\n",
       "    </tr>\n",
       "  </tbody>\n",
       "</table>\n",
       "</div>"
      ],
      "text/plain": [
       "          code  market_cap  pe_ratio\n",
       "0  600543.XSHG           0         0\n",
       "1  603518.XSHG           0         0\n",
       "2  600779.XSHG           0         1\n",
       "3  600599.XSHG           0         1\n",
       "4  603099.XSHG           0         0\n",
       "5  600258.XSHG           0         0\n",
       "6  600285.XSHG           0         0\n",
       "7  603998.XSHG           0         0\n",
       "8  600358.XSHG           0         1\n",
       "9  601188.XSHG           0         0"
      ]
     },
     "execution_count": 185,
     "metadata": {},
     "output_type": "execute_result"
    }
   ],
   "source": [
    "# 选出所有的总市值小于20亿元, 市盈率小于10的股票\n",
    "\n",
    "mydf_little = get_fundamentals(query(\n",
    "        valuation.code, \n",
    "        valuation.market_cap<20, \n",
    "        valuation.pe_ratio<10\n",
    "    ).filter(\n",
    "        # 这里不能使用 in 操作, 要使用in_()函数\n",
    "        valuation.code.in_(mystock_set_little)\n",
    "    ).order_by(\n",
    "        # 按市值升序排列\n",
    "        valuation.market_cap\n",
    "    ).limit(\n",
    "        # 最多返回100个\n",
    "        10\n",
    "    ), date='2016-01-01')\n",
    "\n",
    "mydf_little.columns=['code','market_cap','pe_ratio']\n",
    "mydf_little"
   ]
  },
  {
   "cell_type": "markdown",
   "metadata": {},
   "source": [
    "##### 将结果按市盈率排序，可以发现一些市盈率比较低的公司：  \n",
    "熊猫金控  \n",
    "国旅联合  \n",
    "水井坊  \n",
    "中国建筑  \n",
    "广日股份  \n",
    "上汽集团  \n",
    "雅戈尔  \n",
    "大秦铁路  \n",
    "保利地产  \n",
    "华域汽车"
   ]
  },
  {
   "cell_type": "code",
   "execution_count": 186,
   "metadata": {
    "collapsed": false
   },
   "outputs": [
    {
     "data": {
      "text/html": [
       "<div>\n",
       "<table border=\"1\" class=\"dataframe\">\n",
       "  <thead>\n",
       "    <tr style=\"text-align: right;\">\n",
       "      <th></th>\n",
       "      <th>code</th>\n",
       "      <th>anon_1</th>\n",
       "      <th>anon_2</th>\n",
       "    </tr>\n",
       "  </thead>\n",
       "  <tbody>\n",
       "    <tr>\n",
       "      <th>0</th>\n",
       "      <td>600599.XSHG</td>\n",
       "      <td>0</td>\n",
       "      <td>1</td>\n",
       "    </tr>\n",
       "    <tr>\n",
       "      <th>1</th>\n",
       "      <td>600358.XSHG</td>\n",
       "      <td>0</td>\n",
       "      <td>1</td>\n",
       "    </tr>\n",
       "    <tr>\n",
       "      <th>2</th>\n",
       "      <td>600779.XSHG</td>\n",
       "      <td>0</td>\n",
       "      <td>1</td>\n",
       "    </tr>\n",
       "    <tr>\n",
       "      <th>3</th>\n",
       "      <td>601668.XSHG</td>\n",
       "      <td>0</td>\n",
       "      <td>1</td>\n",
       "    </tr>\n",
       "    <tr>\n",
       "      <th>4</th>\n",
       "      <td>600894.XSHG</td>\n",
       "      <td>0</td>\n",
       "      <td>1</td>\n",
       "    </tr>\n",
       "    <tr>\n",
       "      <th>5</th>\n",
       "      <td>600104.XSHG</td>\n",
       "      <td>0</td>\n",
       "      <td>1</td>\n",
       "    </tr>\n",
       "    <tr>\n",
       "      <th>6</th>\n",
       "      <td>600177.XSHG</td>\n",
       "      <td>0</td>\n",
       "      <td>1</td>\n",
       "    </tr>\n",
       "    <tr>\n",
       "      <th>7</th>\n",
       "      <td>601006.XSHG</td>\n",
       "      <td>0</td>\n",
       "      <td>1</td>\n",
       "    </tr>\n",
       "    <tr>\n",
       "      <th>8</th>\n",
       "      <td>600048.XSHG</td>\n",
       "      <td>0</td>\n",
       "      <td>1</td>\n",
       "    </tr>\n",
       "    <tr>\n",
       "      <th>9</th>\n",
       "      <td>600741.XSHG</td>\n",
       "      <td>0</td>\n",
       "      <td>1</td>\n",
       "    </tr>\n",
       "    <tr>\n",
       "      <th>10</th>\n",
       "      <td>600585.XSHG</td>\n",
       "      <td>0</td>\n",
       "      <td>0</td>\n",
       "    </tr>\n",
       "  </tbody>\n",
       "</table>\n",
       "</div>"
      ],
      "text/plain": [
       "           code  anon_1  anon_2\n",
       "0   600599.XSHG       0       1\n",
       "1   600358.XSHG       0       1\n",
       "2   600779.XSHG       0       1\n",
       "3   601668.XSHG       0       1\n",
       "4   600894.XSHG       0       1\n",
       "5   600104.XSHG       0       1\n",
       "6   600177.XSHG       0       1\n",
       "7   601006.XSHG       0       1\n",
       "8   600048.XSHG       0       1\n",
       "9   600741.XSHG       0       1\n",
       "10  600585.XSHG       0       0"
      ]
     },
     "execution_count": 186,
     "metadata": {},
     "output_type": "execute_result"
    }
   ],
   "source": [
    "mydf_low = get_fundamentals(query(\n",
    "        valuation.code, \n",
    "        valuation.market_cap<20, \n",
    "        valuation.pe_ratio<10\n",
    "    ).filter(\n",
    "        # 这里不能使用 in 操作, 要使用in_()函数\n",
    "        valuation.code.in_(mystock_set_little)\n",
    "    ).order_by(\n",
    "        # 按市盈率升序排列\n",
    "        valuation.pe_ratio\n",
    "    ).limit(\n",
    "        # 最多返回100个\n",
    "        11\n",
    "    ), date='2016-01-01')\n",
    "\n",
    "mydf_low"
   ]
  },
  {
   "cell_type": "markdown",
   "metadata": {},
   "source": [
    "**1.对比15年底和16年6月底的市盈率和市值**"
   ]
  },
  {
   "cell_type": "code",
   "execution_count": 187,
   "metadata": {
    "collapsed": true
   },
   "outputs": [],
   "source": [
    "stock_set_con = mydf_low['code'].head(10)"
   ]
  },
  {
   "cell_type": "code",
   "execution_count": 190,
   "metadata": {
    "collapsed": false
   },
   "outputs": [
    {
     "data": {
      "text/plain": [
       "8    600048.XSHG\n",
       "5    600104.XSHG\n",
       "6    600177.XSHG\n",
       "1    600358.XSHG\n",
       "0    600599.XSHG\n",
       "9    600741.XSHG\n",
       "2    600779.XSHG\n",
       "4    600894.XSHG\n",
       "7    601006.XSHG\n",
       "3    601668.XSHG\n",
       "Name: code, dtype: object"
      ]
     },
     "execution_count": 190,
     "metadata": {},
     "output_type": "execute_result"
    }
   ],
   "source": [
    "stock_set_con.sort()\n",
    "stock_set_con"
   ]
  },
  {
   "cell_type": "code",
   "execution_count": 191,
   "metadata": {
    "collapsed": false
   },
   "outputs": [
    {
     "data": {
      "text/html": [
       "<div>\n",
       "<table border=\"1\" class=\"dataframe\">\n",
       "  <thead>\n",
       "    <tr style=\"text-align: right;\">\n",
       "      <th></th>\n",
       "      <th>code</th>\n",
       "      <th>market_cap</th>\n",
       "      <th>pe_ratio</th>\n",
       "      <th>code</th>\n",
       "      <th>market_cap</th>\n",
       "      <th>pe_ratio</th>\n",
       "    </tr>\n",
       "  </thead>\n",
       "  <tbody>\n",
       "    <tr>\n",
       "      <th>0</th>\n",
       "      <td>600048.XSHG</td>\n",
       "      <td>1144.3600</td>\n",
       "      <td>9.09</td>\n",
       "      <td>600048.XSHG</td>\n",
       "      <td>1016.03</td>\n",
       "      <td>8.1800</td>\n",
       "    </tr>\n",
       "    <tr>\n",
       "      <th>1</th>\n",
       "      <td>600104.XSHG</td>\n",
       "      <td>2339.6299</td>\n",
       "      <td>8.12</td>\n",
       "      <td>600104.XSHG</td>\n",
       "      <td>2247.01</td>\n",
       "      <td>7.4300</td>\n",
       "    </tr>\n",
       "    <tr>\n",
       "      <th>2</th>\n",
       "      <td>600177.XSHG</td>\n",
       "      <td>362.4900</td>\n",
       "      <td>8.14</td>\n",
       "      <td>600177.XSHG</td>\n",
       "      <td>351.49</td>\n",
       "      <td>6.4700</td>\n",
       "    </tr>\n",
       "    <tr>\n",
       "      <th>3</th>\n",
       "      <td>600358.XSHG</td>\n",
       "      <td>73.4400</td>\n",
       "      <td>-75.38</td>\n",
       "      <td>600358.XSHG</td>\n",
       "      <td>68.17</td>\n",
       "      <td>-7047.7202</td>\n",
       "    </tr>\n",
       "    <tr>\n",
       "      <th>4</th>\n",
       "      <td>600599.XSHG</td>\n",
       "      <td>62.4500</td>\n",
       "      <td>-1285.11</td>\n",
       "      <td>600599.XSHG</td>\n",
       "      <td>43.31</td>\n",
       "      <td>227.8400</td>\n",
       "    </tr>\n",
       "    <tr>\n",
       "      <th>5</th>\n",
       "      <td>600741.XSHG</td>\n",
       "      <td>435.5300</td>\n",
       "      <td>9.42</td>\n",
       "      <td>600741.XSHG</td>\n",
       "      <td>443.90</td>\n",
       "      <td>9.2000</td>\n",
       "    </tr>\n",
       "    <tr>\n",
       "      <th>6</th>\n",
       "      <td>600779.XSHG</td>\n",
       "      <td>62.2400</td>\n",
       "      <td>-29.96</td>\n",
       "      <td>600779.XSHG</td>\n",
       "      <td>81.83</td>\n",
       "      <td>69.2600</td>\n",
       "    </tr>\n",
       "    <tr>\n",
       "      <th>7</th>\n",
       "      <td>600894.XSHG</td>\n",
       "      <td>171.9000</td>\n",
       "      <td>7.91</td>\n",
       "      <td>600894.XSHG</td>\n",
       "      <td>115.23</td>\n",
       "      <td>5.3700</td>\n",
       "    </tr>\n",
       "    <tr>\n",
       "      <th>8</th>\n",
       "      <td>601006.XSHG</td>\n",
       "      <td>1281.5200</td>\n",
       "      <td>9.02</td>\n",
       "      <td>601006.XSHG</td>\n",
       "      <td>957.42</td>\n",
       "      <td>8.7100</td>\n",
       "    </tr>\n",
       "    <tr>\n",
       "      <th>9</th>\n",
       "      <td>601668.XSHG</td>\n",
       "      <td>1902.0000</td>\n",
       "      <td>7.70</td>\n",
       "      <td>601668.XSHG</td>\n",
       "      <td>1590.00</td>\n",
       "      <td>5.9300</td>\n",
       "    </tr>\n",
       "  </tbody>\n",
       "</table>\n",
       "</div>"
      ],
      "text/plain": [
       "          code  market_cap  pe_ratio         code  market_cap   pe_ratio\n",
       "0  600048.XSHG   1144.3600      9.09  600048.XSHG     1016.03     8.1800\n",
       "1  600104.XSHG   2339.6299      8.12  600104.XSHG     2247.01     7.4300\n",
       "2  600177.XSHG    362.4900      8.14  600177.XSHG      351.49     6.4700\n",
       "3  600358.XSHG     73.4400    -75.38  600358.XSHG       68.17 -7047.7202\n",
       "4  600599.XSHG     62.4500  -1285.11  600599.XSHG       43.31   227.8400\n",
       "5  600741.XSHG    435.5300      9.42  600741.XSHG      443.90     9.2000\n",
       "6  600779.XSHG     62.2400    -29.96  600779.XSHG       81.83    69.2600\n",
       "7  600894.XSHG    171.9000      7.91  600894.XSHG      115.23     5.3700\n",
       "8  601006.XSHG   1281.5200      9.02  601006.XSHG      957.42     8.7100\n",
       "9  601668.XSHG   1902.0000      7.70  601668.XSHG     1590.00     5.9300"
      ]
     },
     "execution_count": 191,
     "metadata": {},
     "output_type": "execute_result"
    }
   ],
   "source": [
    "mydf1 = get_fundamentals(query(\n",
    "        valuation.code, \n",
    "        valuation.market_cap, \n",
    "        valuation.pe_ratio\n",
    "    ).filter(\n",
    "        # 这里不能使用 in 操作, 要使用in_()函数\n",
    "        valuation.code.in_(stock_set_con)\n",
    "    ), date='2016-01-01')\n",
    "\n",
    "mydf2 = get_fundamentals(query(\n",
    "        valuation.code, \n",
    "        valuation.market_cap, \n",
    "        valuation.pe_ratio\n",
    "    ).filter(\n",
    "        # 这里不能使用 in 操作, 要使用in_()函数\n",
    "        valuation.code.in_(stock_set_con)\n",
    "    ), date='2016-07-01')\n",
    "\n",
    "pd.concat([mydf1,mydf2], axis=1) "
   ]
  },
  {
   "cell_type": "markdown",
   "metadata": {},
   "source": [
    "**2.对比15年底和16年6月底的股价**"
   ]
  },
  {
   "cell_type": "code",
   "execution_count": 260,
   "metadata": {
    "collapsed": false
   },
   "outputs": [],
   "source": [
    "security = mydf_low['code'].head(10)"
   ]
  },
  {
   "cell_type": "code",
   "execution_count": 261,
   "metadata": {
    "collapsed": false
   },
   "outputs": [
    {
     "data": {
      "text/plain": [
       "8    600048.XSHG\n",
       "5    600104.XSHG\n",
       "6    600177.XSHG\n",
       "1    600358.XSHG\n",
       "0    600599.XSHG\n",
       "9    600741.XSHG\n",
       "2    600779.XSHG\n",
       "4    600894.XSHG\n",
       "7    601006.XSHG\n",
       "3    601668.XSHG\n",
       "Name: code, dtype: object"
      ]
     },
     "execution_count": 261,
     "metadata": {},
     "output_type": "execute_result"
    }
   ],
   "source": [
    "security.sort()\n",
    "security"
   ]
  },
  {
   "cell_type": "code",
   "execution_count": 284,
   "metadata": {
    "collapsed": false
   },
   "outputs": [
    {
     "data": {
      "text/html": [
       "<div>\n",
       "<table border=\"1\" class=\"dataframe\">\n",
       "  <thead>\n",
       "    <tr style=\"text-align: right;\">\n",
       "      <th></th>\n",
       "      <th>code</th>\n",
       "      <th>close20160104</th>\n",
       "      <th>close20160701</th>\n",
       "      <th>rate</th>\n",
       "    </tr>\n",
       "  </thead>\n",
       "  <tbody>\n",
       "    <tr>\n",
       "      <th>0</th>\n",
       "      <td>600599.XSHG</td>\n",
       "      <td>33.80</td>\n",
       "      <td>26.09</td>\n",
       "      <td>-0.228107</td>\n",
       "    </tr>\n",
       "    <tr>\n",
       "      <th>1</th>\n",
       "      <td>600358.XSHG</td>\n",
       "      <td>15.30</td>\n",
       "      <td>13.50</td>\n",
       "      <td>-0.117647</td>\n",
       "    </tr>\n",
       "    <tr>\n",
       "      <th>2</th>\n",
       "      <td>600779.XSHG</td>\n",
       "      <td>12.10</td>\n",
       "      <td>16.75</td>\n",
       "      <td>0.384298</td>\n",
       "    </tr>\n",
       "    <tr>\n",
       "      <th>3</th>\n",
       "      <td>601668.XSHG</td>\n",
       "      <td>5.78</td>\n",
       "      <td>5.30</td>\n",
       "      <td>-0.083045</td>\n",
       "    </tr>\n",
       "    <tr>\n",
       "      <th>4</th>\n",
       "      <td>600894.XSHG</td>\n",
       "      <td>17.15</td>\n",
       "      <td>13.40</td>\n",
       "      <td>-0.218659</td>\n",
       "    </tr>\n",
       "    <tr>\n",
       "      <th>5</th>\n",
       "      <td>600104.XSHG</td>\n",
       "      <td>19.73</td>\n",
       "      <td>20.38</td>\n",
       "      <td>0.032945</td>\n",
       "    </tr>\n",
       "    <tr>\n",
       "      <th>6</th>\n",
       "      <td>600177.XSHG</td>\n",
       "      <td>13.97</td>\n",
       "      <td>13.74</td>\n",
       "      <td>-0.016464</td>\n",
       "    </tr>\n",
       "    <tr>\n",
       "      <th>7</th>\n",
       "      <td>601006.XSHG</td>\n",
       "      <td>8.35</td>\n",
       "      <td>6.44</td>\n",
       "      <td>-0.228743</td>\n",
       "    </tr>\n",
       "    <tr>\n",
       "      <th>8</th>\n",
       "      <td>600048.XSHG</td>\n",
       "      <td>9.26</td>\n",
       "      <td>8.57</td>\n",
       "      <td>-0.074514</td>\n",
       "    </tr>\n",
       "    <tr>\n",
       "      <th>9</th>\n",
       "      <td>600741.XSHG</td>\n",
       "      <td>14.80</td>\n",
       "      <td>14.08</td>\n",
       "      <td>-0.048649</td>\n",
       "    </tr>\n",
       "  </tbody>\n",
       "</table>\n",
       "</div>"
      ],
      "text/plain": [
       "          code  close20160104  close20160701      rate\n",
       "0  600599.XSHG          33.80          26.09 -0.228107\n",
       "1  600358.XSHG          15.30          13.50 -0.117647\n",
       "2  600779.XSHG          12.10          16.75  0.384298\n",
       "3  601668.XSHG           5.78           5.30 -0.083045\n",
       "4  600894.XSHG          17.15          13.40 -0.218659\n",
       "5  600104.XSHG          19.73          20.38  0.032945\n",
       "6  600177.XSHG          13.97          13.74 -0.016464\n",
       "7  601006.XSHG           8.35           6.44 -0.228743\n",
       "8  600048.XSHG           9.26           8.57 -0.074514\n",
       "9  600741.XSHG          14.80          14.08 -0.048649"
      ]
     },
     "execution_count": 284,
     "metadata": {},
     "output_type": "execute_result"
    }
   ],
   "source": [
    "close1 = np.zeros(10)\n",
    "close2 = np.zeros(10)\n",
    "\n",
    "for i in range(10):\n",
    "    close1[i] = get_price(security[i], start_date='2016-01-01', end_date='2016-07-01', \\\n",
    "                          frequency='daily', fields=None, skip_paused=False, fq='pre')['close'][0]\n",
    "    close2[i] = get_price(security[i], start_date='2016-01-01', end_date='2016-07-01', \\\n",
    "                          frequency='daily', fields=None, skip_paused=False, fq='pre')['close'][-1]\n",
    "\n",
    "close1 = DataFrame(close1)\n",
    "close2 = DataFrame(close2)\n",
    "secruity = DataFrame(security)\n",
    "price = pd.concat([security,close1,close2], axis=1) \n",
    "price.columns=['code','close20160104','close20160701']\n",
    "price['rate'] = (price['close20160701']-price['close20160104'])/price['close20160104']\n",
    "price"
   ]
  },
  {
   "cell_type": "markdown",
   "metadata": {},
   "source": [
    "**同期大盘情况：**"
   ]
  },
  {
   "cell_type": "code",
   "execution_count": 287,
   "metadata": {
    "collapsed": false,
    "scrolled": true
   },
   "outputs": [
    {
     "data": {
      "text/plain": [
       "-0.11036217432009256"
      ]
     },
     "execution_count": 287,
     "metadata": {},
     "output_type": "execute_result"
    }
   ],
   "source": [
    "XSHG = get_price('000001.XSHG', start_date='2016-01-01', end_date='2016-07-01', \\\n",
    "                 frequency='daily', fields=None, skip_paused=False, fq='pre')['close']\n",
    "\n",
    "(XSHG[-1]-XSHG[0])/XSHG[0]"
   ]
  },
  {
   "cell_type": "code",
   "execution_count": 286,
   "metadata": {
    "collapsed": false
   },
   "outputs": [
    {
     "data": {
      "text/plain": [
       "(3296.2579999999998, 2932.4758000000002)"
      ]
     },
     "execution_count": 286,
     "metadata": {},
     "output_type": "execute_result"
    }
   ],
   "source": [
    "XSHG[0],XSHG[-1]"
   ]
  },
  {
   "cell_type": "markdown",
   "metadata": {},
   "source": [
    "### 3.2.4 结论  \n",
    "选出来的基本都是大盘股，大部分企业经营业绩良好，但盘子太大，不受资本市场青睐。因此，这些股票的业绩并不是很好。  "
   ]
  },
  {
   "cell_type": "markdown",
   "metadata": {},
   "source": [
    "## 3.3 模型构建  \n",
    "\n",
    "用各指标十年权重平均值作为模型权重。  \n",
    "**综合评分=**\n",
    "$ 0.1767*TCR + 0.0982*ALR + 0.0843*PCF + 0.0772*ITR + \\\n",
    "  0.0766*GPA + 0.073*RTA + 0.0723*PE + 0.071*PB + \\\n",
    "  0.0708*ROE + 0.0696*EPS + 0.0657*PS + 0.0644*NP $"
   ]
  },
  {
   "cell_type": "code",
   "execution_count": 331,
   "metadata": {
    "collapsed": false
   },
   "outputs": [],
   "source": [
    "mywj = wjpd.sum(axis=1)/10"
   ]
  },
  {
   "cell_type": "code",
   "execution_count": 332,
   "metadata": {
    "collapsed": false
   },
   "outputs": [
    {
     "data": {
      "text/plain": [
       "TCR    0.176749\n",
       "ALR    0.098198\n",
       "PCF    0.084341\n",
       "ITR    0.077157\n",
       "GPA    0.076618\n",
       "RTA    0.072996\n",
       "PE     0.072295\n",
       "PB     0.071036\n",
       "ROE    0.070788\n",
       "EPS    0.069649\n",
       "PS     0.065743\n",
       "NP     0.064431\n",
       "dtype: float64"
      ]
     },
     "execution_count": 332,
     "metadata": {},
     "output_type": "execute_result"
    }
   ],
   "source": [
    "mywj.sort(ascending=False)\n",
    "mywj"
   ]
  },
  {
   "cell_type": "markdown",
   "metadata": {},
   "source": [
    "## 3.4 模型应用"
   ]
  },
  {
   "cell_type": "code",
   "execution_count": 318,
   "metadata": {
    "collapsed": false
   },
   "outputs": [],
   "source": [
    "factors = ['ALR','RTA','ITR','TCR','GPA','ROE','EPS','NP','PS','PB','PE','PCF']\n",
    "stock_set = get_index_stocks('000001.XSHG', date ='2016-07-01')\n",
    "\n",
    "q = query(\n",
    "    valuation.code,\n",
    "        \n",
    "    balance.total_liability/balance.total_assets, # 资产负债率ALR\n",
    "    balance.account_receivable/income.operating_revenue, # 应收账款占比RTA\n",
    "    balance.inventories/income.operating_revenue, # 存货占比ITR\n",
    "    (income.sale_expense + income.administration_expense + income.financial_expense)/income.total_operating_revenue, # 三项费用占比TCR\n",
    "    \n",
    "    (income.operating_revenue-income.operating_cost)/income.operating_revenue, # 销售毛利率GPA\n",
    "    income.net_profit/balance.total_owner_equities, # 净资产收益率ROE\n",
    "    income.basic_eps, # 每股收益EPS\n",
    "    income.net_profit, # 净利润NP\n",
    "        \n",
    "    valuation.ps_ratio,\n",
    "    valuation.pb_ratio,\n",
    "    valuation.pe_ratio_lyr,\n",
    "    valuation.pcf_ratio    \n",
    "    ).filter(\n",
    "        valuation.code.in_(stock_set)\n",
    "    )\n",
    "    \n",
    "df = get_fundamentals(q, date='2016-07-01')\n",
    "df.columns= ['code'] + factors\n",
    "df = df.dropna()\n",
    "df_yc = df.drop(df.columns[[0]],axis=1)"
   ]
  },
  {
   "cell_type": "code",
   "execution_count": 335,
   "metadata": {
    "collapsed": false
   },
   "outputs": [],
   "source": [
    "mywj_yc = wjpd.sum(axis=1)/10"
   ]
  },
  {
   "cell_type": "code",
   "execution_count": 336,
   "metadata": {
    "collapsed": false,
    "scrolled": true
   },
   "outputs": [
    {
     "data": {
      "text/html": [
       "<div>\n",
       "<table border=\"1\" class=\"dataframe\">\n",
       "  <thead>\n",
       "    <tr style=\"text-align: right;\">\n",
       "      <th></th>\n",
       "      <th>code</th>\n",
       "      <th>ALR</th>\n",
       "      <th>RTA</th>\n",
       "      <th>ITR</th>\n",
       "      <th>TCR</th>\n",
       "      <th>GPA</th>\n",
       "      <th>ROE</th>\n",
       "      <th>EPS</th>\n",
       "      <th>NP</th>\n",
       "      <th>PS</th>\n",
       "      <th>PB</th>\n",
       "      <th>PE</th>\n",
       "      <th>PCF</th>\n",
       "    </tr>\n",
       "  </thead>\n",
       "  <tbody>\n",
       "    <tr>\n",
       "      <th>82</th>\n",
       "      <td>600104.XSHG</td>\n",
       "      <td>0.571480</td>\n",
       "      <td>0.197456</td>\n",
       "      <td>0.226521</td>\n",
       "      <td>0.095455</td>\n",
       "      <td>0.125804</td>\n",
       "      <td>0.050694</td>\n",
       "      <td>0.7200</td>\n",
       "      <td>11373264896</td>\n",
       "      <td>0.33</td>\n",
       "      <td>1.22</td>\n",
       "      <td>7.5419</td>\n",
       "      <td>17.1900</td>\n",
       "    </tr>\n",
       "    <tr>\n",
       "      <th>21</th>\n",
       "      <td>600028.XSHG</td>\n",
       "      <td>0.430127</td>\n",
       "      <td>0.096568</td>\n",
       "      <td>0.334808</td>\n",
       "      <td>0.077873</td>\n",
       "      <td>0.242879</td>\n",
       "      <td>0.011331</td>\n",
       "      <td>0.0510</td>\n",
       "      <td>9025000448</td>\n",
       "      <td>0.29</td>\n",
       "      <td>0.83</td>\n",
       "      <td>17.6680</td>\n",
       "      <td>-63.5600</td>\n",
       "    </tr>\n",
       "    <tr>\n",
       "      <th>894</th>\n",
       "      <td>601668.XSHG</td>\n",
       "      <td>0.771562</td>\n",
       "      <td>0.622108</td>\n",
       "      <td>1.861774</td>\n",
       "      <td>0.027951</td>\n",
       "      <td>0.105073</td>\n",
       "      <td>0.033509</td>\n",
       "      <td>0.2100</td>\n",
       "      <td>8288527872</td>\n",
       "      <td>0.18</td>\n",
       "      <td>0.91</td>\n",
       "      <td>6.1009</td>\n",
       "      <td>2.7400</td>\n",
       "    </tr>\n",
       "    <tr>\n",
       "      <th>822</th>\n",
       "      <td>601088.XSHG</td>\n",
       "      <td>0.343160</td>\n",
       "      <td>0.652327</td>\n",
       "      <td>0.364068</td>\n",
       "      <td>0.145881</td>\n",
       "      <td>0.403127</td>\n",
       "      <td>0.017966</td>\n",
       "      <td>0.2320</td>\n",
       "      <td>6563999744</td>\n",
       "      <td>1.61</td>\n",
       "      <td>0.95</td>\n",
       "      <td>17.4946</td>\n",
       "      <td>50.8600</td>\n",
       "    </tr>\n",
       "    <tr>\n",
       "      <th>79</th>\n",
       "      <td>600100.XSHG</td>\n",
       "      <td>0.553639</td>\n",
       "      <td>1.563845</td>\n",
       "      <td>2.091688</td>\n",
       "      <td>0.272720</td>\n",
       "      <td>0.175931</td>\n",
       "      <td>0.202902</td>\n",
       "      <td>1.7552</td>\n",
       "      <td>5246010880</td>\n",
       "      <td>1.62</td>\n",
       "      <td>2.00</td>\n",
       "      <td>36.2032</td>\n",
       "      <td>7.0700</td>\n",
       "    </tr>\n",
       "    <tr>\n",
       "      <th>422</th>\n",
       "      <td>600519.XSHG</td>\n",
       "      <td>0.217765</td>\n",
       "      <td>0.000023</td>\n",
       "      <td>1.855869</td>\n",
       "      <td>0.104612</td>\n",
       "      <td>0.923414</td>\n",
       "      <td>0.073470</td>\n",
       "      <td>3.8900</td>\n",
       "      <td>5212078592</td>\n",
       "      <td>10.29</td>\n",
       "      <td>5.22</td>\n",
       "      <td>23.1880</td>\n",
       "      <td>23.8300</td>\n",
       "    </tr>\n",
       "    <tr>\n",
       "      <th>8</th>\n",
       "      <td>600011.XSHG</td>\n",
       "      <td>0.659657</td>\n",
       "      <td>0.425206</td>\n",
       "      <td>0.178903</td>\n",
       "      <td>0.089521</td>\n",
       "      <td>0.317287</td>\n",
       "      <td>0.049277</td>\n",
       "      <td>0.2600</td>\n",
       "      <td>4996156928</td>\n",
       "      <td>0.94</td>\n",
       "      <td>1.38</td>\n",
       "      <td>8.3907</td>\n",
       "      <td>15963.9004</td>\n",
       "    </tr>\n",
       "    <tr>\n",
       "      <th>22</th>\n",
       "      <td>600029.XSHG</td>\n",
       "      <td>0.717771</td>\n",
       "      <td>0.104848</td>\n",
       "      <td>0.060944</td>\n",
       "      <td>0.101740</td>\n",
       "      <td>0.220305</td>\n",
       "      <td>0.057479</td>\n",
       "      <td>0.2700</td>\n",
       "      <td>3024999936</td>\n",
       "      <td>0.61</td>\n",
       "      <td>1.65</td>\n",
       "      <td>17.7690</td>\n",
       "      <td>-6.2900</td>\n",
       "    </tr>\n",
       "    <tr>\n",
       "      <th>829</th>\n",
       "      <td>601111.XSHG</td>\n",
       "      <td>0.683555</td>\n",
       "      <td>0.129772</td>\n",
       "      <td>0.071526</td>\n",
       "      <td>0.114960</td>\n",
       "      <td>0.240918</td>\n",
       "      <td>0.041549</td>\n",
       "      <td>0.2000</td>\n",
       "      <td>2882344960</td>\n",
       "      <td>0.81</td>\n",
       "      <td>1.43</td>\n",
       "      <td>13.0963</td>\n",
       "      <td>105.6400</td>\n",
       "    </tr>\n",
       "    <tr>\n",
       "      <th>93</th>\n",
       "      <td>600115.XSHG</td>\n",
       "      <td>0.787501</td>\n",
       "      <td>0.101768</td>\n",
       "      <td>0.088340</td>\n",
       "      <td>0.108226</td>\n",
       "      <td>0.212714</td>\n",
       "      <td>0.070248</td>\n",
       "      <td>0.2000</td>\n",
       "      <td>2831000064</td>\n",
       "      <td>0.91</td>\n",
       "      <td>2.30</td>\n",
       "      <td>19.0404</td>\n",
       "      <td>-283.4800</td>\n",
       "    </tr>\n",
       "  </tbody>\n",
       "</table>\n",
       "</div>"
      ],
      "text/plain": [
       "            code       ALR       RTA       ITR       TCR       GPA       ROE  \\\n",
       "82   600104.XSHG  0.571480  0.197456  0.226521  0.095455  0.125804  0.050694   \n",
       "21   600028.XSHG  0.430127  0.096568  0.334808  0.077873  0.242879  0.011331   \n",
       "894  601668.XSHG  0.771562  0.622108  1.861774  0.027951  0.105073  0.033509   \n",
       "822  601088.XSHG  0.343160  0.652327  0.364068  0.145881  0.403127  0.017966   \n",
       "79   600100.XSHG  0.553639  1.563845  2.091688  0.272720  0.175931  0.202902   \n",
       "422  600519.XSHG  0.217765  0.000023  1.855869  0.104612  0.923414  0.073470   \n",
       "8    600011.XSHG  0.659657  0.425206  0.178903  0.089521  0.317287  0.049277   \n",
       "22   600029.XSHG  0.717771  0.104848  0.060944  0.101740  0.220305  0.057479   \n",
       "829  601111.XSHG  0.683555  0.129772  0.071526  0.114960  0.240918  0.041549   \n",
       "93   600115.XSHG  0.787501  0.101768  0.088340  0.108226  0.212714  0.070248   \n",
       "\n",
       "        EPS           NP     PS    PB       PE         PCF  \n",
       "82   0.7200  11373264896   0.33  1.22   7.5419     17.1900  \n",
       "21   0.0510   9025000448   0.29  0.83  17.6680    -63.5600  \n",
       "894  0.2100   8288527872   0.18  0.91   6.1009      2.7400  \n",
       "822  0.2320   6563999744   1.61  0.95  17.4946     50.8600  \n",
       "79   1.7552   5246010880   1.62  2.00  36.2032      7.0700  \n",
       "422  3.8900   5212078592  10.29  5.22  23.1880     23.8300  \n",
       "8    0.2600   4996156928   0.94  1.38   8.3907  15963.9004  \n",
       "22   0.2700   3024999936   0.61  1.65  17.7690     -6.2900  \n",
       "829  0.2000   2882344960   0.81  1.43  13.0963    105.6400  \n",
       "93   0.2000   2831000064   0.91  2.30  19.0404   -283.4800  "
      ]
     },
     "execution_count": 336,
     "metadata": {},
     "output_type": "execute_result"
    }
   ],
   "source": [
    "result = sum(df_yc*mywj_yc,axis=1)\n",
    "result.sort(ascending = False)\n",
    "df.loc[result.index].head(10)"
   ]
  },
  {
   "cell_type": "markdown",
   "metadata": {},
   "source": [
    "## 3.5 购买时机  "
   ]
  },
  {
   "cell_type": "markdown",
   "metadata": {},
   "source": [
    "* 利用RSI和均线判断。  \n",
    "* 对排名前10的股票进行回测：  \n",
    "600104.XSHG  \n",
    "600028.XSHG  \n",
    "601668.XSHG  \n",
    "601088.XSHG  \n",
    "600100.XSHG  \n",
    "600519.XSHG  \n",
    "600011.XSHG  \n",
    "600029.XSHG  \n",
    "601111.XSHG  \n",
    "600115.XSHG  "
   ]
  },
  {
   "cell_type": "code",
   "execution_count": 18,
   "metadata": {
    "collapsed": false
   },
   "outputs": [],
   "source": [
    "import numpy as np\n",
    "import pandas as pd\n",
    "import talib\n",
    "import datetime\n",
    "\n",
    "def set_buyableList(context):\n",
    "    #使用2016年数据选出的股票\n",
    "    stockList = list(['600104.XSHG','600028.XSHG','601668.XSHG','601088.XSHG','600100.XSHG',\\\n",
    "              '600519.XSHG','600011.XSHG','600029.XSHG','601111.XSHG','600115.XSHG'])\n",
    "    #第一步，取list中etf过去几天总成交量组成array\n",
    "    vol4CheckArray = np.array([])\n",
    "    for security in stockList:\n",
    "        his = attribute_history(security, g.period4Check, '1d', ('volume'), df = False)\n",
    "        volumeArray = his['volume']\n",
    "        volSum = np.sum(volumeArray)\n",
    "        vol4CheckArray = np.append(vol4CheckArray, volSum)\n",
    "    #第二步，用stockList做index，上述array做列，构建一个series，\n",
    "    #按照高到低排序，取前poolSize名，组建新的stockList\n",
    "    vol4CheckSeries = pd.Series(vol4CheckArray, index = np.array(stockList))\n",
    "    vol4CheckSeries.sort(ascending = False)\n",
    "    #poolSize = int( len(stockList) / 10) + 1\n",
    "    #if poolSize < 10:\n",
    "    #    poolSize = 10\n",
    "    poolSize = 5\n",
    "    stockList = list(vol4CheckSeries.index)[0 : poolSize]\n",
    "    #计算stockList中的etf过去g.period4Check天的累积收益率比日收益标准差\n",
    "    #返回比值最大的那只，存入stockList\n",
    "    ret4CheckArray = np.array([])\n",
    "    for security in stockList:\n",
    "        his = attribute_history(security, g.period4Check + 1, '1d', ('close'), df = False)\n",
    "        closeArray = his['close']\n",
    "        tempRet = 100 * (closeArray[-1]/closeArray[0] - 1)\n",
    "        real = talib.ROC(closeArray, timeperiod = 1)\n",
    "        real = real[-g.period4Check:]\n",
    "        std = np.std(real)\n",
    "        ret = tempRet / std\n",
    "        ret4CheckArray = np.append(ret4CheckArray, ret)\n",
    "    #构建series，取收益比标准差最大那只存入stockList\n",
    "    ret4CheckSeries = pd.Series(ret4CheckArray, index = np.array(stockList))\n",
    "    ret4CheckSeries.sort(ascending = False)\n",
    "    stockList = list(ret4CheckSeries.index)[0:1]\n",
    "    g.buyableList = stockList\n",
    "    #print g.buyableList\n",
    "\n",
    "####各种初始化####=====================================================\n",
    "def initialize(context):\n",
    "    set_option('use_real_price', True)\n",
    "    set_benchmark('000300.XSHG')\n",
    "    set_commission(PerTrade(buy_cost = 0.0003, sell_cost = 0.0003, min_cost = 0))\n",
    "    set_slippage(PriceRelatedSlippage(0.002))\n",
    "    log.set_level('order', 'error')\n",
    "    g.buyableList = []\n",
    "    g.buyDict = {}#该dict每天09:20更新，键是今日需买入的股票代码，值是target_value\n",
    "    g.sellDict = {}#同上\n",
    "    ####每周期开始的那天的09:20，获取这一周期内能买的股票####\n",
    "    ####它们被保存在g.buyableList中####\n",
    "    run_daily(set_buyableList, 'before_open')\n",
    "    g.period4Check = 6   #6 \n",
    "    g.onMarketDays = 146 #146*(250/365)=100，保证上市时间足够长\n",
    "    ####每天09:20择时所用参数####\n",
    "    g.nRSI = 6 #计算gapRSI所用天数  #6\n",
    "    g.buyThreshold = 40 #买入的阈值 #40\n",
    "    g.sellThreshold = 55 #卖出的阈值#55\n",
    "    g.ma = 23 #23用这么多日均线判断强弱市，昨收在均线上说明是强市\n",
    "    #用k线实体长度占总长度的比例来判断是否是变盘点，当比例小于\n",
    "    #g.bian时，表示k线形态为十字星，表示将要变盘\n",
    "    #g.bian1和g.bian2分别是弱市和强市情况下的变盘阈值             \n",
    "    g.bian1 , g.bian2 = 0.8, 0.6\n",
    "\n",
    "\n",
    "\n",
    "####此函数输入为一个股票代码，应卖出时输出-1，应买进时输出1####\n",
    "def buyOrSellCheck(security, context):\n",
    "    panduan = 0\n",
    "    his = attribute_history(security, 100, '1d', ('open', 'low', 'close', 'high'), df = False)\n",
    "    closeArray = his['close']\n",
    "    highArray = his['high']\n",
    "    openArray = his['open']\n",
    "    lowArray = his['low']\n",
    "    ####计算MA####\n",
    "    MAArray = talib.EMA(closeArray, g.ma)\n",
    "    ####a用来计算k线的实体部分长度占总长度的比例\n",
    "    #a越小，说明是十字星形状的k线，说明要变盘####\n",
    "    a = (openArray[-1] - closeArray[-1]) / (highArray[-1] - lowArray[-1])\n",
    "    a = abs(a)\n",
    "    ####计算择时主要指标jump-RSI####\n",
    "    jumpArray = talib.LN(closeArray / highArray)\n",
    "    RSIArray = talib.RSI(jumpArray, g.nRSI)\n",
    "    ####根据jump-RSI择时####\n",
    "    if RSIArray[-1] <= g.buyThreshold:#RSI低于买入阈值\n",
    "        if closeArray[-1] > MAArray[-1]:#判断强弱市\n",
    "            panduan = 1\n",
    "        elif a <= g.bian1:#弱市状态下，需要确认有变盘信号才买进\n",
    "            panduan = 1\n",
    "    elif RSIArray[-1] >= g.sellThreshold:#RSI高于卖出阈值\n",
    "        if closeArray[-1] <= MAArray[-1]:\n",
    "            panduan = -1\n",
    "        elif a <= g.bian2:#强市状态下，需要确认有变盘信号才卖出\n",
    "            panduan = -1\n",
    "    ####止盈止损####\n",
    "    if security in context.portfolio.positions.keys():\n",
    "        avgCost = context.portfolio.positions[security].avg_cost\n",
    "        if closeArray[-1]/avgCost - 1 < -0.1:\n",
    "            panduan = -1\n",
    "        if closeArray[-1]/avgCost - 1 > 0.1:\n",
    "            panduan = -1\n",
    "    return panduan\n",
    "\n",
    "####每天开盘前####\n",
    "def before_trading_start(context):\n",
    "    #初始化买卖两个字典\n",
    "    #字典的键是需要买和卖的股票，值是调仓的target_value\n",
    "    g.sellDict = {}\n",
    "    g.buyDict = {}\n",
    "    #如果现持仓为空\n",
    "    if context.portfolio.positions.keys() == []:\n",
    "        #判断buyableList中的股票需不需要买进\n",
    "        security = g.buyableList[0]\n",
    "        panduan = buyOrSellCheck(security, context)\n",
    "        if panduan == 1:\n",
    "            g.buyDict[security] = context.portfolio.portfolio_value\n",
    "    #现持仓不为空\n",
    "    else:\n",
    "        security1 = context.portfolio.positions.keys()[0]\n",
    "        security2 = g.buyableList[0]\n",
    "        #判断现持仓需不需要卖出\n",
    "        panduan1 = buyOrSellCheck(security1, context)\n",
    "        panduan2 = buyOrSellCheck(security2, context)\n",
    "        if panduan1 == -1:\n",
    "            g.sellDict[security1] = 0\n",
    "            #判断buyableList中的股票需不需要买进\n",
    "            if panduan2 == 1:\n",
    "                g.buyDict[security2] = context.portfolio.portfolio_value*1.1\n",
    "     \n",
    "    if g.sellDict != {}:\n",
    "        message = 'SELL ' + g.sellDict.keys()[0]\n",
    "        print message\n",
    "        send_message(message, channel = 'weixin')\n",
    "    if g.buyDict != {}:\n",
    "        message = 'BUY ' + g.buyDict.keys()[0]    \n",
    "        print message\n",
    "        send_message(message, channel = 'weixin')\n",
    "\n",
    "# 开盘后\n",
    "def handle_data(context, data):\n",
    "    for security in g.sellDict:\n",
    "        order_target_value(security, g.sellDict[security])\n",
    "    for security in g.buyDict:\n",
    "        order_target_value(security, g.buyDict[security])"
   ]
  },
  {
   "cell_type": "markdown",
   "metadata": {},
   "source": [
    "* [利用熵值法根据2016年数据选出的股票进行回测](http://o9sx3fme2.bkt.clouddn.com/%E5%AF%B9%E5%88%A9%E7%94%A8%E7%86%B5%E5%80%BC%E6%B3%95%E6%A0%B9%E6%8D%AE2016%E5%B9%B4%E6%95%B0%E6%8D%AE%E9%80%89%E5%87%BA%E7%9A%84%E8%82%A1%E7%A5%A8%E8%BF%9B%E8%A1%8C%E5%9B%9E%E6%B5%8B.png)  \n",
    "* [利用熵值法根据2006-2015年数据选出的股票进行预测（用2016年实际情况预测）](http://o9sx3fme2.bkt.clouddn.com/%E5%AF%B9%E5%88%A9%E7%94%A8%E7%86%B5%E5%80%BC%E6%B3%95%E6%A0%B9%E6%8D%AE2006-2015%E5%B9%B4%E6%95%B0%E6%8D%AE%E9%80%89%E5%87%BA%E7%9A%84%E8%82%A1%E7%A5%A8%E8%BF%9B%E8%A1%8C%E9%A2%84%E6%B5%8B%EF%BC%88%E7%94%A82016%E5%B9%B4%E5%AE%9E%E9%99%85%E6%83%85%E5%86%B5%E9%A2%84%E6%B5%8B%EF%BC%89.png)"
   ]
  },
  {
   "cell_type": "markdown",
   "metadata": {},
   "source": [
    "可以发现，虽然收益比基准要好，但用前10年数据选出来的股票池还是有些“过时”。相反，用2016年数据选出来的股票池要好很多。"
   ]
  },
  {
   "cell_type": "markdown",
   "metadata": {},
   "source": [
    "# 4.总结"
   ]
  },
  {
   "cell_type": "markdown",
   "metadata": {},
   "source": [
    "### 有关本案例\n",
    "\n",
    "* 选股结果在分析前基本有了大致判断，此过程更多的是验证，想看看中间到底是怎么回事。  \n",
    "* 在确定权重时，应该再尝试剔除大盘股后看结果如何。因为大盘股指标突出，再加上“熵值法”本身的特性，会导致权重偏向大盘股。  \n",
    "* 由于数据获取难度，没有考虑“增长指标”，如：总资产增长率（TAR），净利润增长率（NPR），每股收益增长率（PSER），股东权益增长率（SRR），股东权益回报率（ROE），投资资本回报率（ROIC）等。而这些指标对于选股，尤其是选择有潜力的股票非常重要。这可能会导致结果不好。  \n",
    "* 开始以为是个小坑，做着发现是个深沟。瑕疵太多（其实，目的中的“选择基本面质地优良且低估最多的股票”这句话本身就值得商椎，至少A股市场如此），虽尽自己所能勉强完成，但仍不能洗脱“从一开始就充满了错误和幼稚”这一赤裸裸的现实。\n",
    "\n",
    "### 有关数据分析\n",
    "* 业务逻辑是根本，数据分析如果缺乏对市场和行业的深入理解，很难触及到本质。  \n",
    "* 不能轻易评价一个数学方法的好坏，和用的人和用法有很大关系。  \n",
    "* 可视化和数据处理果然是两座超级大山，一头一尾，至关重要。  \n",
    "* 人需要且喜欢可视化，这是本性。用户是人。\n",
    "\n",
    "### 有关学习\n",
    "* 过程即奖励，参加课程和完成项目期间非常“幸福”。  \n",
    "* 课程结束了，学习才开始。  \n",
    "* 基本功（数学、代码、写作、领域专业基础知识）重中之重。没错，证明了[元学科](http://www.yangzhiping.com/psy/openmintalk.html)的科学性。  \n",
    "* 互相交流学习会收获颇丰。感谢阳老师和肖凯老师，以及[@米乐乐果](https://github.com/lyltj2010/), [@竹子](https://github.com/bambooom) 。  \n",
    "\n",
    "\n",
    "很高兴认识所有人，并一起学习、经历了这10W。"
   ]
  },
  {
   "cell_type": "code",
   "execution_count": null,
   "metadata": {
    "collapsed": true
   },
   "outputs": [],
   "source": []
  }
 ],
 "metadata": {
  "kernelspec": {
   "display_name": "Python 2",
   "language": "python",
   "name": "python2"
  },
  "language_info": {
   "codemirror_mode": {
    "name": "ipython",
    "version": 2
   },
   "file_extension": ".py",
   "mimetype": "text/x-python",
   "name": "python",
   "nbconvert_exporter": "python",
   "pygments_lexer": "ipython2",
   "version": "2.7.10"
  }
 },
 "nbformat": 4,
 "nbformat_minor": 0
}
