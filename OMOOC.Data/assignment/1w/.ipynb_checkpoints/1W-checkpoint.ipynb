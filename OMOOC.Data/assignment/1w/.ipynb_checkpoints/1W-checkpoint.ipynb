{
 "cells": [
  {
   "cell_type": "code",
   "execution_count": 1,
   "metadata": {
    "collapsed": false
   },
   "outputs": [
    {
     "name": "stdout",
     "output_type": "stream",
     "text": [
      "hello world!\n"
     ]
    }
   ],
   "source": [
    "print(\"hello world!\")"
   ]
  },
  {
   "cell_type": "markdown",
   "metadata": {},
   "source": [
    "# Getting help"
   ]
  },
  {
   "cell_type": "code",
   "execution_count": 3,
   "metadata": {
    "collapsed": true
   },
   "outputs": [],
   "source": [
    "??np"
   ]
  },
  {
   "cell_type": "markdown",
   "metadata": {},
   "source": [
    "# Help with ? and ??"
   ]
  },
  {
   "cell_type": "code",
   "execution_count": 11,
   "metadata": {
    "collapsed": true
   },
   "outputs": [],
   "source": [
    "import collections\n",
    "collections.namedtuple?"
   ]
  },
  {
   "cell_type": "code",
   "execution_count": 5,
   "metadata": {
    "collapsed": true
   },
   "outputs": [],
   "source": [
    "collections.Counter??"
   ]
  },
  {
   "cell_type": "code",
   "execution_count": 6,
   "metadata": {
    "collapsed": true
   },
   "outputs": [],
   "source": [
    "*int*?"
   ]
  },
  {
   "cell_type": "code",
   "execution_count": 7,
   "metadata": {
    "collapsed": true
   },
   "outputs": [],
   "source": [
    "%quickref"
   ]
  },
  {
   "cell_type": "markdown",
   "metadata": {},
   "source": [
    "# Tab completion"
   ]
  },
  {
   "cell_type": "code",
   "execution_count": 8,
   "metadata": {
    "collapsed": true
   },
   "outputs": [],
   "source": [
    "collections.Hashable??"
   ]
  },
  {
   "cell_type": "markdown",
   "metadata": {},
   "source": [
    "# The interactive workflow: input, output, history"
   ]
  },
  {
   "cell_type": "code",
   "execution_count": 9,
   "metadata": {
    "collapsed": false,
    "scrolled": true
   },
   "outputs": [
    {
     "data": {
      "text/plain": [
       "12"
      ]
     },
     "execution_count": 9,
     "metadata": {},
     "output_type": "execute_result"
    }
   ],
   "source": [
    "2+10"
   ]
  },
  {
   "cell_type": "code",
   "execution_count": 10,
   "metadata": {
    "collapsed": false
   },
   "outputs": [
    {
     "data": {
      "text/plain": [
       "22"
      ]
     },
     "execution_count": 10,
     "metadata": {},
     "output_type": "execute_result"
    }
   ],
   "source": [
    "_+10"
   ]
  },
  {
   "cell_type": "markdown",
   "metadata": {},
   "source": [
    "# Output control"
   ]
  },
  {
   "cell_type": "code",
   "execution_count": 12,
   "metadata": {
    "collapsed": true
   },
   "outputs": [],
   "source": [
    "10+20;"
   ]
  },
  {
   "cell_type": "code",
   "execution_count": 13,
   "metadata": {
    "collapsed": false
   },
   "outputs": [
    {
     "data": {
      "text/plain": [
       "22"
      ]
     },
     "execution_count": 13,
     "metadata": {},
     "output_type": "execute_result"
    }
   ],
   "source": [
    "_"
   ]
  },
  {
   "cell_type": "markdown",
   "metadata": {},
   "source": [
    "# Output history"
   ]
  },
  {
   "cell_type": "code",
   "execution_count": 17,
   "metadata": {
    "collapsed": false
   },
   "outputs": [
    {
     "data": {
      "text/plain": [
       "22"
      ]
     },
     "execution_count": 17,
     "metadata": {},
     "output_type": "execute_result"
    }
   ],
   "source": [
    "Out[13]"
   ]
  },
  {
   "cell_type": "code",
   "execution_count": 20,
   "metadata": {
    "collapsed": false
   },
   "outputs": [
    {
     "data": {
      "text/plain": [
       "True"
      ]
     },
     "execution_count": 20,
     "metadata": {},
     "output_type": "execute_result"
    }
   ],
   "source": [
    "__ == Out[13]"
   ]
  },
  {
   "cell_type": "code",
   "execution_count": 21,
   "metadata": {
    "collapsed": false
   },
   "outputs": [
    {
     "data": {
      "text/plain": [
       "True"
      ]
     },
     "execution_count": 21,
     "metadata": {},
     "output_type": "execute_result"
    }
   ],
   "source": [
    "_13 == Out[13]"
   ]
  },
  {
   "cell_type": "code",
   "execution_count": 22,
   "metadata": {
    "collapsed": false,
    "scrolled": true
   },
   "outputs": [
    {
     "data": {
      "text/plain": [
       "{9: 12, 10: 22, 13: 22, 17: 22, 19: True, 20: True, 21: True}"
      ]
     },
     "execution_count": 22,
     "metadata": {},
     "output_type": "execute_result"
    }
   ],
   "source": [
    "Out"
   ]
  },
  {
   "cell_type": "code",
   "execution_count": 23,
   "metadata": {
    "collapsed": false
   },
   "outputs": [
    {
     "name": "stdout",
     "output_type": "stream",
     "text": [
      "('last output', True)\n",
      "('next one  :', True)\n",
      "('and next  :', True)\n"
     ]
    }
   ],
   "source": [
    "print('last output',_)\n",
    "print('next one  :',__)\n",
    "print('and next  :',___)"
   ]
  },
  {
   "cell_type": "markdown",
   "metadata": {},
   "source": [
    "# The Input history is also available"
   ]
  },
  {
   "cell_type": "code",
   "execution_count": 25,
   "metadata": {
    "collapsed": false
   },
   "outputs": [
    {
     "data": {
      "text/plain": [
       "u'10+20;'"
      ]
     },
     "execution_count": 25,
     "metadata": {},
     "output_type": "execute_result"
    }
   ],
   "source": [
    "In[12]"
   ]
  },
  {
   "cell_type": "code",
   "execution_count": 26,
   "metadata": {
    "collapsed": false
   },
   "outputs": [
    {
     "data": {
      "text/plain": [
       "u'In[12]'"
      ]
     },
     "execution_count": 26,
     "metadata": {},
     "output_type": "execute_result"
    }
   ],
   "source": [
    "_i"
   ]
  },
  {
   "cell_type": "code",
   "execution_count": 27,
   "metadata": {
    "collapsed": false,
    "scrolled": true
   },
   "outputs": [
    {
     "data": {
      "text/plain": [
       "u'In[12]'"
      ]
     },
     "execution_count": 27,
     "metadata": {},
     "output_type": "execute_result"
    }
   ],
   "source": [
    "_ii"
   ]
  },
  {
   "cell_type": "code",
   "execution_count": 28,
   "metadata": {
    "collapsed": false,
    "scrolled": true
   },
   "outputs": [
    {
     "name": "stdout",
     "output_type": "stream",
     "text": [
      "print(\"hello world!\")\n",
      "import numpy as np\n",
      "??np\n",
      "import collections\n",
      "collections.namedtuple?\n",
      "collections.Counter??\n",
      "*int*?\n",
      "%quickref\n",
      "collections.Hashable??\n",
      "2+10\n",
      "_+10\n",
      "import collections\n",
      "collections.namedtuple?\n",
      "10+20;\n",
      "_\n",
      "output[13]\n",
      "out[13]\n",
      "out[13]\n",
      "Out[13]\n",
      "_12 == Out[13]\n",
      "_13 == Out[13]\n",
      "__ == Out[13]\n",
      "_13 == Out[13]\n",
      "Out\n",
      "print('last output',_)\n",
      "print('next one  :',__)\n",
      "print('and next  :',___)\n",
      "In[11]\n",
      "In[12]\n",
      "_i\n",
      "_ii\n",
      "%history\n"
     ]
    }
   ],
   "source": [
    "%history"
   ]
  },
  {
   "cell_type": "markdown",
   "metadata": {},
   "source": [
    "# Accessing the underlying operating system"
   ]
  },
  {
   "cell_type": "code",
   "execution_count": 29,
   "metadata": {
    "collapsed": false
   },
   "outputs": [
    {
     "name": "stdout",
     "output_type": "stream",
     "text": [
      "/home/evil_rabbit/notebooks/datascience\r\n"
     ]
    }
   ],
   "source": [
    "!pwd"
   ]
  },
  {
   "cell_type": "code",
   "execution_count": 30,
   "metadata": {
    "collapsed": false
   },
   "outputs": [
    {
     "name": "stdout",
     "output_type": "stream",
     "text": [
      "1W.ipynb\r\n"
     ]
    }
   ],
   "source": [
    "!ls"
   ]
  },
  {
   "cell_type": "code",
   "execution_count": 31,
   "metadata": {
    "collapsed": false
   },
   "outputs": [
    {
     "name": "stdout",
     "output_type": "stream",
     "text": [
      "My current directory's files:\n",
      "1W.ipynb\n"
     ]
    }
   ],
   "source": [
    "files = !ls\n",
    "print(\"My current directory's files:\")\n",
    "for a_file in files:\n",
    "    print(a_file)"
   ]
  },
  {
   "cell_type": "code",
   "execution_count": 32,
   "metadata": {
    "collapsed": false
   },
   "outputs": [
    {
     "name": "stdout",
     "output_type": "stream",
     "text": [
      "[1W.ipynb]\r\n"
     ]
    }
   ],
   "source": [
    "!echo $files"
   ]
  },
  {
   "cell_type": "code",
   "execution_count": 34,
   "metadata": {
    "collapsed": false
   },
   "outputs": [
    {
     "name": "stdout",
     "output_type": "stream",
     "text": [
      "1W.IPYNB\r\n"
     ]
    }
   ],
   "source": [
    "!echo {files[0].upper()}"
   ]
  },
  {
   "cell_type": "markdown",
   "metadata": {},
   "source": [
    "# magic fuctions"
   ]
  },
  {
   "cell_type": "code",
   "execution_count": 36,
   "metadata": {
    "collapsed": true
   },
   "outputs": [],
   "source": [
    "%magic"
   ]
  },
  {
   "cell_type": "code",
   "execution_count": 37,
   "metadata": {
    "collapsed": false
   },
   "outputs": [
    {
     "name": "stdout",
     "output_type": "stream",
     "text": [
      "The slowest run took 12.27 times longer than the fastest. This could mean that an intermediate result is being cached.\n",
      "1000000 loops, best of 3: 233 ns per loop\n"
     ]
    }
   ],
   "source": [
    "%timeit range(10)"
   ]
  },
  {
   "cell_type": "code",
   "execution_count": 39,
   "metadata": {
    "collapsed": false
   },
   "outputs": [
    {
     "name": "stdout",
     "output_type": "stream",
     "text": [
      "The slowest run took 6.10 times longer than the fastest. This could mean that an intermediate result is being cached.\n",
      "1000000 loops, best of 3: 921 ns per loop\n"
     ]
    }
   ],
   "source": [
    "%%timeit\n",
    "range(10)\n",
    "range(100)"
   ]
  },
  {
   "cell_type": "code",
   "execution_count": 43,
   "metadata": {
    "collapsed": false
   },
   "outputs": [
    {
     "name": "stdout",
     "output_type": "stream",
     "text": [
      "size: 0The slowest run took 19.37 times longer than the fastest. This could mean that an intermediate result is being cached.\n",
      "10000000 loops, best of 3: 148 ns per loop\n",
      "size: 1001000000 loops, best of 3: 739 ns per loop\n",
      "size: 2001000000 loops, best of 3: 1.23 µs per loop\n",
      "size: 3001000000 loops, best of 3: 1.8 µs per loop\n",
      "size: 400100000 loops, best of 3: 2.75 µs per loop\n"
     ]
    }
   ],
   "source": [
    "from __future__ import print_function\n",
    "for i in range(5):\n",
    "    size = i*100\n",
    "    print('size:',size,end=' ')\n",
    "    %timeit range(size)"
   ]
  },
  {
   "cell_type": "code",
   "execution_count": 44,
   "metadata": {
    "collapsed": false
   },
   "outputs": [
    {
     "name": "stdout",
     "output_type": "stream",
     "text": [
      "My shell is: /bin/bash\n",
      "User: evil_rabbit\n"
     ]
    }
   ],
   "source": [
    "%%bash\n",
    "echo \"My shell is:\" $SHELL\n",
    "echo \"User:\" $USER"
   ]
  },
  {
   "cell_type": "code",
   "execution_count": 45,
   "metadata": {
    "collapsed": false
   },
   "outputs": [
    {
     "name": "stdout",
     "output_type": "stream",
     "text": [
      "Writing teest.txt\n"
     ]
    }
   ],
   "source": [
    "%%file teest.txt\n",
    "This is a test file!\n",
    "\n",
    "more..."
   ]
  },
  {
   "cell_type": "code",
   "execution_count": 46,
   "metadata": {
    "collapsed": false
   },
   "outputs": [
    {
     "name": "stdout",
     "output_type": "stream",
     "text": [
      "1W.ipynb  teest.txt\r\n"
     ]
    }
   ],
   "source": [
    "%ls"
   ]
  },
  {
   "cell_type": "code",
   "execution_count": 47,
   "metadata": {
    "collapsed": false
   },
   "outputs": [
    {
     "name": "stdout",
     "output_type": "stream",
     "text": [
      "This is a test file!\r\n",
      "\r\n",
      "more..."
     ]
    }
   ],
   "source": [
    "%cat teest.txt"
   ]
  },
  {
   "cell_type": "code",
   "execution_count": 48,
   "metadata": {
    "collapsed": false,
    "scrolled": true
   },
   "outputs": [
    {
     "data": {
      "application/json": {
       "cell": {
        "!": "OSMagics",
        "HTML": "Other",
        "SVG": "Other",
        "bash": "Other",
        "capture": "ExecutionMagics",
        "debug": "ExecutionMagics",
        "file": "Other",
        "html": "DisplayMagics",
        "javascript": "DisplayMagics",
        "latex": "DisplayMagics",
        "perl": "Other",
        "prun": "ExecutionMagics",
        "pypy": "Other",
        "python": "Other",
        "python2": "Other",
        "python3": "Other",
        "ruby": "Other",
        "script": "ScriptMagics",
        "sh": "Other",
        "svg": "DisplayMagics",
        "sx": "OSMagics",
        "system": "OSMagics",
        "time": "ExecutionMagics",
        "timeit": "ExecutionMagics",
        "writefile": "OSMagics"
       },
       "line": {
        "alias": "OSMagics",
        "alias_magic": "BasicMagics",
        "autocall": "AutoMagics",
        "automagic": "AutoMagics",
        "autosave": "KernelMagics",
        "bookmark": "OSMagics",
        "cat": "Other",
        "cd": "OSMagics",
        "clear": "KernelMagics",
        "colors": "BasicMagics",
        "config": "ConfigMagics",
        "connect_info": "KernelMagics",
        "cp": "Other",
        "debug": "ExecutionMagics",
        "dhist": "OSMagics",
        "dirs": "OSMagics",
        "doctest_mode": "BasicMagics",
        "ed": "Other",
        "edit": "KernelMagics",
        "env": "OSMagics",
        "gui": "BasicMagics",
        "hist": "Other",
        "history": "HistoryMagics",
        "install_default_config": "DeprecatedMagics",
        "install_ext": "ExtensionMagics",
        "install_profiles": "DeprecatedMagics",
        "killbgscripts": "ScriptMagics",
        "ldir": "Other",
        "less": "KernelMagics",
        "lf": "Other",
        "lk": "Other",
        "ll": "Other",
        "load": "CodeMagics",
        "load_ext": "ExtensionMagics",
        "loadpy": "CodeMagics",
        "logoff": "LoggingMagics",
        "logon": "LoggingMagics",
        "logstart": "LoggingMagics",
        "logstate": "LoggingMagics",
        "logstop": "LoggingMagics",
        "ls": "Other",
        "lsmagic": "BasicMagics",
        "lx": "Other",
        "macro": "ExecutionMagics",
        "magic": "BasicMagics",
        "man": "KernelMagics",
        "matplotlib": "PylabMagics",
        "mkdir": "Other",
        "more": "KernelMagics",
        "mv": "Other",
        "notebook": "BasicMagics",
        "page": "BasicMagics",
        "pastebin": "CodeMagics",
        "pdb": "ExecutionMagics",
        "pdef": "NamespaceMagics",
        "pdoc": "NamespaceMagics",
        "pfile": "NamespaceMagics",
        "pinfo": "NamespaceMagics",
        "pinfo2": "NamespaceMagics",
        "popd": "OSMagics",
        "pprint": "BasicMagics",
        "precision": "BasicMagics",
        "profile": "BasicMagics",
        "prun": "ExecutionMagics",
        "psearch": "NamespaceMagics",
        "psource": "NamespaceMagics",
        "pushd": "OSMagics",
        "pwd": "OSMagics",
        "pycat": "OSMagics",
        "pylab": "PylabMagics",
        "qtconsole": "KernelMagics",
        "quickref": "BasicMagics",
        "recall": "HistoryMagics",
        "rehashx": "OSMagics",
        "reload_ext": "ExtensionMagics",
        "rep": "Other",
        "rerun": "HistoryMagics",
        "reset": "NamespaceMagics",
        "reset_selective": "NamespaceMagics",
        "rm": "Other",
        "rmdir": "Other",
        "run": "ExecutionMagics",
        "save": "CodeMagics",
        "sc": "OSMagics",
        "set_env": "OSMagics",
        "store": "StoreMagics",
        "sx": "OSMagics",
        "system": "OSMagics",
        "tb": "ExecutionMagics",
        "time": "ExecutionMagics",
        "timeit": "ExecutionMagics",
        "unalias": "OSMagics",
        "unload_ext": "ExtensionMagics",
        "who": "NamespaceMagics",
        "who_ls": "NamespaceMagics",
        "whos": "NamespaceMagics",
        "xdel": "NamespaceMagics",
        "xmode": "BasicMagics"
       }
      },
      "text/plain": [
       "Available line magics:\n",
       "%alias  %alias_magic  %autocall  %automagic  %autosave  %bookmark  %cat  %cd  %clear  %colors  %config  %connect_info  %cp  %debug  %dhist  %dirs  %doctest_mode  %ed  %edit  %env  %gui  %hist  %history  %install_default_config  %install_ext  %install_profiles  %killbgscripts  %ldir  %less  %lf  %lk  %ll  %load  %load_ext  %loadpy  %logoff  %logon  %logstart  %logstate  %logstop  %ls  %lsmagic  %lx  %macro  %magic  %man  %matplotlib  %mkdir  %more  %mv  %notebook  %page  %pastebin  %pdb  %pdef  %pdoc  %pfile  %pinfo  %pinfo2  %popd  %pprint  %precision  %profile  %prun  %psearch  %psource  %pushd  %pwd  %pycat  %pylab  %qtconsole  %quickref  %recall  %rehashx  %reload_ext  %rep  %rerun  %reset  %reset_selective  %rm  %rmdir  %run  %save  %sc  %set_env  %store  %sx  %system  %tb  %time  %timeit  %unalias  %unload_ext  %who  %who_ls  %whos  %xdel  %xmode\n",
       "\n",
       "Available cell magics:\n",
       "%%!  %%HTML  %%SVG  %%bash  %%capture  %%debug  %%file  %%html  %%javascript  %%latex  %%perl  %%prun  %%pypy  %%python  %%python2  %%python3  %%ruby  %%script  %%sh  %%svg  %%sx  %%system  %%time  %%timeit  %%writefile\n",
       "\n",
       "Automagic is ON, % prefix IS NOT needed for line magics."
      ]
     },
     "execution_count": 48,
     "metadata": {},
     "output_type": "execute_result"
    }
   ],
   "source": [
    "%lsmagic"
   ]
  },
  {
   "cell_type": "markdown",
   "metadata": {},
   "source": [
    "# Running normal Python code: execution and errors"
   ]
  },
  {
   "cell_type": "code",
   "execution_count": 49,
   "metadata": {
    "collapsed": false
   },
   "outputs": [
    {
     "name": "stdout",
     "output_type": "stream",
     "text": [
      "1\n",
      "1\n",
      "2\n",
      "3\n",
      "5\n",
      "8\n"
     ]
    }
   ],
   "source": [
    "a,b=0,1\n",
    "while b<10:\n",
    "    print(b)\n",
    "    a,b=b,a+b"
   ]
  },
  {
   "cell_type": "code",
   "execution_count": 50,
   "metadata": {
    "collapsed": false,
    "scrolled": true
   },
   "outputs": [
    {
     "name": "stdout",
     "output_type": "stream",
     "text": [
      "0\n",
      "1\n",
      "2\n",
      "3\n",
      "4\n"
     ]
    }
   ],
   "source": [
    "for i in range(5):\n",
    "    print(i)"
   ]
  },
  {
   "cell_type": "markdown",
   "metadata": {},
   "source": [
    "# Plotting in the notebook"
   ]
  },
  {
   "cell_type": "code",
   "execution_count": 36,
   "metadata": {
    "collapsed": false
   },
   "outputs": [
    {
     "name": "stderr",
     "output_type": "stream",
     "text": [
      "/home/evil_rabbit/anaconda2/lib/python2.7/site-packages/matplotlib/font_manager.py:273: UserWarning: Matplotlib is building the font cache using fc-list. This may take a moment.\n",
      "  warnings.warn('Matplotlib is building the font cache using fc-list. This may take a moment.')\n"
     ]
    }
   ],
   "source": [
    "%matplotlib inline"
   ]
  },
  {
   "cell_type": "code",
   "execution_count": 37,
   "metadata": {
    "collapsed": true
   },
   "outputs": [],
   "source": [
    "import numpy as np\n",
    "import matplotlib.pyplot as plt\n",
    "from matplotlib.pyplot import gcf"
   ]
  },
  {
   "cell_type": "code",
   "execution_count": 38,
   "metadata": {
    "collapsed": false,
    "scrolled": true
   },
   "outputs": [
    {
     "data": {
      "image/png": "[encoded data removed]",
      "text/plain": [
       "<matplotlib.figure.Figure at 0x7fd915cd7f10>"
      ]
     },
     "metadata": {},
     "output_type": "display_data"
    }
   ],
   "source": [
    "x = np.linspace(0,2*np.pi,300)\n",
    "y = np.sin(x**2)\n",
    "plt.plot(x,y)\n",
    "plt.title(\"A little chirp\")\n",
    "f = gcf() # let's keep the fingure object around for later..."
   ]
  },
  {
   "cell_type": "code",
   "execution_count": 51,
   "metadata": {
    "collapsed": true
   },
   "outputs": [],
   "source": [
    "import nbformat\n",
    "with open('1W.ipynb') as f:\n",
    "    nb = nbformat.read(f,4)"
   ]
  },
  {
   "cell_type": "code",
   "execution_count": 52,
   "metadata": {
    "collapsed": false
   },
   "outputs": [
    {
     "data": {
      "text/plain": [
       "{u'cells': [{u'cell_type': u'code',\n",
       "   u'execution_count': 1,\n",
       "   u'metadata': {u'collapsed': False},\n",
       "   u'outputs': [{u'name': u'stdout',\n",
       "     u'output_type': u'stream',\n",
       "     u'text': u'hello world!\\n'}],\n",
       "   u'source': u'print(\"hello world!\")'},\n",
       "  {u'cell_type': u'markdown', u'metadata': {}, u'source': u'# Getting help'},\n",
       "  {u'cell_type': u'code',\n",
       "   u'execution_count': 3,\n",
       "   u'metadata': {u'collapsed': True},\n",
       "   u'outputs': [],\n",
       "   u'source': u'??np'},\n",
       "  {u'cell_type': u'markdown',\n",
       "   u'metadata': {},\n",
       "   u'source': u'# Help with ? and ??'},\n",
       "  {u'cell_type': u'code',\n",
       "   u'execution_count': 11,\n",
       "   u'metadata': {u'collapsed': True},\n",
       "   u'outputs': [],\n",
       "   u'source': u'import collections\\ncollections.namedtuple?'},\n",
       "  {u'cell_type': u'code',\n",
       "   u'execution_count': 5,\n",
       "   u'metadata': {u'collapsed': True},\n",
       "   u'outputs': [],\n",
       "   u'source': u'collections.Counter??'},\n",
       "  {u'cell_type': u'code',\n",
       "   u'execution_count': 6,\n",
       "   u'metadata': {u'collapsed': True},\n",
       "   u'outputs': [],\n",
       "   u'source': u'*int*?'},\n",
       "  {u'cell_type': u'code',\n",
       "   u'execution_count': 7,\n",
       "   u'metadata': {u'collapsed': True},\n",
       "   u'outputs': [],\n",
       "   u'source': u'%quickref'},\n",
       "  {u'cell_type': u'markdown', u'metadata': {}, u'source': u'# Tab completion'},\n",
       "  {u'cell_type': u'code',\n",
       "   u'execution_count': 8,\n",
       "   u'metadata': {u'collapsed': True},\n",
       "   u'outputs': [],\n",
       "   u'source': u'collections.Hashable??'},\n",
       "  {u'cell_type': u'markdown',\n",
       "   u'metadata': {},\n",
       "   u'source': u'# The interactive workflow: input, output, history'},\n",
       "  {u'cell_type': u'code',\n",
       "   u'execution_count': 9,\n",
       "   u'metadata': {u'collapsed': False, u'scrolled': True},\n",
       "   u'outputs': [{u'data': {u'text/plain': u'12'},\n",
       "     u'execution_count': 9,\n",
       "     u'metadata': {},\n",
       "     u'output_type': u'execute_result'}],\n",
       "   u'source': u'2+10'},\n",
       "  {u'cell_type': u'code',\n",
       "   u'execution_count': 10,\n",
       "   u'metadata': {u'collapsed': False},\n",
       "   u'outputs': [{u'data': {u'text/plain': u'22'},\n",
       "     u'execution_count': 10,\n",
       "     u'metadata': {},\n",
       "     u'output_type': u'execute_result'}],\n",
       "   u'source': u'_+10'},\n",
       "  {u'cell_type': u'markdown', u'metadata': {}, u'source': u'# Output control'},\n",
       "  {u'cell_type': u'code',\n",
       "   u'execution_count': 12,\n",
       "   u'metadata': {u'collapsed': True},\n",
       "   u'outputs': [],\n",
       "   u'source': u'10+20;'},\n",
       "  {u'cell_type': u'code',\n",
       "   u'execution_count': 13,\n",
       "   u'metadata': {u'collapsed': False},\n",
       "   u'outputs': [{u'data': {u'text/plain': u'22'},\n",
       "     u'execution_count': 13,\n",
       "     u'metadata': {},\n",
       "     u'output_type': u'execute_result'}],\n",
       "   u'source': u'_'},\n",
       "  {u'cell_type': u'markdown', u'metadata': {}, u'source': u'# Output history'},\n",
       "  {u'cell_type': u'code',\n",
       "   u'execution_count': 17,\n",
       "   u'metadata': {u'collapsed': False},\n",
       "   u'outputs': [{u'data': {u'text/plain': u'22'},\n",
       "     u'execution_count': 17,\n",
       "     u'metadata': {},\n",
       "     u'output_type': u'execute_result'}],\n",
       "   u'source': u'Out[13]'},\n",
       "  {u'cell_type': u'code',\n",
       "   u'execution_count': 20,\n",
       "   u'metadata': {u'collapsed': False},\n",
       "   u'outputs': [{u'data': {u'text/plain': u'True'},\n",
       "     u'execution_count': 20,\n",
       "     u'metadata': {},\n",
       "     u'output_type': u'execute_result'}],\n",
       "   u'source': u'__ == Out[13]'},\n",
       "  {u'cell_type': u'code',\n",
       "   u'execution_count': 21,\n",
       "   u'metadata': {u'collapsed': False},\n",
       "   u'outputs': [{u'data': {u'text/plain': u'True'},\n",
       "     u'execution_count': 21,\n",
       "     u'metadata': {},\n",
       "     u'output_type': u'execute_result'}],\n",
       "   u'source': u'_13 == Out[13]'},\n",
       "  {u'cell_type': u'code',\n",
       "   u'execution_count': 22,\n",
       "   u'metadata': {u'collapsed': False, u'scrolled': True},\n",
       "   u'outputs': [{u'data': {u'text/plain': u'{9: 12, 10: 22, 13: 22, 17: 22, 19: True, 20: True, 21: True}'},\n",
       "     u'execution_count': 22,\n",
       "     u'metadata': {},\n",
       "     u'output_type': u'execute_result'}],\n",
       "   u'source': u'Out'},\n",
       "  {u'cell_type': u'code',\n",
       "   u'execution_count': 23,\n",
       "   u'metadata': {u'collapsed': False},\n",
       "   u'outputs': [{u'name': u'stdout',\n",
       "     u'output_type': u'stream',\n",
       "     u'text': u\"('last output', True)\\n('next one  :', True)\\n('and next  :', True)\\n\"}],\n",
       "   u'source': u\"print('last output',_)\\nprint('next one  :',__)\\nprint('and next  :',___)\"},\n",
       "  {u'cell_type': u'markdown',\n",
       "   u'metadata': {},\n",
       "   u'source': u'# The Input history is also available'},\n",
       "  {u'cell_type': u'code',\n",
       "   u'execution_count': 25,\n",
       "   u'metadata': {u'collapsed': False},\n",
       "   u'outputs': [{u'data': {u'text/plain': u\"u'10+20;'\"},\n",
       "     u'execution_count': 25,\n",
       "     u'metadata': {},\n",
       "     u'output_type': u'execute_result'}],\n",
       "   u'source': u'In[12]'},\n",
       "  {u'cell_type': u'code',\n",
       "   u'execution_count': 26,\n",
       "   u'metadata': {u'collapsed': False},\n",
       "   u'outputs': [{u'data': {u'text/plain': u\"u'In[12]'\"},\n",
       "     u'execution_count': 26,\n",
       "     u'metadata': {},\n",
       "     u'output_type': u'execute_result'}],\n",
       "   u'source': u'_i'},\n",
       "  {u'cell_type': u'code',\n",
       "   u'execution_count': 27,\n",
       "   u'metadata': {u'collapsed': False, u'scrolled': True},\n",
       "   u'outputs': [{u'data': {u'text/plain': u\"u'In[12]'\"},\n",
       "     u'execution_count': 27,\n",
       "     u'metadata': {},\n",
       "     u'output_type': u'execute_result'}],\n",
       "   u'source': u'_ii'},\n",
       "  {u'cell_type': u'code',\n",
       "   u'execution_count': 28,\n",
       "   u'metadata': {u'collapsed': False, u'scrolled': True},\n",
       "   u'outputs': [{u'name': u'stdout',\n",
       "     u'output_type': u'stream',\n",
       "     u'text': u'print(\"hello world!\")\\nimport numpy as np\\n??np\\nimport collections\\ncollections.namedtuple?\\ncollections.Counter??\\n*int*?\\n%quickref\\ncollections.Hashable??\\n2+10\\n_+10\\nimport collections\\ncollections.namedtuple?\\n10+20;\\n_\\noutput[13]\\nout[13]\\nout[13]\\nOut[13]\\n_12 == Out[13]\\n_13 == Out[13]\\n__ == Out[13]\\n_13 == Out[13]\\nOut\\nprint(\\'last output\\',_)\\nprint(\\'next one  :\\',__)\\nprint(\\'and next  :\\',___)\\nIn[11]\\nIn[12]\\n_i\\n_ii\\n%history\\n'}],\n",
       "   u'source': u'%history'},\n",
       "  {u'cell_type': u'markdown',\n",
       "   u'metadata': {},\n",
       "   u'source': u'# Accessing the underlying operating system'},\n",
       "  {u'cell_type': u'code',\n",
       "   u'execution_count': 29,\n",
       "   u'metadata': {u'collapsed': False},\n",
       "   u'outputs': [{u'name': u'stdout',\n",
       "     u'output_type': u'stream',\n",
       "     u'text': u'/home/evil_rabbit/notebooks/datascience\\r\\n'}],\n",
       "   u'source': u'!pwd'},\n",
       "  {u'cell_type': u'code',\n",
       "   u'execution_count': 30,\n",
       "   u'metadata': {u'collapsed': False},\n",
       "   u'outputs': [{u'name': u'stdout',\n",
       "     u'output_type': u'stream',\n",
       "     u'text': u'1W.ipynb\\r\\n'}],\n",
       "   u'source': u'!ls'},\n",
       "  {u'cell_type': u'code',\n",
       "   u'execution_count': 31,\n",
       "   u'metadata': {u'collapsed': False},\n",
       "   u'outputs': [{u'name': u'stdout',\n",
       "     u'output_type': u'stream',\n",
       "     u'text': u\"My current directory's files:\\n1W.ipynb\\n\"}],\n",
       "   u'source': u'files = !ls\\nprint(\"My current directory\\'s files:\")\\nfor a_file in files:\\n    print(a_file)'},\n",
       "  {u'cell_type': u'code',\n",
       "   u'execution_count': 32,\n",
       "   u'metadata': {u'collapsed': False},\n",
       "   u'outputs': [{u'name': u'stdout',\n",
       "     u'output_type': u'stream',\n",
       "     u'text': u'[1W.ipynb]\\r\\n'}],\n",
       "   u'source': u'!echo $files'},\n",
       "  {u'cell_type': u'code',\n",
       "   u'execution_count': 34,\n",
       "   u'metadata': {u'collapsed': False},\n",
       "   u'outputs': [{u'name': u'stdout',\n",
       "     u'output_type': u'stream',\n",
       "     u'text': u'1W.IPYNB\\r\\n'}],\n",
       "   u'source': u'!echo {files[0].upper()}'},\n",
       "  {u'cell_type': u'markdown', u'metadata': {}, u'source': u'# magic fuctions'},\n",
       "  {u'cell_type': u'code',\n",
       "   u'execution_count': 36,\n",
       "   u'metadata': {u'collapsed': True},\n",
       "   u'outputs': [],\n",
       "   u'source': u'%magic'},\n",
       "  {u'cell_type': u'code',\n",
       "   u'execution_count': 37,\n",
       "   u'metadata': {u'collapsed': False},\n",
       "   u'outputs': [{u'name': u'stdout',\n",
       "     u'output_type': u'stream',\n",
       "     u'text': u'The slowest run took 12.27 times longer than the fastest. This could mean that an intermediate result is being cached.\\n1000000 loops, best of 3: 233 ns per loop\\n'}],\n",
       "   u'source': u'%timeit range(10)'},\n",
       "  {u'cell_type': u'code',\n",
       "   u'execution_count': 39,\n",
       "   u'metadata': {u'collapsed': False},\n",
       "   u'outputs': [{u'name': u'stdout',\n",
       "     u'output_type': u'stream',\n",
       "     u'text': u'The slowest run took 6.10 times longer than the fastest. This could mean that an intermediate result is being cached.\\n1000000 loops, best of 3: 921 ns per loop\\n'}],\n",
       "   u'source': u'%%timeit\\nrange(10)\\nrange(100)'},\n",
       "  {u'cell_type': u'code',\n",
       "   u'execution_count': 43,\n",
       "   u'metadata': {u'collapsed': False},\n",
       "   u'outputs': [{u'name': u'stdout',\n",
       "     u'output_type': u'stream',\n",
       "     u'text': u'size: 0The slowest run took 19.37 times longer than the fastest. This could mean that an intermediate result is being cached.\\n10000000 loops, best of 3: 148 ns per loop\\nsize: 1001000000 loops, best of 3: 739 ns per loop\\nsize: 2001000000 loops, best of 3: 1.23 \\xb5s per loop\\nsize: 3001000000 loops, best of 3: 1.8 \\xb5s per loop\\nsize: 400100000 loops, best of 3: 2.75 \\xb5s per loop\\n'}],\n",
       "   u'source': u\"from __future__ import print_function\\nfor i in range(5):\\n    size = i*100\\n    print('size:',size,end=' ')\\n    %timeit range(size)\"},\n",
       "  {u'cell_type': u'code',\n",
       "   u'execution_count': 44,\n",
       "   u'metadata': {u'collapsed': False},\n",
       "   u'outputs': [{u'name': u'stdout',\n",
       "     u'output_type': u'stream',\n",
       "     u'text': u'My shell is: /bin/bash\\nUser: evil_rabbit\\n'}],\n",
       "   u'source': u'%%bash\\necho \"My shell is:\" $SHELL\\necho \"User:\" $USER'},\n",
       "  {u'cell_type': u'code',\n",
       "   u'execution_count': 45,\n",
       "   u'metadata': {u'collapsed': False},\n",
       "   u'outputs': [{u'name': u'stdout',\n",
       "     u'output_type': u'stream',\n",
       "     u'text': u'Writing teest.txt\\n'}],\n",
       "   u'source': u'%%file teest.txt\\nThis is a test file!\\n\\nmore...'},\n",
       "  {u'cell_type': u'code',\n",
       "   u'execution_count': 46,\n",
       "   u'metadata': {u'collapsed': False},\n",
       "   u'outputs': [{u'name': u'stdout',\n",
       "     u'output_type': u'stream',\n",
       "     u'text': u'1W.ipynb  teest.txt\\r\\n'}],\n",
       "   u'source': u'%ls'},\n",
       "  {u'cell_type': u'code',\n",
       "   u'execution_count': 47,\n",
       "   u'metadata': {u'collapsed': False},\n",
       "   u'outputs': [{u'name': u'stdout',\n",
       "     u'output_type': u'stream',\n",
       "     u'text': u'This is a test file!\\r\\n\\r\\nmore...'}],\n",
       "   u'source': u'%cat teest.txt'},\n",
       "  {u'cell_type': u'code',\n",
       "   u'execution_count': 48,\n",
       "   u'metadata': {u'collapsed': False, u'scrolled': True},\n",
       "   u'outputs': [{u'data': {u'application/json': {u'cell': {u'!': u'OSMagics',\n",
       "        u'HTML': u'Other',\n",
       "        u'SVG': u'Other',\n",
       "        u'bash': u'Other',\n",
       "        u'capture': u'ExecutionMagics',\n",
       "        u'debug': u'ExecutionMagics',\n",
       "        u'file': u'Other',\n",
       "        u'html': u'DisplayMagics',\n",
       "        u'javascript': u'DisplayMagics',\n",
       "        u'latex': u'DisplayMagics',\n",
       "        u'perl': u'Other',\n",
       "        u'prun': u'ExecutionMagics',\n",
       "        u'pypy': u'Other',\n",
       "        u'python': u'Other',\n",
       "        u'python2': u'Other',\n",
       "        u'python3': u'Other',\n",
       "        u'ruby': u'Other',\n",
       "        u'script': u'ScriptMagics',\n",
       "        u'sh': u'Other',\n",
       "        u'svg': u'DisplayMagics',\n",
       "        u'sx': u'OSMagics',\n",
       "        u'system': u'OSMagics',\n",
       "        u'time': u'ExecutionMagics',\n",
       "        u'timeit': u'ExecutionMagics',\n",
       "        u'writefile': u'OSMagics'},\n",
       "       u'line': {u'alias': u'OSMagics',\n",
       "        u'alias_magic': u'BasicMagics',\n",
       "        u'autocall': u'AutoMagics',\n",
       "        u'automagic': u'AutoMagics',\n",
       "        u'autosave': u'KernelMagics',\n",
       "        u'bookmark': u'OSMagics',\n",
       "        u'cat': u'Other',\n",
       "        u'cd': u'OSMagics',\n",
       "        u'clear': u'KernelMagics',\n",
       "        u'colors': u'BasicMagics',\n",
       "        u'config': u'ConfigMagics',\n",
       "        u'connect_info': u'KernelMagics',\n",
       "        u'cp': u'Other',\n",
       "        u'debug': u'ExecutionMagics',\n",
       "        u'dhist': u'OSMagics',\n",
       "        u'dirs': u'OSMagics',\n",
       "        u'doctest_mode': u'BasicMagics',\n",
       "        u'ed': u'Other',\n",
       "        u'edit': u'KernelMagics',\n",
       "        u'env': u'OSMagics',\n",
       "        u'gui': u'BasicMagics',\n",
       "        u'hist': u'Other',\n",
       "        u'history': u'HistoryMagics',\n",
       "        u'install_default_config': u'DeprecatedMagics',\n",
       "        u'install_ext': u'ExtensionMagics',\n",
       "        u'install_profiles': u'DeprecatedMagics',\n",
       "        u'killbgscripts': u'ScriptMagics',\n",
       "        u'ldir': u'Other',\n",
       "        u'less': u'KernelMagics',\n",
       "        u'lf': u'Other',\n",
       "        u'lk': u'Other',\n",
       "        u'll': u'Other',\n",
       "        u'load': u'CodeMagics',\n",
       "        u'load_ext': u'ExtensionMagics',\n",
       "        u'loadpy': u'CodeMagics',\n",
       "        u'logoff': u'LoggingMagics',\n",
       "        u'logon': u'LoggingMagics',\n",
       "        u'logstart': u'LoggingMagics',\n",
       "        u'logstate': u'LoggingMagics',\n",
       "        u'logstop': u'LoggingMagics',\n",
       "        u'ls': u'Other',\n",
       "        u'lsmagic': u'BasicMagics',\n",
       "        u'lx': u'Other',\n",
       "        u'macro': u'ExecutionMagics',\n",
       "        u'magic': u'BasicMagics',\n",
       "        u'man': u'KernelMagics',\n",
       "        u'matplotlib': u'PylabMagics',\n",
       "        u'mkdir': u'Other',\n",
       "        u'more': u'KernelMagics',\n",
       "        u'mv': u'Other',\n",
       "        u'notebook': u'BasicMagics',\n",
       "        u'page': u'BasicMagics',\n",
       "        u'pastebin': u'CodeMagics',\n",
       "        u'pdb': u'ExecutionMagics',\n",
       "        u'pdef': u'NamespaceMagics',\n",
       "        u'pdoc': u'NamespaceMagics',\n",
       "        u'pfile': u'NamespaceMagics',\n",
       "        u'pinfo': u'NamespaceMagics',\n",
       "        u'pinfo2': u'NamespaceMagics',\n",
       "        u'popd': u'OSMagics',\n",
       "        u'pprint': u'BasicMagics',\n",
       "        u'precision': u'BasicMagics',\n",
       "        u'profile': u'BasicMagics',\n",
       "        u'prun': u'ExecutionMagics',\n",
       "        u'psearch': u'NamespaceMagics',\n",
       "        u'psource': u'NamespaceMagics',\n",
       "        u'pushd': u'OSMagics',\n",
       "        u'pwd': u'OSMagics',\n",
       "        u'pycat': u'OSMagics',\n",
       "        u'pylab': u'PylabMagics',\n",
       "        u'qtconsole': u'KernelMagics',\n",
       "        u'quickref': u'BasicMagics',\n",
       "        u'recall': u'HistoryMagics',\n",
       "        u'rehashx': u'OSMagics',\n",
       "        u'reload_ext': u'ExtensionMagics',\n",
       "        u'rep': u'Other',\n",
       "        u'rerun': u'HistoryMagics',\n",
       "        u'reset': u'NamespaceMagics',\n",
       "        u'reset_selective': u'NamespaceMagics',\n",
       "        u'rm': u'Other',\n",
       "        u'rmdir': u'Other',\n",
       "        u'run': u'ExecutionMagics',\n",
       "        u'save': u'CodeMagics',\n",
       "        u'sc': u'OSMagics',\n",
       "        u'set_env': u'OSMagics',\n",
       "        u'store': u'StoreMagics',\n",
       "        u'sx': u'OSMagics',\n",
       "        u'system': u'OSMagics',\n",
       "        u'tb': u'ExecutionMagics',\n",
       "        u'time': u'ExecutionMagics',\n",
       "        u'timeit': u'ExecutionMagics',\n",
       "        u'unalias': u'OSMagics',\n",
       "        u'unload_ext': u'ExtensionMagics',\n",
       "        u'who': u'NamespaceMagics',\n",
       "        u'who_ls': u'NamespaceMagics',\n",
       "        u'whos': u'NamespaceMagics',\n",
       "        u'xdel': u'NamespaceMagics',\n",
       "        u'xmode': u'BasicMagics'}},\n",
       "      u'text/plain': u'Available line magics:\\n%alias  %alias_magic  %autocall  %automagic  %autosave  %bookmark  %cat  %cd  %clear  %colors  %config  %connect_info  %cp  %debug  %dhist  %dirs  %doctest_mode  %ed  %edit  %env  %gui  %hist  %history  %install_default_config  %install_ext  %install_profiles  %killbgscripts  %ldir  %less  %lf  %lk  %ll  %load  %load_ext  %loadpy  %logoff  %logon  %logstart  %logstate  %logstop  %ls  %lsmagic  %lx  %macro  %magic  %man  %matplotlib  %mkdir  %more  %mv  %notebook  %page  %pastebin  %pdb  %pdef  %pdoc  %pfile  %pinfo  %pinfo2  %popd  %pprint  %precision  %profile  %prun  %psearch  %psource  %pushd  %pwd  %pycat  %pylab  %qtconsole  %quickref  %recall  %rehashx  %reload_ext  %rep  %rerun  %reset  %reset_selective  %rm  %rmdir  %run  %save  %sc  %set_env  %store  %sx  %system  %tb  %time  %timeit  %unalias  %unload_ext  %who  %who_ls  %whos  %xdel  %xmode\\n\\nAvailable cell magics:\\n%%!  %%HTML  %%SVG  %%bash  %%capture  %%debug  %%file  %%html  %%javascript  %%latex  %%perl  %%prun  %%pypy  %%python  %%python2  %%python3  %%ruby  %%script  %%sh  %%svg  %%sx  %%system  %%time  %%timeit  %%writefile\\n\\nAutomagic is ON, % prefix IS NOT needed for line magics.'},\n",
       "     u'execution_count': 48,\n",
       "     u'metadata': {},\n",
       "     u'output_type': u'execute_result'}],\n",
       "   u'source': u'%lsmagic'},\n",
       "  {u'cell_type': u'markdown',\n",
       "   u'metadata': {},\n",
       "   u'source': u'# Running normal Python code: execution and errors'},\n",
       "  {u'cell_type': u'code',\n",
       "   u'execution_count': 49,\n",
       "   u'metadata': {u'collapsed': False},\n",
       "   u'outputs': [{u'name': u'stdout',\n",
       "     u'output_type': u'stream',\n",
       "     u'text': u'1\\n1\\n2\\n3\\n5\\n8\\n'}],\n",
       "   u'source': u'a,b=0,1\\nwhile b<10:\\n    print(b)\\n    a,b=b,a+b'},\n",
       "  {u'cell_type': u'code',\n",
       "   u'execution_count': 50,\n",
       "   u'metadata': {u'collapsed': False, u'scrolled': True},\n",
       "   u'outputs': [{u'name': u'stdout',\n",
       "     u'output_type': u'stream',\n",
       "     u'text': u'0\\n1\\n2\\n3\\n4\\n'}],\n",
       "   u'source': u'for i in range(5):\\n    print(i)'},\n",
       "  {u'cell_type': u'markdown',\n",
       "   u'metadata': {},\n",
       "   u'source': u'# Plotting in the notebook'},\n",
       "  {u'cell_type': u'code',\n",
       "   u'execution_count': 36,\n",
       "   u'metadata': {u'collapsed': False},\n",
       "   u'outputs': [{u'name': u'stderr',\n",
       "     u'output_type': u'stream',\n",
       "     u'text': u\"/home/evil_rabbit/anaconda2/lib/python2.7/site-packages/matplotlib/font_manager.py:273: UserWarning: Matplotlib is building the font cache using fc-list. This may take a moment.\\n  warnings.warn('Matplotlib is building the font cache using fc-list. This may take a moment.')\\n\"}],\n",
       "   u'source': u'%matplotlib inline'},\n",
       "  {u'cell_type': u'code',\n",
       "   u'execution_count': 37,\n",
       "   u'metadata': {u'collapsed': True},\n",
       "   u'outputs': [],\n",
       "   u'source': u'import numpy as np\\nimport matplotlib.pyplot as plt\\nfrom matplotlib.pyplot import gcf'},\n",
       "  {u'cell_type': u'code',\n",
       "   u'execution_count': 38,\n",
       "   u'metadata': {u'collapsed': False},\n",
       "   u'outputs': [{u'data': {u'image/png': u'iVBORw0KGgoAAAANSUhEUgAAAXwAAAEKCAYAAAARnO4WAAAABHNCSVQICAgIfAhkiAAAAAlwSFlz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\\nE0TwBUEQcoIIviAIQk4QwRcEQcgJ/x/FzXdE0SK6CgAAAABJRU5ErkJggg==\\n',\n",
       "      u'text/plain': u'<matplotlib.figure.Figure at 0x7fd915cd7f10>'},\n",
       "     u'metadata': {},\n",
       "     u'output_type': u'display_data'}],\n",
       "   u'source': u'x = np.linspace(0,2*np.pi,300)\\ny = np.sin(x**2)\\nplt.plot(x,y)\\nplt.title(\"A little chirp\")\\nf = gcf() # let\\'s keep the fingure object around for later...'}],\n",
       " u'metadata': {u'kernelspec': {u'display_name': u'Python 2',\n",
       "   u'language': u'python',\n",
       "   u'name': u'python2'},\n",
       "  u'language_info': {u'codemirror_mode': {u'name': u'ipython', u'version': 2},\n",
       "   u'file_extension': u'.py',\n",
       "   u'mimetype': u'text/x-python',\n",
       "   u'name': u'python',\n",
       "   u'nbconvert_exporter': u'python',\n",
       "   u'pygments_lexer': u'ipython2',\n",
       "   u'version': u'2.7.11'}},\n",
       " u'nbformat': 4,\n",
       " u'nbformat_minor': 0}"
      ]
     },
     "execution_count": 52,
     "metadata": {},
     "output_type": "execute_result"
    }
   ],
   "source": [
    "nb"
   ]
  },
  {
   "cell_type": "code",
   "execution_count": null,
   "metadata": {
    "collapsed": true
   },
   "outputs": [],
   "source": []
  }
 ],
 "metadata": {
  "kernelspec": {
   "display_name": "Python 2",
   "language": "python",
   "name": "python2"
  },
  "language_info": {
   "codemirror_mode": {
    "name": "ipython",
    "version": 2
   },
   "file_extension": ".py",
   "mimetype": "text/x-python",
   "name": "python",
   "nbconvert_exporter": "python",
   "pygments_lexer": "ipython2",
   "version": "2.7.11"
  }
 },
 "nbformat": 4,
 "nbformat_minor": 0
}
