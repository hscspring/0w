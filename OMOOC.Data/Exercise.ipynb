{
 "cells": [
  {
   "cell_type": "code",
   "execution_count": 2,
   "metadata": {
    "collapsed": false
   },
   "outputs": [],
   "source": [
    "from pandas_datareader import data, wb"
   ]
  },
  {
   "cell_type": "code",
   "execution_count": 3,
   "metadata": {
    "collapsed": true
   },
   "outputs": [],
   "source": [
    "import datetime"
   ]
  },
  {
   "cell_type": "code",
   "execution_count": 4,
   "metadata": {
    "collapsed": true
   },
   "outputs": [],
   "source": [
    "start = datetime.datetime(2015,5,29)"
   ]
  },
  {
   "cell_type": "code",
   "execution_count": 13,
   "metadata": {
    "collapsed": true
   },
   "outputs": [],
   "source": [
    "end = datetime.datetime(2016,6,3)"
   ]
  },
  {
   "cell_type": "code",
   "execution_count": 9,
   "metadata": {
    "collapsed": false
   },
   "outputs": [],
   "source": [
    "sh = data.DataReader(\"000001.SS\", 'yahoo', start, end)"
   ]
  },
  {
   "cell_type": "code",
   "execution_count": 14,
   "metadata": {
    "collapsed": false
   },
   "outputs": [],
   "source": [
    "kd = data.DataReader(\"002230.SZ\", 'yahoo', start, end)"
   ]
  },
  {
   "cell_type": "code",
   "execution_count": 15,
   "metadata": {
    "collapsed": false
   },
   "outputs": [
    {
     "data": {
      "text/html": [
       "<div>\n",
       "<table border=\"1\" class=\"dataframe\">\n",
       "  <thead>\n",
       "    <tr style=\"text-align: right;\">\n",
       "      <th></th>\n",
       "      <th>Open</th>\n",
       "      <th>High</th>\n",
       "      <th>Low</th>\n",
       "      <th>Close</th>\n",
       "      <th>Volume</th>\n",
       "      <th>Adj Close</th>\n",
       "    </tr>\n",
       "    <tr>\n",
       "      <th>Date</th>\n",
       "      <th></th>\n",
       "      <th></th>\n",
       "      <th></th>\n",
       "      <th></th>\n",
       "      <th></th>\n",
       "      <th></th>\n",
       "    </tr>\n",
       "  </thead>\n",
       "  <tbody>\n",
       "    <tr>\n",
       "      <th>2016-05-30</th>\n",
       "      <td>27.22</td>\n",
       "      <td>27.30</td>\n",
       "      <td>26.71</td>\n",
       "      <td>26.88</td>\n",
       "      <td>17024700</td>\n",
       "      <td>26.88</td>\n",
       "    </tr>\n",
       "    <tr>\n",
       "      <th>2016-05-31</th>\n",
       "      <td>27.11</td>\n",
       "      <td>29.26</td>\n",
       "      <td>27.11</td>\n",
       "      <td>29.03</td>\n",
       "      <td>41050200</td>\n",
       "      <td>29.03</td>\n",
       "    </tr>\n",
       "    <tr>\n",
       "      <th>2016-06-01</th>\n",
       "      <td>29.06</td>\n",
       "      <td>29.86</td>\n",
       "      <td>29.06</td>\n",
       "      <td>29.36</td>\n",
       "      <td>43255500</td>\n",
       "      <td>29.36</td>\n",
       "    </tr>\n",
       "    <tr>\n",
       "      <th>2016-06-02</th>\n",
       "      <td>29.22</td>\n",
       "      <td>29.58</td>\n",
       "      <td>29.00</td>\n",
       "      <td>29.47</td>\n",
       "      <td>27318800</td>\n",
       "      <td>29.47</td>\n",
       "    </tr>\n",
       "    <tr>\n",
       "      <th>2016-06-03</th>\n",
       "      <td>29.56</td>\n",
       "      <td>32.20</td>\n",
       "      <td>29.56</td>\n",
       "      <td>31.01</td>\n",
       "      <td>64923800</td>\n",
       "      <td>31.01</td>\n",
       "    </tr>\n",
       "  </tbody>\n",
       "</table>\n",
       "</div>"
      ],
      "text/plain": [
       "             Open   High    Low  Close    Volume  Adj Close\n",
       "Date                                                       \n",
       "2016-05-30  27.22  27.30  26.71  26.88  17024700      26.88\n",
       "2016-05-31  27.11  29.26  27.11  29.03  41050200      29.03\n",
       "2016-06-01  29.06  29.86  29.06  29.36  43255500      29.36\n",
       "2016-06-02  29.22  29.58  29.00  29.47  27318800      29.47\n",
       "2016-06-03  29.56  32.20  29.56  31.01  64923800      31.01"
      ]
     },
     "execution_count": 15,
     "metadata": {},
     "output_type": "execute_result"
    }
   ],
   "source": [
    "kd.tail()"
   ]
  },
  {
   "cell_type": "code",
   "execution_count": 1,
   "metadata": {
    "collapsed": true
   },
   "outputs": [],
   "source": [
    "import statsmodels.api as sm\n",
    "import statsmodels.formula.api as smf\n",
    "import statsmodels.graphics.api as smg\n",
    "import patsy\n",
    "%matplotlib inline\n",
    "import matplotlib.pyplot as plt\n",
    "import numpy as np\n",
    "import pandas as pd\n",
    "from scipy import stats\n",
    "import seaborn as sns"
   ]
  },
  {
   "cell_type": "code",
   "execution_count": 6,
   "metadata": {
    "collapsed": true
   },
   "outputs": [],
   "source": [
    "from collections import defaultdict"
   ]
  },
  {
   "cell_type": "code",
   "execution_count": 7,
   "metadata": {
    "collapsed": false,
    "scrolled": true
   },
   "outputs": [],
   "source": [
    "data = defaultdict(lambda: np.array([1,2,3]))"
   ]
  },
  {
   "cell_type": "code",
   "execution_count": 8,
   "metadata": {
    "collapsed": false
   },
   "outputs": [
    {
     "data": {
      "text/plain": [
       "(DesignMatrix with shape (3, 1)\n",
       "   y\n",
       "   1\n",
       "   2\n",
       "   3\n",
       "   Terms:\n",
       "     'y' (column 0),\n",
       " DesignMatrix with shape (3, 7)\n",
       "   Intercept  a  b  a:b  c  a:c  b:c\n",
       "           1  1  1    1  1    1    1\n",
       "           1  2  2    4  2    4    4\n",
       "           1  3  3    9  3    9    9\n",
       "   Terms:\n",
       "     'Intercept' (column 0)\n",
       "     'a' (column 1)\n",
       "     'b' (column 2)\n",
       "     'a:b' (column 3)\n",
       "     'c' (column 4)\n",
       "     'a:c' (column 5)\n",
       "     'b:c' (column 6))"
      ]
     },
     "execution_count": 8,
     "metadata": {},
     "output_type": "execute_result"
    }
   ],
   "source": [
    "patsy.dmatrices(\"y ~ a * b * c - a:b:c\",data=data)"
   ]
  },
  {
   "cell_type": "code",
   "execution_count": 11,
   "metadata": {
    "collapsed": false
   },
   "outputs": [
    {
     "data": {
      "text/plain": [
       "(DesignMatrix with shape (3, 1)\n",
       "   y\n",
       "   1\n",
       "   2\n",
       "   3\n",
       "   Terms:\n",
       "     'y' (column 0),\n",
       " DesignMatrix with shape (3, 4)\n",
       "   Intercept  x1  x2  x1:x2\n",
       "           1   1   1      1\n",
       "           1   2   2      4\n",
       "           1   3   3      9\n",
       "   Terms:\n",
       "     'Intercept' (column 0)\n",
       "     'x1' (column 1)\n",
       "     'x2' (column 2)\n",
       "     'x1:x2' (column 3))"
      ]
     },
     "execution_count": 11,
     "metadata": {},
     "output_type": "execute_result"
    }
   ],
   "source": [
    "patsy.dmatrices(\"y ~ 1+x1*x2\",data=data)"
   ]
  },
  {
   "cell_type": "code",
   "execution_count": null,
   "metadata": {
    "collapsed": true
   },
   "outputs": [],
   "source": []
  }
 ],
 "metadata": {
  "kernelspec": {
   "display_name": "Python 2",
   "language": "python",
   "name": "python2"
  },
  "language_info": {
   "codemirror_mode": {
    "name": "ipython",
    "version": 2
   },
   "file_extension": ".py",
   "mimetype": "text/x-python",
   "name": "python",
   "nbconvert_exporter": "python",
   "pygments_lexer": "ipython2",
   "version": "2.7.11"
  }
 },
 "nbformat": 4,
 "nbformat_minor": 0
}
