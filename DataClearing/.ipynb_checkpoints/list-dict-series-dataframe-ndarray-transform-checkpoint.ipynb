{
 "cells": [
  {
   "cell_type": "markdown",
   "metadata": {},
   "source": [
    "# List, Dict, Array, Series, DataFrame 相互转换"
   ]
  },
  {
   "cell_type": "markdown",
   "metadata": {},
   "source": [
    "## 概要\n",
    "\n",
    "- dict to series\n",
    "- dict to dataframe\n",
    "- list to series\n",
    "- list to dataframe\n",
    "- list to array\n",
    "- array to dataframe\n",
    "- series to array\n",
    "- dataframe to array\n",
    "- dataframe to dict"
   ]
  },
  {
   "cell_type": "markdown",
   "metadata": {},
   "source": [
    "## 1. 输入 Dict\n",
    "\n",
    "- dict to series\n",
    "- dict to dataframe"
   ]
  },
  {
   "cell_type": "code",
   "execution_count": 98,
   "metadata": {
    "collapsed": false
   },
   "outputs": [],
   "source": [
    "#coding:utf-8\n",
    "\n",
    "import numpy as np\n",
    "import pandas as pd\n",
    "from pandas import Series, DataFrame\n",
    "\n",
    "# dict\n",
    "data = { 'state': ['Ohino', 'Ohino', 'Ohino', 'Nevada', 'Nevada'],\n",
    "         'year': [2000, 2001, 2002, 2001, 2002],\n",
    "         'pop': [1.5, 1.7, 3.6, 2.4, 2.9]}  # type(data) 为 dict\n",
    "\n",
    "# dict to series，若不指定 index，data 的 key 充当 Series 的 index\n",
    "ser = Series(data)\n",
    "\n",
    "# dict to dataframe，若不指定 columns，data 的 key 充当 DataFrame 的 columns\n",
    "df = DataFrame(data)"
   ]
  },
  {
   "cell_type": "code",
   "execution_count": 99,
   "metadata": {
    "collapsed": false
   },
   "outputs": [
    {
     "data": {
      "text/plain": [
       "{'pop': [1.5, 1.7, 3.6, 2.4, 2.9],\n",
       " 'state': ['Ohino', 'Ohino', 'Ohino', 'Nevada', 'Nevada'],\n",
       " 'year': [2000, 2001, 2002, 2001, 2002]}"
      ]
     },
     "execution_count": 99,
     "metadata": {},
     "output_type": "execute_result"
    }
   ],
   "source": [
    "data"
   ]
  },
  {
   "cell_type": "code",
   "execution_count": 45,
   "metadata": {
    "collapsed": false,
    "scrolled": false
   },
   "outputs": [
    {
     "data": {
      "text/plain": [
       "pop                  [1.5, 1.7, 3.6, 2.4, 2.9]\n",
       "state    [Ohino, Ohino, Ohino, Nevada, Nevada]\n",
       "year            [2000, 2001, 2002, 2001, 2002]\n",
       "dtype: object"
      ]
     },
     "execution_count": 45,
     "metadata": {},
     "output_type": "execute_result"
    }
   ],
   "source": [
    "# dict to series，若不指定 index，data 的 key 充当 Series 的 index\n",
    "ser = Series(data)\n",
    "ser"
   ]
  },
  {
   "cell_type": "code",
   "execution_count": 46,
   "metadata": {
    "collapsed": false
   },
   "outputs": [
    {
     "data": {
      "text/plain": [
       "(3,)"
      ]
     },
     "execution_count": 46,
     "metadata": {},
     "output_type": "execute_result"
    }
   ],
   "source": [
    "ser.shape"
   ]
  },
  {
   "cell_type": "code",
   "execution_count": 50,
   "metadata": {
    "collapsed": false,
    "scrolled": true
   },
   "outputs": [
    {
     "data": {
      "text/html": [
       "<div>\n",
       "<table border=\"1\" class=\"dataframe\">\n",
       "  <thead>\n",
       "    <tr style=\"text-align: right;\">\n",
       "      <th></th>\n",
       "      <th>pop</th>\n",
       "      <th>state</th>\n",
       "      <th>year</th>\n",
       "    </tr>\n",
       "  </thead>\n",
       "  <tbody>\n",
       "    <tr>\n",
       "      <th>0</th>\n",
       "      <td>1.5</td>\n",
       "      <td>Ohino</td>\n",
       "      <td>2000</td>\n",
       "    </tr>\n",
       "    <tr>\n",
       "      <th>1</th>\n",
       "      <td>1.7</td>\n",
       "      <td>Ohino</td>\n",
       "      <td>2001</td>\n",
       "    </tr>\n",
       "    <tr>\n",
       "      <th>2</th>\n",
       "      <td>3.6</td>\n",
       "      <td>Ohino</td>\n",
       "      <td>2002</td>\n",
       "    </tr>\n",
       "    <tr>\n",
       "      <th>3</th>\n",
       "      <td>2.4</td>\n",
       "      <td>Nevada</td>\n",
       "      <td>2001</td>\n",
       "    </tr>\n",
       "    <tr>\n",
       "      <th>4</th>\n",
       "      <td>2.9</td>\n",
       "      <td>Nevada</td>\n",
       "      <td>2002</td>\n",
       "    </tr>\n",
       "  </tbody>\n",
       "</table>\n",
       "</div>"
      ],
      "text/plain": [
       "   pop   state  year\n",
       "0  1.5   Ohino  2000\n",
       "1  1.7   Ohino  2001\n",
       "2  3.6   Ohino  2002\n",
       "3  2.4  Nevada  2001\n",
       "4  2.9  Nevada  2002"
      ]
     },
     "execution_count": 50,
     "metadata": {},
     "output_type": "execute_result"
    }
   ],
   "source": [
    "# dict to dataframe，若不指定 columns，data 的 key 充当 DataFrame 的 columns\n",
    "df = DataFrame(data)\n",
    "df"
   ]
  },
  {
   "cell_type": "markdown",
   "metadata": {},
   "source": [
    "## 2. 输入 List\n",
    "\n",
    "- list to series\n",
    "- list to dataframe\n",
    "- list to array"
   ]
  },
  {
   "cell_type": "code",
   "execution_count": 99,
   "metadata": {
    "collapsed": false
   },
   "outputs": [],
   "source": [
    "#coding:utf-8\n",
    "\n",
    "import numpy as np\n",
    "import pandas as pd\n",
    "from pandas import Series, DataFrame\n",
    "\n",
    "# list\n",
    "data = [[2000, 'Ohino', 1.5],\n",
    "        [2001, 'Ohino', 1.7],\n",
    "        [2002, 'Ohino', 3.6],\n",
    "        [2001, 'Nevada', 2.4],\n",
    "        [2002, 'Nevada', 2.9]]  # type(data) 为 list\n",
    "\n",
    "# list to series\n",
    "ser = Series(data, index = ['one', 'two', 'three', 'four', 'five'])\n",
    "\n",
    "# list to dataframe\n",
    "df = DataFrame(data, index = ['one', 'two', 'three', 'four', 'five'], columns = ['year', 'state', 'pop'])\n",
    "\n",
    "# list to array\n",
    "ndarray = np.array(data)"
   ]
  },
  {
   "cell_type": "code",
   "execution_count": 17,
   "metadata": {
    "collapsed": false
   },
   "outputs": [
    {
     "data": {
      "text/plain": [
       "list"
      ]
     },
     "execution_count": 17,
     "metadata": {},
     "output_type": "execute_result"
    }
   ],
   "source": [
    "type(data)"
   ]
  },
  {
   "cell_type": "code",
   "execution_count": 6,
   "metadata": {
    "collapsed": false
   },
   "outputs": [
    {
     "data": {
      "text/plain": [
       "[[2000, 'Ohino', 1.5],\n",
       " [2001, 'Ohino', 1.7],\n",
       " [2002, 'Ohino', 3.6],\n",
       " [2001, 'Nevada', 2.4],\n",
       " [2002, 'Nevada, 2.9']]"
      ]
     },
     "execution_count": 6,
     "metadata": {},
     "output_type": "execute_result"
    }
   ],
   "source": [
    "data"
   ]
  },
  {
   "cell_type": "code",
   "execution_count": 7,
   "metadata": {
    "collapsed": false
   },
   "outputs": [
    {
     "data": {
      "text/plain": [
       "one       [2000, Ohino, 1.5]\n",
       "two       [2001, Ohino, 1.7]\n",
       "three     [2002, Ohino, 3.6]\n",
       "four     [2001, Nevada, 2.4]\n",
       "five     [2002, Nevada, 2.9]\n",
       "dtype: object"
      ]
     },
     "execution_count": 7,
     "metadata": {},
     "output_type": "execute_result"
    }
   ],
   "source": [
    "# list to series\n",
    "ser = Series(data, index = ['one', 'two', 'three', 'four', 'five'])\n",
    "ser"
   ]
  },
  {
   "cell_type": "code",
   "execution_count": 25,
   "metadata": {
    "collapsed": false
   },
   "outputs": [
    {
     "data": {
      "text/plain": [
       "pandas.core.series.Series"
      ]
     },
     "execution_count": 25,
     "metadata": {},
     "output_type": "execute_result"
    }
   ],
   "source": [
    "type(ser)"
   ]
  },
  {
   "cell_type": "code",
   "execution_count": 26,
   "metadata": {
    "collapsed": false
   },
   "outputs": [
    {
     "data": {
      "text/plain": [
       "(5,)"
      ]
     },
     "execution_count": 26,
     "metadata": {},
     "output_type": "execute_result"
    }
   ],
   "source": [
    "ser.shape"
   ]
  },
  {
   "cell_type": "code",
   "execution_count": 53,
   "metadata": {
    "collapsed": false
   },
   "outputs": [
    {
     "data": {
      "text/html": [
       "<div>\n",
       "<table border=\"1\" class=\"dataframe\">\n",
       "  <thead>\n",
       "    <tr style=\"text-align: right;\">\n",
       "      <th></th>\n",
       "      <th>year</th>\n",
       "      <th>state</th>\n",
       "      <th>pop</th>\n",
       "    </tr>\n",
       "  </thead>\n",
       "  <tbody>\n",
       "    <tr>\n",
       "      <th>one</th>\n",
       "      <td>2000</td>\n",
       "      <td>Ohino</td>\n",
       "      <td>1.5</td>\n",
       "    </tr>\n",
       "    <tr>\n",
       "      <th>two</th>\n",
       "      <td>2001</td>\n",
       "      <td>Ohino</td>\n",
       "      <td>1.7</td>\n",
       "    </tr>\n",
       "    <tr>\n",
       "      <th>three</th>\n",
       "      <td>2002</td>\n",
       "      <td>Ohino</td>\n",
       "      <td>3.6</td>\n",
       "    </tr>\n",
       "    <tr>\n",
       "      <th>four</th>\n",
       "      <td>2001</td>\n",
       "      <td>Nevada</td>\n",
       "      <td>2.4</td>\n",
       "    </tr>\n",
       "    <tr>\n",
       "      <th>five</th>\n",
       "      <td>2002</td>\n",
       "      <td>Nevada</td>\n",
       "      <td>2.9</td>\n",
       "    </tr>\n",
       "  </tbody>\n",
       "</table>\n",
       "</div>"
      ],
      "text/plain": [
       "       year   state  pop\n",
       "one    2000   Ohino  1.5\n",
       "two    2001   Ohino  1.7\n",
       "three  2002   Ohino  3.6\n",
       "four   2001  Nevada  2.4\n",
       "five   2002  Nevada  2.9"
      ]
     },
     "execution_count": 53,
     "metadata": {},
     "output_type": "execute_result"
    }
   ],
   "source": [
    "# list to dataframe\n",
    "df = DataFrame(data, index = ['one', 'two', 'three', 'four', 'five'], columns = ['year', 'state', 'pop'])\n",
    "df"
   ]
  },
  {
   "cell_type": "code",
   "execution_count": 56,
   "metadata": {
    "collapsed": false
   },
   "outputs": [
    {
     "data": {
      "text/plain": [
       "pandas.core.frame.DataFrame"
      ]
     },
     "execution_count": 56,
     "metadata": {},
     "output_type": "execute_result"
    }
   ],
   "source": [
    "type(df)"
   ]
  },
  {
   "cell_type": "code",
   "execution_count": 54,
   "metadata": {
    "collapsed": false
   },
   "outputs": [
    {
     "data": {
      "text/plain": [
       "(5, 3)"
      ]
     },
     "execution_count": 54,
     "metadata": {},
     "output_type": "execute_result"
    }
   ],
   "source": [
    "df.shape"
   ]
  },
  {
   "cell_type": "code",
   "execution_count": 57,
   "metadata": {
    "collapsed": false
   },
   "outputs": [
    {
     "data": {
      "text/plain": [
       "array([['2000', 'Ohino', '1.5'],\n",
       "       ['2001', 'Ohino', '1.7'],\n",
       "       ['2002', 'Ohino', '3.6'],\n",
       "       ['2001', 'Nevada', '2.4'],\n",
       "       ['2002', 'Nevada', '2.9']], \n",
       "      dtype='|S21')"
      ]
     },
     "execution_count": 57,
     "metadata": {},
     "output_type": "execute_result"
    }
   ],
   "source": [
    "# list to ndarray\n",
    "ndarray = np.array(data)\n",
    "ndarray"
   ]
  },
  {
   "cell_type": "code",
   "execution_count": 58,
   "metadata": {
    "collapsed": false
   },
   "outputs": [
    {
     "data": {
      "text/plain": [
       "(5, 3)"
      ]
     },
     "execution_count": 58,
     "metadata": {},
     "output_type": "execute_result"
    }
   ],
   "source": [
    "ndarray.shape"
   ]
  },
  {
   "cell_type": "markdown",
   "metadata": {},
   "source": [
    "## 3 输入 Array\n",
    "\n",
    "- array to dataframe"
   ]
  },
  {
   "cell_type": "code",
   "execution_count": 90,
   "metadata": {
    "collapsed": false
   },
   "outputs": [],
   "source": [
    "#coding:utf-8\n",
    "\n",
    "import numpy as np\n",
    "import pandas as pd\n",
    "from pandas import Series, DataFrame\n",
    "\n",
    "# list\n",
    "data = [[2000, 'Ohino', 1.5],\n",
    "        [2001, 'Ohino', 1.7],\n",
    "        [2002, 'Ohino', 3.6],\n",
    "        [2001, 'Nevada', 2.4],\n",
    "        [2002, 'Nevada', 2.9]]  # type(data) 为 list\n",
    "\n",
    "# list to array\n",
    "ndarray = np.array(data)\n",
    "\n",
    "# array to dataframe\n",
    "pd = DataFrame(ndarray, index = ['one', 'two', 'three', 'four', 'five'], columns = ['year', 'state', 'pop'])"
   ]
  },
  {
   "cell_type": "code",
   "execution_count": 87,
   "metadata": {
    "collapsed": false
   },
   "outputs": [
    {
     "data": {
      "text/plain": [
       "array([['2000', 'Ohino', '1.5'],\n",
       "       ['2001', 'Ohino', '1.7'],\n",
       "       ['2002', 'Ohino', '3.6'],\n",
       "       ['2001', 'Nevada', '2.4'],\n",
       "       ['2002', 'Nevada', '2.9']], \n",
       "      dtype='|S21')"
      ]
     },
     "execution_count": 87,
     "metadata": {},
     "output_type": "execute_result"
    }
   ],
   "source": [
    "ndarray\n",
    "# 注意：array 中所有数据类型均是一样的"
   ]
  },
  {
   "cell_type": "code",
   "execution_count": 88,
   "metadata": {
    "collapsed": false
   },
   "outputs": [
    {
     "data": {
      "text/html": [
       "<div>\n",
       "<table border=\"1\" class=\"dataframe\">\n",
       "  <thead>\n",
       "    <tr style=\"text-align: right;\">\n",
       "      <th></th>\n",
       "      <th>year</th>\n",
       "      <th>state</th>\n",
       "      <th>pop</th>\n",
       "    </tr>\n",
       "  </thead>\n",
       "  <tbody>\n",
       "    <tr>\n",
       "      <th>one</th>\n",
       "      <td>2000</td>\n",
       "      <td>Ohino</td>\n",
       "      <td>1.5</td>\n",
       "    </tr>\n",
       "    <tr>\n",
       "      <th>two</th>\n",
       "      <td>2001</td>\n",
       "      <td>Ohino</td>\n",
       "      <td>1.7</td>\n",
       "    </tr>\n",
       "    <tr>\n",
       "      <th>three</th>\n",
       "      <td>2002</td>\n",
       "      <td>Ohino</td>\n",
       "      <td>3.6</td>\n",
       "    </tr>\n",
       "    <tr>\n",
       "      <th>four</th>\n",
       "      <td>2001</td>\n",
       "      <td>Nevada</td>\n",
       "      <td>2.4</td>\n",
       "    </tr>\n",
       "    <tr>\n",
       "      <th>five</th>\n",
       "      <td>2002</td>\n",
       "      <td>Nevada</td>\n",
       "      <td>2.9</td>\n",
       "    </tr>\n",
       "  </tbody>\n",
       "</table>\n",
       "</div>"
      ],
      "text/plain": [
       "       year   state  pop\n",
       "one    2000   Ohino  1.5\n",
       "two    2001   Ohino  1.7\n",
       "three  2002   Ohino  3.6\n",
       "four   2001  Nevada  2.4\n",
       "five   2002  Nevada  2.9"
      ]
     },
     "execution_count": 88,
     "metadata": {},
     "output_type": "execute_result"
    }
   ],
   "source": [
    "pd"
   ]
  },
  {
   "cell_type": "markdown",
   "metadata": {},
   "source": [
    "## 4. 输入 DataFrame  \n",
    "\n",
    "- series to array\n",
    "- dataframe to array\n",
    "- dataframe to dict"
   ]
  },
  {
   "cell_type": "code",
   "execution_count": 1,
   "metadata": {
    "collapsed": false
   },
   "outputs": [],
   "source": [
    "#coding:utf-8\n",
    "\n",
    "import numpy as np\n",
    "import pandas as pd\n",
    "from pandas import Series, DataFrame\n",
    "\n",
    "# list\n",
    "data = [[2000, 'Ohino', 1.5],\n",
    "        [2001, 'Ohino', 1.7],\n",
    "        [2002, 'Ohino', 3.6],\n",
    "        [2001, 'Nevada', 2.4],\n",
    "        [2002, 'Nevada', 2.9]]  # type(data) 为 list\n",
    "\n",
    "# list to series\n",
    "ser = Series(data, index = ['one', 'two', 'three', 'four', 'five'])\n",
    "\n",
    "# list to dataframe\n",
    "df = DataFrame(data, index = ['one', 'two', 'three', 'four', 'five'], columns = ['year', 'state', 'pop'])\n",
    "\n",
    "\n",
    "\n",
    "# series to array\n",
    "foo = ser.as_matrix()\n",
    "foo0 = Series.as_matrix(ser)\n",
    "\n",
    "# dataframe to array, foo2 foo3 foo4 结果相同\n",
    "foo1 = DataFrame.as_matrix(df)\n",
    "foo2 = df.as_matrix()\n",
    "foo3 = df.values\n",
    "foo4 = np.array(df)\n",
    "\n",
    "foo5 = df.as_matrix([\"pop\"])\n",
    "\n",
    "# dataframe to dict\n",
    "# outtype 的参数为 ‘dict’、‘list’、‘series’ 和 ‘records’。 \n",
    "# dict 返回的是 dict of dict；list 返回的是列表的字典；series 返回的是序列的字典；records 返回的是字典的列表\n",
    "df1 = df.to_dict(orient='dict')\n",
    "df2 = df.to_dict(orient='list')\n",
    "df3 = df.to_dict(orient='series')\n",
    "df4 = df.to_dict(orient='records')"
   ]
  },
  {
   "cell_type": "code",
   "execution_count": 59,
   "metadata": {
    "collapsed": true
   },
   "outputs": [],
   "source": [
    "# series to ndarray\n",
    "foo = ser.as_matrix()\n",
    "foo0 = Series.as_matrix(ser)"
   ]
  },
  {
   "cell_type": "code",
   "execution_count": 60,
   "metadata": {
    "collapsed": false,
    "scrolled": true
   },
   "outputs": [
    {
     "data": {
      "text/plain": [
       "array([[2000, 'Ohino', 1.5], [2001, 'Ohino', 1.7], [2002, 'Ohino', 3.6],\n",
       "       [2001, 'Nevada', 2.4], [2002, 'Nevada', 2.9]], dtype=object)"
      ]
     },
     "execution_count": 60,
     "metadata": {},
     "output_type": "execute_result"
    }
   ],
   "source": [
    "foo"
   ]
  },
  {
   "cell_type": "code",
   "execution_count": 61,
   "metadata": {
    "collapsed": false
   },
   "outputs": [
    {
     "data": {
      "text/plain": [
       "array([[2000, 'Ohino', 1.5], [2001, 'Ohino', 1.7], [2002, 'Ohino', 3.6],\n",
       "       [2001, 'Nevada', 2.4], [2002, 'Nevada', 2.9]], dtype=object)"
      ]
     },
     "execution_count": 61,
     "metadata": {},
     "output_type": "execute_result"
    }
   ],
   "source": [
    "foo0"
   ]
  },
  {
   "cell_type": "code",
   "execution_count": 62,
   "metadata": {
    "collapsed": false
   },
   "outputs": [
    {
     "data": {
      "text/plain": [
       "numpy.ndarray"
      ]
     },
     "execution_count": 62,
     "metadata": {},
     "output_type": "execute_result"
    }
   ],
   "source": [
    "type(foo)"
   ]
  },
  {
   "cell_type": "code",
   "execution_count": 63,
   "metadata": {
    "collapsed": false,
    "scrolled": true
   },
   "outputs": [
    {
     "data": {
      "text/plain": [
       "((5,), (5,))"
      ]
     },
     "execution_count": 63,
     "metadata": {},
     "output_type": "execute_result"
    }
   ],
   "source": [
    "foo.shape, foo0.shape"
   ]
  },
  {
   "cell_type": "code",
   "execution_count": 64,
   "metadata": {
    "collapsed": true
   },
   "outputs": [],
   "source": [
    "# dataframe to ndarray foo2 foo3 foo4 结果相同\n",
    "foo1 = DataFrame.as_matrix(df)\n",
    "foo2 = df.as_matrix()\n",
    "foo3 = df.values\n",
    "foo4 = np.array(df)\n",
    "\n",
    "foo5 = df.as_matrix([\"pop\"])"
   ]
  },
  {
   "cell_type": "code",
   "execution_count": 65,
   "metadata": {
    "collapsed": false
   },
   "outputs": [
    {
     "data": {
      "text/plain": [
       "array([[2000, 'Ohino', 1.5],\n",
       "       [2001, 'Ohino', 1.7],\n",
       "       [2002, 'Ohino', 3.6],\n",
       "       [2001, 'Nevada', 2.4],\n",
       "       [2002, 'Nevada', 2.9]], dtype=object)"
      ]
     },
     "execution_count": 65,
     "metadata": {},
     "output_type": "execute_result"
    }
   ],
   "source": [
    "foo1"
   ]
  },
  {
   "cell_type": "code",
   "execution_count": 66,
   "metadata": {
    "collapsed": false
   },
   "outputs": [
    {
     "data": {
      "text/plain": [
       "array([[2000, 'Ohino', 1.5],\n",
       "       [2001, 'Ohino', 1.7],\n",
       "       [2002, 'Ohino', 3.6],\n",
       "       [2001, 'Nevada', 2.4],\n",
       "       [2002, 'Nevada', 2.9]], dtype=object)"
      ]
     },
     "execution_count": 66,
     "metadata": {},
     "output_type": "execute_result"
    }
   ],
   "source": [
    "foo2"
   ]
  },
  {
   "cell_type": "code",
   "execution_count": 67,
   "metadata": {
    "collapsed": false
   },
   "outputs": [
    {
     "data": {
      "text/plain": [
       "array([[2000, 'Ohino', 1.5],\n",
       "       [2001, 'Ohino', 1.7],\n",
       "       [2002, 'Ohino', 3.6],\n",
       "       [2001, 'Nevada', 2.4],\n",
       "       [2002, 'Nevada', 2.9]], dtype=object)"
      ]
     },
     "execution_count": 67,
     "metadata": {},
     "output_type": "execute_result"
    }
   ],
   "source": [
    "foo3"
   ]
  },
  {
   "cell_type": "code",
   "execution_count": 68,
   "metadata": {
    "collapsed": false
   },
   "outputs": [
    {
     "data": {
      "text/plain": [
       "array([[2000, 'Ohino', 1.5],\n",
       "       [2001, 'Ohino', 1.7],\n",
       "       [2002, 'Ohino', 3.6],\n",
       "       [2001, 'Nevada', 2.4],\n",
       "       [2002, 'Nevada', 2.9]], dtype=object)"
      ]
     },
     "execution_count": 68,
     "metadata": {},
     "output_type": "execute_result"
    }
   ],
   "source": [
    "foo4"
   ]
  },
  {
   "cell_type": "code",
   "execution_count": 69,
   "metadata": {
    "collapsed": false
   },
   "outputs": [
    {
     "data": {
      "text/plain": [
       "array([[ 1.5],\n",
       "       [ 1.7],\n",
       "       [ 3.6],\n",
       "       [ 2.4],\n",
       "       [ 2.9]])"
      ]
     },
     "execution_count": 69,
     "metadata": {},
     "output_type": "execute_result"
    }
   ],
   "source": [
    "foo5"
   ]
  },
  {
   "cell_type": "code",
   "execution_count": 70,
   "metadata": {
    "collapsed": false
   },
   "outputs": [
    {
     "data": {
      "text/plain": [
       "((5, 3), (5, 3), (5, 3), (5, 3), (5, 1))"
      ]
     },
     "execution_count": 70,
     "metadata": {},
     "output_type": "execute_result"
    }
   ],
   "source": [
    "foo1.shape, foo2.shape, foo3.shape, foo4.shape, foo5.shape"
   ]
  },
  {
   "cell_type": "code",
   "execution_count": 104,
   "metadata": {
    "collapsed": false
   },
   "outputs": [
    {
     "data": {
      "text/html": [
       "<div>\n",
       "<table border=\"1\" class=\"dataframe\">\n",
       "  <thead>\n",
       "    <tr style=\"text-align: right;\">\n",
       "      <th></th>\n",
       "      <th>year</th>\n",
       "      <th>state</th>\n",
       "      <th>pop</th>\n",
       "    </tr>\n",
       "  </thead>\n",
       "  <tbody>\n",
       "    <tr>\n",
       "      <th>one</th>\n",
       "      <td>2000</td>\n",
       "      <td>Ohino</td>\n",
       "      <td>1.5</td>\n",
       "    </tr>\n",
       "    <tr>\n",
       "      <th>two</th>\n",
       "      <td>2001</td>\n",
       "      <td>Ohino</td>\n",
       "      <td>1.7</td>\n",
       "    </tr>\n",
       "    <tr>\n",
       "      <th>three</th>\n",
       "      <td>2002</td>\n",
       "      <td>Ohino</td>\n",
       "      <td>3.6</td>\n",
       "    </tr>\n",
       "    <tr>\n",
       "      <th>four</th>\n",
       "      <td>2001</td>\n",
       "      <td>Nevada</td>\n",
       "      <td>2.4</td>\n",
       "    </tr>\n",
       "    <tr>\n",
       "      <th>five</th>\n",
       "      <td>2002</td>\n",
       "      <td>Nevada</td>\n",
       "      <td>2.9</td>\n",
       "    </tr>\n",
       "  </tbody>\n",
       "</table>\n",
       "</div>"
      ],
      "text/plain": [
       "       year   state  pop\n",
       "one    2000   Ohino  1.5\n",
       "two    2001   Ohino  1.7\n",
       "three  2002   Ohino  3.6\n",
       "four   2001  Nevada  2.4\n",
       "five   2002  Nevada  2.9"
      ]
     },
     "execution_count": 104,
     "metadata": {},
     "output_type": "execute_result"
    }
   ],
   "source": [
    "df"
   ]
  },
  {
   "cell_type": "code",
   "execution_count": 103,
   "metadata": {
    "collapsed": true
   },
   "outputs": [],
   "source": [
    "# dataframe to dict, dict返回的是dict of dict；list返回的是列表的字典；series返回的是序列的字典；records返回的是字典的列表\n",
    "df1 = df.to_dict(orient='dict')"
   ]
  },
  {
   "cell_type": "code",
   "execution_count": 102,
   "metadata": {
    "collapsed": false
   },
   "outputs": [
    {
     "data": {
      "text/plain": [
       "{'pop': {'five': 2.8999999999999999,\n",
       "  'four': 2.3999999999999999,\n",
       "  'one': 1.5,\n",
       "  'three': 3.6000000000000001,\n",
       "  'two': 1.7},\n",
       " 'state': {'five': 'Nevada',\n",
       "  'four': 'Nevada',\n",
       "  'one': 'Ohino',\n",
       "  'three': 'Ohino',\n",
       "  'two': 'Ohino'},\n",
       " 'year': {'five': 2002, 'four': 2001, 'one': 2000, 'three': 2002, 'two': 2001}}"
      ]
     },
     "execution_count": 102,
     "metadata": {},
     "output_type": "execute_result"
    }
   ],
   "source": [
    "df1"
   ]
  },
  {
   "cell_type": "code",
   "execution_count": 118,
   "metadata": {
    "collapsed": false
   },
   "outputs": [
    {
     "data": {
      "text/plain": [
       "dict"
      ]
     },
     "execution_count": 118,
     "metadata": {},
     "output_type": "execute_result"
    }
   ],
   "source": [
    "type(df1)"
   ]
  },
  {
   "cell_type": "code",
   "execution_count": 110,
   "metadata": {
    "collapsed": false
   },
   "outputs": [
    {
     "data": {
      "text/plain": [
       "{'pop': [1.5, 1.7, 3.6000000000000001, 2.3999999999999999, 2.8999999999999999],\n",
       " 'state': ['Ohino', 'Ohino', 'Ohino', 'Nevada', 'Nevada'],\n",
       " 'year': [2000, 2001, 2002, 2001, 2002]}"
      ]
     },
     "execution_count": 110,
     "metadata": {},
     "output_type": "execute_result"
    }
   ],
   "source": [
    "# dataframe to dict, dict返回的是dict of dict；list返回的是列表的字典；series返回的是序列的字典；records返回的是字典的列表\n",
    "df2 = df.to_dict(orient='list')\n",
    "df2"
   ]
  },
  {
   "cell_type": "code",
   "execution_count": 117,
   "metadata": {
    "collapsed": false
   },
   "outputs": [
    {
     "data": {
      "text/plain": [
       "dict"
      ]
     },
     "execution_count": 117,
     "metadata": {},
     "output_type": "execute_result"
    }
   ],
   "source": [
    "type(df2)"
   ]
  },
  {
   "cell_type": "code",
   "execution_count": 111,
   "metadata": {
    "collapsed": false
   },
   "outputs": [
    {
     "data": {
      "text/plain": [
       "{'pop': one      1.5\n",
       " two      1.7\n",
       " three    3.6\n",
       " four     2.4\n",
       " five     2.9\n",
       " Name: pop, dtype: float64, 'state': one       Ohino\n",
       " two       Ohino\n",
       " three     Ohino\n",
       " four     Nevada\n",
       " five     Nevada\n",
       " Name: state, dtype: object, 'year': one      2000\n",
       " two      2001\n",
       " three    2002\n",
       " four     2001\n",
       " five     2002\n",
       " Name: year, dtype: int64}"
      ]
     },
     "execution_count": 111,
     "metadata": {},
     "output_type": "execute_result"
    }
   ],
   "source": [
    "# dataframe to dict, dict返回的是dict of dict；list返回的是列表的字典；series返回的是序列的字典；records返回的是字典的列表\n",
    "df3 = df.to_dict(orient='series')\n",
    "df3"
   ]
  },
  {
   "cell_type": "code",
   "execution_count": 116,
   "metadata": {
    "collapsed": false
   },
   "outputs": [
    {
     "data": {
      "text/plain": [
       "dict"
      ]
     },
     "execution_count": 116,
     "metadata": {},
     "output_type": "execute_result"
    }
   ],
   "source": [
    "type(df3)"
   ]
  },
  {
   "cell_type": "code",
   "execution_count": 114,
   "metadata": {
    "collapsed": false
   },
   "outputs": [
    {
     "data": {
      "text/plain": [
       "[{'pop': 1.5, 'state': 'Ohino', 'year': 2000},\n",
       " {'pop': 1.7, 'state': 'Ohino', 'year': 2001},\n",
       " {'pop': 3.6, 'state': 'Ohino', 'year': 2002},\n",
       " {'pop': 2.4, 'state': 'Nevada', 'year': 2001},\n",
       " {'pop': 2.9, 'state': 'Nevada', 'year': 2002}]"
      ]
     },
     "execution_count": 114,
     "metadata": {},
     "output_type": "execute_result"
    }
   ],
   "source": [
    "# dataframe to dict, dict返回的是dict of dict；list返回的是列表的字典；series返回的是序列的字典；records返回的是字典的列表\n",
    "df4 = df.to_dict(orient='records')\n",
    "df4"
   ]
  },
  {
   "cell_type": "code",
   "execution_count": 115,
   "metadata": {
    "collapsed": false
   },
   "outputs": [
    {
     "data": {
      "text/plain": [
       "list"
      ]
     },
     "execution_count": 115,
     "metadata": {},
     "output_type": "execute_result"
    }
   ],
   "source": [
    "type(df4)"
   ]
  },
  {
   "cell_type": "markdown",
   "metadata": {},
   "source": [
    "## 4. 总结：List, Dict, Array, Series, DataFrame 的区别"
   ]
  },
  {
   "cell_type": "markdown",
   "metadata": {},
   "source": [
    "- List 和 Dict 是 Python 的基本数据结构\n",
    "- Series 和 DataFrame 是 Pandas 的基本数据结构\n",
    "- Array 是 Numpy 的数据结构"
   ]
  },
  {
   "cell_type": "markdown",
   "metadata": {},
   "source": [
    "### 4.1 Pandas 中的数据结构"
   ]
  },
  {
   "cell_type": "markdown",
   "metadata": {},
   "source": [
    "#### 4.1.1 Series"
   ]
  },
  {
   "cell_type": "markdown",
   "metadata": {},
   "source": [
    "- Series 是一个一维的类似的数组对象，包含一个数组的数据（任何 NumPy 的数据类型）和一个与数组关联的数据标签，被叫做**索引**。最简单的Series是由一个数组的数据构成。\n",
    "- Series 是一个定长的，有序的字典，因为它把索引和值映射起来了。\n",
    "- Series 与 Numpy 中的一维 array 类似。二者与 Python 基本的数据结构 List 也很相近。其区别是：List 中的元素可以是不同的数据类型，而 Array 和 Series 中则只允许存储相同的数据类型，这样可以更有效的使用内存，提高运算效率。\n",
    "- Time-Series：以时间为索引的 Series。"
   ]
  },
  {
   "cell_type": "markdown",
   "metadata": {},
   "source": [
    "#### 4.1.2 DataFrame"
   ]
  },
  {
   "cell_type": "markdown",
   "metadata": {},
   "source": [
    "- DataFrame：**二维**的表格型数据结构。很多功能与 R 中的 data.frame 类似。可以将 DataFrame 理解为 Series 的容器。\n",
    "- 有很多方法来构建一个 DataFrame，但最常用的一个是用一个相等长度列表的字典或 NumPy 数组。\n",
    "- 像 Series 一样， DataFrame 的 values 属性返回一个包含在 DataFrame 中的数据的二维 ndarray。\n",
    "- Panel ：三维的数组，可以理解为 DataFrame 的容器。"
   ]
  },
  {
   "cell_type": "markdown",
   "metadata": {},
   "source": [
    "- **可能的传递到DataFrame的构造器**"
   ]
  },
  {
   "cell_type": "markdown",
   "metadata": {},
   "source": [
    "|构造器|说明|\n",
    "|----------|----------------------------|\n",
    "|二维ndarray|\t一个数据矩阵，有可选的行标和列标|\n",
    "|数组，列表或元组的字典|每一个序列成为DataFrame中的一列。所有的序列必须有相同的长度。|\n",
    "|NumPy的结构/记录数组|\t和“数组字典”一样处理|\n",
    "|Series的字典|\t每一个值成为一列。如果没有明显的传递索引，将结合每一个Series的索引来形成结果的行索引。|\n",
    "|字典的字典|\t每一个内部的字典成为一列。和“Series的字典”一样，结合键值来形成行索引。|\n",
    "|字典或Series的列表|\t每一项成为DataFrame中的一列。结合字典键或Series索引形成DataFrame的列标。|\n",
    "|列表或元组的列表|\t和“二维ndarray”一样处理|\n",
    "|另一个DataFrame|\tDataFrame的索引将被使用，除非传递另外一个|\n",
    "|NumPy伪装数组（MaskedArray）|\t除了蒙蔽值在DataFrame中成为NA/丢失数据之外，其它的和“二维ndarray”一样|"
   ]
  },
  {
   "cell_type": "markdown",
   "metadata": {},
   "source": [
    "### 4.2 Numpy 操作"
   ]
  },
  {
   "cell_type": "markdown",
   "metadata": {},
   "source": [
    "- 基本操作\n",
    "  - np.array 创建数组，调用 astype 总是会创建一个新的数组（原数据的拷贝），即使是新的 dtype 和原来的 dtype 相同。\n",
    "  - 索引，切片等详见：http://pda.readthedocs.io/en/latest/chp4.html\n",
    "\n",
    "\n",
    "- 通用函数\n",
    "\n",
    "- 数据处理\n",
    "  - np.meshgrid 函数接受两个一维数组并产生两个二维矩阵，其值对于两个数组的所有 (x, y) 对。\n",
    "  - 函数 numpy.where 是三元表达式 x if condition else y 的矢量化版本。\n",
    "  - mean 和 sun 函数可以有一个可选的 axis 参数，它对给定坐标轴进行统计，结果数组将会减少一个维度。\n",
    "  - 有两个额外的方法， any 和 all ，对布尔数组尤其有用。 any 用来测试一个数组中是否有一个或更多的 True ，而 all 用来测试所有的值是否为 True。\n",
    "  - 顶层的 np.sort 函数返回一个经过排序后的数组拷贝，而不是就地修改。\n",
    "  - Numpy 有一些基本的针对一维 ndarrays 的集合操作。最常使用的一个可能是 np.unique ，它返回一个数组的经过排序的 unique 值。\n",
    "\n",
    "- 线性代数\n",
    "  - numpy.linalg 有一个关于矩阵分解和像转置和行列式等的一个标准集合。"
   ]
  },
  {
   "cell_type": "markdown",
   "metadata": {},
   "source": [
    "## 参考网站\n",
    "\n",
    "- [Pandas 入门](http://pda.readthedocs.io/en/latest/chp5.html)\n",
    "- 整理自：[宁哥的小站](http://www.lining0806.com/numpy%E7%9A%84ndarray%E4%B8%8Epandas%E7%9A%84series%E5%92%8Cdataframe%E4%B9%8B%E9%97%B4%E4%BA%92%E8%BD%AC/)"
   ]
  }
 ],
 "metadata": {
  "kernelspec": {
   "display_name": "Python 2",
   "language": "python",
   "name": "python2"
  },
  "language_info": {
   "codemirror_mode": {
    "name": "ipython",
    "version": 2
   },
   "file_extension": ".py",
   "mimetype": "text/x-python",
   "name": "python",
   "nbconvert_exporter": "python",
   "pygments_lexer": "ipython2",
   "version": "2.7.12"
  }
 },
 "nbformat": 4,
 "nbformat_minor": 0
}
