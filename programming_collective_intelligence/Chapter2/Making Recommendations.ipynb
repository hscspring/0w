{
 "cells": [
  {
   "cell_type": "code",
   "execution_count": 1,
   "metadata": {
    "collapsed": true
   },
   "outputs": [],
   "source": [
    "import recommendations"
   ]
  },
  {
   "cell_type": "code",
   "execution_count": 2,
   "metadata": {
    "collapsed": false
   },
   "outputs": [
    {
     "name": "stdout",
     "output_type": "stream",
     "text": [
      "0.396059017191\n"
     ]
    }
   ],
   "source": [
    "print recommendations.sim_pearson(recommendations.critics, 'Lisa Rose', 'Gene Seymour')"
   ]
  },
  {
   "cell_type": "markdown",
   "metadata": {},
   "source": [
    "### Which Similarity Metric Should You Use?"
   ]
  },
  {
   "cell_type": "markdown",
   "metadata": {},
   "source": [
    "使用哪一种方法最优，完全取决于具体的应用。  \n",
    "\n",
    "用于比较的度量算法：http://en.wikipedia.org/wiki/Metric_%28mathematics%29#Examples"
   ]
  },
  {
   "cell_type": "markdown",
   "metadata": {},
   "source": [
    "#### Jaccard 系数"
   ]
  },
  {
   "cell_type": "markdown",
   "metadata": {},
   "source": [
    "#### 曼哈顿距离算法"
   ]
  },
  {
   "cell_type": "markdown",
   "metadata": {},
   "source": [
    "### Ranking the Critics"
   ]
  },
  {
   "cell_type": "code",
   "execution_count": 11,
   "metadata": {
    "collapsed": false
   },
   "outputs": [
    {
     "data": {
      "text/plain": [
       "<module 'recommendations' from 'recommendations.py'>"
      ]
     },
     "execution_count": 11,
     "metadata": {},
     "output_type": "execute_result"
    }
   ],
   "source": [
    "reload(recommendations)"
   ]
  },
  {
   "cell_type": "code",
   "execution_count": 12,
   "metadata": {
    "collapsed": false
   },
   "outputs": [
    {
     "data": {
      "text/plain": [
       "[(0.9912407071619299, 'Lisa Rose'),\n",
       " (0.9244734516419049, 'Mick LaSalle'),\n",
       " (0.8934051474415647, 'Claudia Puig')]"
      ]
     },
     "execution_count": 12,
     "metadata": {},
     "output_type": "execute_result"
    }
   ],
   "source": [
    "recommendations.topMatches(recommendations.critics, 'Toby', n=3)"
   ]
  },
  {
   "cell_type": "markdown",
   "metadata": {},
   "source": [
    "## Recommending Items 推荐物品"
   ]
  },
  {
   "cell_type": "code",
   "execution_count": 7,
   "metadata": {
    "collapsed": false
   },
   "outputs": [
    {
     "data": {
      "text/plain": [
       "[(0.9912407071619299, 'Lisa Rose'),\n",
       " (0.9244734516419049, 'Mick LaSalle'),\n",
       " (0.8934051474415647, 'Claudia Puig'),\n",
       " (0.66284898035987, 'Jack Matthews'),\n",
       " (0.38124642583151164, 'Gene Seymour')]"
      ]
     },
     "execution_count": 7,
     "metadata": {},
     "output_type": "execute_result"
    }
   ],
   "source": [
    "# 计算相似度\n",
    "recommendations.topMatches(recommendations.critics, 'Toby', n=5)"
   ]
  },
  {
   "cell_type": "code",
   "execution_count": 3,
   "metadata": {
    "collapsed": false
   },
   "outputs": [
    {
     "data": {
      "text/plain": [
       "<module 'recommendations' from 'recommendations.py'>"
      ]
     },
     "execution_count": 3,
     "metadata": {},
     "output_type": "execute_result"
    }
   ],
   "source": [
    "reload(recommendations)"
   ]
  },
  {
   "cell_type": "code",
   "execution_count": 31,
   "metadata": {
    "collapsed": false
   },
   "outputs": [],
   "source": [
    "def getRecommendations(prefs, person):\n",
    "\ttotals = {}\n",
    "\tsimSums = {}\n",
    "\tfor other in prefs:\n",
    "\t\t# 不要和自己比较\n",
    "\t\tif other == person : continue\n",
    "\t\tsim = similarity(prefs, person, other)\n",
    "\n",
    "\t\t# 忽略评价值为零或小于零的情况\n",
    "\t\tif sim <=0 : continue\n",
    "\t\tfor item in prefs[other]:\n",
    "\n",
    "\t\t\t# 只对自己还未曾看过的影片进行评价\n",
    "\t\t\tif item not in prefs[person] or prefs[person][item] == 0:\n",
    "\t\t\t\t# 相似度 × 评价值\n",
    "\t\t\t\ttotals.setdefault(item, 0)\n",
    "\t\t\t\ttotals[item] += prefs[other][item] * sim\n",
    "\t\t\t\t# 相似度之和\n",
    "\t\t\t\tsimSums.setdefault(item, 0)\n",
    "\t\t\t\tsimSums[item] += sim\n",
    "\n",
    "\t# 建立一个归一化的列表 \n",
    "\trankings = [(total/simSums[item], item) for item, total in totals.items()]\n",
    "\n",
    "\t# 返回经过排序的列表\n",
    "\trankings.sort()\n",
    "\trankings.reverse()\n",
    "\treturn rankings"
   ]
  },
  {
   "cell_type": "code",
   "execution_count": 32,
   "metadata": {
    "collapsed": false
   },
   "outputs": [
    {
     "data": {
      "text/plain": [
       "[(3.3477895267131013, 'The Night Listener'),\n",
       " (2.8325499182641614, 'Lady in the Water'),\n",
       " (2.5309807037655645, 'Just My Luck')]"
      ]
     },
     "execution_count": 32,
     "metadata": {},
     "output_type": "execute_result"
    }
   ],
   "source": [
    "# 详见书 P37 的表格\n",
    "recommendations.getRecommendations(recommendations.critics, 'Toby')"
   ]
  },
  {
   "cell_type": "code",
   "execution_count": 6,
   "metadata": {
    "collapsed": false
   },
   "outputs": [
    {
     "data": {
      "text/plain": [
       "[(3.457128694491423, 'The Night Listener'),\n",
       " (2.778584003814924, 'Lady in the Water'),\n",
       " (2.4224820423619167, 'Just My Luck')]"
      ]
     },
     "execution_count": 6,
     "metadata": {},
     "output_type": "execute_result"
    }
   ],
   "source": [
    "# 使用 sim_distance 距离进行推荐（默认为 sim_pearson）\n",
    "recommendations.getRecommendations(recommendations.critics, 'Toby',similarity=recommendations.sim_distance)"
   ]
  },
  {
   "cell_type": "markdown",
   "metadata": {
    "collapsed": true
   },
   "source": [
    "## Matching Products 匹配商品"
   ]
  },
  {
   "cell_type": "code",
   "execution_count": 23,
   "metadata": {
    "collapsed": false
   },
   "outputs": [
    {
     "data": {
      "text/plain": [
       "<module 'recommendations' from 'recommendations.py'>"
      ]
     },
     "execution_count": 23,
     "metadata": {},
     "output_type": "execute_result"
    }
   ],
   "source": [
    "import recommendations\n",
    "reload(recommendations)"
   ]
  },
  {
   "cell_type": "code",
   "execution_count": 24,
   "metadata": {
    "collapsed": false
   },
   "outputs": [],
   "source": [
    "movies = recommendations.transformPrefs(recommendations.critics)"
   ]
  },
  {
   "cell_type": "code",
   "execution_count": 25,
   "metadata": {
    "collapsed": false
   },
   "outputs": [
    {
     "data": {
      "text/plain": [
       "{'Just My Luck': {'Claudia Puig': 3.0,\n",
       "  'Gene Seymour': 1.5,\n",
       "  'Lisa Rose': 3.0,\n",
       "  'Mick LaSalle': 2.0},\n",
       " 'Lady in the Water': {'Gene Seymour': 3.0,\n",
       "  'Jack Matthews': 3.0,\n",
       "  'Lisa Rose': 2.5,\n",
       "  'Michael Phillips': 2.5,\n",
       "  'Mick LaSalle': 3.0},\n",
       " 'Snakes on a Plane': {'Claudia Puig': 3.5,\n",
       "  'Gene Seymour': 3.5,\n",
       "  'Jack Matthews': 4.0,\n",
       "  'Lisa Rose': 3.5,\n",
       "  'Michael Phillips': 3.0,\n",
       "  'Mick LaSalle': 4.0,\n",
       "  'Toby': 4.5},\n",
       " 'Superman Returns': {'Claudia Puig': 4.0,\n",
       "  'Gene Seymour': 5.0,\n",
       "  'Jack Matthews': 5.0,\n",
       "  'Lisa Rose': 3.5,\n",
       "  'Michael Phillips': 3.5,\n",
       "  'Mick LaSalle': 3.0,\n",
       "  'Toby': 4.0},\n",
       " 'The Night Listener': {'Claudia Puig': 4.5,\n",
       "  'Gene Seymour': 3.0,\n",
       "  'Jack Matthews': 3.0,\n",
       "  'Lisa Rose': 3.0,\n",
       "  'Michael Phillips': 4.0,\n",
       "  'Mick LaSalle': 3.0},\n",
       " 'You, Me and Dupree': {'Claudia Puig': 2.5,\n",
       "  'Gene Seymour': 3.5,\n",
       "  'Jack Matthews': 3.5,\n",
       "  'Lisa Rose': 2.5,\n",
       "  'Mick LaSalle': 2.0,\n",
       "  'Toby': 1.0}}"
      ]
     },
     "execution_count": 25,
     "metadata": {},
     "output_type": "execute_result"
    }
   ],
   "source": [
    "movies"
   ]
  },
  {
   "cell_type": "code",
   "execution_count": 28,
   "metadata": {
    "collapsed": false
   },
   "outputs": [
    {
     "data": {
      "text/plain": [
       "[(0.6579516949597695, 'You, Me and Dupree'),\n",
       " (0.4879500364742689, 'Lady in the Water'),\n",
       " (0.11180339887498941, 'Snakes on a Plane'),\n",
       " (-0.1798471947990544, 'The Night Listener'),\n",
       " (-0.42289003161103106, 'Just My Luck')]"
      ]
     },
     "execution_count": 28,
     "metadata": {},
     "output_type": "execute_result"
    }
   ],
   "source": [
    "recommendations.topMatches(movies, 'Superman Returns')\n",
    "\n",
    "# 结果为负数，表名那些喜欢《Superman Returns》的人，存在不喜欢《Just My Luck》的倾向"
   ]
  },
  {
   "cell_type": "code",
   "execution_count": 29,
   "metadata": {
    "collapsed": false
   },
   "outputs": [
    {
     "data": {
      "text/plain": [
       "[(4.0, 'Michael Phillips'), (3.0, 'Jack Matthews')]"
      ]
     },
     "execution_count": 29,
     "metadata": {},
     "output_type": "execute_result"
    }
   ],
   "source": [
    "recommendations.getRecommendations(movies, 'Just My Luck')"
   ]
  },
  {
   "cell_type": "markdown",
   "metadata": {},
   "source": [
    "为了向不同的个体推荐商品，在线零售商可能会收集人们的购买历史。  \n",
    "将商品与人进行对调，可以找到购买某些商品的潜在客户（如案例中喜欢看 Luck 的其他人）。\n",
    "\n",
    "这样一方面为了清仓处理某些商品，另一方面可以将推荐链接呈现给这类客户。"
   ]
  },
  {
   "cell_type": "markdown",
   "metadata": {},
   "source": [
    "## Building a del.icio.us Link Recommender 构建一个基于 del.icio.us 的链接推荐系统"
   ]
  },
  {
   "cell_type": "markdown",
   "metadata": {},
   "source": [
    "### The del.icio.us API"
   ]
  },
  {
   "cell_type": "code",
   "execution_count": 1,
   "metadata": {
    "collapsed": false
   },
   "outputs": [
    {
     "name": "stdout",
     "output_type": "stream",
     "text": [
      "/home/evil_rabbit/anaconda2/envs/pydelicious-0.6\n"
     ]
    }
   ],
   "source": [
    "cd ~/anaconda2/envs/pydelicious-0.6"
   ]
  },
  {
   "cell_type": "code",
   "execution_count": 2,
   "metadata": {
    "collapsed": false,
    "scrolled": true
   },
   "outputs": [
    {
     "data": {
      "text/plain": [
       "u'/home/evil_rabbit/anaconda2/envs/pydelicious-0.6'"
      ]
     },
     "execution_count": 2,
     "metadata": {},
     "output_type": "execute_result"
    }
   ],
   "source": [
    "%pwd"
   ]
  },
  {
   "cell_type": "code",
   "execution_count": 16,
   "metadata": {
    "collapsed": false
   },
   "outputs": [
    {
     "name": "stdout",
     "output_type": "stream",
     "text": [
      "/home/evil_rabbit\n"
     ]
    }
   ],
   "source": [
    "%cd"
   ]
  },
  {
   "cell_type": "code",
   "execution_count": 3,
   "metadata": {
    "collapsed": false
   },
   "outputs": [],
   "source": [
    "import pydelicious"
   ]
  },
  {
   "cell_type": "code",
   "execution_count": 4,
   "metadata": {
    "collapsed": true
   },
   "outputs": [],
   "source": [
    "from pydelicious import DeliciousAPI"
   ]
  },
  {
   "cell_type": "code",
   "execution_count": 5,
   "metadata": {
    "collapsed": false
   },
   "outputs": [],
   "source": [
    "api = DeliciousAPI('yamhouston', 'hsc19870325', 'utf-8')"
   ]
  },
  {
   "cell_type": "code",
   "execution_count": null,
   "metadata": {
    "collapsed": true
   },
   "outputs": [],
   "source": [
    "api.posts_add(\"http://sogou.com\", \"Sougou\", extended=\"sogou search\", tags=\"search\")\n",
    "#a.posts_add(\"http://my.com\", \"title\", extended=\"description\", tags=\"my tags\")\n",
    "# ver 0.6 运行错误但能 post，ver 0.7 不能 post"
   ]
  },
  {
   "cell_type": "code",
   "execution_count": 17,
   "metadata": {
    "collapsed": false
   },
   "outputs": [
    {
     "data": {
      "text/plain": [
       "[{'description': u'Sponsored: 64% off Code Black Drone with HD Camera',\n",
       "  'dt': '',\n",
       "  'extended': u'Our #1 Best-Selling Drone--Meet the Dark Night of the Sky!',\n",
       "  'tags': '',\n",
       "  'url': u'https://shop.icio.us/sales/the-limited-edition-black-hawk-drone-hd-camera?utm_source=del.icio.us&utm_medium=referral&utm_campaign=the-limited-edition-black-hawk-drone-hd-camera',\n",
       "  'user': u'delicious'},\n",
       " {'description': u'something went wrong',\n",
       "  'dt': '',\n",
       "  'extended': '',\n",
       "  'tags': '',\n",
       "  'url': '',\n",
       "  'user': ''}]"
      ]
     },
     "execution_count": 17,
     "metadata": {},
     "output_type": "execute_result"
    }
   ],
   "source": [
    "pydelicious.get_popular(tag=\"programming\")\n",
    "# 运行错误"
   ]
  },
  {
   "cell_type": "code",
   "execution_count": 10,
   "metadata": {
    "collapsed": false
   },
   "outputs": [
    {
     "data": {
      "text/plain": [
       "[{'description': u'Sponsored: 64% off Code Black Drone with HD Camera',\n",
       "  'dt': '',\n",
       "  'extended': u'Our #1 Best-Selling Drone--Meet the Dark Night of the Sky!',\n",
       "  'tags': '',\n",
       "  'url': u'https://shop.icio.us/sales/the-limited-edition-black-hawk-drone-hd-camera?utm_source=del.icio.us&utm_medium=referral&utm_campaign=the-limited-edition-black-hawk-drone-hd-camera',\n",
       "  'user': u'delicious'},\n",
       " {'description': u'Sougou',\n",
       "  'dt': '',\n",
       "  'extended': u'sogou search',\n",
       "  'tags': u'search',\n",
       "  'url': u'http://sogou.com/',\n",
       "  'user': u'yamhouston'},\n",
       " {'description': u'Baidu',\n",
       "  'dt': '',\n",
       "  'extended': u'',\n",
       "  'tags': '',\n",
       "  'url': u'http://www.hao123.com/',\n",
       "  'user': u'yamhouston'},\n",
       " {'description': u'Qunaer',\n",
       "  'dt': '',\n",
       "  'extended': u'travelling',\n",
       "  'tags': u'fun',\n",
       "  'url': u'http://qunar.com/',\n",
       "  'user': u'yamhouston'},\n",
       " {'description': u'Baidu',\n",
       "  'dt': '',\n",
       "  'extended': u'',\n",
       "  'tags': '',\n",
       "  'url': u'http://www.baidu.com/',\n",
       "  'user': u'yamhouston'},\n",
       " {'description': u'Elong',\n",
       "  'dt': '',\n",
       "  'extended': u'travelling',\n",
       "  'tags': u'fun',\n",
       "  'url': u'http://elong.com/',\n",
       "  'user': u'yamhouston'},\n",
       " {'description': u'Ctrip',\n",
       "  'dt': '',\n",
       "  'extended': u'travelling',\n",
       "  'tags': u'fun',\n",
       "  'url': u'http://ctrip.com/',\n",
       "  'user': u'yamhouston'},\n",
       " {'description': u'TaoBao',\n",
       "  'dt': '',\n",
       "  'extended': u'buying',\n",
       "  'tags': u'shop',\n",
       "  'url': u'http://www.taobao.com/',\n",
       "  'user': u'yamhouston'},\n",
       " {'description': u'ZhiHu',\n",
       "  'dt': '',\n",
       "  'extended': u'ask&answer',\n",
       "  'tags': u'study',\n",
       "  'url': u'http://www.zhihu.com/',\n",
       "  'user': u'yamhouston'},\n",
       " {'description': u'DouBan',\n",
       "  'dt': '',\n",
       "  'extended': u'SNS Web of China',\n",
       "  'tags': u'read',\n",
       "  'url': u'http://www.douban.com/',\n",
       "  'user': u'yamhouston'},\n",
       " {'description': u'Yam',\n",
       "  'dt': '',\n",
       "  'extended': u'',\n",
       "  'tags': '',\n",
       "  'url': u'http://www.yam.gift/',\n",
       "  'user': u'yamhouston'}]"
      ]
     },
     "execution_count": 10,
     "metadata": {},
     "output_type": "execute_result"
    }
   ],
   "source": [
    "pydelicious.get_userposts(user='yamhouston')"
   ]
  },
  {
   "cell_type": "code",
   "execution_count": 15,
   "metadata": {
    "collapsed": false
   },
   "outputs": [
    {
     "data": {
      "text/plain": [
       "[{'description': u'Sponsored: 64% off Code Black Drone with HD Camera',\n",
       "  'dt': '',\n",
       "  'extended': u'Our #1 Best-Selling Drone--Meet the Dark Night of the Sky!',\n",
       "  'tags': '',\n",
       "  'url': u'https://shop.icio.us/sales/the-limited-edition-black-hawk-drone-hd-camera?utm_source=del.icio.us&utm_medium=referral&utm_campaign=the-limited-edition-black-hawk-drone-hd-camera',\n",
       "  'user': u'delicious'},\n",
       " {'description': u'[from yuncongjiang] google',\n",
       "  'dt': '',\n",
       "  'extended': u'',\n",
       "  'tags': '',\n",
       "  'url': u'http://www.google.com',\n",
       "  'user': u'yuncongjiang'},\n",
       " {'description': u'[from marymargareth] Google',\n",
       "  'dt': '',\n",
       "  'extended': u'',\n",
       "  'tags': '',\n",
       "  'url': u'http://www.google.com',\n",
       "  'user': u'marymargareth'},\n",
       " {'description': u'[from schalima] Google Search',\n",
       "  'dt': '',\n",
       "  'extended': u'The most trusted search engine.',\n",
       "  'tags': u'search',\n",
       "  'url': u'http://www.google.com',\n",
       "  'user': u'schalima'},\n",
       " {'description': u'[from tricky66] Google',\n",
       "  'dt': '',\n",
       "  'extended': u'',\n",
       "  'tags': '',\n",
       "  'url': u'http://www.google.com',\n",
       "  'user': u'tricky66'},\n",
       " {'description': u'[from hunjangagan85] test',\n",
       "  'dt': '',\n",
       "  'extended': u'',\n",
       "  'tags': '',\n",
       "  'url': u'http://www.google.com',\n",
       "  'user': u'hunjangagan85'},\n",
       " {'description': u'[from sdali1432] Title',\n",
       "  'dt': '',\n",
       "  'extended': u'Writeddown the comment here!',\n",
       "  'tags': u'tag1',\n",
       "  'url': u'http://www.google.com',\n",
       "  'user': u'sdali1432'},\n",
       " {'description': u'[from ] Google',\n",
       "  'dt': '',\n",
       "  'extended': u'',\n",
       "  'tags': '',\n",
       "  'url': u'http://www.google.com',\n",
       "  'user': u''},\n",
       " {'description': u'[from sm14091] google',\n",
       "  'dt': '',\n",
       "  'extended': u'',\n",
       "  'tags': '',\n",
       "  'url': u'http://www.google.com',\n",
       "  'user': u'sm14091'},\n",
       " {'description': u'[from oscar112358] google',\n",
       "  'dt': '',\n",
       "  'extended': u'google',\n",
       "  'tags': '',\n",
       "  'url': u'http://www.google.com',\n",
       "  'user': u'oscar112358'},\n",
       " {'description': u'[from gusevav] Google',\n",
       "  'dt': '',\n",
       "  'extended': u'',\n",
       "  'tags': u'google',\n",
       "  'url': u'http://www.google.com',\n",
       "  'user': u'gusevav'},\n",
       " {'description': u'[from victoriafadeeva] \\u0413\\u0443\\u0433\\u043b \\u043f\\u043e\\u0438\\u0441\\u043a\\u043e\\u0432\\u0438\\u043a',\n",
       "  'dt': '',\n",
       "  'extended': u'',\n",
       "  'tags': u'search engine',\n",
       "  'url': u'http://www.google.com',\n",
       "  'user': u'victoriafadeeva'},\n",
       " {'description': u'[from yszapp] google.com',\n",
       "  'dt': '',\n",
       "  'extended': u'',\n",
       "  'tags': '',\n",
       "  'url': u'http://www.google.com',\n",
       "  'user': u'yszapp'},\n",
       " {'description': u'[from kiddygal] endophyte',\n",
       "  'dt': '',\n",
       "  'extended': u'',\n",
       "  'tags': '',\n",
       "  'url': u'http://www.google.com',\n",
       "  'user': u'kiddygal'},\n",
       " {'description': u'[from rntabo] endophyte',\n",
       "  'dt': '',\n",
       "  'extended': u'',\n",
       "  'tags': '',\n",
       "  'url': u'http://www.google.com',\n",
       "  'user': u'rntabo'},\n",
       " {'description': u'[from altanghani] information',\n",
       "  'dt': '',\n",
       "  'extended': u'',\n",
       "  'tags': u'information',\n",
       "  'url': u'http://www.google.com',\n",
       "  'user': u'altanghani'},\n",
       " {'description': u'[from olsalas711] Google',\n",
       "  'dt': '',\n",
       "  'extended': u'prueba',\n",
       "  'tags': '',\n",
       "  'url': u'http://www.google.com',\n",
       "  'user': u'olsalas711'},\n",
       " {'description': u'[from rodzummo] Google',\n",
       "  'dt': '',\n",
       "  'extended': u'',\n",
       "  'tags': u'buscador',\n",
       "  'url': u'http://www.google.com',\n",
       "  'user': u'rodzummo'},\n",
       " {'description': u'[from cf78652p] Google',\n",
       "  'dt': '',\n",
       "  'extended': u'',\n",
       "  'tags': '',\n",
       "  'url': u'http://www.google.com',\n",
       "  'user': u'cf78652p'},\n",
       " {'description': u'[from josh710] googlew',\n",
       "  'dt': '',\n",
       "  'extended': u'',\n",
       "  'tags': u'google',\n",
       "  'url': u'http://www.google.com',\n",
       "  'user': u'josh710'},\n",
       " {'description': u'[from porcej] google',\n",
       "  'dt': '',\n",
       "  'extended': u'',\n",
       "  'tags': '',\n",
       "  'url': u'http://www.google.com',\n",
       "  'user': u'porcej'},\n",
       " {'description': u'[from andreu_cruset] Google',\n",
       "  'dt': '',\n",
       "  'extended': u'',\n",
       "  'tags': u'buscar',\n",
       "  'url': u'http://www.google.com',\n",
       "  'user': u'andreu_cruset'},\n",
       " {'description': u'[from st_transportaion] Search Engine',\n",
       "  'dt': '',\n",
       "  'extended': u'My favorite search engine. Second is http://www.yahoo.com',\n",
       "  'tags': u'search',\n",
       "  'url': u'http://www.google.com',\n",
       "  'user': u'st_transportaion'},\n",
       " {'description': u'[from nhrk] google',\n",
       "  'dt': '',\n",
       "  'extended': u'',\n",
       "  'tags': u'design',\n",
       "  'url': u'http://www.google.com',\n",
       "  'user': u'nhrk'},\n",
       " {'description': u'[from juanmaster123] web',\n",
       "  'dt': '',\n",
       "  'extended': u'fd',\n",
       "  'tags': '',\n",
       "  'url': u'http://www.google.com',\n",
       "  'user': u'juanmaster123'},\n",
       " {'description': u'[from gallowayrm] google',\n",
       "  'dt': '',\n",
       "  'extended': u'',\n",
       "  'tags': '',\n",
       "  'url': u'http://www.google.com',\n",
       "  'user': u'gallowayrm'},\n",
       " {'description': u'[from franko1234] google',\n",
       "  'dt': '',\n",
       "  'extended': u'frankkooo',\n",
       "  'tags': u'#google',\n",
       "  'url': u'http://www.google.com',\n",
       "  'user': u'franko1234'},\n",
       " {'description': u'[from kenny_hung] Google',\n",
       "  'dt': '',\n",
       "  'extended': u'',\n",
       "  'tags': '',\n",
       "  'url': u'http://www.google.com',\n",
       "  'user': u'kenny_hung'},\n",
       " {'description': u'[from yildizm2000] felsefe',\n",
       "  'dt': '',\n",
       "  'extended': u'',\n",
       "  'tags': u'google',\n",
       "  'url': u'http://www.google.com',\n",
       "  'user': u'yildizm2000'},\n",
       " {'description': u'[from ali_absar] Google',\n",
       "  'dt': '',\n",
       "  'extended': u'Above are the results of unscrambling aerser. Using the word generator and word unscrambler for the letters A E R S E R, we unscrambled the letters to create a ...\\nI: 3.43ML: 0LD: 666I: 65.1KRank: 180KAge: October 17, 2012',\n",
       "  'tags': u'search',\n",
       "  'url': u'http://www.google.com',\n",
       "  'user': u'ali_absar'},\n",
       " {'description': u'[from swooddickens] google',\n",
       "  'dt': '',\n",
       "  'extended': u'',\n",
       "  'tags': '',\n",
       "  'url': u'http://www.google.com',\n",
       "  'user': u'swooddickens'},\n",
       " {'description': u'[from someone99] GOOGEL',\n",
       "  'dt': '',\n",
       "  'extended': u'',\n",
       "  'tags': '',\n",
       "  'url': u'http://www.google.com',\n",
       "  'user': u'someone99'},\n",
       " {'description': u'[from srobertson1906] Google',\n",
       "  'dt': '',\n",
       "  'extended': u'The best search engine ever!!!',\n",
       "  'tags': u'search_engine',\n",
       "  'url': u'http://www.google.com',\n",
       "  'user': u'srobertson1906'},\n",
       " {'description': u'[from naveenredd999] google',\n",
       "  'dt': '',\n",
       "  'extended': u'google',\n",
       "  'tags': u'google',\n",
       "  'url': u'http://www.google.com',\n",
       "  'user': u'naveenredd999'},\n",
       " {'description': u'[from ayoubpalangi] Google',\n",
       "  'dt': '',\n",
       "  'extended': u'Ayoub Palangi Google',\n",
       "  'tags': u'google',\n",
       "  'url': u'http://www.google.com',\n",
       "  'user': u'ayoubpalangi'},\n",
       " {'description': u'[from jsh331] Search',\n",
       "  'dt': '',\n",
       "  'extended': u'',\n",
       "  'tags': u'Search',\n",
       "  'url': u'http://www.google.com',\n",
       "  'user': u'jsh331'},\n",
       " {'description': u'[from sachin28921] google',\n",
       "  'dt': '',\n",
       "  'extended': u'Check 1',\n",
       "  'tags': u'google',\n",
       "  'url': u'http://www.google.com',\n",
       "  'user': u'sachin28921'},\n",
       " {'description': u'[from profebibiana] Google',\n",
       "  'dt': '',\n",
       "  'extended': u'',\n",
       "  'tags': u'Buscador',\n",
       "  'url': u'http://www.google.com',\n",
       "  'user': u'profebibiana'},\n",
       " {'description': u'[from maxitrackersxd] Gugul',\n",
       "  'dt': '',\n",
       "  'extended': u'El coso para buscar cosos',\n",
       "  'tags': u'Google',\n",
       "  'url': u'http://www.google.com',\n",
       "  'user': u'maxitrackersxd'},\n",
       " {'description': u'[from bgussiaas] www.google.com',\n",
       "  'dt': '',\n",
       "  'extended': u'hello',\n",
       "  'tags': u'programming',\n",
       "  'url': u'http://www.google.com',\n",
       "  'user': u'bgussiaas'},\n",
       " {'description': u'[from jtnokes21] Google',\n",
       "  'dt': '',\n",
       "  'extended': u'',\n",
       "  'tags': '',\n",
       "  'url': u'http://www.google.com',\n",
       "  'user': u'jtnokes21'},\n",
       " {'description': u'[from price351] gmail',\n",
       "  'dt': '',\n",
       "  'extended': u'gmail',\n",
       "  'tags': u'news',\n",
       "  'url': u'http://www.google.com',\n",
       "  'user': u'price351'},\n",
       " {'description': u'[from truebluecarpet] Sample Link',\n",
       "  'dt': '',\n",
       "  'extended': u'This is a sample link which will disappear when your first valid backlinks are posted to this feed. We need to put in a sample link to start so you can set up your automatic syndication (see documentation) while we build the first links in your RSS Feed. This sample link will never get posted to your social profiles.',\n",
       "  'tags': '',\n",
       "  'url': u'http://www.google.com',\n",
       "  'user': u'truebluecarpet'},\n",
       " {'description': u'[from truck_moves] Sample Link',\n",
       "  'dt': '',\n",
       "  'extended': u'This is a sample link which will disappear when your first valid backlinks are posted to this feed. We need to put in a sample link to start so you can set up your automatic syndication (see documentation) while we build the first links in your RSS Feed. This sample link will never get posted to your social profiles.',\n",
       "  'tags': '',\n",
       "  'url': u'http://www.google.com',\n",
       "  'user': u'truck_moves'},\n",
       " {'description': u'[from refisadecoster] Sample Link',\n",
       "  'dt': '',\n",
       "  'extended': u'This is a sample link which will disappear when your first valid backlinks are posted to this feed. We need to put in a sample link to start so you can set up your automatic syndication (see documentation) while we build the first links in your RSS Feed. This sample link will never get posted to your social profiles.',\n",
       "  'tags': '',\n",
       "  'url': u'http://www.google.com',\n",
       "  'user': u'refisadecoster'},\n",
       " {'description': u'[from sarah774ty] Sample Link',\n",
       "  'dt': '',\n",
       "  'extended': u'This is a sample link which will disappear when your first valid backlinks are posted to this feed. We need to put in a sample link to start so you can set up your automatic syndication (see documentation) while we build the first links in your RSS Feed. This sample link will never get posted to your social profiles.',\n",
       "  'tags': '',\n",
       "  'url': u'http://www.google.com',\n",
       "  'user': u'sarah774ty'},\n",
       " {'description': u'[from salvadorlimones] www.google.com',\n",
       "  'dt': '',\n",
       "  'extended': u'',\n",
       "  'tags': '',\n",
       "  'url': u'http://www.google.com',\n",
       "  'user': u'salvadorlimones'},\n",
       " {'description': u'[from somnuk100] Google',\n",
       "  'dt': '',\n",
       "  'extended': u'',\n",
       "  'tags': u'google',\n",
       "  'url': u'http://www.google.com',\n",
       "  'user': u'somnuk100'},\n",
       " {'description': u'[from polgar100] Google',\n",
       "  'dt': '',\n",
       "  'extended': u'',\n",
       "  'tags': '',\n",
       "  'url': u'http://www.google.com',\n",
       "  'user': u'polgar100'},\n",
       " {'description': u'[from metasoftleader] new title',\n",
       "  'dt': '',\n",
       "  'extended': u'<a href=\"http://www.uh.cu\">UH</a>',\n",
       "  'tags': u'gol',\n",
       "  'url': u'http://www.google.com',\n",
       "  'user': u'metasoftleader'},\n",
       " {'description': u'[from annahusain] Test',\n",
       "  'dt': '',\n",
       "  'extended': u'This is a test',\n",
       "  'tags': '',\n",
       "  'url': u'http://www.google.com',\n",
       "  'user': u'annahusain'},\n",
       " {'description': u'[from aliardalan] site asli google',\n",
       "  'dt': '',\n",
       "  'extended': u'comment google',\n",
       "  'tags': u'tag google',\n",
       "  'url': u'http://www.google.com',\n",
       "  'user': u'aliardalan'},\n",
       " {'description': u'[from hoseiney] google',\n",
       "  'dt': '',\n",
       "  'extended': u'',\n",
       "  'tags': '',\n",
       "  'url': u'http://www.google.com',\n",
       "  'user': u'hoseiney'},\n",
       " {'description': u'[from ajeet2511] google',\n",
       "  'dt': '',\n",
       "  'extended': u'google',\n",
       "  'tags': '',\n",
       "  'url': u'http://www.google.com',\n",
       "  'user': u'ajeet2511'},\n",
       " {'description': u'[from lockethomasw] Google',\n",
       "  'dt': '',\n",
       "  'extended': u'',\n",
       "  'tags': '',\n",
       "  'url': u'http://www.google.com',\n",
       "  'user': u'lockethomasw'},\n",
       " {'description': u'[from jochem_k] google',\n",
       "  'dt': '',\n",
       "  'extended': u'',\n",
       "  'tags': u'zoekmachine',\n",
       "  'url': u'http://www.google.com',\n",
       "  'user': u'jochem_k'},\n",
       " {'description': u'[from dmerid1] Google',\n",
       "  'dt': '',\n",
       "  'extended': u'Search Engine',\n",
       "  'tags': '',\n",
       "  'url': u'http://www.google.com',\n",
       "  'user': u'dmerid1'},\n",
       " {'description': u'[from knustel] Test',\n",
       "  'dt': '',\n",
       "  'extended': u'',\n",
       "  'tags': '',\n",
       "  'url': u'http://www.google.com',\n",
       "  'user': u'knustel'},\n",
       " {'description': u'[from johnkyle1] john stuff',\n",
       "  'dt': '',\n",
       "  'extended': u'gbtjufykm',\n",
       "  'tags': u'google',\n",
       "  'url': u'http://www.google.com',\n",
       "  'user': u'johnkyle1'},\n",
       " {'description': u'[from ] A great help for planning',\n",
       "  'dt': '',\n",
       "  'extended': u'This can help all type of techers',\n",
       "  'tags': u'education further',\n",
       "  'url': u'http://www.google.com',\n",
       "  'user': u''},\n",
       " {'description': u'[from ccg96] Google',\n",
       "  'dt': '',\n",
       "  'extended': u'',\n",
       "  'tags': '',\n",
       "  'url': u'http://www.google.com',\n",
       "  'user': u'ccg96'},\n",
       " {'description': u'[from carloscostagomes] Google',\n",
       "  'dt': '',\n",
       "  'extended': u'',\n",
       "  'tags': '',\n",
       "  'url': u'http://www.google.com',\n",
       "  'user': u'carloscostagomes'},\n",
       " {'description': u'[from m_nouman] Google',\n",
       "  'dt': '',\n",
       "  'extended': u'asd',\n",
       "  'tags': u'Search Engine',\n",
       "  'url': u'http://www.google.com',\n",
       "  'user': u'm_nouman'},\n",
       " {'description': u'[from silkway] abc',\n",
       "  'dt': '',\n",
       "  'extended': u'dfg',\n",
       "  'tags': u'test',\n",
       "  'url': u'http://www.google.com',\n",
       "  'user': u'silkway'},\n",
       " {'description': u'[from mrmagical] Best Search Engine',\n",
       "  'dt': '',\n",
       "  'extended': u'Best search engine ever if you love that being-voyeured feeling',\n",
       "  'tags': u'Best',\n",
       "  'url': u'http://www.google.com',\n",
       "  'user': u'mrmagical'},\n",
       " {'description': u'[from geku_ss] My',\n",
       "  'dt': '',\n",
       "  'extended': u'',\n",
       "  'tags': u'Google',\n",
       "  'url': u'http://www.google.com',\n",
       "  'user': u'geku_ss'},\n",
       " {'description': u'[from jansalva10] test',\n",
       "  'dt': '',\n",
       "  'extended': u'test www.google.com test test',\n",
       "  'tags': u'google',\n",
       "  'url': u'http://www.google.com',\n",
       "  'user': u'jansalva10'},\n",
       " {'description': u'[from ch00dah] Google',\n",
       "  'dt': '',\n",
       "  'extended': u'',\n",
       "  'tags': u'#help',\n",
       "  'url': u'http://www.google.com',\n",
       "  'user': u'ch00dah'},\n",
       " {'description': u'[from cristyanrios] Google',\n",
       "  'dt': '',\n",
       "  'extended': u'Para m\\xed es el mejor navegador WEB, y como tal contiene much\\xedsima informaci\\xf3n dentro de \\xe9l.',\n",
       "  'tags': u'Ggl',\n",
       "  'url': u'http://www.google.com',\n",
       "  'user': u'cristyanrios'},\n",
       " {'description': u'[from erestot] Google',\n",
       "  'dt': '',\n",
       "  'extended': u'',\n",
       "  'tags': u'buscador',\n",
       "  'url': u'http://www.google.com',\n",
       "  'user': u'erestot'},\n",
       " {'description': u'[from grutrikaooo123] GooO',\n",
       "  'dt': '',\n",
       "  'extended': u'my favourite se',\n",
       "  'tags': u'se',\n",
       "  'url': u'http://www.google.com',\n",
       "  'user': u'grutrikaooo123'},\n",
       " {'description': u'[from ] google',\n",
       "  'dt': '',\n",
       "  'extended': u'',\n",
       "  'tags': u'search',\n",
       "  'url': u'http://www.google.com',\n",
       "  'user': u''},\n",
       " {'description': u'[from kathya_unicyt] google',\n",
       "  'dt': '',\n",
       "  'extended': u'',\n",
       "  'tags': u'web2.0',\n",
       "  'url': u'http://www.google.com',\n",
       "  'user': u'kathya_unicyt'},\n",
       " {'description': u'[from bsajecki] google.com',\n",
       "  'dt': '',\n",
       "  'extended': u'',\n",
       "  'tags': '',\n",
       "  'url': u'http://www.google.com',\n",
       "  'user': u'bsajecki'},\n",
       " {'description': u'[from kumarrakesh] botox in bedford',\n",
       "  'dt': '',\n",
       "  'extended': u'Along with the clinical science and study innovations in the cosmetology industry, there are great deals of incredible products that have the capability to redefine your age and beauty. Botox Milton Keynes is terrific for lessening face lines and taking out creases. Botox in Milton Keynes has actually come to be a very popular treatment, and it is made use of to eliminate lines and wrinkles on the face induced by everyday contraction of your natural facial expressions.',\n",
       "  'tags': u'botox in bedford',\n",
       "  'url': u'http://www.google.com',\n",
       "  'user': u'kumarrakesh'},\n",
       " {'description': u'[from watsonhealth] WatsonHealth',\n",
       "  'dt': '',\n",
       "  'extended': u'',\n",
       "  'tags': '',\n",
       "  'url': u'http://www.google.com',\n",
       "  'user': u'watsonhealth'},\n",
       " {'description': u'[from arjangroenen] Google',\n",
       "  'dt': '',\n",
       "  'extended': u'',\n",
       "  'tags': '',\n",
       "  'url': u'http://www.google.com',\n",
       "  'user': u'arjangroenen'},\n",
       " {'description': u'[from hendricj] Google',\n",
       "  'dt': '',\n",
       "  'extended': u'',\n",
       "  'tags': u'Tech',\n",
       "  'url': u'http://www.google.com',\n",
       "  'user': u'hendricj'},\n",
       " {'description': u'[from gurvinderkang] Google',\n",
       "  'dt': '',\n",
       "  'extended': u'',\n",
       "  'tags': '',\n",
       "  'url': u'http://www.google.com',\n",
       "  'user': u'gurvinderkang'},\n",
       " {'description': u'[from aegraffeo] Google',\n",
       "  'dt': '',\n",
       "  'extended': u\"I use google for anything and everything I need. Whether it's a question, video, or even music.\",\n",
       "  'tags': '',\n",
       "  'url': u'http://www.google.com',\n",
       "  'user': u'aegraffeo'},\n",
       " {'description': u'[from viczam] google',\n",
       "  'dt': '',\n",
       "  'extended': u'fafas',\n",
       "  'tags': u'Symfony',\n",
       "  'url': u'http://www.google.com',\n",
       "  'user': u'viczam'},\n",
       " {'description': u'[from gfszegrjhsd] google',\n",
       "  'dt': '',\n",
       "  'extended': u'',\n",
       "  'tags': '',\n",
       "  'url': u'http://www.google.com',\n",
       "  'user': u'gfszegrjhsd'},\n",
       " {'description': u'[from ildiko76] bla bla',\n",
       "  'dt': '',\n",
       "  'extended': u'',\n",
       "  'tags': '',\n",
       "  'url': u'http://www.google.com',\n",
       "  'user': u'ildiko76'},\n",
       " {'description': u'[from sharry_00] Google',\n",
       "  'dt': '',\n",
       "  'extended': u'',\n",
       "  'tags': u'Google',\n",
       "  'url': u'http://www.google.com',\n",
       "  'user': u'sharry_00'},\n",
       " {'description': u'[from bahblupaw] Google.com',\n",
       "  'dt': '',\n",
       "  'extended': u'',\n",
       "  'tags': u'Google',\n",
       "  'url': u'http://www.google.com',\n",
       "  'user': u'bahblupaw'},\n",
       " {'description': u\"[from wkunsub2558] wkunsub2558's Bookmarks (User wkunsub2558)\",\n",
       "  'dt': '',\n",
       "  'extended': u'',\n",
       "  'tags': '',\n",
       "  'url': u'http://www.google.com',\n",
       "  'user': u'wkunsub2558'},\n",
       " {'description': u\"[from xushenxin] Nicolas Xu's Bookmarks (User xushenxin)\",\n",
       "  'dt': '',\n",
       "  'extended': u'',\n",
       "  'tags': '',\n",
       "  'url': u'http://www.google.com',\n",
       "  'user': u'xushenxin'},\n",
       " {'description': u'[from antarikshc] Google',\n",
       "  'dt': '',\n",
       "  'extended': u'',\n",
       "  'tags': '',\n",
       "  'url': u'http://www.google.com',\n",
       "  'user': u'antarikshc'},\n",
       " {'description': u'[from prysmw]',\n",
       "  'dt': '',\n",
       "  'extended': u'Oh the irony of the google doodle today... http://t.co/G0mDeH3BTV',\n",
       "  'tags': u'from twitter',\n",
       "  'url': u'http://www.google.com',\n",
       "  'user': u'prysmw'},\n",
       " {'description': u'[from kenny.kennytha] Google',\n",
       "  'dt': '',\n",
       "  'extended': u'buscador',\n",
       "  'tags': u'toda la informacion',\n",
       "  'url': u'http://www.google.com',\n",
       "  'user': u'kenny.kennytha'},\n",
       " {'description': u'[from zammerzent] posting title',\n",
       "  'dt': '',\n",
       "  'extended': u'',\n",
       "  'tags': '',\n",
       "  'url': u'http://www.google.com',\n",
       "  'user': u'zammerzent'},\n",
       " {'description': u'[from jschultz1784] Testing',\n",
       "  'dt': '',\n",
       "  'extended': u'',\n",
       "  'tags': '',\n",
       "  'url': u'http://www.google.com',\n",
       "  'user': u'jschultz1784'},\n",
       " {'description': u'[from visitmaniac] Testing',\n",
       "  'dt': '',\n",
       "  'extended': u'',\n",
       "  'tags': '',\n",
       "  'url': u'http://www.google.com',\n",
       "  'user': u'visitmaniac'},\n",
       " {'description': u'[from barbarapooh] Google',\n",
       "  'dt': '',\n",
       "  'extended': u\"Search the world's information, including webpages, images, videos and more. Google has many special features to help you find exactly what you're looking for.\",\n",
       "  'tags': u'google',\n",
       "  'url': u'http://www.google.com',\n",
       "  'user': u'barbarapooh'},\n",
       " {'description': u'[from webmanagersgroup]',\n",
       "  'dt': '',\n",
       "  'extended': u'RT @mattcutts: Step 1: Go to http://t.co/k8h9ff5D Step 2: Click on the logo. Step 3: Find out where to vote. Step 4: Vote! Please share!',\n",
       "  'tags': u'#webmgrs',\n",
       "  'url': u'http://www.google.com',\n",
       "  'user': u'webmanagersgroup'},\n",
       " {'description': u'[from rembrand]',\n",
       "  'dt': '',\n",
       "  'extended': u'Awesome Google Doodle today: Little Nemo in Google-Land: http://t.co/fhXk2oQu',\n",
       "  'tags': u'from twitter',\n",
       "  'url': u'http://www.google.com',\n",
       "  'user': u'rembrand'},\n",
       " {'description': u'[from serigier]',\n",
       "  'dt': '',\n",
       "  'extended': u\"Google celebrates Keith Haring's Birthday: very nice :-) http://t.co/2Vs1Mn53\",\n",
       "  'tags': u'from twitter',\n",
       "  'url': u'http://www.google.com',\n",
       "  'user': u'serigier'},\n",
       " {'description': u'[from ms_godske]',\n",
       "  'dt': '',\n",
       "  'extended': u'I love todays #googledoodle http://t.co/2AXvPttt',\n",
       "  'tags': u'googledoodle',\n",
       "  'url': u'http://www.google.com',\n",
       "  'user': u'ms_godske'},\n",
       " {'description': u'[from cchausis]',\n",
       "  'dt': '',\n",
       "  'extended': u'Loving the interactive Google graphic today! http://t.co/8XbZCeH',\n",
       "  'tags': u'recently tweeted',\n",
       "  'url': u'http://www.google.com',\n",
       "  'user': u'cchausis'},\n",
       " {'description': u'[from stanley1216]',\n",
       "  'dt': '',\n",
       "  'extended': u'RT @attraittw: \\u662f\\u8ab0\\u8aaaGoogle\\u9996\\u9801\\u4e0d\\u653e\\u5ee3\\u544a\\u7684?(\\u4e0b\\u3127\\u6b65\\u5c31\\u662f\\u8df3\\u51fa360\\u5ea6\\u7684Galaxy Nexus,\\u4f86\\u4f5c\\u70ba\\u5c55\\u793ahtml5\\u7684\\u7406\\u7531\\u554a\\uff0c\\u79d1\\u79d1) http://t.co/trLXdSeL',\n",
       "  'tags': u'from twitter',\n",
       "  'url': u'http://www.google.com',\n",
       "  'user': u'stanley1216'},\n",
       " {'description': u'[from amarelito]',\n",
       "  'dt': '',\n",
       "  'extended': u'O Doodle de hoje \\xe9 fant\\xe1stico #marktwain http://t.co/xzoZpeqf',\n",
       "  'tags': u'marktwain',\n",
       "  'url': u'http://www.google.com',\n",
       "  'user': u'amarelito'}]"
      ]
     },
     "execution_count": 15,
     "metadata": {},
     "output_type": "execute_result"
    }
   ],
   "source": [
    "pydelicious.get_urlposts(\"http://www.google.com\")"
   ]
  },
  {
   "cell_type": "markdown",
   "metadata": {},
   "source": [
    "### 构造数据集"
   ]
  },
  {
   "cell_type": "code",
   "execution_count": 24,
   "metadata": {
    "collapsed": false
   },
   "outputs": [],
   "source": [
    "from pydelicious import get_popular, get_userposts, get_urlposts\n",
    "\n",
    "# 寻找经查张贴链接的用户和张贴内容类似的用户\n",
    "\n",
    "def initializeUserDict(tag, count=5):\n",
    "    user_dict = {}\n",
    "    # 获取前 count 个最受欢迎的链接张贴记录，循环张贴人（活跃分子）\n",
    "    for p1 in get_popular(tag=tag)[0:count]:\n",
    "        # 查找所有张贴该链接（上面活跃分子张贴的）的用户\n",
    "        for p2 in get_urlposts(p1['href']):\n",
    "            user = p2['user']\n",
    "            user_dict[user] = {}\n",
    "    return user_dict # 返回一个包含若干用户数据的字典，每一项都各自指向一个等待填入具体链接的空字典\n",
    "\n",
    "def fillItems(user_dict):\n",
    "    all_items = {}\n",
    "    # 查找所有用户都提交过的数据\n",
    "    for user in user_dict:\n",
    "        for i in range(3):\n",
    "            try:\n",
    "                posts = get_userposts(user)\n",
    "                break\n",
    "            except:\n",
    "                print \"Failed user \"+user+\", retrying\"\n",
    "                time.sleep(4)\n",
    "        for post in posts:\n",
    "            url = posts['href']\n",
    "            user_dict[user][url] = 1.0\n",
    "            all_items[url] = 1\n",
    "    # 用 0 填充缺失的项\n",
    "    for ratings in user_dict.values():\n",
    "        for item in all_items:\n",
    "            if item not in ratings:\n",
    "                ratings[item] = 0.0"
   ]
  },
  {
   "cell_type": "code",
   "execution_count": null,
   "metadata": {
    "collapsed": true
   },
   "outputs": [],
   "source": [
    "from deliciousrec import *\n",
    "delusers = initializeUserDict('programming')\n",
    "delusers['tsegaran'] = {} # 将用户 tsegaran 添加到列表中\n",
    "fillItems(delusers)"
   ]
  },
  {
   "cell_type": "markdown",
   "metadata": {},
   "source": [
    "### 推荐近邻与链接"
   ]
  },
  {
   "cell_type": "code",
   "execution_count": null,
   "metadata": {
    "collapsed": true
   },
   "outputs": [],
   "source": [
    "import random\n",
    "user = delusers.keys()[random.randint(0, len(delusers)-1)]\n",
    "user"
   ]
  },
  {
   "cell_type": "code",
   "execution_count": null,
   "metadata": {
    "collapsed": true
   },
   "outputs": [],
   "source": [
    "recommendations.topMatches(delusers, user)\n",
    "# 显示与 user 相近的用户"
   ]
  },
  {
   "cell_type": "code",
   "execution_count": null,
   "metadata": {
    "collapsed": true
   },
   "outputs": [],
   "source": [
    "recommendations.getRecommendations(delusers, user)[0:10]\n",
    "# 为 user 推荐链接，取 10 条"
   ]
  },
  {
   "cell_type": "code",
   "execution_count": null,
   "metadata": {
    "collapsed": true
   },
   "outputs": [],
   "source": [
    "url = recommendations.getRecommendations(delusers, user)[0][1]\n",
    "recommendations.topMaches(recommendations.transformPrefs(delusers), url)\n",
    "# 依据链接进行推荐，获得类似链接"
   ]
  },
  {
   "cell_type": "code",
   "execution_count": null,
   "metadata": {
    "collapsed": true
   },
   "outputs": [],
   "source": [
    "recommendations.getRecommendations(recommendations.transformPrefs(delusers), url)\n",
    "# 显示为user？书中没有，这句代码在本案例中可能并无实际意义。\n",
    "\n",
    "# 还可以搜索出那些使用不同账号张贴同一链接的、企图以此来炒作网页的人。"
   ]
  },
  {
   "cell_type": "markdown",
   "metadata": {
    "collapsed": true
   },
   "source": [
    "## 基于物品的推荐"
   ]
  },
  {
   "cell_type": "markdown",
   "metadata": {},
   "source": [
    "总体思路：为每件物品预先计算好最为相近的其他物品。\n",
    "\n",
    "- 然后当我们想为某位用户提供推荐时，就可以查看他曾经评过分的物品，并从中选出排位靠前者，  \n",
    "- 再构造出一个加权列表，其中包含了与这些选中物品最为相近的其他物品。  \n",
    "\n",
    "\n",
    "与基于用户的推荐最为显著的区别在于，尽管第一步要求我们检查所有的数据，但是**物品间的比较不会像用户间的比较那么频繁变化**。  \n",
    "这意味着，无须不停地计算与每样物品最为相近的其他物品。"
   ]
  },
  {
   "cell_type": "markdown",
   "metadata": {},
   "source": [
    "### 构造物品比较数据集  \n",
    "\n",
    "构造一个包含相近物品的完整数据集。无须在每次提供推荐时都做一遍。"
   ]
  },
  {
   "cell_type": "code",
   "execution_count": 1,
   "metadata": {
    "collapsed": true
   },
   "outputs": [],
   "source": [
    "def calculateSimilarItems(prefs, n=10):\n",
    "    \n",
    "    # 建立字典，以给出与这些物品最为相近的所有其他物品\n",
    "    result = {}\n",
    "    \n",
    "    # 以物品为中心对偏好矩阵实施倒置处理\n",
    "    itemPrefs = transformPrefs(prefs)\n",
    "    c = 0\n",
    "    for item in itemPrefs:\n",
    "        # 针对大数据集更新状态变量\n",
    "        c += 1\n",
    "        if c%100 == 0:\n",
    "            print \"%d / %d\" % (c, len(itemPrefs))\n",
    "        # 寻找最为相近的物品\n",
    "        scores = topMatches(itemPrefs, item, n=n, similarity=sim_distance)\n",
    "        result[item] = scores\n",
    "    return result"
   ]
  },
  {
   "cell_type": "code",
   "execution_count": 4,
   "metadata": {
    "collapsed": false
   },
   "outputs": [
    {
     "data": {
      "text/plain": [
       "<module 'recommendations' from 'recommendations.py'>"
      ]
     },
     "execution_count": 4,
     "metadata": {},
     "output_type": "execute_result"
    }
   ],
   "source": [
    "import recommendations\n",
    "reload(recommendations)"
   ]
  },
  {
   "cell_type": "code",
   "execution_count": 12,
   "metadata": {
    "collapsed": false
   },
   "outputs": [],
   "source": [
    "itemsim = recommendations.calculateSimilarItems(recommendations.critics)"
   ]
  },
  {
   "cell_type": "code",
   "execution_count": 13,
   "metadata": {
    "collapsed": false
   },
   "outputs": [
    {
     "data": {
      "text/plain": [
       "{'Just My Luck': [(0.3483314773547883, 'Lady in the Water'),\n",
       "  (0.32037724101704074, 'You, Me and Dupree'),\n",
       "  (0.2989350844248255, 'The Night Listener'),\n",
       "  (0.2553967929896867, 'Snakes on a Plane'),\n",
       "  (0.20799159651347807, 'Superman Returns')],\n",
       " 'Lady in the Water': [(0.4494897427831781, 'You, Me and Dupree'),\n",
       "  (0.38742588672279304, 'The Night Listener'),\n",
       "  (0.3483314773547883, 'Snakes on a Plane'),\n",
       "  (0.3483314773547883, 'Just My Luck'),\n",
       "  (0.2402530733520421, 'Superman Returns')],\n",
       " 'Snakes on a Plane': [(0.3483314773547883, 'Lady in the Water'),\n",
       "  (0.32037724101704074, 'The Night Listener'),\n",
       "  (0.3090169943749474, 'Superman Returns'),\n",
       "  (0.2553967929896867, 'Just My Luck'),\n",
       "  (0.1886378647726465, 'You, Me and Dupree')],\n",
       " 'Superman Returns': [(0.3090169943749474, 'Snakes on a Plane'),\n",
       "  (0.252650308587072, 'The Night Listener'),\n",
       "  (0.2402530733520421, 'Lady in the Water'),\n",
       "  (0.20799159651347807, 'Just My Luck'),\n",
       "  (0.1918253663634734, 'You, Me and Dupree')],\n",
       " 'The Night Listener': [(0.38742588672279304, 'Lady in the Water'),\n",
       "  (0.32037724101704074, 'Snakes on a Plane'),\n",
       "  (0.2989350844248255, 'Just My Luck'),\n",
       "  (0.29429805508554946, 'You, Me and Dupree'),\n",
       "  (0.252650308587072, 'Superman Returns')],\n",
       " 'You, Me and Dupree': [(0.4494897427831781, 'Lady in the Water'),\n",
       "  (0.32037724101704074, 'Just My Luck'),\n",
       "  (0.29429805508554946, 'The Night Listener'),\n",
       "  (0.1918253663634734, 'Superman Returns'),\n",
       "  (0.1886378647726465, 'Snakes on a Plane')]}"
      ]
     },
     "execution_count": 13,
     "metadata": {},
     "output_type": "execute_result"
    }
   ],
   "source": [
    "itemsim"
   ]
  },
  {
   "cell_type": "markdown",
   "metadata": {},
   "source": [
    "**注意：**只有频繁执行该函数，才能令物品的相似度不至过期。  \n",
    "通常我们需要在用户基数和评分数量还不是很大的时候执行这一函数，随着用户数量的不断增长，物品间的相似度评价值通常会变得越来越稳定。"
   ]
  },
  {
   "cell_type": "markdown",
   "metadata": {},
   "source": [
    "### 获得推荐"
   ]
  },
  {
   "cell_type": "code",
   "execution_count": 22,
   "metadata": {
    "collapsed": false
   },
   "outputs": [],
   "source": [
    "def getRecommendedItems(prefs, itemMatch, user):\n",
    "    userRatings = prefs[user]\n",
    "    scores = {}\n",
    "    totalSim = {}\n",
    "    \n",
    "    # 循环遍历由当前用户评分的物品\n",
    "    for (item, rating) in userRatings.items():\n",
    "        \n",
    "        # 循环遍历与当前物品相近的物品\n",
    "        for (similarity, item2) in itemMatch[item]:\n",
    "            \n",
    "            # 若果该用户已经对当前物品做过评价，则忽略\n",
    "            if item2 in userRatings: continue\n",
    "                \n",
    "            # 评价值与相似度的加权之和\n",
    "            scores.setdefault(item2, 0)\n",
    "            scores[item2] += similarity*rating\n",
    "                \n",
    "            # 全部相似度之和\n",
    "            totalSim.setdefault(item2, 0)\n",
    "            totalSim[item2] += similarity\n",
    "            \n",
    "    # 将每个合计值除以加权和，求出平均值\n",
    "    rankings = [(score/totalSim[item], item) for item, score in scores.items()]\n",
    "            \n",
    "    # 按最高值到最低值的顺序，返回评分结果\n",
    "    rankings.sort()\n",
    "    rankings.reverse()\n",
    "    return rankings\n",
    "        "
   ]
  },
  {
   "cell_type": "code",
   "execution_count": 23,
   "metadata": {
    "collapsed": false
   },
   "outputs": [
    {
     "data": {
      "text/plain": [
       "<module 'recommendations' from 'recommendations.py'>"
      ]
     },
     "execution_count": 23,
     "metadata": {},
     "output_type": "execute_result"
    }
   ],
   "source": [
    "reload(recommendations)"
   ]
  },
  {
   "cell_type": "code",
   "execution_count": 24,
   "metadata": {
    "collapsed": false
   },
   "outputs": [
    {
     "data": {
      "text/plain": [
       "[(3.1667425234070894, 'The Night Listener'),\n",
       " (2.936629402844435, 'Just My Luck'),\n",
       " (2.868767392626467, 'Lady in the Water')]"
      ]
     },
     "execution_count": 24,
     "metadata": {},
     "output_type": "execute_result"
    }
   ],
   "source": [
    "recommendations.getRecommendedItems(recommendations.critics, itemsim, 'Toby')"
   ]
  },
  {
   "cell_type": "code",
   "execution_count": null,
   "metadata": {
    "collapsed": true
   },
   "outputs": [],
   "source": []
  }
 ],
 "metadata": {
  "kernelspec": {
   "display_name": "Python 2",
   "language": "python",
   "name": "python2"
  },
  "language_info": {
   "codemirror_mode": {
    "name": "ipython",
    "version": 2
   },
   "file_extension": ".py",
   "mimetype": "text/x-python",
   "name": "python",
   "nbconvert_exporter": "python",
   "pygments_lexer": "ipython2",
   "version": "2.7.12"
  }
 },
 "nbformat": 4,
 "nbformat_minor": 0
}
